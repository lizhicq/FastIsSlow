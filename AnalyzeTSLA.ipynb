{
 "cells": [
  {
   "cell_type": "code",
   "execution_count": 1,
   "metadata": {},
   "outputs": [],
   "source": [
    "import pandas as pd\n",
    "from datetime import datetime\n",
    "# Read from dataset\n",
    "df = pd.read_csv('TSLA.csv')\n",
    "df['Date'] = pd.to_datetime(df['Date'])\n",
    "df['Day of Week'] = df['Date'].dt.dayofweek\n",
    "df['Change'] = df['Adj Close'].diff(1)\n",
    "df['Change %'] = df[['Adj Close', 'Change']].apply(lambda x: x[1]/x[0] * 100, axis=1)\n",
    "df2 = df[['Date', 'Day of Week', 'Change','Change %']]"
   ]
  }
 ],
 "metadata": {
  "kernelspec": {
   "display_name": "chatGPT",
   "language": "python",
   "name": "python3"
  },
  "language_info": {
   "codemirror_mode": {
    "name": "ipython",
    "version": 3
   },
   "file_extension": ".py",
   "mimetype": "text/x-python",
   "name": "python",
   "nbconvert_exporter": "python",
   "pygments_lexer": "ipython3",
   "version": "3.10.9"
  },
  "orig_nbformat": 4,
  "vscode": {
   "interpreter": {
    "hash": "609be3d7f370ccbf274752fd1b048a0f73e4b39a94ce755c327bea354171cf3b"
   }
  }
 },
 "nbformat": 4,
 "nbformat_minor": 2
}
