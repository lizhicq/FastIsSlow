{
 "cells": [
  {
   "cell_type": "code",
   "execution_count": 2,
   "metadata": {},
   "outputs": [],
   "source": [
    "import pandas as pd\n",
    "from datetime import datetime\n",
    "# Read from dataset\n",
    "df = pd.read_csv('TSLA.csv')\n",
    "df['Date'] = pd.to_datetime(df['Date'])\n",
    "df['Day of Week'] = df['Date'].dt.dayofweek\n",
    "df['Change'] = df['Adj Close'].diff(1)\n",
    "df['Change %'] = df[['Adj Close', 'Change']].apply(lambda x: x[1]/x[0] * 100, axis=1)\n",
    "\n",
    "df2 = df[['Date', 'Day of Week', 'Change','Change %']]\n",
    "# to demo how I change the system"
   ]
  },
  {
   "cell_type": "code",
   "execution_count": 3,
   "metadata": {},
   "outputs": [
    {
     "name": "stdout",
     "output_type": "stream",
     "text": [
      "Notebook URL: None\n"
     ]
    }
   ],
   "source": [
    "from notebook import notebookapp\n",
    "import urllib\n",
    "\n",
    "def get_notebook_url():\n",
    "    servers = list(notebookapp.list_running_servers())\n",
    "    if servers:\n",
    "        server = servers[0]\n",
    "        url = server['url']\n",
    "        token = server.get('token', '')\n",
    "        if token:\n",
    "            url += f\"?token={token}\"\n",
    "        return url\n",
    "\n",
    "print(\"Notebook URL:\", get_notebook_url())\n",
    "\n"
   ]
  }
 ],
 "metadata": {
  "kernelspec": {
   "display_name": "chatGPT env",
   "language": "python",
   "name": "chatgpt"
  },
  "language_info": {
   "codemirror_mode": {
    "name": "ipython",
    "version": 3
   },
   "file_extension": ".py",
   "mimetype": "text/x-python",
   "name": "python",
   "nbconvert_exporter": "python",
   "pygments_lexer": "ipython3",
   "version": "3.10.9"
  },
  "orig_nbformat": 4,
  "vscode": {
   "interpreter": {
    "hash": "609be3d7f370ccbf274752fd1b048a0f73e4b39a94ce755c327bea354171cf3b"
   }
  }
 },
 "nbformat": 4,
 "nbformat_minor": 2
}
