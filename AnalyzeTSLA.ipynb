{
 "cells": [
  {
   "cell_type": "code",
   "execution_count": 2,
   "metadata": {},
   "outputs": [],
   "source": [
    "import pandas as pd\n",
    "import numpy as np"
   ]
  },
  {
   "cell_type": "code",
   "execution_count": 5,
   "metadata": {},
   "outputs": [
    {
     "data": {
      "text/plain": [
       "0             NaN\n",
       "1       -0.004000\n",
       "2       -0.124667\n",
       "3       -0.184000\n",
       "4       -0.206000\n",
       "          ...    \n",
       "3082     0.680023\n",
       "3083     6.929992\n",
       "3084     4.869996\n",
       "3085   -19.600007\n",
       "3086    -2.959991\n",
       "Name: Adj Close, Length: 3087, dtype: float64"
      ]
     },
     "execution_count": 5,
     "metadata": {},
     "output_type": "execute_result"
    }
   ],
   "source": [
    "df = pd.read_csv('TSLA.csv')\n",
    "df['Adj Close'].diff(1)"
   ]
  },
  {
   "cell_type": "code",
   "execution_count": null,
   "metadata": {},
   "outputs": [],
   "source": []
  }
 ],
 "metadata": {
  "kernelspec": {
   "display_name": "Python 3.9.12 ('base')",
   "language": "python",
   "name": "python3"
  },
  "language_info": {
   "codemirror_mode": {
    "name": "ipython",
    "version": 3
   },
   "file_extension": ".py",
   "mimetype": "text/x-python",
   "name": "python",
   "nbconvert_exporter": "python",
   "pygments_lexer": "ipython3",
   "version": "3.9.12"
  },
  "orig_nbformat": 4,
  "vscode": {
   "interpreter": {
    "hash": "a8830ca659645b7e32bb6405051c9462ab620ef6cc266de6d79d48e87ba15c99"
   }
  }
 },
 "nbformat": 4,
 "nbformat_minor": 2
}
