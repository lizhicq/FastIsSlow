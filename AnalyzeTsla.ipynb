{
 "metadata": {
  "language_info": {
   "codemirror_mode": {
    "name": "ipython",
    "version": 3
   },
   "file_extension": ".py",
   "mimetype": "text/x-python",
   "name": "python",
   "nbconvert_exporter": "python",
   "pygments_lexer": "ipython3",
   "version": "3.7.6-final"
  },
  "orig_nbformat": 2,
  "kernelspec": {
   "name": "python3",
   "display_name": "Python 3",
   "language": "python"
  }
 },
 "nbformat": 4,
 "nbformat_minor": 2,
 "cells": [
  {
   "cell_type": "code",
   "execution_count": 72,
   "metadata": {},
   "outputs": [],
   "source": [
    "import pandas as pd\n",
    "from datetime import datetime\n",
    "df = pd.read_csv('QuantStrategy/TSLA.csv')\n",
    "strtime = lambda x: datetime.strptime(x, '%Y-%m-%d')\n",
    "df['Date'] = df['Date'].apply(strtime)\n",
    "# Monday is 0, Friday is 4, Sunday is 6;\n",
    "df['weekday'] = df['Date'].apply(datetime.weekday)"
   ]
  },
  {
   "cell_type": "code",
   "execution_count": 79,
   "metadata": {},
   "outputs": [],
   "source": [
    "df['shift_close'] = df['Adj Close'].shift(1)"
   ]
  },
  {
   "cell_type": "code",
   "execution_count": 80,
   "metadata": {},
   "outputs": [
    {
     "output_type": "execute_result",
     "data": {
      "text/plain": [
       "           Date        Open        High         Low       Close   Adj Close  \\\n",
       "0    2016-11-11   36.848000   37.776001   36.599998   37.712002   37.712002   \n",
       "1    2016-11-14   37.599998   37.650002   35.638000   36.290001   36.290001   \n",
       "2    2016-11-15   36.556000   37.285999   36.410000   36.754002   36.754002   \n",
       "3    2016-11-16   36.529999   36.945999   36.242001   36.785999   36.785999   \n",
       "4    2016-11-17   36.698002   37.897999   36.422001   37.731998   37.731998   \n",
       "...         ...         ...         ...         ...         ...         ...   \n",
       "1025 2020-12-09  653.690002  654.320007  588.000000  604.479980  604.479980   \n",
       "1026 2020-12-10  574.369995  627.750000  566.340027  627.070007  627.070007   \n",
       "1027 2020-12-11  615.010010  624.000000  596.799988  609.989990  609.989990   \n",
       "1028 2020-12-14  619.000000  642.750000  610.200012  639.830017  639.830017   \n",
       "1029 2020-12-15  643.280029  646.900024  623.799988  633.250000  633.250000   \n",
       "\n",
       "        Volume  weekday  shift_close  \n",
       "0     19942500        4          NaN  \n",
       "1     32761000        0          NaN  \n",
       "2     19510000        1          NaN  \n",
       "3     17172000        2          NaN  \n",
       "4     24435500        3          NaN  \n",
       "...        ...      ...          ...  \n",
       "1025  71291200        2          NaN  \n",
       "1026  67083200        3          NaN  \n",
       "1027  46475000        4   599.039978  \n",
       "1028  52040600        0          NaN  \n",
       "1029  45223600        1          NaN  \n",
       "\n",
       "[1030 rows x 9 columns]"
      ],
      "text/html": "<div>\n<style scoped>\n    .dataframe tbody tr th:only-of-type {\n        vertical-align: middle;\n    }\n\n    .dataframe tbody tr th {\n        vertical-align: top;\n    }\n\n    .dataframe thead th {\n        text-align: right;\n    }\n</style>\n<table border=\"1\" class=\"dataframe\">\n  <thead>\n    <tr style=\"text-align: right;\">\n      <th></th>\n      <th>Date</th>\n      <th>Open</th>\n      <th>High</th>\n      <th>Low</th>\n      <th>Close</th>\n      <th>Adj Close</th>\n      <th>Volume</th>\n      <th>weekday</th>\n      <th>shift_close</th>\n    </tr>\n  </thead>\n  <tbody>\n    <tr>\n      <th>0</th>\n      <td>2016-11-11</td>\n      <td>36.848000</td>\n      <td>37.776001</td>\n      <td>36.599998</td>\n      <td>37.712002</td>\n      <td>37.712002</td>\n      <td>19942500</td>\n      <td>4</td>\n      <td>NaN</td>\n    </tr>\n    <tr>\n      <th>1</th>\n      <td>2016-11-14</td>\n      <td>37.599998</td>\n      <td>37.650002</td>\n      <td>35.638000</td>\n      <td>36.290001</td>\n      <td>36.290001</td>\n      <td>32761000</td>\n      <td>0</td>\n      <td>NaN</td>\n    </tr>\n    <tr>\n      <th>2</th>\n      <td>2016-11-15</td>\n      <td>36.556000</td>\n      <td>37.285999</td>\n      <td>36.410000</td>\n      <td>36.754002</td>\n      <td>36.754002</td>\n      <td>19510000</td>\n      <td>1</td>\n      <td>NaN</td>\n    </tr>\n    <tr>\n      <th>3</th>\n      <td>2016-11-16</td>\n      <td>36.529999</td>\n      <td>36.945999</td>\n      <td>36.242001</td>\n      <td>36.785999</td>\n      <td>36.785999</td>\n      <td>17172000</td>\n      <td>2</td>\n      <td>NaN</td>\n    </tr>\n    <tr>\n      <th>4</th>\n      <td>2016-11-17</td>\n      <td>36.698002</td>\n      <td>37.897999</td>\n      <td>36.422001</td>\n      <td>37.731998</td>\n      <td>37.731998</td>\n      <td>24435500</td>\n      <td>3</td>\n      <td>NaN</td>\n    </tr>\n    <tr>\n      <th>...</th>\n      <td>...</td>\n      <td>...</td>\n      <td>...</td>\n      <td>...</td>\n      <td>...</td>\n      <td>...</td>\n      <td>...</td>\n      <td>...</td>\n      <td>...</td>\n    </tr>\n    <tr>\n      <th>1025</th>\n      <td>2020-12-09</td>\n      <td>653.690002</td>\n      <td>654.320007</td>\n      <td>588.000000</td>\n      <td>604.479980</td>\n      <td>604.479980</td>\n      <td>71291200</td>\n      <td>2</td>\n      <td>NaN</td>\n    </tr>\n    <tr>\n      <th>1026</th>\n      <td>2020-12-10</td>\n      <td>574.369995</td>\n      <td>627.750000</td>\n      <td>566.340027</td>\n      <td>627.070007</td>\n      <td>627.070007</td>\n      <td>67083200</td>\n      <td>3</td>\n      <td>NaN</td>\n    </tr>\n    <tr>\n      <th>1027</th>\n      <td>2020-12-11</td>\n      <td>615.010010</td>\n      <td>624.000000</td>\n      <td>596.799988</td>\n      <td>609.989990</td>\n      <td>609.989990</td>\n      <td>46475000</td>\n      <td>4</td>\n      <td>599.039978</td>\n    </tr>\n    <tr>\n      <th>1028</th>\n      <td>2020-12-14</td>\n      <td>619.000000</td>\n      <td>642.750000</td>\n      <td>610.200012</td>\n      <td>639.830017</td>\n      <td>639.830017</td>\n      <td>52040600</td>\n      <td>0</td>\n      <td>NaN</td>\n    </tr>\n    <tr>\n      <th>1029</th>\n      <td>2020-12-15</td>\n      <td>643.280029</td>\n      <td>646.900024</td>\n      <td>623.799988</td>\n      <td>633.250000</td>\n      <td>633.250000</td>\n      <td>45223600</td>\n      <td>1</td>\n      <td>NaN</td>\n    </tr>\n  </tbody>\n</table>\n<p>1030 rows × 9 columns</p>\n</div>"
     },
     "metadata": {},
     "execution_count": 80
    }
   ],
   "source": [
    "df"
   ]
  },
  {
   "cell_type": "code",
   "execution_count": null,
   "metadata": {},
   "outputs": [],
   "source": []
  },
  {
   "cell_type": "code",
   "execution_count": null,
   "metadata": {},
   "outputs": [],
   "source": []
  },
  {
   "cell_type": "code",
   "execution_count": 45,
   "metadata": {},
   "outputs": [
    {
     "output_type": "execute_result",
     "data": {
      "text/plain": [
       "Timestamp('2016-01-11 00:11:00')"
      ]
     },
     "metadata": {},
     "execution_count": 45
    }
   ],
   "source": [
    "df['Date'][0]"
   ]
  },
  {
   "cell_type": "code",
   "execution_count": 46,
   "metadata": {},
   "outputs": [
    {
     "output_type": "execute_result",
     "data": {
      "text/plain": [
       "0"
      ]
     },
     "metadata": {},
     "execution_count": 46
    }
   ],
   "source": [
    "datetime.weekday(df['Date'][0])"
   ]
  },
  {
   "cell_type": "code",
   "execution_count": 64,
   "metadata": {},
   "outputs": [],
   "source": [
    "date = datetime.strptime('2020-12-16', '%Y-%m-%d')"
   ]
  },
  {
   "cell_type": "code",
   "execution_count": 65,
   "metadata": {},
   "outputs": [
    {
     "output_type": "execute_result",
     "data": {
      "text/plain": [
       "2"
      ]
     },
     "metadata": {},
     "execution_count": 65
    }
   ],
   "source": [
    "datetime.weekday(date)"
   ]
  }
 ]
}