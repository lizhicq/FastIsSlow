{
 "metadata": {
  "language_info": {
   "codemirror_mode": {
    "name": "ipython",
    "version": 3
   },
   "file_extension": ".py",
   "mimetype": "text/x-python",
   "name": "python",
   "nbconvert_exporter": "python",
   "pygments_lexer": "ipython3",
   "version": "3.7.6-final"
  },
  "orig_nbformat": 2,
  "kernelspec": {
   "name": "python3",
   "display_name": "Python 3",
   "language": "python"
  }
 },
 "nbformat": 4,
 "nbformat_minor": 2,
 "cells": [
  {
   "source": [
    "import pandas as pd\n",
    "from datetime import datetime\n",
    "df = pd.read_csv('QuantStrategy/TSLA.csv')\n",
    "strtime = lambda x: datetime.strptime(x, '%Y-%m-%d')\n",
    "df['Date'] = df['Date'].apply(strtime)\n",
    "# Monday is 0, Friday is 4, Sunday is 6;\n",
    "df['weekday'] = df['Date'].apply(datetime.weekday)\n",
    "df['shift_close'] = df['Adj Close'].shift(1)\n",
    "df_fri = df[df.weekday==1]\n",
    "df_fri['last_price'] = df_fri['Adj Close'].shift(1)\n",
    "df_fri['ret'] = df_fri['Adj Close']/df_fri.last_price-1\n",
    "ret = df_fri['ret']"
   ],
   "cell_type": "code",
   "metadata": {},
   "execution_count": 6,
   "outputs": []
  },
  {
   "cell_type": "code",
   "execution_count": null,
   "metadata": {},
   "outputs": [],
   "source": [
    "df['range'] = df['Op']"
   ]
  }
 ]
}