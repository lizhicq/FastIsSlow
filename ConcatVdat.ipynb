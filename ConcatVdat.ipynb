{
 "cells": [
  {
   "cell_type": "code",
   "execution_count": 1,
   "metadata": {},
   "outputs": [
    {
     "name": "stderr",
     "output_type": "stream",
     "text": [
      "ffmpeg version 5.1.2 Copyright (c) 2000-2022 the FFmpeg developers\n",
      "  built with Apple clang version 14.0.0 (clang-1400.0.29.202)\n",
      "  configuration: --prefix=/opt/homebrew/Cellar/ffmpeg/5.1.2_6 --enable-shared --enable-pthreads --enable-version3 --cc=clang --host-cflags= --host-ldflags= --enable-ffplay --enable-gnutls --enable-gpl --enable-libaom --enable-libaribb24 --enable-libbluray --enable-libdav1d --enable-libmp3lame --enable-libopus --enable-librav1e --enable-librist --enable-librubberband --enable-libsnappy --enable-libsrt --enable-libsvtav1 --enable-libtesseract --enable-libtheora --enable-libvidstab --enable-libvmaf --enable-libvorbis --enable-libvpx --enable-libwebp --enable-libx264 --enable-libx265 --enable-libxml2 --enable-libxvid --enable-lzma --enable-libfontconfig --enable-libfreetype --enable-frei0r --enable-libass --enable-libopencore-amrnb --enable-libopencore-amrwb --enable-libopenjpeg --enable-libspeex --enable-libsoxr --enable-libzmq --enable-libzimg --disable-libjack --disable-indev=jack --enable-videotoolbox --enable-neon\n",
      "  libavutil      57. 28.100 / 57. 28.100\n",
      "  libavcodec     59. 37.100 / 59. 37.100\n",
      "  libavformat    59. 27.100 / 59. 27.100\n",
      "  libavdevice    59.  7.100 / 59.  7.100\n",
      "  libavfilter     8. 44.100 /  8. 44.100\n",
      "  libswscale      6.  7.100 /  6.  7.100\n",
      "  libswresample   4.  7.100 /  4.  7.100\n",
      "  libpostproc    56.  6.100 / 56.  6.100\n",
      "[mpegts @ 0x14162d780] start time for stream 2 is not set in estimate_timings_from_pts\n",
      "Input #0, concat, from '/Users/lizhicq/Downloads/test/concat.txt':\n",
      "  Duration: N/A, start: 0.000000, bitrate: N/A\n",
      "  Stream #0:0: Video: h264 (High) ([27][0][0][0] / 0x001B), yuv420p(progressive), 1280x720, 29.97 fps, 29.97 tbr, 90k tbn\n",
      "  Stream #0:1: Audio: aac (LC) ([15][0][0][0] / 0x000F), 44100 Hz, mono, fltp, 4 kb/s\n",
      "  Stream #0:2: Data: timed_id3 (ID3  / 0x20334449)\n",
      "File '/Users/lizhicq/Downloads/output.mp4' already exists. Overwrite? [y/N] Not overwriting - exiting\n"
     ]
    }
   ],
   "source": [
    "import os\n",
    "import subprocess\n",
    "\n",
    "# 输入vdat文件夹路径\n",
    "input_dir = '/Users/lizhicq/Downloads/test'\n",
    "\n",
    "# 输出mp4文件路径\n",
    "output_file = '/Users/lizhicq/Downloads/output.mp4'\n",
    "\n",
    "# 获取所有vdat文件路径\n",
    "vdat_files = [os.path.join(input_dir, f) for f in os.listdir(input_dir) if f.endswith('.mp4')]\n",
    "vdat_files.sort()\n",
    "# 使用FFmpeg将所有vdat文件拼接成一个mp4文件\n",
    "concat_list = os.path.join(input_dir, 'concat.txt')\n",
    "with open(concat_list, 'w') as f:\n",
    "    for vdat_file in vdat_files:\n",
    "        f.write('file \\'{}\\'\\n'.format(vdat_file))\n",
    "\n",
    "\n",
    "cmd = 'ffmpeg -f concat -safe 0 -i {} -c copy {}'.format(concat_list, output_file)\n",
    "subprocess.call(cmd, shell=True)\n",
    "\n",
    "# 删除临时concat文件\n",
    "os.remove(concat_list)"
   ]
  }
 ],
 "metadata": {
  "kernelspec": {
   "display_name": "VS Code iPython",
   "language": "python",
   "name": "vscode"
  },
  "language_info": {
   "codemirror_mode": {
    "name": "ipython",
    "version": 3
   },
   "file_extension": ".py",
   "mimetype": "text/x-python",
   "name": "python",
   "nbconvert_exporter": "python",
   "pygments_lexer": "ipython3",
   "version": "3.10.9"
  },
  "orig_nbformat": 4
 },
 "nbformat": 4,
 "nbformat_minor": 2
}
