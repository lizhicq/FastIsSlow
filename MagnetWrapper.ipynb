{
 "cells": [
  {
   "cell_type": "code",
   "execution_count": 4,
   "metadata": {},
   "outputs": [
    {
     "name": "stdout",
     "output_type": "stream",
     "text": [
      "<!DOCTYPE html>\n",
      "<html lang=\"zh-cn\"><head><meta charset=\"utf-8\"/><meta content=\"IE=edge,chrome=1\" http-equiv=\"X-UA-Compatible\"/><meta content=\"width=device-width,initial-scale=1.0,user-scalable=no\" name=\"viewport\"><meta content=\"pc,mobile\" name=\"applicable-device\"/><title>《火影忍者：博人传之次世代继承者》全集免费在线观看mp4下载 - K电影</title><meta content=\"火影忍者：博人传之次世代继承者,火影忍者：博人传之次世代继承者MP4下载,火影忍者：博人传之次世代继承者迅雷下载\" name=\"keywords\"/><meta content=\"火影忍者：博人传之次世代继承者,火影忍者：博人传之次世代继承者MP4下载,火影忍者：博人传之次世代继承者迅雷下载,火影忍者：博人传之次世代继承者剧情:随着和平的到来而走向近代化的木叶忍者村。高楼林立，巨大显示屏中播放出影像，连结各区域的电车在村里奔驰。虽说是忍者村，但一般民众也增多，忍者的生存方式也在逐渐改变的这个时代——\" name=\"description\"/><link href=\"https://www.kdianying.net/detail-1295.html\" rel=\"canonical\"/><link href=\"/template/kdy/css/style.css\" media=\"all\" rel=\"stylesheet\" rev=\"stylesheet\" type=\"text/css\"/><link href=\"/static/css/home.css\" rel=\"stylesheet\" type=\"text/css\"><script src=\"/static/js/jquery.js\"></script><script src=\"/static/js/jquery.lazyload.js\"></script><script src=\"/static/js/jquery.autocomplete.js\"></script><script src=\"/template/kdy/js/jquery.superslide.js\"></script><script src=\"/template/kdy/js/jquery.lazyload.js\"></script><script src=\"/template/kdy/js/jquery.base.js\"></script><script>var maccms={\"path\":\"\",\"mid\":\"1\",\"url\":\"www.kdianying.net\",\"wapurl\":\"www.kdianying.net\",\"mob_status\":\"2\"};</script><script src=\"/static/js/home.js\"></script><script></script></link></meta></head><body><header><div class=\"topbar mbnone\"><div class=\"tb-container\"><span class=\"tb-help\">欢迎来到K电影，视频在线观看和mp4下载。记住我们网址:www.kdianying.net</span><div class=\"tb-tools\"><a class=\"tools-one\" href=\"javascript:alert('快捷键Ctrl+D可以快速添加到收藏夹。');\">Ctrl+D 加入收藏夹</a><a class=\"tools-two\" href=\"javascript:;\" onclick=\"MAC.Desktop('火影忍者：博人传之次世代继承者')\">保存网址到桌面</a><a href=\"javascript:void(0);\" onclick=\"MAC.Fav(location.href,document.name);\" style=\"cursor:hand\">保存网址到浏览器</a></div></div></div><div class=\"head\"><div class=\"logo\"><a href=\"/\">K电影</a></div><div class=\"search-box\"><form action=\"/search--------------.html\" autocomplete=\"off\" id=\"formsearch\" method=\"post\" name=\"formsearch\" target=\"_blank\"><input class=\"search-input\" id=\"wd\" name=\"wd\" placeholder=\"请在此处输入影片名或演员名称\" type=\"text\" value=\"\"/><input class=\"search-button\" id=\"searchbutton\" type=\"submit\" value=\"搜索\"/></form></div></div><nav class=\"navbar\"><div class=\"nav-container\"><ul class=\"menu\"><li><a href=\"/\">首页</a></li><li><a href=\"/type/dianying.html\">电影</a></li><li><a href=\"/type/lianxuju.html\">连续剧</a></li><li class=\"current\"><a href=\"/type/dongman.html\">动漫</a></li><li><a href=\"/type/zongyi.html\">综艺</a></li></ul></div></nav></header><section class=\"content-box\"><ol class=\"breadcrumb\"><li class=\"home\"><a href=\"/\">首页</a> » <a href=\"/type/dongman.html\">动漫</a> » 火影忍者：博人传之次世代继承者在线点播迅雷下载</li></ol><h1 class=\"movie-title\"></h1><div class=\"content-row\"><div class=\"cont-l\"><div class=\"con-pic\"><a class=\"img-link\" href=\"/play-1295-1-1.html\"><img alt=\"火影忍者：博人传之次世代继承者\" class=\"img-thumbnail\" src=\"https://image.maimn.com/cover/49484cfa10b250f569a5a1774fa8b312.jpg\"/></a><div class=\"online-button\"><a class=\"btn btn-success btn-block\" href=\"/play-1295-1-1.html\" title=\"火影忍者：博人传之次世代继承者播放\">立即播放</a></div><div class=\"ptime\"><em>更新时间：2023-05-01 18:40:16</em></div></div><div class=\"con-dete\"><div class=\"con-detail\"><ul><li class=\"li_l\"><span class=\"info-label\">导演</span></li><li class=\"li_r\"><a href=\"/search------%E9%98%BF%E9%83%A8%E8%AE%B0%E4%B9%8B--------.html\" target=\"_blank\">阿部记之</a> <a href=\"/search------%E5%B1%B1%E4%B8%8B%E5%AE%8F%E5%B9%B8--------.html\" target=\"_blank\">山下宏幸</a> </li></ul><ul><li class=\"li_l\"><span class=\"info-label\">主演</span></li><li class=\"li_r\"><a href=\"/search--%E4%B8%89%E7%93%B6%E7%94%B1%E5%B8%83%E5%AD%90------------.html\" target=\"_blank\">三瓶由布子</a> <a href=\"/search--%E8%8F%8A%E6%B1%A0%E5%BF%83------------.html\" target=\"_blank\">菊池心</a> <a href=\"/search--%E6%9C%A8%E5%B2%9B%E9%9A%86%E4%B8%80------------.html\" target=\"_blank\">木岛隆一</a> <a href=\"/search--%E5%B0%8F%E9%87%8E%E8%B4%A4%E7%AB%A0------------.html\" target=\"_blank\">小野贤章</a> <a href=\"/search--%E9%98%BF%E9%83%A8%E6%95%A6------------.html\" target=\"_blank\">阿部敦</a> <a href=\"/search--%E6%97%A9%E8%A7%81%E6%B2%99%E7%BB%87------------.html\" target=\"_blank\">早见沙织</a> </li></ul><ul><li class=\"li_l\"><span class=\"info-label\">类型</span></li><li class=\"li_r\"><span class=\"color\"><a href=\"/search-----%E5%8A%A8%E6%BC%AB---------.html\" target=\"_blank\">动漫</a> </span></li></ul><ul><li class=\"li_l\"><span class=\"info-label\">语言</span></li><li class=\"li_r\"><a href=\"/search-------%E6%97%A5%E8%AF%AD-------.html\" target=\"_blank\">日语</a> </li></ul><ul><li class=\"li_l\"><span class=\"info-label\">年份</span></li><li class=\"li_r\"><a href=\"/search--------------2017.html\" target=\"_blank\">2017</a> </li></ul><ul><li class=\"li_l\"><span class=\"info-label\">更新状态</span></li><li class=\"li_r\"><span class=\"color\">更新至第289集</span></li></ul><ul><li class=\"li_l\"><span class=\"info-label\">更新日期</span></li><li class=\"li_r\">2023-05-01 18:40:16</li></ul></div></div><div class=\"con-des\"><p class=\"des-t\"><strong>剧情介绍：</strong></p><p class=\"summary\">随着和平的到来而走向近代化的木叶忍者村。高楼林立，巨大显示屏中播放出影像，连结各区域的电车在村里奔驰。虽说是忍者村，但一般民众也增多，忍者的生存方式也在逐渐改变的这个时代——…</p></div></div><div class=\"cont-r mbnone\"><div class=\"list-group\"><a class=\"list-group-item list-head\"><i></i> 最新动漫 ： </a><a class=\"list-group-item\" href=\"/detail-69202.html\" title=\"跃动青春\">跃动青春<em>(2017)</em></a><a class=\"list-group-item\" href=\"/detail-2158.html\" title=\"久保同学不放过我\">久保同学不放过我<em>(2017)</em></a><a class=\"list-group-item\" href=\"/detail-70140.html\" title=\"一世独尊\">一世独尊<em>(2017)</em></a><a class=\"list-group-item\" href=\"/detail-69584.html\" title=\"蓝色管弦乐\">蓝色管弦乐<em>(2017)</em></a><a class=\"list-group-item\" href=\"/detail-63778.html\" title=\"真武巅峰\">真武巅峰<em>(2017)</em></a><a class=\"list-group-item\" href=\"/detail-1644.html\" title=\"一念永恒\">一念永恒<em>(2017)</em></a></div></div></div><div class=\"play-list\"><div class=\"panel\"><div class=\"panel-heading\"><strong><mb class=\"mbnone\"></mb>m3u8</strong></div><ul class=\"dslist-group\"><li class=\"dslist-group-item\"><a href=\"/play-1295-2-1.html\" title=\"火影忍者：博人传之次世代继承者第01集播放\">第01集</a></li><li class=\"dslist-group-item\"><a href=\"/play-1295-2-2.html\" title=\"火影忍者：博人传之次世代继承者第02集播放\">第02集</a></li><li class=\"dslist-group-item\"><a href=\"/play-1295-2-3.html\" title=\"火影忍者：博人传之次世代继承者第03集播放\">第03集</a></li><li class=\"dslist-group-item\"><a href=\"/play-1295-2-4.html\" title=\"火影忍者：博人传之次世代继承者第04集播放\">第04集</a></li><li class=\"dslist-group-item\"><a href=\"/play-1295-2-5.html\" title=\"火影忍者：博人传之次世代继承者第05集播放\">第05集</a></li><li class=\"dslist-group-item\"><a href=\"/play-1295-2-6.html\" title=\"火影忍者：博人传之次世代继承者第06集播放\">第06集</a></li><li class=\"dslist-group-item\"><a href=\"/play-1295-2-7.html\" title=\"火影忍者：博人传之次世代继承者第07集播放\">第07集</a></li><li class=\"dslist-group-item\"><a href=\"/play-1295-2-8.html\" title=\"火影忍者：博人传之次世代继承者第08集播放\">第08集</a></li><li class=\"dslist-group-item\"><a href=\"/play-1295-2-9.html\" title=\"火影忍者：博人传之次世代继承者第09集播放\">第09集</a></li><li class=\"dslist-group-item\"><a href=\"/play-1295-2-10.html\" title=\"火影忍者：博人传之次世代继承者第10集播放\">第10集</a></li><li class=\"dslist-group-item\"><a href=\"/play-1295-2-11.html\" title=\"火影忍者：博人传之次世代继承者第11集播放\">第11集</a></li><li class=\"dslist-group-item\"><a href=\"/play-1295-2-12.html\" title=\"火影忍者：博人传之次世代继承者第12集播放\">第12集</a></li><li class=\"dslist-group-item\"><a href=\"/play-1295-2-13.html\" title=\"火影忍者：博人传之次世代继承者第13集播放\">第13集</a></li><li class=\"dslist-group-item\"><a href=\"/play-1295-2-14.html\" title=\"火影忍者：博人传之次世代继承者第14集播放\">第14集</a></li><li class=\"dslist-group-item\"><a href=\"/play-1295-2-15.html\" title=\"火影忍者：博人传之次世代继承者第15集播放\">第15集</a></li><li class=\"dslist-group-item\"><a href=\"/play-1295-2-16.html\" title=\"火影忍者：博人传之次世代继承者第16集播放\">第16集</a></li><li class=\"dslist-group-item\"><a href=\"/play-1295-2-17.html\" title=\"火影忍者：博人传之次世代继承者第17集播放\">第17集</a></li><li class=\"dslist-group-item\"><a href=\"/play-1295-2-18.html\" title=\"火影忍者：博人传之次世代继承者第18集播放\">第18集</a></li><li class=\"dslist-group-item\"><a href=\"/play-1295-2-19.html\" title=\"火影忍者：博人传之次世代继承者第19集播放\">第19集</a></li><li class=\"dslist-group-item\"><a href=\"/play-1295-2-20.html\" title=\"火影忍者：博人传之次世代继承者第20集播放\">第20集</a></li><li class=\"dslist-group-item\"><a href=\"/play-1295-2-21.html\" title=\"火影忍者：博人传之次世代继承者第21集播放\">第21集</a></li><li class=\"dslist-group-item\"><a href=\"/play-1295-2-22.html\" title=\"火影忍者：博人传之次世代继承者第22集播放\">第22集</a></li><li class=\"dslist-group-item\"><a href=\"/play-1295-2-23.html\" title=\"火影忍者：博人传之次世代继承者第23集播放\">第23集</a></li><li class=\"dslist-group-item\"><a href=\"/play-1295-2-24.html\" title=\"火影忍者：博人传之次世代继承者第24集播放\">第24集</a></li><li class=\"dslist-group-item\"><a href=\"/play-1295-2-25.html\" title=\"火影忍者：博人传之次世代继承者第25集播放\">第25集</a></li><li class=\"dslist-group-item\"><a href=\"/play-1295-2-26.html\" title=\"火影忍者：博人传之次世代继承者第26集播放\">第26集</a></li><li class=\"dslist-group-item\"><a href=\"/play-1295-2-27.html\" title=\"火影忍者：博人传之次世代继承者第27集播放\">第27集</a></li><li class=\"dslist-group-item\"><a href=\"/play-1295-2-28.html\" title=\"火影忍者：博人传之次世代继承者第28集播放\">第28集</a></li><li class=\"dslist-group-item\"><a href=\"/play-1295-2-29.html\" title=\"火影忍者：博人传之次世代继承者第29集播放\">第29集</a></li><li class=\"dslist-group-item\"><a href=\"/play-1295-2-30.html\" title=\"火影忍者：博人传之次世代继承者第30集播放\">第30集</a></li><li class=\"dslist-group-item\"><a href=\"/play-1295-2-31.html\" title=\"火影忍者：博人传之次世代继承者第31集播放\">第31集</a></li><li class=\"dslist-group-item\"><a href=\"/play-1295-2-32.html\" title=\"火影忍者：博人传之次世代继承者第32集播放\">第32集</a></li><li class=\"dslist-group-item\"><a href=\"/play-1295-2-33.html\" title=\"火影忍者：博人传之次世代继承者第33集播放\">第33集</a></li><li class=\"dslist-group-item\"><a href=\"/play-1295-2-34.html\" title=\"火影忍者：博人传之次世代继承者第34集播放\">第34集</a></li><li class=\"dslist-group-item\"><a href=\"/play-1295-2-35.html\" title=\"火影忍者：博人传之次世代继承者第35集播放\">第35集</a></li><li class=\"dslist-group-item\"><a href=\"/play-1295-2-36.html\" title=\"火影忍者：博人传之次世代继承者第36集播放\">第36集</a></li><li class=\"dslist-group-item\"><a href=\"/play-1295-2-37.html\" title=\"火影忍者：博人传之次世代继承者第37集播放\">第37集</a></li><li class=\"dslist-group-item\"><a href=\"/play-1295-2-38.html\" title=\"火影忍者：博人传之次世代继承者第38集播放\">第38集</a></li><li class=\"dslist-group-item\"><a href=\"/play-1295-2-39.html\" title=\"火影忍者：博人传之次世代继承者第39集播放\">第39集</a></li><li class=\"dslist-group-item\"><a href=\"/play-1295-2-40.html\" title=\"火影忍者：博人传之次世代继承者第40集播放\">第40集</a></li><li class=\"dslist-group-item\"><a href=\"/play-1295-2-41.html\" title=\"火影忍者：博人传之次世代继承者第41集播放\">第41集</a></li><li class=\"dslist-group-item\"><a href=\"/play-1295-2-42.html\" title=\"火影忍者：博人传之次世代继承者第42集播放\">第42集</a></li><li class=\"dslist-group-item\"><a href=\"/play-1295-2-43.html\" title=\"火影忍者：博人传之次世代继承者第43集播放\">第43集</a></li><li class=\"dslist-group-item\"><a href=\"/play-1295-2-44.html\" title=\"火影忍者：博人传之次世代继承者第44集播放\">第44集</a></li><li class=\"dslist-group-item\"><a href=\"/play-1295-2-45.html\" title=\"火影忍者：博人传之次世代继承者第45集播放\">第45集</a></li><li class=\"dslist-group-item\"><a href=\"/play-1295-2-46.html\" title=\"火影忍者：博人传之次世代继承者第46集播放\">第46集</a></li><li class=\"dslist-group-item\"><a href=\"/play-1295-2-47.html\" title=\"火影忍者：博人传之次世代继承者第47集播放\">第47集</a></li><li class=\"dslist-group-item\"><a href=\"/play-1295-2-48.html\" title=\"火影忍者：博人传之次世代继承者第48集播放\">第48集</a></li><li class=\"dslist-group-item\"><a href=\"/play-1295-2-49.html\" title=\"火影忍者：博人传之次世代继承者第49集播放\">第49集</a></li><li class=\"dslist-group-item\"><a href=\"/play-1295-2-50.html\" title=\"火影忍者：博人传之次世代继承者第50集播放\">第50集</a></li><li class=\"dslist-group-item\"><a href=\"/play-1295-2-51.html\" title=\"火影忍者：博人传之次世代继承者第51集播放\">第51集</a></li><li class=\"dslist-group-item\"><a href=\"/play-1295-2-52.html\" title=\"火影忍者：博人传之次世代继承者第52集播放\">第52集</a></li><li class=\"dslist-group-item\"><a href=\"/play-1295-2-53.html\" title=\"火影忍者：博人传之次世代继承者第53集播放\">第53集</a></li><li class=\"dslist-group-item\"><a href=\"/play-1295-2-54.html\" title=\"火影忍者：博人传之次世代继承者第54集播放\">第54集</a></li><li class=\"dslist-group-item\"><a href=\"/play-1295-2-55.html\" title=\"火影忍者：博人传之次世代继承者第55集播放\">第55集</a></li><li class=\"dslist-group-item\"><a href=\"/play-1295-2-56.html\" title=\"火影忍者：博人传之次世代继承者第56集播放\">第56集</a></li><li class=\"dslist-group-item\"><a href=\"/play-1295-2-57.html\" title=\"火影忍者：博人传之次世代继承者第57集播放\">第57集</a></li><li class=\"dslist-group-item\"><a href=\"/play-1295-2-58.html\" title=\"火影忍者：博人传之次世代继承者第58集播放\">第58集</a></li><li class=\"dslist-group-item\"><a href=\"/play-1295-2-59.html\" title=\"火影忍者：博人传之次世代继承者第59集播放\">第59集</a></li><li class=\"dslist-group-item\"><a href=\"/play-1295-2-60.html\" title=\"火影忍者：博人传之次世代继承者第60集播放\">第60集</a></li><li class=\"dslist-group-item\"><a href=\"/play-1295-2-61.html\" title=\"火影忍者：博人传之次世代继承者第61集播放\">第61集</a></li><li class=\"dslist-group-item\"><a href=\"/play-1295-2-62.html\" title=\"火影忍者：博人传之次世代继承者第62集播放\">第62集</a></li><li class=\"dslist-group-item\"><a href=\"/play-1295-2-63.html\" title=\"火影忍者：博人传之次世代继承者第63集播放\">第63集</a></li><li class=\"dslist-group-item\"><a href=\"/play-1295-2-64.html\" title=\"火影忍者：博人传之次世代继承者第64集播放\">第64集</a></li><li class=\"dslist-group-item\"><a href=\"/play-1295-2-65.html\" title=\"火影忍者：博人传之次世代继承者第65集播放\">第65集</a></li><li class=\"dslist-group-item\"><a href=\"/play-1295-2-66.html\" title=\"火影忍者：博人传之次世代继承者第66集播放\">第66集</a></li><li class=\"dslist-group-item\"><a href=\"/play-1295-2-67.html\" title=\"火影忍者：博人传之次世代继承者第67集播放\">第67集</a></li><li class=\"dslist-group-item\"><a href=\"/play-1295-2-68.html\" title=\"火影忍者：博人传之次世代继承者第68集播放\">第68集</a></li><li class=\"dslist-group-item\"><a href=\"/play-1295-2-69.html\" title=\"火影忍者：博人传之次世代继承者第69集播放\">第69集</a></li><li class=\"dslist-group-item\"><a href=\"/play-1295-2-70.html\" title=\"火影忍者：博人传之次世代继承者第70集播放\">第70集</a></li><li class=\"dslist-group-item\"><a href=\"/play-1295-2-71.html\" title=\"火影忍者：博人传之次世代继承者第71集播放\">第71集</a></li><li class=\"dslist-group-item\"><a href=\"/play-1295-2-72.html\" title=\"火影忍者：博人传之次世代继承者第72集播放\">第72集</a></li><li class=\"dslist-group-item\"><a href=\"/play-1295-2-73.html\" title=\"火影忍者：博人传之次世代继承者第73集播放\">第73集</a></li><li class=\"dslist-group-item\"><a href=\"/play-1295-2-74.html\" title=\"火影忍者：博人传之次世代继承者第74集播放\">第74集</a></li><li class=\"dslist-group-item\"><a href=\"/play-1295-2-75.html\" title=\"火影忍者：博人传之次世代继承者第75集播放\">第75集</a></li><li class=\"dslist-group-item\"><a href=\"/play-1295-2-76.html\" title=\"火影忍者：博人传之次世代继承者第76集播放\">第76集</a></li><li class=\"dslist-group-item\"><a href=\"/play-1295-2-77.html\" title=\"火影忍者：博人传之次世代继承者第77集播放\">第77集</a></li><li class=\"dslist-group-item\"><a href=\"/play-1295-2-78.html\" title=\"火影忍者：博人传之次世代继承者第78集播放\">第78集</a></li><li class=\"dslist-group-item\"><a href=\"/play-1295-2-79.html\" title=\"火影忍者：博人传之次世代继承者第79集播放\">第79集</a></li><li class=\"dslist-group-item\"><a href=\"/play-1295-2-80.html\" title=\"火影忍者：博人传之次世代继承者第80集播放\">第80集</a></li><li class=\"dslist-group-item\"><a href=\"/play-1295-2-81.html\" title=\"火影忍者：博人传之次世代继承者第81集播放\">第81集</a></li><li class=\"dslist-group-item\"><a href=\"/play-1295-2-82.html\" title=\"火影忍者：博人传之次世代继承者第82集播放\">第82集</a></li><li class=\"dslist-group-item\"><a href=\"/play-1295-2-83.html\" title=\"火影忍者：博人传之次世代继承者第83集播放\">第83集</a></li><li class=\"dslist-group-item\"><a href=\"/play-1295-2-84.html\" title=\"火影忍者：博人传之次世代继承者第84集播放\">第84集</a></li><li class=\"dslist-group-item\"><a href=\"/play-1295-2-85.html\" title=\"火影忍者：博人传之次世代继承者第85集播放\">第85集</a></li><li class=\"dslist-group-item\"><a href=\"/play-1295-2-86.html\" title=\"火影忍者：博人传之次世代继承者第86集播放\">第86集</a></li><li class=\"dslist-group-item\"><a href=\"/play-1295-2-87.html\" title=\"火影忍者：博人传之次世代继承者第87集播放\">第87集</a></li><li class=\"dslist-group-item\"><a href=\"/play-1295-2-88.html\" title=\"火影忍者：博人传之次世代继承者第88集播放\">第88集</a></li><li class=\"dslist-group-item\"><a href=\"/play-1295-2-89.html\" title=\"火影忍者：博人传之次世代继承者第89集播放\">第89集</a></li><li class=\"dslist-group-item\"><a href=\"/play-1295-2-90.html\" title=\"火影忍者：博人传之次世代继承者第90集播放\">第90集</a></li><li class=\"dslist-group-item\"><a href=\"/play-1295-2-91.html\" title=\"火影忍者：博人传之次世代继承者第91集播放\">第91集</a></li><li class=\"dslist-group-item\"><a href=\"/play-1295-2-92.html\" title=\"火影忍者：博人传之次世代继承者第92集播放\">第92集</a></li><li class=\"dslist-group-item\"><a href=\"/play-1295-2-93.html\" title=\"火影忍者：博人传之次世代继承者第93集播放\">第93集</a></li><li class=\"dslist-group-item\"><a href=\"/play-1295-2-94.html\" title=\"火影忍者：博人传之次世代继承者第94集播放\">第94集</a></li><li class=\"dslist-group-item\"><a href=\"/play-1295-2-95.html\" title=\"火影忍者：博人传之次世代继承者第95集播放\">第95集</a></li><li class=\"dslist-group-item\"><a href=\"/play-1295-2-96.html\" title=\"火影忍者：博人传之次世代继承者第96集播放\">第96集</a></li><li class=\"dslist-group-item\"><a href=\"/play-1295-2-97.html\" title=\"火影忍者：博人传之次世代继承者第97集播放\">第97集</a></li><li class=\"dslist-group-item\"><a href=\"/play-1295-2-98.html\" title=\"火影忍者：博人传之次世代继承者第98集播放\">第98集</a></li><li class=\"dslist-group-item\"><a href=\"/play-1295-2-99.html\" title=\"火影忍者：博人传之次世代继承者第99集播放\">第99集</a></li><li class=\"dslist-group-item\"><a href=\"/play-1295-2-100.html\" title=\"火影忍者：博人传之次世代继承者第100集播放\">第100集</a></li><li class=\"dslist-group-item\"><a href=\"/play-1295-2-101.html\" title=\"火影忍者：博人传之次世代继承者第101集播放\">第101集</a></li><li class=\"dslist-group-item\"><a href=\"/play-1295-2-102.html\" title=\"火影忍者：博人传之次世代继承者第102集播放\">第102集</a></li><li class=\"dslist-group-item\"><a href=\"/play-1295-2-103.html\" title=\"火影忍者：博人传之次世代继承者第103集播放\">第103集</a></li><li class=\"dslist-group-item\"><a href=\"/play-1295-2-104.html\" title=\"火影忍者：博人传之次世代继承者第104集播放\">第104集</a></li><li class=\"dslist-group-item\"><a href=\"/play-1295-2-105.html\" title=\"火影忍者：博人传之次世代继承者第105集播放\">第105集</a></li><li class=\"dslist-group-item\"><a href=\"/play-1295-2-106.html\" title=\"火影忍者：博人传之次世代继承者第106集播放\">第106集</a></li><li class=\"dslist-group-item\"><a href=\"/play-1295-2-107.html\" title=\"火影忍者：博人传之次世代继承者第107集播放\">第107集</a></li><li class=\"dslist-group-item\"><a href=\"/play-1295-2-108.html\" title=\"火影忍者：博人传之次世代继承者第108集播放\">第108集</a></li><li class=\"dslist-group-item\"><a href=\"/play-1295-2-109.html\" title=\"火影忍者：博人传之次世代继承者第109集播放\">第109集</a></li><li class=\"dslist-group-item\"><a href=\"/play-1295-2-110.html\" title=\"火影忍者：博人传之次世代继承者第110集播放\">第110集</a></li><li class=\"dslist-group-item\"><a href=\"/play-1295-2-111.html\" title=\"火影忍者：博人传之次世代继承者第111集播放\">第111集</a></li><li class=\"dslist-group-item\"><a href=\"/play-1295-2-112.html\" title=\"火影忍者：博人传之次世代继承者第112集播放\">第112集</a></li><li class=\"dslist-group-item\"><a href=\"/play-1295-2-113.html\" title=\"火影忍者：博人传之次世代继承者第113集播放\">第113集</a></li><li class=\"dslist-group-item\"><a href=\"/play-1295-2-114.html\" title=\"火影忍者：博人传之次世代继承者第114集播放\">第114集</a></li><li class=\"dslist-group-item\"><a href=\"/play-1295-2-115.html\" title=\"火影忍者：博人传之次世代继承者第115集播放\">第115集</a></li><li class=\"dslist-group-item\"><a href=\"/play-1295-2-116.html\" title=\"火影忍者：博人传之次世代继承者第116集播放\">第116集</a></li><li class=\"dslist-group-item\"><a href=\"/play-1295-2-117.html\" title=\"火影忍者：博人传之次世代继承者第117集播放\">第117集</a></li><li class=\"dslist-group-item\"><a href=\"/play-1295-2-118.html\" title=\"火影忍者：博人传之次世代继承者第118集播放\">第118集</a></li><li class=\"dslist-group-item\"><a href=\"/play-1295-2-119.html\" title=\"火影忍者：博人传之次世代继承者第119集播放\">第119集</a></li><li class=\"dslist-group-item\"><a href=\"/play-1295-2-120.html\" title=\"火影忍者：博人传之次世代继承者第120集播放\">第120集</a></li><li class=\"dslist-group-item\"><a href=\"/play-1295-2-121.html\" title=\"火影忍者：博人传之次世代继承者第121集播放\">第121集</a></li><li class=\"dslist-group-item\"><a href=\"/play-1295-2-122.html\" title=\"火影忍者：博人传之次世代继承者第122集播放\">第122集</a></li><li class=\"dslist-group-item\"><a href=\"/play-1295-2-123.html\" title=\"火影忍者：博人传之次世代继承者第123集播放\">第123集</a></li><li class=\"dslist-group-item\"><a href=\"/play-1295-2-124.html\" title=\"火影忍者：博人传之次世代继承者第124集播放\">第124集</a></li><li class=\"dslist-group-item\"><a href=\"/play-1295-2-125.html\" title=\"火影忍者：博人传之次世代继承者第125集播放\">第125集</a></li><li class=\"dslist-group-item\"><a href=\"/play-1295-2-126.html\" title=\"火影忍者：博人传之次世代继承者第126集播放\">第126集</a></li><li class=\"dslist-group-item\"><a href=\"/play-1295-2-127.html\" title=\"火影忍者：博人传之次世代继承者第127集播放\">第127集</a></li><li class=\"dslist-group-item\"><a href=\"/play-1295-2-128.html\" title=\"火影忍者：博人传之次世代继承者第128集播放\">第128集</a></li><li class=\"dslist-group-item\"><a href=\"/play-1295-2-129.html\" title=\"火影忍者：博人传之次世代继承者第129集播放\">第129集</a></li><li class=\"dslist-group-item\"><a href=\"/play-1295-2-130.html\" title=\"火影忍者：博人传之次世代继承者第130集播放\">第130集</a></li><li class=\"dslist-group-item\"><a href=\"/play-1295-2-131.html\" title=\"火影忍者：博人传之次世代继承者第131集播放\">第131集</a></li><li class=\"dslist-group-item\"><a href=\"/play-1295-2-132.html\" title=\"火影忍者：博人传之次世代继承者第132集播放\">第132集</a></li><li class=\"dslist-group-item\"><a href=\"/play-1295-2-133.html\" title=\"火影忍者：博人传之次世代继承者第133集播放\">第133集</a></li><li class=\"dslist-group-item\"><a href=\"/play-1295-2-134.html\" title=\"火影忍者：博人传之次世代继承者第134集播放\">第134集</a></li><li class=\"dslist-group-item\"><a href=\"/play-1295-2-135.html\" title=\"火影忍者：博人传之次世代继承者第135集播放\">第135集</a></li><li class=\"dslist-group-item\"><a href=\"/play-1295-2-136.html\" title=\"火影忍者：博人传之次世代继承者第136集播放\">第136集</a></li><li class=\"dslist-group-item\"><a href=\"/play-1295-2-137.html\" title=\"火影忍者：博人传之次世代继承者第137集播放\">第137集</a></li><li class=\"dslist-group-item\"><a href=\"/play-1295-2-138.html\" title=\"火影忍者：博人传之次世代继承者第138集播放\">第138集</a></li><li class=\"dslist-group-item\"><a href=\"/play-1295-2-139.html\" title=\"火影忍者：博人传之次世代继承者第139集播放\">第139集</a></li><li class=\"dslist-group-item\"><a href=\"/play-1295-2-140.html\" title=\"火影忍者：博人传之次世代继承者第140集播放\">第140集</a></li><li class=\"dslist-group-item\"><a href=\"/play-1295-2-141.html\" title=\"火影忍者：博人传之次世代继承者第141集播放\">第141集</a></li><li class=\"dslist-group-item\"><a href=\"/play-1295-2-142.html\" title=\"火影忍者：博人传之次世代继承者第142集播放\">第142集</a></li><li class=\"dslist-group-item\"><a href=\"/play-1295-2-143.html\" title=\"火影忍者：博人传之次世代继承者第143集播放\">第143集</a></li><li class=\"dslist-group-item\"><a href=\"/play-1295-2-144.html\" title=\"火影忍者：博人传之次世代继承者第144集播放\">第144集</a></li><li class=\"dslist-group-item\"><a href=\"/play-1295-2-145.html\" title=\"火影忍者：博人传之次世代继承者第145集播放\">第145集</a></li><li class=\"dslist-group-item\"><a href=\"/play-1295-2-146.html\" title=\"火影忍者：博人传之次世代继承者第146集播放\">第146集</a></li><li class=\"dslist-group-item\"><a href=\"/play-1295-2-147.html\" title=\"火影忍者：博人传之次世代继承者第147集播放\">第147集</a></li><li class=\"dslist-group-item\"><a href=\"/play-1295-2-148.html\" title=\"火影忍者：博人传之次世代继承者第148集播放\">第148集</a></li><li class=\"dslist-group-item\"><a href=\"/play-1295-2-149.html\" title=\"火影忍者：博人传之次世代继承者第149集播放\">第149集</a></li><li class=\"dslist-group-item\"><a href=\"/play-1295-2-150.html\" title=\"火影忍者：博人传之次世代继承者第150集播放\">第150集</a></li><li class=\"dslist-group-item\"><a href=\"/play-1295-2-151.html\" title=\"火影忍者：博人传之次世代继承者第151集播放\">第151集</a></li><li class=\"dslist-group-item\"><a href=\"/play-1295-2-152.html\" title=\"火影忍者：博人传之次世代继承者第152集播放\">第152集</a></li><li class=\"dslist-group-item\"><a href=\"/play-1295-2-153.html\" title=\"火影忍者：博人传之次世代继承者第153集播放\">第153集</a></li><li class=\"dslist-group-item\"><a href=\"/play-1295-2-154.html\" title=\"火影忍者：博人传之次世代继承者第154集播放\">第154集</a></li><li class=\"dslist-group-item\"><a href=\"/play-1295-2-155.html\" title=\"火影忍者：博人传之次世代继承者第155集播放\">第155集</a></li><li class=\"dslist-group-item\"><a href=\"/play-1295-2-156.html\" title=\"火影忍者：博人传之次世代继承者第156集播放\">第156集</a></li><li class=\"dslist-group-item\"><a href=\"/play-1295-2-157.html\" title=\"火影忍者：博人传之次世代继承者第157集播放\">第157集</a></li><li class=\"dslist-group-item\"><a href=\"/play-1295-2-158.html\" title=\"火影忍者：博人传之次世代继承者第158集播放\">第158集</a></li><li class=\"dslist-group-item\"><a href=\"/play-1295-2-159.html\" title=\"火影忍者：博人传之次世代继承者第159集播放\">第159集</a></li><li class=\"dslist-group-item\"><a href=\"/play-1295-2-160.html\" title=\"火影忍者：博人传之次世代继承者第160集播放\">第160集</a></li><li class=\"dslist-group-item\"><a href=\"/play-1295-2-161.html\" title=\"火影忍者：博人传之次世代继承者第161集播放\">第161集</a></li><li class=\"dslist-group-item\"><a href=\"/play-1295-2-162.html\" title=\"火影忍者：博人传之次世代继承者第162集播放\">第162集</a></li><li class=\"dslist-group-item\"><a href=\"/play-1295-2-163.html\" title=\"火影忍者：博人传之次世代继承者第163集播放\">第163集</a></li><li class=\"dslist-group-item\"><a href=\"/play-1295-2-164.html\" title=\"火影忍者：博人传之次世代继承者第164集播放\">第164集</a></li><li class=\"dslist-group-item\"><a href=\"/play-1295-2-165.html\" title=\"火影忍者：博人传之次世代继承者第165集播放\">第165集</a></li><li class=\"dslist-group-item\"><a href=\"/play-1295-2-166.html\" title=\"火影忍者：博人传之次世代继承者第166集播放\">第166集</a></li><li class=\"dslist-group-item\"><a href=\"/play-1295-2-167.html\" title=\"火影忍者：博人传之次世代继承者第167集播放\">第167集</a></li><li class=\"dslist-group-item\"><a href=\"/play-1295-2-168.html\" title=\"火影忍者：博人传之次世代继承者第168集播放\">第168集</a></li><li class=\"dslist-group-item\"><a href=\"/play-1295-2-169.html\" title=\"火影忍者：博人传之次世代继承者第169集播放\">第169集</a></li><li class=\"dslist-group-item\"><a href=\"/play-1295-2-170.html\" title=\"火影忍者：博人传之次世代继承者第170集播放\">第170集</a></li><li class=\"dslist-group-item\"><a href=\"/play-1295-2-171.html\" title=\"火影忍者：博人传之次世代继承者第171集播放\">第171集</a></li><li class=\"dslist-group-item\"><a href=\"/play-1295-2-172.html\" title=\"火影忍者：博人传之次世代继承者第172集播放\">第172集</a></li><li class=\"dslist-group-item\"><a href=\"/play-1295-2-173.html\" title=\"火影忍者：博人传之次世代继承者第173集播放\">第173集</a></li><li class=\"dslist-group-item\"><a href=\"/play-1295-2-174.html\" title=\"火影忍者：博人传之次世代继承者第174集播放\">第174集</a></li><li class=\"dslist-group-item\"><a href=\"/play-1295-2-175.html\" title=\"火影忍者：博人传之次世代继承者第175集播放\">第175集</a></li><li class=\"dslist-group-item\"><a href=\"/play-1295-2-176.html\" title=\"火影忍者：博人传之次世代继承者第176集播放\">第176集</a></li><li class=\"dslist-group-item\"><a href=\"/play-1295-2-177.html\" title=\"火影忍者：博人传之次世代继承者第177集播放\">第177集</a></li><li class=\"dslist-group-item\"><a href=\"/play-1295-2-178.html\" title=\"火影忍者：博人传之次世代继承者第178集播放\">第178集</a></li><li class=\"dslist-group-item\"><a href=\"/play-1295-2-179.html\" title=\"火影忍者：博人传之次世代继承者第179集播放\">第179集</a></li><li class=\"dslist-group-item\"><a href=\"/play-1295-2-180.html\" title=\"火影忍者：博人传之次世代继承者第180集播放\">第180集</a></li><li class=\"dslist-group-item\"><a href=\"/play-1295-2-181.html\" title=\"火影忍者：博人传之次世代继承者第181集播放\">第181集</a></li><li class=\"dslist-group-item\"><a href=\"/play-1295-2-182.html\" title=\"火影忍者：博人传之次世代继承者第182集播放\">第182集</a></li><li class=\"dslist-group-item\"><a href=\"/play-1295-2-183.html\" title=\"火影忍者：博人传之次世代继承者第183集播放\">第183集</a></li><li class=\"dslist-group-item\"><a href=\"/play-1295-2-184.html\" title=\"火影忍者：博人传之次世代继承者第184集播放\">第184集</a></li><li class=\"dslist-group-item\"><a href=\"/play-1295-2-185.html\" title=\"火影忍者：博人传之次世代继承者第185集播放\">第185集</a></li><li class=\"dslist-group-item\"><a href=\"/play-1295-2-186.html\" title=\"火影忍者：博人传之次世代继承者第186集播放\">第186集</a></li><li class=\"dslist-group-item\"><a href=\"/play-1295-2-187.html\" title=\"火影忍者：博人传之次世代继承者第187集播放\">第187集</a></li><li class=\"dslist-group-item\"><a href=\"/play-1295-2-188.html\" title=\"火影忍者：博人传之次世代继承者第188集播放\">第188集</a></li><li class=\"dslist-group-item\"><a href=\"/play-1295-2-189.html\" title=\"火影忍者：博人传之次世代继承者第189集播放\">第189集</a></li><li class=\"dslist-group-item\"><a href=\"/play-1295-2-190.html\" title=\"火影忍者：博人传之次世代继承者第190集播放\">第190集</a></li><li class=\"dslist-group-item\"><a href=\"/play-1295-2-191.html\" title=\"火影忍者：博人传之次世代继承者第191集播放\">第191集</a></li><li class=\"dslist-group-item\"><a href=\"/play-1295-2-192.html\" title=\"火影忍者：博人传之次世代继承者第192集播放\">第192集</a></li><li class=\"dslist-group-item\"><a href=\"/play-1295-2-193.html\" title=\"火影忍者：博人传之次世代继承者第193集播放\">第193集</a></li><li class=\"dslist-group-item\"><a href=\"/play-1295-2-194.html\" title=\"火影忍者：博人传之次世代继承者第194集播放\">第194集</a></li><li class=\"dslist-group-item\"><a href=\"/play-1295-2-195.html\" title=\"火影忍者：博人传之次世代继承者第195集播放\">第195集</a></li><li class=\"dslist-group-item\"><a href=\"/play-1295-2-196.html\" title=\"火影忍者：博人传之次世代继承者第196集播放\">第196集</a></li><li class=\"dslist-group-item\"><a href=\"/play-1295-2-197.html\" title=\"火影忍者：博人传之次世代继承者第197集播放\">第197集</a></li><li class=\"dslist-group-item\"><a href=\"/play-1295-2-198.html\" title=\"火影忍者：博人传之次世代继承者第198集播放\">第198集</a></li><li class=\"dslist-group-item\"><a href=\"/play-1295-2-199.html\" title=\"火影忍者：博人传之次世代继承者第199集播放\">第199集</a></li><li class=\"dslist-group-item\"><a href=\"/play-1295-2-200.html\" title=\"火影忍者：博人传之次世代继承者第200集播放\">第200集</a></li><li class=\"dslist-group-item\"><a href=\"/play-1295-2-201.html\" title=\"火影忍者：博人传之次世代继承者第201集播放\">第201集</a></li><li class=\"dslist-group-item\"><a href=\"/play-1295-2-202.html\" title=\"火影忍者：博人传之次世代继承者第202集播放\">第202集</a></li><li class=\"dslist-group-item\"><a href=\"/play-1295-2-203.html\" title=\"火影忍者：博人传之次世代继承者第203集播放\">第203集</a></li><li class=\"dslist-group-item\"><a href=\"/play-1295-2-204.html\" title=\"火影忍者：博人传之次世代继承者第204集播放\">第204集</a></li><li class=\"dslist-group-item\"><a href=\"/play-1295-2-205.html\" title=\"火影忍者：博人传之次世代继承者第205集播放\">第205集</a></li><li class=\"dslist-group-item\"><a href=\"/play-1295-2-206.html\" title=\"火影忍者：博人传之次世代继承者第206集播放\">第206集</a></li><li class=\"dslist-group-item\"><a href=\"/play-1295-2-207.html\" title=\"火影忍者：博人传之次世代继承者第207集播放\">第207集</a></li><li class=\"dslist-group-item\"><a href=\"/play-1295-2-208.html\" title=\"火影忍者：博人传之次世代继承者第208集播放\">第208集</a></li><li class=\"dslist-group-item\"><a href=\"/play-1295-2-209.html\" title=\"火影忍者：博人传之次世代继承者第209集播放\">第209集</a></li><li class=\"dslist-group-item\"><a href=\"/play-1295-2-210.html\" title=\"火影忍者：博人传之次世代继承者第210集播放\">第210集</a></li><li class=\"dslist-group-item\"><a href=\"/play-1295-2-211.html\" title=\"火影忍者：博人传之次世代继承者第211集播放\">第211集</a></li><li class=\"dslist-group-item\"><a href=\"/play-1295-2-212.html\" title=\"火影忍者：博人传之次世代继承者第212集播放\">第212集</a></li><li class=\"dslist-group-item\"><a href=\"/play-1295-2-213.html\" title=\"火影忍者：博人传之次世代继承者第213集播放\">第213集</a></li><li class=\"dslist-group-item\"><a href=\"/play-1295-2-214.html\" title=\"火影忍者：博人传之次世代继承者第214集播放\">第214集</a></li><li class=\"dslist-group-item\"><a href=\"/play-1295-2-215.html\" title=\"火影忍者：博人传之次世代继承者第215集播放\">第215集</a></li><li class=\"dslist-group-item\"><a href=\"/play-1295-2-216.html\" title=\"火影忍者：博人传之次世代继承者第216集播放\">第216集</a></li><li class=\"dslist-group-item\"><a href=\"/play-1295-2-217.html\" title=\"火影忍者：博人传之次世代继承者第217集播放\">第217集</a></li><li class=\"dslist-group-item\"><a href=\"/play-1295-2-218.html\" title=\"火影忍者：博人传之次世代继承者第218集播放\">第218集</a></li><li class=\"dslist-group-item\"><a href=\"/play-1295-2-219.html\" title=\"火影忍者：博人传之次世代继承者第219集播放\">第219集</a></li><li class=\"dslist-group-item\"><a href=\"/play-1295-2-220.html\" title=\"火影忍者：博人传之次世代继承者第220集播放\">第220集</a></li><li class=\"dslist-group-item\"><a href=\"/play-1295-2-221.html\" title=\"火影忍者：博人传之次世代继承者第221集播放\">第221集</a></li><li class=\"dslist-group-item\"><a href=\"/play-1295-2-222.html\" title=\"火影忍者：博人传之次世代继承者第222集播放\">第222集</a></li><li class=\"dslist-group-item\"><a href=\"/play-1295-2-223.html\" title=\"火影忍者：博人传之次世代继承者第223集播放\">第223集</a></li><li class=\"dslist-group-item\"><a href=\"/play-1295-2-224.html\" title=\"火影忍者：博人传之次世代继承者第224集播放\">第224集</a></li><li class=\"dslist-group-item\"><a href=\"/play-1295-2-225.html\" title=\"火影忍者：博人传之次世代继承者第225集播放\">第225集</a></li><li class=\"dslist-group-item\"><a href=\"/play-1295-2-226.html\" title=\"火影忍者：博人传之次世代继承者第226集播放\">第226集</a></li><li class=\"dslist-group-item\"><a href=\"/play-1295-2-227.html\" title=\"火影忍者：博人传之次世代继承者第227集播放\">第227集</a></li><li class=\"dslist-group-item\"><a href=\"/play-1295-2-228.html\" title=\"火影忍者：博人传之次世代继承者第228集播放\">第228集</a></li><li class=\"dslist-group-item\"><a href=\"/play-1295-2-229.html\" title=\"火影忍者：博人传之次世代继承者第229集播放\">第229集</a></li><li class=\"dslist-group-item\"><a href=\"/play-1295-2-230.html\" title=\"火影忍者：博人传之次世代继承者第230集播放\">第230集</a></li><li class=\"dslist-group-item\"><a href=\"/play-1295-2-231.html\" title=\"火影忍者：博人传之次世代继承者第231集播放\">第231集</a></li><li class=\"dslist-group-item\"><a href=\"/play-1295-2-232.html\" title=\"火影忍者：博人传之次世代继承者第232集播放\">第232集</a></li><li class=\"dslist-group-item\"><a href=\"/play-1295-2-233.html\" title=\"火影忍者：博人传之次世代继承者第233集播放\">第233集</a></li><li class=\"dslist-group-item\"><a href=\"/play-1295-2-234.html\" title=\"火影忍者：博人传之次世代继承者第234集播放\">第234集</a></li><li class=\"dslist-group-item\"><a href=\"/play-1295-2-235.html\" title=\"火影忍者：博人传之次世代继承者第235集播放\">第235集</a></li><li class=\"dslist-group-item\"><a href=\"/play-1295-2-236.html\" title=\"火影忍者：博人传之次世代继承者第236集播放\">第236集</a></li><li class=\"dslist-group-item\"><a href=\"/play-1295-2-237.html\" title=\"火影忍者：博人传之次世代继承者第237集播放\">第237集</a></li><li class=\"dslist-group-item\"><a href=\"/play-1295-2-238.html\" title=\"火影忍者：博人传之次世代继承者第238集播放\">第238集</a></li><li class=\"dslist-group-item\"><a href=\"/play-1295-2-239.html\" title=\"火影忍者：博人传之次世代继承者第239集播放\">第239集</a></li><li class=\"dslist-group-item\"><a href=\"/play-1295-2-240.html\" title=\"火影忍者：博人传之次世代继承者第240集播放\">第240集</a></li><li class=\"dslist-group-item\"><a href=\"/play-1295-2-241.html\" title=\"火影忍者：博人传之次世代继承者第241集播放\">第241集</a></li><li class=\"dslist-group-item\"><a href=\"/play-1295-2-242.html\" title=\"火影忍者：博人传之次世代继承者第242集播放\">第242集</a></li><li class=\"dslist-group-item\"><a href=\"/play-1295-2-243.html\" title=\"火影忍者：博人传之次世代继承者第243集播放\">第243集</a></li><li class=\"dslist-group-item\"><a href=\"/play-1295-2-244.html\" title=\"火影忍者：博人传之次世代继承者第244集播放\">第244集</a></li><li class=\"dslist-group-item\"><a href=\"/play-1295-2-245.html\" title=\"火影忍者：博人传之次世代继承者第245集播放\">第245集</a></li><li class=\"dslist-group-item\"><a href=\"/play-1295-2-246.html\" title=\"火影忍者：博人传之次世代继承者第246集播放\">第246集</a></li><li class=\"dslist-group-item\"><a href=\"/play-1295-2-247.html\" title=\"火影忍者：博人传之次世代继承者第247集播放\">第247集</a></li><li class=\"dslist-group-item\"><a href=\"/play-1295-2-248.html\" title=\"火影忍者：博人传之次世代继承者第248集播放\">第248集</a></li><li class=\"dslist-group-item\"><a href=\"/play-1295-2-249.html\" title=\"火影忍者：博人传之次世代继承者第249集播放\">第249集</a></li><li class=\"dslist-group-item\"><a href=\"/play-1295-2-250.html\" title=\"火影忍者：博人传之次世代继承者第250集播放\">第250集</a></li><li class=\"dslist-group-item\"><a href=\"/play-1295-2-251.html\" title=\"火影忍者：博人传之次世代继承者第251集播放\">第251集</a></li><li class=\"dslist-group-item\"><a href=\"/play-1295-2-252.html\" title=\"火影忍者：博人传之次世代继承者第252集播放\">第252集</a></li><li class=\"dslist-group-item\"><a href=\"/play-1295-2-253.html\" title=\"火影忍者：博人传之次世代继承者第253集播放\">第253集</a></li><li class=\"dslist-group-item\"><a href=\"/play-1295-2-254.html\" title=\"火影忍者：博人传之次世代继承者第254集播放\">第254集</a></li><li class=\"dslist-group-item\"><a href=\"/play-1295-2-255.html\" title=\"火影忍者：博人传之次世代继承者第255集播放\">第255集</a></li><li class=\"dslist-group-item\"><a href=\"/play-1295-2-256.html\" title=\"火影忍者：博人传之次世代继承者第256集播放\">第256集</a></li><li class=\"dslist-group-item\"><a href=\"/play-1295-2-257.html\" title=\"火影忍者：博人传之次世代继承者第257集播放\">第257集</a></li><li class=\"dslist-group-item\"><a href=\"/play-1295-2-258.html\" title=\"火影忍者：博人传之次世代继承者第258集播放\">第258集</a></li><li class=\"dslist-group-item\"><a href=\"/play-1295-2-259.html\" title=\"火影忍者：博人传之次世代继承者第259集播放\">第259集</a></li><li class=\"dslist-group-item\"><a href=\"/play-1295-2-260.html\" title=\"火影忍者：博人传之次世代继承者第260集播放\">第260集</a></li><li class=\"dslist-group-item\"><a href=\"/play-1295-2-261.html\" title=\"火影忍者：博人传之次世代继承者第261集播放\">第261集</a></li><li class=\"dslist-group-item\"><a href=\"/play-1295-2-262.html\" title=\"火影忍者：博人传之次世代继承者第262集播放\">第262集</a></li><li class=\"dslist-group-item\"><a href=\"/play-1295-2-263.html\" title=\"火影忍者：博人传之次世代继承者第263集播放\">第263集</a></li><li class=\"dslist-group-item\"><a href=\"/play-1295-2-264.html\" title=\"火影忍者：博人传之次世代继承者第264集播放\">第264集</a></li><li class=\"dslist-group-item\"><a href=\"/play-1295-2-265.html\" title=\"火影忍者：博人传之次世代继承者第265集播放\">第265集</a></li><li class=\"dslist-group-item\"><a href=\"/play-1295-2-266.html\" title=\"火影忍者：博人传之次世代继承者第266集播放\">第266集</a></li><li class=\"dslist-group-item\"><a href=\"/play-1295-2-267.html\" title=\"火影忍者：博人传之次世代继承者第267集播放\">第267集</a></li><li class=\"dslist-group-item\"><a href=\"/play-1295-2-268.html\" title=\"火影忍者：博人传之次世代继承者第268集播放\">第268集</a></li><li class=\"dslist-group-item\"><a href=\"/play-1295-2-269.html\" title=\"火影忍者：博人传之次世代继承者第269集播放\">第269集</a></li><li class=\"dslist-group-item\"><a href=\"/play-1295-2-270.html\" title=\"火影忍者：博人传之次世代继承者第270集播放\">第270集</a></li><li class=\"dslist-group-item\"><a href=\"/play-1295-2-271.html\" title=\"火影忍者：博人传之次世代继承者第271集播放\">第271集</a></li><li class=\"dslist-group-item\"><a href=\"/play-1295-2-272.html\" title=\"火影忍者：博人传之次世代继承者第272集播放\">第272集</a></li><li class=\"dslist-group-item\"><a href=\"/play-1295-2-273.html\" title=\"火影忍者：博人传之次世代继承者第273集播放\">第273集</a></li><li class=\"dslist-group-item\"><a href=\"/play-1295-2-274.html\" title=\"火影忍者：博人传之次世代继承者第274集播放\">第274集</a></li><li class=\"dslist-group-item\"><a href=\"/play-1295-2-275.html\" title=\"火影忍者：博人传之次世代继承者第275集播放\">第275集</a></li><li class=\"dslist-group-item\"><a href=\"/play-1295-2-276.html\" title=\"火影忍者：博人传之次世代继承者第276集播放\">第276集</a></li><li class=\"dslist-group-item\"><a href=\"/play-1295-2-277.html\" title=\"火影忍者：博人传之次世代继承者第277集播放\">第277集</a></li><li class=\"dslist-group-item\"><a href=\"/play-1295-2-278.html\" title=\"火影忍者：博人传之次世代继承者第278集播放\">第278集</a></li><li class=\"dslist-group-item\"><a href=\"/play-1295-2-279.html\" title=\"火影忍者：博人传之次世代继承者第279集播放\">第279集</a></li><li class=\"dslist-group-item\"><a href=\"/play-1295-2-280.html\" title=\"火影忍者：博人传之次世代继承者第280集播放\">第280集</a></li><li class=\"dslist-group-item\"><a href=\"/play-1295-2-281.html\" title=\"火影忍者：博人传之次世代继承者第281集播放\">第281集</a></li><li class=\"dslist-group-item\"><a href=\"/play-1295-2-282.html\" title=\"火影忍者：博人传之次世代继承者第282集播放\">第282集</a></li><li class=\"dslist-group-item\"><a href=\"/play-1295-2-283.html\" title=\"火影忍者：博人传之次世代继承者第283集播放\">第283集</a></li><li class=\"dslist-group-item\"><a href=\"/play-1295-2-284.html\" title=\"火影忍者：博人传之次世代继承者第284集播放\">第284集</a></li><li class=\"dslist-group-item\"><a href=\"/play-1295-2-285.html\" title=\"火影忍者：博人传之次世代继承者第285集播放\">第285集</a></li><li class=\"dslist-group-item\"><a href=\"/play-1295-2-286.html\" title=\"火影忍者：博人传之次世代继承者第286集播放\">第286集</a></li><li class=\"dslist-group-item\"><a href=\"/play-1295-2-287.html\" title=\"火影忍者：博人传之次世代继承者第287集播放\">第287集</a></li><li class=\"dslist-group-item\"><a href=\"/play-1295-2-288.html\" title=\"火影忍者：博人传之次世代继承者第288集播放\">第288集</a></li><li class=\"dslist-group-item\"><a href=\"/play-1295-2-289.html\" title=\"火影忍者：博人传之次世代继承者第289集播放\">第289集</a></li></ul><div class=\"panel-heading\"><strong><mb class=\"mbnone\"></mb>云播</strong></div><ul class=\"dslist-group\"><li class=\"dslist-group-item\"><a href=\"/play-1295-1-1.html\" title=\"火影忍者：博人传之次世代继承者第001集播放\">第001集</a></li><li class=\"dslist-group-item\"><a href=\"/play-1295-1-2.html\" title=\"火影忍者：博人传之次世代继承者第002集播放\">第002集</a></li><li class=\"dslist-group-item\"><a href=\"/play-1295-1-3.html\" title=\"火影忍者：博人传之次世代继承者第003集播放\">第003集</a></li><li class=\"dslist-group-item\"><a href=\"/play-1295-1-4.html\" title=\"火影忍者：博人传之次世代继承者第004集播放\">第004集</a></li><li class=\"dslist-group-item\"><a href=\"/play-1295-1-5.html\" title=\"火影忍者：博人传之次世代继承者第005集播放\">第005集</a></li><li class=\"dslist-group-item\"><a href=\"/play-1295-1-6.html\" title=\"火影忍者：博人传之次世代继承者第006集播放\">第006集</a></li><li class=\"dslist-group-item\"><a href=\"/play-1295-1-7.html\" title=\"火影忍者：博人传之次世代继承者第007集播放\">第007集</a></li><li class=\"dslist-group-item\"><a href=\"/play-1295-1-8.html\" title=\"火影忍者：博人传之次世代继承者第008集播放\">第008集</a></li><li class=\"dslist-group-item\"><a href=\"/play-1295-1-9.html\" title=\"火影忍者：博人传之次世代继承者第009集播放\">第009集</a></li><li class=\"dslist-group-item\"><a href=\"/play-1295-1-10.html\" title=\"火影忍者：博人传之次世代继承者第010集播放\">第010集</a></li><li class=\"dslist-group-item\"><a href=\"/play-1295-1-11.html\" title=\"火影忍者：博人传之次世代继承者第011集播放\">第011集</a></li><li class=\"dslist-group-item\"><a href=\"/play-1295-1-12.html\" title=\"火影忍者：博人传之次世代继承者第012集播放\">第012集</a></li><li class=\"dslist-group-item\"><a href=\"/play-1295-1-13.html\" title=\"火影忍者：博人传之次世代继承者第013集播放\">第013集</a></li><li class=\"dslist-group-item\"><a href=\"/play-1295-1-14.html\" title=\"火影忍者：博人传之次世代继承者第014集播放\">第014集</a></li><li class=\"dslist-group-item\"><a href=\"/play-1295-1-15.html\" title=\"火影忍者：博人传之次世代继承者第015集播放\">第015集</a></li><li class=\"dslist-group-item\"><a href=\"/play-1295-1-16.html\" title=\"火影忍者：博人传之次世代继承者第016集播放\">第016集</a></li><li class=\"dslist-group-item\"><a href=\"/play-1295-1-17.html\" title=\"火影忍者：博人传之次世代继承者第017集播放\">第017集</a></li><li class=\"dslist-group-item\"><a href=\"/play-1295-1-18.html\" title=\"火影忍者：博人传之次世代继承者第018集播放\">第018集</a></li><li class=\"dslist-group-item\"><a href=\"/play-1295-1-19.html\" title=\"火影忍者：博人传之次世代继承者第019集播放\">第019集</a></li><li class=\"dslist-group-item\"><a href=\"/play-1295-1-20.html\" title=\"火影忍者：博人传之次世代继承者第020集播放\">第020集</a></li><li class=\"dslist-group-item\"><a href=\"/play-1295-1-21.html\" title=\"火影忍者：博人传之次世代继承者第021集播放\">第021集</a></li><li class=\"dslist-group-item\"><a href=\"/play-1295-1-22.html\" title=\"火影忍者：博人传之次世代继承者第022集播放\">第022集</a></li><li class=\"dslist-group-item\"><a href=\"/play-1295-1-23.html\" title=\"火影忍者：博人传之次世代继承者第023集播放\">第023集</a></li><li class=\"dslist-group-item\"><a href=\"/play-1295-1-24.html\" title=\"火影忍者：博人传之次世代继承者第024集播放\">第024集</a></li><li class=\"dslist-group-item\"><a href=\"/play-1295-1-25.html\" title=\"火影忍者：博人传之次世代继承者第025集播放\">第025集</a></li><li class=\"dslist-group-item\"><a href=\"/play-1295-1-26.html\" title=\"火影忍者：博人传之次世代继承者第026集播放\">第026集</a></li><li class=\"dslist-group-item\"><a href=\"/play-1295-1-27.html\" title=\"火影忍者：博人传之次世代继承者第027集播放\">第027集</a></li><li class=\"dslist-group-item\"><a href=\"/play-1295-1-28.html\" title=\"火影忍者：博人传之次世代继承者第028集播放\">第028集</a></li><li class=\"dslist-group-item\"><a href=\"/play-1295-1-29.html\" title=\"火影忍者：博人传之次世代继承者第029集播放\">第029集</a></li><li class=\"dslist-group-item\"><a href=\"/play-1295-1-30.html\" title=\"火影忍者：博人传之次世代继承者第030集播放\">第030集</a></li><li class=\"dslist-group-item\"><a href=\"/play-1295-1-31.html\" title=\"火影忍者：博人传之次世代继承者第031集播放\">第031集</a></li><li class=\"dslist-group-item\"><a href=\"/play-1295-1-32.html\" title=\"火影忍者：博人传之次世代继承者第032集播放\">第032集</a></li><li class=\"dslist-group-item\"><a href=\"/play-1295-1-33.html\" title=\"火影忍者：博人传之次世代继承者第033集播放\">第033集</a></li><li class=\"dslist-group-item\"><a href=\"/play-1295-1-34.html\" title=\"火影忍者：博人传之次世代继承者第034集播放\">第034集</a></li><li class=\"dslist-group-item\"><a href=\"/play-1295-1-35.html\" title=\"火影忍者：博人传之次世代继承者第035集播放\">第035集</a></li><li class=\"dslist-group-item\"><a href=\"/play-1295-1-36.html\" title=\"火影忍者：博人传之次世代继承者第036集播放\">第036集</a></li><li class=\"dslist-group-item\"><a href=\"/play-1295-1-37.html\" title=\"火影忍者：博人传之次世代继承者第037集播放\">第037集</a></li><li class=\"dslist-group-item\"><a href=\"/play-1295-1-38.html\" title=\"火影忍者：博人传之次世代继承者第038集播放\">第038集</a></li><li class=\"dslist-group-item\"><a href=\"/play-1295-1-39.html\" title=\"火影忍者：博人传之次世代继承者第039集播放\">第039集</a></li><li class=\"dslist-group-item\"><a href=\"/play-1295-1-40.html\" title=\"火影忍者：博人传之次世代继承者第040集播放\">第040集</a></li><li class=\"dslist-group-item\"><a href=\"/play-1295-1-41.html\" title=\"火影忍者：博人传之次世代继承者第041集播放\">第041集</a></li><li class=\"dslist-group-item\"><a href=\"/play-1295-1-42.html\" title=\"火影忍者：博人传之次世代继承者第042集播放\">第042集</a></li><li class=\"dslist-group-item\"><a href=\"/play-1295-1-43.html\" title=\"火影忍者：博人传之次世代继承者第043集播放\">第043集</a></li><li class=\"dslist-group-item\"><a href=\"/play-1295-1-44.html\" title=\"火影忍者：博人传之次世代继承者第044集播放\">第044集</a></li><li class=\"dslist-group-item\"><a href=\"/play-1295-1-45.html\" title=\"火影忍者：博人传之次世代继承者第045集播放\">第045集</a></li><li class=\"dslist-group-item\"><a href=\"/play-1295-1-46.html\" title=\"火影忍者：博人传之次世代继承者第046集播放\">第046集</a></li><li class=\"dslist-group-item\"><a href=\"/play-1295-1-47.html\" title=\"火影忍者：博人传之次世代继承者第047集播放\">第047集</a></li><li class=\"dslist-group-item\"><a href=\"/play-1295-1-48.html\" title=\"火影忍者：博人传之次世代继承者第048集播放\">第048集</a></li><li class=\"dslist-group-item\"><a href=\"/play-1295-1-49.html\" title=\"火影忍者：博人传之次世代继承者第049集播放\">第049集</a></li><li class=\"dslist-group-item\"><a href=\"/play-1295-1-50.html\" title=\"火影忍者：博人传之次世代继承者第050集播放\">第050集</a></li><li class=\"dslist-group-item\"><a href=\"/play-1295-1-51.html\" title=\"火影忍者：博人传之次世代继承者第051集播放\">第051集</a></li><li class=\"dslist-group-item\"><a href=\"/play-1295-1-52.html\" title=\"火影忍者：博人传之次世代继承者第052集播放\">第052集</a></li><li class=\"dslist-group-item\"><a href=\"/play-1295-1-53.html\" title=\"火影忍者：博人传之次世代继承者第053集播放\">第053集</a></li><li class=\"dslist-group-item\"><a href=\"/play-1295-1-54.html\" title=\"火影忍者：博人传之次世代继承者第054集播放\">第054集</a></li><li class=\"dslist-group-item\"><a href=\"/play-1295-1-55.html\" title=\"火影忍者：博人传之次世代继承者第055集播放\">第055集</a></li><li class=\"dslist-group-item\"><a href=\"/play-1295-1-56.html\" title=\"火影忍者：博人传之次世代继承者第056集播放\">第056集</a></li><li class=\"dslist-group-item\"><a href=\"/play-1295-1-57.html\" title=\"火影忍者：博人传之次世代继承者第057集播放\">第057集</a></li><li class=\"dslist-group-item\"><a href=\"/play-1295-1-58.html\" title=\"火影忍者：博人传之次世代继承者第058集播放\">第058集</a></li><li class=\"dslist-group-item\"><a href=\"/play-1295-1-59.html\" title=\"火影忍者：博人传之次世代继承者第059集播放\">第059集</a></li><li class=\"dslist-group-item\"><a href=\"/play-1295-1-60.html\" title=\"火影忍者：博人传之次世代继承者第060集播放\">第060集</a></li><li class=\"dslist-group-item\"><a href=\"/play-1295-1-61.html\" title=\"火影忍者：博人传之次世代继承者第061集播放\">第061集</a></li><li class=\"dslist-group-item\"><a href=\"/play-1295-1-62.html\" title=\"火影忍者：博人传之次世代继承者第062集播放\">第062集</a></li><li class=\"dslist-group-item\"><a href=\"/play-1295-1-63.html\" title=\"火影忍者：博人传之次世代继承者第063集播放\">第063集</a></li><li class=\"dslist-group-item\"><a href=\"/play-1295-1-64.html\" title=\"火影忍者：博人传之次世代继承者第064集播放\">第064集</a></li><li class=\"dslist-group-item\"><a href=\"/play-1295-1-65.html\" title=\"火影忍者：博人传之次世代继承者第065集播放\">第065集</a></li><li class=\"dslist-group-item\"><a href=\"/play-1295-1-66.html\" title=\"火影忍者：博人传之次世代继承者第066集播放\">第066集</a></li><li class=\"dslist-group-item\"><a href=\"/play-1295-1-67.html\" title=\"火影忍者：博人传之次世代继承者第067集播放\">第067集</a></li><li class=\"dslist-group-item\"><a href=\"/play-1295-1-68.html\" title=\"火影忍者：博人传之次世代继承者第068集播放\">第068集</a></li><li class=\"dslist-group-item\"><a href=\"/play-1295-1-69.html\" title=\"火影忍者：博人传之次世代继承者第069集播放\">第069集</a></li><li class=\"dslist-group-item\"><a href=\"/play-1295-1-70.html\" title=\"火影忍者：博人传之次世代继承者第070集播放\">第070集</a></li><li class=\"dslist-group-item\"><a href=\"/play-1295-1-71.html\" title=\"火影忍者：博人传之次世代继承者第071集播放\">第071集</a></li><li class=\"dslist-group-item\"><a href=\"/play-1295-1-72.html\" title=\"火影忍者：博人传之次世代继承者第072集播放\">第072集</a></li><li class=\"dslist-group-item\"><a href=\"/play-1295-1-73.html\" title=\"火影忍者：博人传之次世代继承者第073集播放\">第073集</a></li><li class=\"dslist-group-item\"><a href=\"/play-1295-1-74.html\" title=\"火影忍者：博人传之次世代继承者第074集播放\">第074集</a></li><li class=\"dslist-group-item\"><a href=\"/play-1295-1-75.html\" title=\"火影忍者：博人传之次世代继承者第075集播放\">第075集</a></li><li class=\"dslist-group-item\"><a href=\"/play-1295-1-76.html\" title=\"火影忍者：博人传之次世代继承者第076集播放\">第076集</a></li><li class=\"dslist-group-item\"><a href=\"/play-1295-1-77.html\" title=\"火影忍者：博人传之次世代继承者第077集播放\">第077集</a></li><li class=\"dslist-group-item\"><a href=\"/play-1295-1-78.html\" title=\"火影忍者：博人传之次世代继承者第078集播放\">第078集</a></li><li class=\"dslist-group-item\"><a href=\"/play-1295-1-79.html\" title=\"火影忍者：博人传之次世代继承者第079集播放\">第079集</a></li><li class=\"dslist-group-item\"><a href=\"/play-1295-1-80.html\" title=\"火影忍者：博人传之次世代继承者第080集播放\">第080集</a></li><li class=\"dslist-group-item\"><a href=\"/play-1295-1-81.html\" title=\"火影忍者：博人传之次世代继承者第081集播放\">第081集</a></li><li class=\"dslist-group-item\"><a href=\"/play-1295-1-82.html\" title=\"火影忍者：博人传之次世代继承者第082集播放\">第082集</a></li><li class=\"dslist-group-item\"><a href=\"/play-1295-1-83.html\" title=\"火影忍者：博人传之次世代继承者第083集播放\">第083集</a></li><li class=\"dslist-group-item\"><a href=\"/play-1295-1-84.html\" title=\"火影忍者：博人传之次世代继承者第084集播放\">第084集</a></li><li class=\"dslist-group-item\"><a href=\"/play-1295-1-85.html\" title=\"火影忍者：博人传之次世代继承者第085集播放\">第085集</a></li><li class=\"dslist-group-item\"><a href=\"/play-1295-1-86.html\" title=\"火影忍者：博人传之次世代继承者第086集播放\">第086集</a></li><li class=\"dslist-group-item\"><a href=\"/play-1295-1-87.html\" title=\"火影忍者：博人传之次世代继承者第087集播放\">第087集</a></li><li class=\"dslist-group-item\"><a href=\"/play-1295-1-88.html\" title=\"火影忍者：博人传之次世代继承者第088集播放\">第088集</a></li><li class=\"dslist-group-item\"><a href=\"/play-1295-1-89.html\" title=\"火影忍者：博人传之次世代继承者第089集播放\">第089集</a></li><li class=\"dslist-group-item\"><a href=\"/play-1295-1-90.html\" title=\"火影忍者：博人传之次世代继承者第090集播放\">第090集</a></li><li class=\"dslist-group-item\"><a href=\"/play-1295-1-91.html\" title=\"火影忍者：博人传之次世代继承者第091集播放\">第091集</a></li><li class=\"dslist-group-item\"><a href=\"/play-1295-1-92.html\" title=\"火影忍者：博人传之次世代继承者第092集播放\">第092集</a></li><li class=\"dslist-group-item\"><a href=\"/play-1295-1-93.html\" title=\"火影忍者：博人传之次世代继承者第093集播放\">第093集</a></li><li class=\"dslist-group-item\"><a href=\"/play-1295-1-94.html\" title=\"火影忍者：博人传之次世代继承者第094集播放\">第094集</a></li><li class=\"dslist-group-item\"><a href=\"/play-1295-1-95.html\" title=\"火影忍者：博人传之次世代继承者第095集播放\">第095集</a></li><li class=\"dslist-group-item\"><a href=\"/play-1295-1-96.html\" title=\"火影忍者：博人传之次世代继承者第096集播放\">第096集</a></li><li class=\"dslist-group-item\"><a href=\"/play-1295-1-97.html\" title=\"火影忍者：博人传之次世代继承者第097集播放\">第097集</a></li><li class=\"dslist-group-item\"><a href=\"/play-1295-1-98.html\" title=\"火影忍者：博人传之次世代继承者第098集播放\">第098集</a></li><li class=\"dslist-group-item\"><a href=\"/play-1295-1-99.html\" title=\"火影忍者：博人传之次世代继承者第099集播放\">第099集</a></li><li class=\"dslist-group-item\"><a href=\"/play-1295-1-100.html\" title=\"火影忍者：博人传之次世代继承者第100集播放\">第100集</a></li><li class=\"dslist-group-item\"><a href=\"/play-1295-1-101.html\" title=\"火影忍者：博人传之次世代继承者第101集播放\">第101集</a></li><li class=\"dslist-group-item\"><a href=\"/play-1295-1-102.html\" title=\"火影忍者：博人传之次世代继承者第102集播放\">第102集</a></li><li class=\"dslist-group-item\"><a href=\"/play-1295-1-103.html\" title=\"火影忍者：博人传之次世代继承者第103集播放\">第103集</a></li><li class=\"dslist-group-item\"><a href=\"/play-1295-1-104.html\" title=\"火影忍者：博人传之次世代继承者第104集播放\">第104集</a></li><li class=\"dslist-group-item\"><a href=\"/play-1295-1-105.html\" title=\"火影忍者：博人传之次世代继承者第105集播放\">第105集</a></li><li class=\"dslist-group-item\"><a href=\"/play-1295-1-106.html\" title=\"火影忍者：博人传之次世代继承者第106集播放\">第106集</a></li><li class=\"dslist-group-item\"><a href=\"/play-1295-1-107.html\" title=\"火影忍者：博人传之次世代继承者第107集播放\">第107集</a></li><li class=\"dslist-group-item\"><a href=\"/play-1295-1-108.html\" title=\"火影忍者：博人传之次世代继承者第108集播放\">第108集</a></li><li class=\"dslist-group-item\"><a href=\"/play-1295-1-109.html\" title=\"火影忍者：博人传之次世代继承者第109集播放\">第109集</a></li><li class=\"dslist-group-item\"><a href=\"/play-1295-1-110.html\" title=\"火影忍者：博人传之次世代继承者第110集播放\">第110集</a></li><li class=\"dslist-group-item\"><a href=\"/play-1295-1-111.html\" title=\"火影忍者：博人传之次世代继承者第111集播放\">第111集</a></li><li class=\"dslist-group-item\"><a href=\"/play-1295-1-112.html\" title=\"火影忍者：博人传之次世代继承者第112集播放\">第112集</a></li><li class=\"dslist-group-item\"><a href=\"/play-1295-1-113.html\" title=\"火影忍者：博人传之次世代继承者第113集播放\">第113集</a></li><li class=\"dslist-group-item\"><a href=\"/play-1295-1-114.html\" title=\"火影忍者：博人传之次世代继承者第114集播放\">第114集</a></li><li class=\"dslist-group-item\"><a href=\"/play-1295-1-115.html\" title=\"火影忍者：博人传之次世代继承者第115集播放\">第115集</a></li><li class=\"dslist-group-item\"><a href=\"/play-1295-1-116.html\" title=\"火影忍者：博人传之次世代继承者第116集播放\">第116集</a></li><li class=\"dslist-group-item\"><a href=\"/play-1295-1-117.html\" title=\"火影忍者：博人传之次世代继承者第117集播放\">第117集</a></li><li class=\"dslist-group-item\"><a href=\"/play-1295-1-118.html\" title=\"火影忍者：博人传之次世代继承者第118集播放\">第118集</a></li><li class=\"dslist-group-item\"><a href=\"/play-1295-1-119.html\" title=\"火影忍者：博人传之次世代继承者第119集播放\">第119集</a></li><li class=\"dslist-group-item\"><a href=\"/play-1295-1-120.html\" title=\"火影忍者：博人传之次世代继承者第120集播放\">第120集</a></li><li class=\"dslist-group-item\"><a href=\"/play-1295-1-121.html\" title=\"火影忍者：博人传之次世代继承者第121集播放\">第121集</a></li><li class=\"dslist-group-item\"><a href=\"/play-1295-1-122.html\" title=\"火影忍者：博人传之次世代继承者第122集播放\">第122集</a></li><li class=\"dslist-group-item\"><a href=\"/play-1295-1-123.html\" title=\"火影忍者：博人传之次世代继承者第123集播放\">第123集</a></li><li class=\"dslist-group-item\"><a href=\"/play-1295-1-124.html\" title=\"火影忍者：博人传之次世代继承者第124集播放\">第124集</a></li><li class=\"dslist-group-item\"><a href=\"/play-1295-1-125.html\" title=\"火影忍者：博人传之次世代继承者第125集播放\">第125集</a></li><li class=\"dslist-group-item\"><a href=\"/play-1295-1-126.html\" title=\"火影忍者：博人传之次世代继承者第126集播放\">第126集</a></li><li class=\"dslist-group-item\"><a href=\"/play-1295-1-127.html\" title=\"火影忍者：博人传之次世代继承者第127集播放\">第127集</a></li><li class=\"dslist-group-item\"><a href=\"/play-1295-1-128.html\" title=\"火影忍者：博人传之次世代继承者第128集播放\">第128集</a></li><li class=\"dslist-group-item\"><a href=\"/play-1295-1-129.html\" title=\"火影忍者：博人传之次世代继承者第129集播放\">第129集</a></li><li class=\"dslist-group-item\"><a href=\"/play-1295-1-130.html\" title=\"火影忍者：博人传之次世代继承者第130集播放\">第130集</a></li><li class=\"dslist-group-item\"><a href=\"/play-1295-1-131.html\" title=\"火影忍者：博人传之次世代继承者第131集播放\">第131集</a></li><li class=\"dslist-group-item\"><a href=\"/play-1295-1-132.html\" title=\"火影忍者：博人传之次世代继承者第132集播放\">第132集</a></li><li class=\"dslist-group-item\"><a href=\"/play-1295-1-133.html\" title=\"火影忍者：博人传之次世代继承者第133集播放\">第133集</a></li><li class=\"dslist-group-item\"><a href=\"/play-1295-1-134.html\" title=\"火影忍者：博人传之次世代继承者第134集播放\">第134集</a></li><li class=\"dslist-group-item\"><a href=\"/play-1295-1-135.html\" title=\"火影忍者：博人传之次世代继承者第135集播放\">第135集</a></li><li class=\"dslist-group-item\"><a href=\"/play-1295-1-136.html\" title=\"火影忍者：博人传之次世代继承者第136集播放\">第136集</a></li><li class=\"dslist-group-item\"><a href=\"/play-1295-1-137.html\" title=\"火影忍者：博人传之次世代继承者第137集播放\">第137集</a></li><li class=\"dslist-group-item\"><a href=\"/play-1295-1-138.html\" title=\"火影忍者：博人传之次世代继承者第138集播放\">第138集</a></li><li class=\"dslist-group-item\"><a href=\"/play-1295-1-139.html\" title=\"火影忍者：博人传之次世代继承者第139集播放\">第139集</a></li><li class=\"dslist-group-item\"><a href=\"/play-1295-1-140.html\" title=\"火影忍者：博人传之次世代继承者第140集播放\">第140集</a></li><li class=\"dslist-group-item\"><a href=\"/play-1295-1-141.html\" title=\"火影忍者：博人传之次世代继承者第141集播放\">第141集</a></li><li class=\"dslist-group-item\"><a href=\"/play-1295-1-142.html\" title=\"火影忍者：博人传之次世代继承者第142集播放\">第142集</a></li><li class=\"dslist-group-item\"><a href=\"/play-1295-1-143.html\" title=\"火影忍者：博人传之次世代继承者第143集播放\">第143集</a></li><li class=\"dslist-group-item\"><a href=\"/play-1295-1-144.html\" title=\"火影忍者：博人传之次世代继承者第144集播放\">第144集</a></li><li class=\"dslist-group-item\"><a href=\"/play-1295-1-145.html\" title=\"火影忍者：博人传之次世代继承者第145集播放\">第145集</a></li><li class=\"dslist-group-item\"><a href=\"/play-1295-1-146.html\" title=\"火影忍者：博人传之次世代继承者第146集播放\">第146集</a></li><li class=\"dslist-group-item\"><a href=\"/play-1295-1-147.html\" title=\"火影忍者：博人传之次世代继承者第147集播放\">第147集</a></li><li class=\"dslist-group-item\"><a href=\"/play-1295-1-148.html\" title=\"火影忍者：博人传之次世代继承者第148集播放\">第148集</a></li><li class=\"dslist-group-item\"><a href=\"/play-1295-1-149.html\" title=\"火影忍者：博人传之次世代继承者第149集播放\">第149集</a></li><li class=\"dslist-group-item\"><a href=\"/play-1295-1-150.html\" title=\"火影忍者：博人传之次世代继承者第150集播放\">第150集</a></li><li class=\"dslist-group-item\"><a href=\"/play-1295-1-151.html\" title=\"火影忍者：博人传之次世代继承者第151集播放\">第151集</a></li><li class=\"dslist-group-item\"><a href=\"/play-1295-1-152.html\" title=\"火影忍者：博人传之次世代继承者第152集播放\">第152集</a></li><li class=\"dslist-group-item\"><a href=\"/play-1295-1-153.html\" title=\"火影忍者：博人传之次世代继承者第153集播放\">第153集</a></li><li class=\"dslist-group-item\"><a href=\"/play-1295-1-154.html\" title=\"火影忍者：博人传之次世代继承者第154集播放\">第154集</a></li><li class=\"dslist-group-item\"><a href=\"/play-1295-1-155.html\" title=\"火影忍者：博人传之次世代继承者第155集播放\">第155集</a></li><li class=\"dslist-group-item\"><a href=\"/play-1295-1-156.html\" title=\"火影忍者：博人传之次世代继承者第156集播放\">第156集</a></li><li class=\"dslist-group-item\"><a href=\"/play-1295-1-157.html\" title=\"火影忍者：博人传之次世代继承者第157集播放\">第157集</a></li><li class=\"dslist-group-item\"><a href=\"/play-1295-1-158.html\" title=\"火影忍者：博人传之次世代继承者第158集播放\">第158集</a></li><li class=\"dslist-group-item\"><a href=\"/play-1295-1-159.html\" title=\"火影忍者：博人传之次世代继承者第159集播放\">第159集</a></li><li class=\"dslist-group-item\"><a href=\"/play-1295-1-160.html\" title=\"火影忍者：博人传之次世代继承者第160集播放\">第160集</a></li><li class=\"dslist-group-item\"><a href=\"/play-1295-1-161.html\" title=\"火影忍者：博人传之次世代继承者第161集播放\">第161集</a></li><li class=\"dslist-group-item\"><a href=\"/play-1295-1-162.html\" title=\"火影忍者：博人传之次世代继承者第162集播放\">第162集</a></li><li class=\"dslist-group-item\"><a href=\"/play-1295-1-163.html\" title=\"火影忍者：博人传之次世代继承者第163集播放\">第163集</a></li><li class=\"dslist-group-item\"><a href=\"/play-1295-1-164.html\" title=\"火影忍者：博人传之次世代继承者第164集播放\">第164集</a></li><li class=\"dslist-group-item\"><a href=\"/play-1295-1-165.html\" title=\"火影忍者：博人传之次世代继承者第165集播放\">第165集</a></li><li class=\"dslist-group-item\"><a href=\"/play-1295-1-166.html\" title=\"火影忍者：博人传之次世代继承者第166集播放\">第166集</a></li><li class=\"dslist-group-item\"><a href=\"/play-1295-1-167.html\" title=\"火影忍者：博人传之次世代继承者第167集播放\">第167集</a></li><li class=\"dslist-group-item\"><a href=\"/play-1295-1-168.html\" title=\"火影忍者：博人传之次世代继承者第168集播放\">第168集</a></li><li class=\"dslist-group-item\"><a href=\"/play-1295-1-169.html\" title=\"火影忍者：博人传之次世代继承者第169集播放\">第169集</a></li><li class=\"dslist-group-item\"><a href=\"/play-1295-1-170.html\" title=\"火影忍者：博人传之次世代继承者第170集播放\">第170集</a></li><li class=\"dslist-group-item\"><a href=\"/play-1295-1-171.html\" title=\"火影忍者：博人传之次世代继承者第171集播放\">第171集</a></li><li class=\"dslist-group-item\"><a href=\"/play-1295-1-172.html\" title=\"火影忍者：博人传之次世代继承者第172集播放\">第172集</a></li><li class=\"dslist-group-item\"><a href=\"/play-1295-1-173.html\" title=\"火影忍者：博人传之次世代继承者第173集播放\">第173集</a></li><li class=\"dslist-group-item\"><a href=\"/play-1295-1-174.html\" title=\"火影忍者：博人传之次世代继承者第174集播放\">第174集</a></li><li class=\"dslist-group-item\"><a href=\"/play-1295-1-175.html\" title=\"火影忍者：博人传之次世代继承者第175集播放\">第175集</a></li><li class=\"dslist-group-item\"><a href=\"/play-1295-1-176.html\" title=\"火影忍者：博人传之次世代继承者第176集播放\">第176集</a></li><li class=\"dslist-group-item\"><a href=\"/play-1295-1-177.html\" title=\"火影忍者：博人传之次世代继承者第177集播放\">第177集</a></li><li class=\"dslist-group-item\"><a href=\"/play-1295-1-178.html\" title=\"火影忍者：博人传之次世代继承者第178集播放\">第178集</a></li><li class=\"dslist-group-item\"><a href=\"/play-1295-1-179.html\" title=\"火影忍者：博人传之次世代继承者第179集播放\">第179集</a></li><li class=\"dslist-group-item\"><a href=\"/play-1295-1-180.html\" title=\"火影忍者：博人传之次世代继承者第180集播放\">第180集</a></li><li class=\"dslist-group-item\"><a href=\"/play-1295-1-181.html\" title=\"火影忍者：博人传之次世代继承者第181集播放\">第181集</a></li><li class=\"dslist-group-item\"><a href=\"/play-1295-1-182.html\" title=\"火影忍者：博人传之次世代继承者第182集播放\">第182集</a></li><li class=\"dslist-group-item\"><a href=\"/play-1295-1-183.html\" title=\"火影忍者：博人传之次世代继承者第183集播放\">第183集</a></li><li class=\"dslist-group-item\"><a href=\"/play-1295-1-184.html\" title=\"火影忍者：博人传之次世代继承者第184集播放\">第184集</a></li><li class=\"dslist-group-item\"><a href=\"/play-1295-1-185.html\" title=\"火影忍者：博人传之次世代继承者第185集播放\">第185集</a></li><li class=\"dslist-group-item\"><a href=\"/play-1295-1-186.html\" title=\"火影忍者：博人传之次世代继承者第186集播放\">第186集</a></li><li class=\"dslist-group-item\"><a href=\"/play-1295-1-187.html\" title=\"火影忍者：博人传之次世代继承者第187集播放\">第187集</a></li><li class=\"dslist-group-item\"><a href=\"/play-1295-1-188.html\" title=\"火影忍者：博人传之次世代继承者第188集播放\">第188集</a></li><li class=\"dslist-group-item\"><a href=\"/play-1295-1-189.html\" title=\"火影忍者：博人传之次世代继承者第189集播放\">第189集</a></li><li class=\"dslist-group-item\"><a href=\"/play-1295-1-190.html\" title=\"火影忍者：博人传之次世代继承者第190集播放\">第190集</a></li><li class=\"dslist-group-item\"><a href=\"/play-1295-1-191.html\" title=\"火影忍者：博人传之次世代继承者第191集播放\">第191集</a></li><li class=\"dslist-group-item\"><a href=\"/play-1295-1-192.html\" title=\"火影忍者：博人传之次世代继承者第192集播放\">第192集</a></li><li class=\"dslist-group-item\"><a href=\"/play-1295-1-193.html\" title=\"火影忍者：博人传之次世代继承者第193集播放\">第193集</a></li><li class=\"dslist-group-item\"><a href=\"/play-1295-1-194.html\" title=\"火影忍者：博人传之次世代继承者第194集播放\">第194集</a></li><li class=\"dslist-group-item\"><a href=\"/play-1295-1-195.html\" title=\"火影忍者：博人传之次世代继承者第195集播放\">第195集</a></li><li class=\"dslist-group-item\"><a href=\"/play-1295-1-196.html\" title=\"火影忍者：博人传之次世代继承者第196集播放\">第196集</a></li><li class=\"dslist-group-item\"><a href=\"/play-1295-1-197.html\" title=\"火影忍者：博人传之次世代继承者第197集播放\">第197集</a></li><li class=\"dslist-group-item\"><a href=\"/play-1295-1-198.html\" title=\"火影忍者：博人传之次世代继承者第198集播放\">第198集</a></li><li class=\"dslist-group-item\"><a href=\"/play-1295-1-199.html\" title=\"火影忍者：博人传之次世代继承者第199集播放\">第199集</a></li><li class=\"dslist-group-item\"><a href=\"/play-1295-1-200.html\" title=\"火影忍者：博人传之次世代继承者第200集播放\">第200集</a></li><li class=\"dslist-group-item\"><a href=\"/play-1295-1-201.html\" title=\"火影忍者：博人传之次世代继承者第201集播放\">第201集</a></li><li class=\"dslist-group-item\"><a href=\"/play-1295-1-202.html\" title=\"火影忍者：博人传之次世代继承者第202集播放\">第202集</a></li><li class=\"dslist-group-item\"><a href=\"/play-1295-1-203.html\" title=\"火影忍者：博人传之次世代继承者第203集播放\">第203集</a></li><li class=\"dslist-group-item\"><a href=\"/play-1295-1-204.html\" title=\"火影忍者：博人传之次世代继承者第204集播放\">第204集</a></li><li class=\"dslist-group-item\"><a href=\"/play-1295-1-205.html\" title=\"火影忍者：博人传之次世代继承者第205集播放\">第205集</a></li><li class=\"dslist-group-item\"><a href=\"/play-1295-1-206.html\" title=\"火影忍者：博人传之次世代继承者第206集播放\">第206集</a></li><li class=\"dslist-group-item\"><a href=\"/play-1295-1-207.html\" title=\"火影忍者：博人传之次世代继承者第207集播放\">第207集</a></li><li class=\"dslist-group-item\"><a href=\"/play-1295-1-208.html\" title=\"火影忍者：博人传之次世代继承者第208集播放\">第208集</a></li><li class=\"dslist-group-item\"><a href=\"/play-1295-1-209.html\" title=\"火影忍者：博人传之次世代继承者第209集播放\">第209集</a></li><li class=\"dslist-group-item\"><a href=\"/play-1295-1-210.html\" title=\"火影忍者：博人传之次世代继承者第210集播放\">第210集</a></li><li class=\"dslist-group-item\"><a href=\"/play-1295-1-211.html\" title=\"火影忍者：博人传之次世代继承者第211集播放\">第211集</a></li><li class=\"dslist-group-item\"><a href=\"/play-1295-1-212.html\" title=\"火影忍者：博人传之次世代继承者第212集播放\">第212集</a></li><li class=\"dslist-group-item\"><a href=\"/play-1295-1-213.html\" title=\"火影忍者：博人传之次世代继承者第213集播放\">第213集</a></li><li class=\"dslist-group-item\"><a href=\"/play-1295-1-214.html\" title=\"火影忍者：博人传之次世代继承者第214集播放\">第214集</a></li><li class=\"dslist-group-item\"><a href=\"/play-1295-1-215.html\" title=\"火影忍者：博人传之次世代继承者第215集播放\">第215集</a></li><li class=\"dslist-group-item\"><a href=\"/play-1295-1-216.html\" title=\"火影忍者：博人传之次世代继承者第216集播放\">第216集</a></li><li class=\"dslist-group-item\"><a href=\"/play-1295-1-217.html\" title=\"火影忍者：博人传之次世代继承者第217集播放\">第217集</a></li><li class=\"dslist-group-item\"><a href=\"/play-1295-1-218.html\" title=\"火影忍者：博人传之次世代继承者第218集播放\">第218集</a></li><li class=\"dslist-group-item\"><a href=\"/play-1295-1-219.html\" title=\"火影忍者：博人传之次世代继承者第219集播放\">第219集</a></li><li class=\"dslist-group-item\"><a href=\"/play-1295-1-220.html\" title=\"火影忍者：博人传之次世代继承者第220集播放\">第220集</a></li><li class=\"dslist-group-item\"><a href=\"/play-1295-1-221.html\" title=\"火影忍者：博人传之次世代继承者第221集播放\">第221集</a></li><li class=\"dslist-group-item\"><a href=\"/play-1295-1-222.html\" title=\"火影忍者：博人传之次世代继承者第222集播放\">第222集</a></li><li class=\"dslist-group-item\"><a href=\"/play-1295-1-223.html\" title=\"火影忍者：博人传之次世代继承者第223集播放\">第223集</a></li><li class=\"dslist-group-item\"><a href=\"/play-1295-1-224.html\" title=\"火影忍者：博人传之次世代继承者第224集播放\">第224集</a></li><li class=\"dslist-group-item\"><a href=\"/play-1295-1-225.html\" title=\"火影忍者：博人传之次世代继承者第225集播放\">第225集</a></li><li class=\"dslist-group-item\"><a href=\"/play-1295-1-226.html\" title=\"火影忍者：博人传之次世代继承者第226集播放\">第226集</a></li><li class=\"dslist-group-item\"><a href=\"/play-1295-1-227.html\" title=\"火影忍者：博人传之次世代继承者第227集播放\">第227集</a></li><li class=\"dslist-group-item\"><a href=\"/play-1295-1-228.html\" title=\"火影忍者：博人传之次世代继承者第228集播放\">第228集</a></li><li class=\"dslist-group-item\"><a href=\"/play-1295-1-229.html\" title=\"火影忍者：博人传之次世代继承者第229集播放\">第229集</a></li><li class=\"dslist-group-item\"><a href=\"/play-1295-1-230.html\" title=\"火影忍者：博人传之次世代继承者第230集播放\">第230集</a></li><li class=\"dslist-group-item\"><a href=\"/play-1295-1-231.html\" title=\"火影忍者：博人传之次世代继承者第231集播放\">第231集</a></li><li class=\"dslist-group-item\"><a href=\"/play-1295-1-232.html\" title=\"火影忍者：博人传之次世代继承者第232集播放\">第232集</a></li><li class=\"dslist-group-item\"><a href=\"/play-1295-1-233.html\" title=\"火影忍者：博人传之次世代继承者第233集播放\">第233集</a></li><li class=\"dslist-group-item\"><a href=\"/play-1295-1-234.html\" title=\"火影忍者：博人传之次世代继承者第234集播放\">第234集</a></li><li class=\"dslist-group-item\"><a href=\"/play-1295-1-235.html\" title=\"火影忍者：博人传之次世代继承者第235集播放\">第235集</a></li><li class=\"dslist-group-item\"><a href=\"/play-1295-1-236.html\" title=\"火影忍者：博人传之次世代继承者第236集播放\">第236集</a></li><li class=\"dslist-group-item\"><a href=\"/play-1295-1-237.html\" title=\"火影忍者：博人传之次世代继承者第237集播放\">第237集</a></li><li class=\"dslist-group-item\"><a href=\"/play-1295-1-238.html\" title=\"火影忍者：博人传之次世代继承者第238集播放\">第238集</a></li><li class=\"dslist-group-item\"><a href=\"/play-1295-1-239.html\" title=\"火影忍者：博人传之次世代继承者第239集播放\">第239集</a></li><li class=\"dslist-group-item\"><a href=\"/play-1295-1-240.html\" title=\"火影忍者：博人传之次世代继承者第240集播放\">第240集</a></li><li class=\"dslist-group-item\"><a href=\"/play-1295-1-241.html\" title=\"火影忍者：博人传之次世代继承者第241集播放\">第241集</a></li><li class=\"dslist-group-item\"><a href=\"/play-1295-1-242.html\" title=\"火影忍者：博人传之次世代继承者第242集播放\">第242集</a></li><li class=\"dslist-group-item\"><a href=\"/play-1295-1-243.html\" title=\"火影忍者：博人传之次世代继承者第243集播放\">第243集</a></li><li class=\"dslist-group-item\"><a href=\"/play-1295-1-244.html\" title=\"火影忍者：博人传之次世代继承者第244集播放\">第244集</a></li><li class=\"dslist-group-item\"><a href=\"/play-1295-1-245.html\" title=\"火影忍者：博人传之次世代继承者第245集播放\">第245集</a></li><li class=\"dslist-group-item\"><a href=\"/play-1295-1-246.html\" title=\"火影忍者：博人传之次世代继承者第246集播放\">第246集</a></li><li class=\"dslist-group-item\"><a href=\"/play-1295-1-247.html\" title=\"火影忍者：博人传之次世代继承者第247集播放\">第247集</a></li><li class=\"dslist-group-item\"><a href=\"/play-1295-1-248.html\" title=\"火影忍者：博人传之次世代继承者第248集播放\">第248集</a></li><li class=\"dslist-group-item\"><a href=\"/play-1295-1-249.html\" title=\"火影忍者：博人传之次世代继承者第249集播放\">第249集</a></li><li class=\"dslist-group-item\"><a href=\"/play-1295-1-250.html\" title=\"火影忍者：博人传之次世代继承者第250集播放\">第250集</a></li><li class=\"dslist-group-item\"><a href=\"/play-1295-1-251.html\" title=\"火影忍者：博人传之次世代继承者第251集播放\">第251集</a></li><li class=\"dslist-group-item\"><a href=\"/play-1295-1-252.html\" title=\"火影忍者：博人传之次世代继承者第252集播放\">第252集</a></li><li class=\"dslist-group-item\"><a href=\"/play-1295-1-253.html\" title=\"火影忍者：博人传之次世代继承者第253集播放\">第253集</a></li><li class=\"dslist-group-item\"><a href=\"/play-1295-1-254.html\" title=\"火影忍者：博人传之次世代继承者第254集播放\">第254集</a></li><li class=\"dslist-group-item\"><a href=\"/play-1295-1-255.html\" title=\"火影忍者：博人传之次世代继承者第255集播放\">第255集</a></li><li class=\"dslist-group-item\"><a href=\"/play-1295-1-256.html\" title=\"火影忍者：博人传之次世代继承者第256集播放\">第256集</a></li><li class=\"dslist-group-item\"><a href=\"/play-1295-1-257.html\" title=\"火影忍者：博人传之次世代继承者第257集播放\">第257集</a></li><li class=\"dslist-group-item\"><a href=\"/play-1295-1-258.html\" title=\"火影忍者：博人传之次世代继承者第258集播放\">第258集</a></li><li class=\"dslist-group-item\"><a href=\"/play-1295-1-259.html\" title=\"火影忍者：博人传之次世代继承者第259集播放\">第259集</a></li><li class=\"dslist-group-item\"><a href=\"/play-1295-1-260.html\" title=\"火影忍者：博人传之次世代继承者第260集播放\">第260集</a></li><li class=\"dslist-group-item\"><a href=\"/play-1295-1-261.html\" title=\"火影忍者：博人传之次世代继承者第261集播放\">第261集</a></li><li class=\"dslist-group-item\"><a href=\"/play-1295-1-262.html\" title=\"火影忍者：博人传之次世代继承者第262集播放\">第262集</a></li><li class=\"dslist-group-item\"><a href=\"/play-1295-1-263.html\" title=\"火影忍者：博人传之次世代继承者第263集播放\">第263集</a></li><li class=\"dslist-group-item\"><a href=\"/play-1295-1-264.html\" title=\"火影忍者：博人传之次世代继承者第264集播放\">第264集</a></li><li class=\"dslist-group-item\"><a href=\"/play-1295-1-265.html\" title=\"火影忍者：博人传之次世代继承者第265集播放\">第265集</a></li><li class=\"dslist-group-item\"><a href=\"/play-1295-1-266.html\" title=\"火影忍者：博人传之次世代继承者第266集播放\">第266集</a></li><li class=\"dslist-group-item\"><a href=\"/play-1295-1-267.html\" title=\"火影忍者：博人传之次世代继承者第267集播放\">第267集</a></li><li class=\"dslist-group-item\"><a href=\"/play-1295-1-268.html\" title=\"火影忍者：博人传之次世代继承者第268集播放\">第268集</a></li><li class=\"dslist-group-item\"><a href=\"/play-1295-1-269.html\" title=\"火影忍者：博人传之次世代继承者第269集播放\">第269集</a></li><li class=\"dslist-group-item\"><a href=\"/play-1295-1-270.html\" title=\"火影忍者：博人传之次世代继承者第270集播放\">第270集</a></li><li class=\"dslist-group-item\"><a href=\"/play-1295-1-271.html\" title=\"火影忍者：博人传之次世代继承者第271集播放\">第271集</a></li><li class=\"dslist-group-item\"><a href=\"/play-1295-1-272.html\" title=\"火影忍者：博人传之次世代继承者第272集播放\">第272集</a></li><li class=\"dslist-group-item\"><a href=\"/play-1295-1-273.html\" title=\"火影忍者：博人传之次世代继承者第273集播放\">第273集</a></li><li class=\"dslist-group-item\"><a href=\"/play-1295-1-274.html\" title=\"火影忍者：博人传之次世代继承者第274集播放\">第274集</a></li><li class=\"dslist-group-item\"><a href=\"/play-1295-1-275.html\" title=\"火影忍者：博人传之次世代继承者第275集播放\">第275集</a></li><li class=\"dslist-group-item\"><a href=\"/play-1295-1-276.html\" title=\"火影忍者：博人传之次世代继承者第276集播放\">第276集</a></li><li class=\"dslist-group-item\"><a href=\"/play-1295-1-277.html\" title=\"火影忍者：博人传之次世代继承者第277期播放\">第277期</a></li><li class=\"dslist-group-item\"><a href=\"/play-1295-1-278.html\" title=\"火影忍者：博人传之次世代继承者第278集播放\">第278集</a></li><li class=\"dslist-group-item\"><a href=\"/play-1295-1-279.html\" title=\"火影忍者：博人传之次世代继承者第279集播放\">第279集</a></li><li class=\"dslist-group-item\"><a href=\"/play-1295-1-280.html\" title=\"火影忍者：博人传之次世代继承者第280集播放\">第280集</a></li><li class=\"dslist-group-item\"><a href=\"/play-1295-1-281.html\" title=\"火影忍者：博人传之次世代继承者第281集播放\">第281集</a></li><li class=\"dslist-group-item\"><a href=\"/play-1295-1-282.html\" title=\"火影忍者：博人传之次世代继承者第282集播放\">第282集</a></li><li class=\"dslist-group-item\"><a href=\"/play-1295-1-283.html\" title=\"火影忍者：博人传之次世代继承者第283集播放\">第283集</a></li><li class=\"dslist-group-item\"><a href=\"/play-1295-1-284.html\" title=\"火影忍者：博人传之次世代继承者第284集播放\">第284集</a></li><li class=\"dslist-group-item\"><a href=\"/play-1295-1-285.html\" title=\"火影忍者：博人传之次世代继承者第285集播放\">第285集</a></li><li class=\"dslist-group-item\"><a href=\"/play-1295-1-286.html\" title=\"火影忍者：博人传之次世代继承者第286集播放\">第286集</a></li><li class=\"dslist-group-item\"><a href=\"/play-1295-1-287.html\" title=\"火影忍者：博人传之次世代继承者第287集播放\">第287集</a></li><li class=\"dslist-group-item\"><a href=\"/play-1295-1-288.html\" title=\"火影忍者：博人传之次世代继承者第288集播放\">第288集</a></li><li class=\"dslist-group-item\"><a href=\"/play-1295-1-289.html\" title=\"火影忍者：博人传之次世代继承者第289集播放\">第289集</a></li></ul><link href=\"/template/kdy/css/down.css\" rel=\"stylesheet\" type=\"text/css\"/><script src=\"/template/kdy/js/function-1.0.3.js\"></script><script src=\"/template/kdy/js/xunlei_3.js\"></script><script src=\"/template/kdy/js/urlconvent.js\"></script><div class=\"cr\"></div><div class=\"panel-heading\"><strong><mb class=\"mbnone\"></mb>MP4下载地址 ↓</strong></div><div id=\"jishu\"><div class=\"con4\"><ul class=\"downurl\" id=\"ul1\"><script>var downurls=\"第01集$https://dow.dowlz6.com/20220812/7873_9b0b5205/博人传火影忍者新时代第1话.mp4#第02集$https://dow.dowlz6.com/20220812/7874_caf77ed6/博人传火影忍者新时代第2话.mp4#第03集$https://dow.dowlz6.com/20220812/7876_3dd81938/博人传火影忍者新时代第3话.mp4#第04集$https://dow.dowlz6.com/20220812/7875_69ba3582/博人传火影忍者新时代第4话.mp4#第05集$https://dow.dowlz6.com/20220812/7879_a40a495a/博人传火影忍者新时代第5话.mp4#第06集$https://dow.dowlz6.com/20220812/7877_47207cde/博人传火影忍者新时代第6话.mp4#第07集$https://dow.dowlz6.com/20220812/7878_5aa9e1f8/博人传火影忍者新时代第7话.mp4#第08集$https://dow.dowlz6.com/20220812/7880_3d14aa8a/博人传火影忍者新时代第8话.mp4#第09集$https://dow.dowlz6.com/20220812/7881_1681d826/博人传火影忍者新时代第9话.mp4#第10集$https://dow.dowlz6.com/20220812/7882_868e1675/博人传火影忍者新时代第10话.mp4#第11集$https://dow.dowlz6.com/20220812/7883_9e593e17/博人传火影忍者新时代第11话.mp4#第12集$https://dow.dowlz6.com/20220812/7884_7cfdc7e3/博人传火影忍者新时代第12话.mp4#第13集$https://dow.dowlz6.com/20220812/7886_d8d9d859/博人传火影忍者新时代第13话.mp4#第14集$https://dow.dowlz6.com/20220812/7885_756767bf/博人传火影忍者新时代第14话.mp4#第15集$https://dow.dowlz6.com/20220812/7887_5cfc2d93/博人传火影忍者新时代第15话.mp4#第16集$https://dow.dowlz6.com/20220812/7888_140e71f1/博人传火影忍者新时代第16话.mp4#第17集$https://dow.dowlz6.com/20220812/7889_22e23ea5/博人传火影忍者新时代第17话.mp4#第18集$https://dow.dowlz6.com/20220812/7891_3dd21d3c/博人传火影忍者新时代第18话.mp4#第19集$https://dow.dowlz6.com/20220812/7890_0c30686f/博人传火影忍者新时代第19话.mp4#第20集$https://dow.dowlz6.com/20220812/7892_fed75882/博人传火影忍者新时代第20话.mp4#第21集$https://dow.dowlz6.com/20220812/7893_3f104d0e/博人传火影忍者新时代第21话.mp4#第22集$https://dow.dowlz6.com/20220812/7894_59c5bbb2/博人传火影忍者新时代第22话.mp4#第23集$https://dow.dowlz6.com/20220812/7896_ba04c92b/博人传火影忍者新时代第23话.mp4#第24集$https://dow.dowlz6.com/20220812/7895_902d3f07/博人传火影忍者新时代第24话.mp4#第25集$https://dow.dowlz6.com/20220812/7897_15da5cec/博人传火影忍者新时代第25话.mp4#第26集$https://dow.dowlz6.com/20220812/7899_ab0615e9/博人传火影忍者新时代第26话.mp4#第27集$https://dow.dowlz6.com/20220812/7898_f8662aac/博人传火影忍者新时代第27话.mp4#第28集$https://dow.dowlz6.com/20220812/7900_87419a5b/博人传火影忍者新时代第28话.mp4#第29集$https://dow.dowlz6.com/20220812/7901_e07b3778/博人传火影忍者新时代第29话.mp4#第30集$https://dow.dowlz6.com/20220812/7902_92477c69/博人传火影忍者新时代第30话.mp4#第31集$https://dow.dowlz6.com/20220812/7903_6f75f0a0/博人传火影忍者新时代第31话.mp4#第32集$https://dow.dowlz6.com/20220812/7904_2b9e45e9/博人传火影忍者新时代第32话.mp4#第33集$https://dow.dowlz6.com/20220812/7906_46250b4c/博人传火影忍者新时代第33话.mp4#第34集$https://dow.dowlz6.com/20220812/7905_810aa5b1/博人传火影忍者新时代第34话.mp4#第35集$https://dow.dowlz6.com/20220812/7909_7b01b97b/博人传火影忍者新时代第35话.mp4#第36集$https://dow.dowlz6.com/20220812/7907_2f84dc41/博人传火影忍者新时代第36话.mp4#第37集$https://dow.dowlz6.com/20220812/7908_31b5e37a/博人传火影忍者新时代第37话.mp4#第38集$https://dow.dowlz6.com/20220812/7911_6a40898c/博人传火影忍者新时代第38话.mp4#第39集$https://dow.dowlz6.com/20220812/7910_e4286ff8/博人传火影忍者新时代第39话.mp4#第40集$https://dow.dowlz6.com/20220812/7913_503e9443/博人传火影忍者新时代第40话.mp4#第41集$https://dow.dowlz6.com/20220812/7912_0cf2339d/博人传火影忍者新时代第41话.mp4#第42集$https://dow.dowlz6.com/20220812/7915_30203645/博人传火影忍者新时代第42话.mp4#第43集$https://dow.dowlz6.com/20220812/7914_f068ddc5/博人传火影忍者新时代第43话.mp4#第44集$https://dow.dowlz6.com/20220812/7916_21c3ff54/博人传火影忍者新时代第44话.mp4#第45集$https://dow.dowlz6.com/20220812/7917_4839d3ce/博人传火影忍者新时代第45话.mp4#第46集$https://dow.dowlz6.com/20220812/7918_c7138854/博人传火影忍者新时代第46话.mp4#第47集$https://dow.dowlz6.com/20220812/7920_56128d51/博人传火影忍者新时代第47话.mp4#第48集$https://dow.dowlz6.com/20220812/7919_4baaded9/博人传火影忍者新时代第48话.mp4#第49集$https://dow.dowlz6.com/20220812/7921_88d12292/博人传火影忍者新时代第49话.mp4#第50集$https://dow.dowlz6.com/20220812/7922_993a11b7/博人传火影忍者新时代第50话.mp4#第51集$https://dow.dowlz6.com/20220812/7924_a522af26/博人传火影忍者新时代第51话.mp4#第52集$https://dow.dowlz6.com/20220812/7923_a915a29f/博人传火影忍者新时代第52话.mp4#第53集$https://dow.dowlz6.com/20220812/7925_490ead83/博人传火影忍者新时代第53话.mp4#第54集$https://dow.dowlz6.com/20220812/7927_7da2572f/博人传火影忍者新时代第54话.mp4#第55集$https://dow.dowlz6.com/20220812/7928_b2e4ebe9/博人传火影忍者新时代第55话.mp4#第56集$https://dow.dowlz6.com/20220812/7926_0c5e49ca/博人传火影忍者新时代第56话.mp4#第57集$https://dow.dowlz6.com/20220812/7929_5c7bf563/博人传火影忍者新时代第57话.mp4#第58集$https://dow.dowlz6.com/20220812/7930_f9fd5ec9/博人传火影忍者新时代第58话.mp4#第59集$https://dow.dowlz6.com/20220812/7931_f444f32b/博人传火影忍者新时代第59话.mp4#第60集$https://dow.dowlz6.com/20220812/7934_9700f4d4/博人传火影忍者新时代第60话.mp4#第61集$https://dow.dowlz6.com/20220812/7932_92bea76b/博人传火影忍者新时代第61话.mp4#第62集$https://dow.dowlz6.com/20220812/7933_91ef17b0/博人传火影忍者新时代第62话.mp4#第63集$https://dow.dowlz6.com/20220812/7937_7a918acf/博人传火影忍者新时代第63话.mp4#第64集$https://dow.dowlz6.com/20220812/7936_c6a1fd13/博人传火影忍者新时代第64话.mp4#第65集$https://dow.dowlz6.com/20220812/7935_66ebaa69/博人传火影忍者新时代第65话.mp4#第66集$https://dow.dowlz6.com/20220812/7938_d1e27bce/博人传火影忍者新时代第66话.mp4#第67集$https://dow.dowlz6.com/20220812/7939_32e57308/博人传火影忍者新时代第67话.mp4#第68集$https://dow.dowlz6.com/20220812/7941_c196ada6/博人传火影忍者新时代第68话.mp4#第69集$https://dow.dowlz6.com/20220812/7940_5793ac7e/博人传火影忍者新时代第69话.mp4#第70集$https://dow.dowlz6.com/20220812/7942_80770a61/博人传火影忍者新时代第70话.mp4#第71集$https://dow.dowlz6.com/20220812/7943_4d7a05fa/博人传火影忍者新时代第71话.mp4#第72集$https://dow.dowlz6.com/20220812/7945_fe3a5b56/博人传火影忍者新时代第72话.mp4#第73集$https://dow.dowlz6.com/20220812/7944_8283bba2/博人传火影忍者新时代第73话.mp4#第74集$https://dow.dowlz6.com/20220812/7946_f079f623/博人传火影忍者新时代第74话.mp4#第75集$https://dow.dowlz6.com/20220812/7947_b8933a53/博人传火影忍者新时代第75话.mp4#第76集$https://dow.dowlz6.com/20220812/7948_aaadaafc/博人传火影忍者新时代第76话.mp4#第77集$https://dow.dowlz6.com/20220812/7949_feaa099c/博人传火影忍者新时代第77话.mp4#第78集$https://dow.dowlz6.com/20220812/7951_94d94468/博人传火影忍者新时代第78话.mp4#第79集$https://dow.dowlz6.com/20220812/7950_e8eaa70c/博人传火影忍者新时代第79话.mp4#第80集$https://dow.dowlz6.com/20220812/7952_a8c7acff/博人传火影忍者新时代第80话.mp4#第81集$https://dow.dowlz6.com/20220812/7954_d243b371/博人传火影忍者新时代第81话.mp4#第82集$https://dow.dowlz6.com/20220812/7953_552eb421/博人传火影忍者新时代第82话.mp4#第83集$https://dow.dowlz6.com/20220812/7955_210db86a/博人传火影忍者新时代第83话.mp4#第84集$https://dow.dowlz6.com/20220812/7961_bb257313/博人传火影忍者新时代第84话.mp4#第85集$https://dow.dowlz6.com/20220812/7956_b2bd4e19/博人传火影忍者新时代第85话.mp4#第86集$https://dow.dowlz6.com/20220812/7957_0c20d7d0/博人传火影忍者新时代第86话.mp4#第87集$https://dow.dowlz6.com/20220812/7959_2ca5b4e0/博人传火影忍者新时代第87话.mp4#第88集$https://dow.dowlz6.com/20220812/7958_d81add7d/博人传火影忍者新时代第88话.mp4#第89集$https://dow.dowlz6.com/20220812/7960_7400e2b0/博人传火影忍者新时代第89话.mp4#第90集$https://dow.dowlz6.com/20220812/7964_09cca282/博人传火影忍者新时代第90话.mp4#第91集$https://dow.dowlz6.com/20220812/7963_dbbc409e/博人传火影忍者新时代第91话.mp4#第92集$https://dow.dowlz6.com/20220812/7962_0d947a40/博人传火影忍者新时代第92话.mp4#第93集$https://dow.dowlz6.com/20220812/7965_e74b1259/博人传火影忍者新时代第93话.mp4#第94集$https://dow.dowlz6.com/20220812/7966_3789f3c6/博人传火影忍者新时代第94话.mp4#第95集$https://dow.dowlz6.com/20220812/7968_62033288/博人传火影忍者新时代第95话.mp4#第96集$https://dow.dowlz6.com/20220812/7967_88aaedc3/博人传火影忍者新时代第96话.mp4#第97集$https://dow.dowlz6.com/20220812/7969_772b8cb6/博人传火影忍者新时代第97话.mp4#第98集$https://dow.dowlz6.com/20220812/7970_c9923462/博人传火影忍者新时代第98话.mp4#第99集$https://dow.dowlz6.com/20220812/7972_1fc1c215/博人传火影忍者新时代第99话.mp4#第100集$https://dow.dowlz6.com/20220812/7971_68c68e91/博人传火影忍者新时代第100话.mp4#第101集$https://dow.dowlz6.com/20220812/7973_e89de541/博人传火影忍者新时代第101话.mp4#第102集$https://dow.dowlz6.com/20220812/7975_ce384c4d/博人传火影忍者新时代第102话.mp4#第103集$https://dow.dowlz6.com/20220812/7978_3a7689e0/博人传火影忍者新时代第103话.mp4#第104集$https://dow.dowlz6.com/20220812/7974_34b1a527/博人传火影忍者新时代第104话.mp4#第105集$https://dow.dowlz6.com/20220812/7976_93f97724/博人传火影忍者新时代第105话.mp4#第106集$https://dow.dowlz6.com/20220812/7977_80cdd95b/博人传火影忍者新时代第106话.mp4#第107集$https://dow.dowlz6.com/20220812/7981_b950bbb3/博人传火影忍者新时代第107话.mp4#第108集$https://dow.dowlz6.com/20220812/7979_f90fb0ec/博人传火影忍者新时代第108话.mp4#第109集$https://dow.dowlz6.com/20220812/7980_0f72b030/博人传火影忍者新时代第109话.mp4#第110集$https://dow.dowlz6.com/20220812/7982_50a15ec3/博人传火影忍者新时代第110话.mp4#第111集$https://dow.dowlz6.com/20220812/7983_02d091ef/博人传火影忍者新时代第111话.mp4#第112集$https://dow.dowlz6.com/20220812/7985_ef9382bb/博人传火影忍者新时代第112话.mp4#第113集$https://dow.dowlz6.com/20220812/7984_dd7f9c8b/博人传火影忍者新时代第113话.mp4#第114集$https://dow.dowlz6.com/20220812/7986_27874616/博人传火影忍者新时代第114话.mp4#第115集$https://dow.dowlz6.com/20220812/7988_4e62c8c3/博人传火影忍者新时代第115话.mp4#第116集$https://dow.dowlz6.com/20220812/7987_6b7b1dce/博人传火影忍者新时代第116话.mp4#第117集$https://dow.dowlz6.com/20220812/7989_74eb59f5/博人传火影忍者新时代第117话.mp4#第118集$https://dow.dowlz6.com/20220812/7992_ce229633/博人传火影忍者新时代第118话.mp4#第119集$https://dow.dowlz6.com/20220812/7990_f9b80ad5/博人传火影忍者新时代第119话.mp4#第120集$https://dow.dowlz6.com/20220812/7991_0d80f15c/博人传火影忍者新时代第120话.mp4#第121集$https://dow.dowlz6.com/20220812/7996_3429adbf/博人传火影忍者新时代第121话.mp4#第122集$https://dow.dowlz6.com/20220812/7993_b1f6b975/博人传火影忍者新时代第122话.mp4#第123集$https://dow.dowlz6.com/20220812/7997_eb478bc9/博人传火影忍者新时代第123话.mp4#第124集$https://dow.dowlz6.com/20220812/7994_89ecb176/博人传火影忍者新时代第124话.mp4#第125集$https://dow.dowlz6.com/20220812/7995_85180eb8/博人传火影忍者新时代第125话.mp4#第126集$https://dow.dowlz6.com/20220812/7999_66738b94/博人传火影忍者新时代第126话.mp4#第127集$https://dow.dowlz6.com/20220812/8000_be53ec04/博人传火影忍者新时代第127话.mp4#第128集$https://dow.dowlz6.com/20220812/7998_7008151e/博人传火影忍者新时代第128话.mp4#第129集$https://dow.dowlz6.com/20220812/8001_61267829/博人传火影忍者新时代第129话.mp4#第130集$https://dow.dowlz6.com/20220812/8002_7c923f20/博人传火影忍者新时代第130话.mp4#第131集$https://dow.dowlz6.com/20220812/8004_74d50b03/博人传火影忍者新时代第131话.mp4#第132集$https://dow.dowlz6.com/20220812/8003_222e26a7/博人传火影忍者新时代第132话.mp4#第133集$https://dow.dowlz6.com/20220812/8005_942826fd/博人传火影忍者新时代第133话.mp4#第134集$https://dow.dowlz6.com/20220812/8006_bfc7790f/博人传火影忍者新时代第134话.mp4#第135集$https://dow.dowlz6.com/20220812/8007_288d0eac/博人传火影忍者新时代第135话.mp4#第136集$https://dow.dowlz6.com/20220812/8008_8d9c6cd1/博人传火影忍者新时代第136话.mp4#第137集$https://dow.dowlz6.com/20220812/8009_307476cb/博人传火影忍者新时代第137话.mp4#第138集$https://dow.dowlz6.com/20220812/8010_45e09d25/博人传火影忍者新时代第138话.mp4#第139集$https://dow.dowlz6.com/20220812/8011_e0a5c9bd/博人传火影忍者新时代第139话.mp4#第140集$https://dow.dowlz6.com/20220812/8013_fee7f6a1/博人传火影忍者新时代第140话.mp4#第141集$https://dow.dowlz6.com/20220812/8012_3b78d76e/博人传火影忍者新时代第141话.mp4#第142集$https://dow.dowlz6.com/20220812/8014_0f1db30f/博人传火影忍者新时代第142话.mp4#第143集$https://dow.dowlz6.com/20220812/8016_558a47c7/博人传火影忍者新时代第143话.mp4#第144集$https://dow.dowlz6.com/20220812/8015_c5881840/博人传火影忍者新时代第144话.mp4#第145集$https://dow.dowlz6.com/20220812/8020_78f7faf8/博人传火影忍者新时代第145话.mp4#第146集$https://dow.dowlz6.com/20220812/8021_8460366d/博人传火影忍者新时代第146话.mp4#第147集$https://dow.dowlz6.com/20220812/8017_9dd2d5c7/博人传火影忍者新时代第147话.mp4#第148集$https://dow.dowlz6.com/20220812/8018_3c540343/博人传火影忍者新时代第148话.mp4#第149集$https://dow.dowlz6.com/20220812/8019_41622191/博人传火影忍者新时代第149话.mp4#第150集$https://dow.dowlz6.com/20220812/8023_6c48bcc5/博人传火影忍者新时代第150话.mp4#第151集$https://dow.dowlz6.com/20220812/8024_2589e59a/博人传火影忍者新时代第151话.mp4#第152集$https://dow.dowlz6.com/20220812/8022_22386a57/博人传火影忍者新时代第152话.mp4#第153集$https://dow.dowlz6.com/20220812/8025_3c58d52a/博人传火影忍者新时代第153话.mp4#第154集$https://dow.dowlz6.com/20220812/8026_dd533cf9/博人传火影忍者新时代第154话.mp4#第155集$https://dow.dowlz6.com/20220812/8028_00b18627/博人传火影忍者新时代第155话.mp4#第156集$https://dow.dowlz6.com/20220812/8027_cd7ce4c2/博人传火影忍者新时代第156话.mp4#第157集$https://dow.dowlz6.com/20220812/8029_89629a7b/博人传火影忍者新时代第157话.mp4#第158集$https://dow.dowlz6.com/20220812/8030_7d6852b9/博人传火影忍者新时代第158话.mp4#第159集$https://dow.dowlz6.com/20220812/8031_ff483bbb/博人传火影忍者新时代第159话.mp4#第160集$https://dow.dowlz6.com/20220812/8032_6e6dfc16/博人传火影忍者新时代第160话.mp4#第161集$https://dow.dowlz6.com/20220812/8033_d4af8bfb/博人传火影忍者新时代第161话.mp4#第162集$https://dow.dowlz6.com/20220812/8034_b5e15e1f/博人传火影忍者新时代第162话.mp4#第163集$https://dow.dowlz6.com/20220812/8035_20988278/博人传火影忍者新时代第163话.mp4#第164集$https://dow.dowlz6.com/20220812/8038_583d4d4b/博人传火影忍者新时代第164话.mp4#第165集$https://dow.dowlz6.com/20220812/8037_718ccd73/博人传火影忍者新时代第165话.mp4#第166集$https://dow.dowlz6.com/20220812/8036_07b9551a/博人传火影忍者新时代第166话.mp4#第167集$https://dow.dowlz6.com/20220812/8039_e5d6ae61/博人传火影忍者新时代第167话.mp4#第168集$https://dow.dowlz6.com/20220812/8040_6a35437e/博人传火影忍者新时代第168话.mp4#第169集$https://dow.dowlz6.com/20220812/8041_24c48a25/博人传火影忍者新时代第169话.mp4#第170集$https://dow.dowlz6.com/20220812/8042_b7b5a3db/博人传火影忍者新时代第170话.mp4#第171集$https://dow.dowlz6.com/20220812/8047_c9142382/博人传火影忍者新时代第171话.mp4#第172集$https://dow.dowlz6.com/20220812/8046_5c284654/博人传火影忍者新时代第172话.mp4#第173集$https://dow.dowlz6.com/20220812/8043_b0a0e71b/博人传火影忍者新时代第173话.mp4#第174集$https://dow.dowlz6.com/20220812/8044_587d54af/博人传火影忍者新时代第174话.mp4#第175集$https://dow.dowlz6.com/20220812/8045_6e062865/博人传火影忍者新时代第175话.mp4#第176集$https://dow.dowlz6.com/20220812/8052_97fa6614/博人传火影忍者新时代第176话.mp4#第177集$https://dow.dowlz6.com/20220812/8048_4910076c/博人传火影忍者新时代第177话.mp4#第178集$https://dow.dowlz6.com/20220812/8049_0a93e98a/博人传火影忍者新时代第178话.mp4#第179集$https://dow.dowlz6.com/20220812/8050_ae7b911e/博人传火影忍者新时代第179话.mp4#第180集$https://dow.dowlz6.com/20220812/8051_f8823beb/博人传火影忍者新时代第180话.mp4#第181集$https://dow.dowlz6.com/20220812/8054_13487251/博人传火影忍者新时代第181话.mp4#第182集$https://dow.dowlz6.com/20220812/8053_3ca38a72/博人传火影忍者新时代第182话.mp4#第183集$https://dow.dowlz6.com/20220812/8055_145cab3a/博人传火影忍者新时代第183话.mp4#第184集$https://dow.dowlz6.com/20220812/8056_382854e9/博人传火影忍者新时代第184话.mp4#第185集$https://dow.dowlz6.com/20220812/8057_c9201d9b/博人传火影忍者新时代第185话.mp4#第186集$https://dow.dowlz6.com/20220812/8058_76defbc7/博人传火影忍者新时代第186话.mp4#第187集$https://dow.dowlz6.com/20220812/8059_ada94f10/博人传火影忍者新时代第187话.mp4#第188集$https://dow.dowlz6.com/20220812/8060_524d9ba2/博人传火影忍者新时代第188话.mp4#第189集$https://dow.dowlz6.com/20220812/8063_23b64bc5/博人传火影忍者新时代第189话.mp4#第190集$https://dow.dowlz6.com/20220812/8061_41492fe4/博人传火影忍者新时代第190话.mp4#第191集$https://dow.dowlz6.com/20220812/8062_f53f1bdd/博人传火影忍者新时代第191话.mp4#第192集$https://dow.dowlz6.com/20220812/8064_3264e4e5/博人传火影忍者新时代第192话.mp4#第193集$https://dow.dowlz6.com/20220812/8067_f7f01d9b/博人传火影忍者新时代第193话.mp4#第194集$https://dow.dowlz6.com/20220812/8065_ac8cc02a/博人传火影忍者新时代第194话.mp4#第195集$https://dow.dowlz6.com/20220812/8066_6e9ef4a0/博人传火影忍者新时代第195话.mp4#第196集$https://dow.dowlz6.com/20220812/8068_35d8c16c/博人传火影忍者新时代第196话.mp4#第197集$https://dow.dowlz6.com/20220812/8071_a70e8f65/博人传火影忍者新时代第197话.mp4#第198集$https://dow.dowlz6.com/20220812/8070_7a4a917b/博人传火影忍者新时代第198话.mp4#第199集$https://dow.dowlz6.com/20220812/8069_e90573d1/博人传火影忍者新时代第199话.mp4#第200集$https://dow.dowlz6.com/20220812/8072_d8e1967a/博人传火影忍者新时代第200话.mp4#第201集$https://dow.dowlz6.com/20220812/8073_0d5af79c/博人传火影忍者新时代第201话.mp4#第202集$https://dow.dowlz6.com/20220812/8075_508f1d4e/博人传火影忍者新时代第202话.mp4#第203集$https://dow.dowlz6.com/20220812/8074_671e6d8a/博人传火影忍者新时代第203话.mp4#第204集$https://dow.dowlz6.com/20220812/8076_1a005611/博人传火影忍者新时代第204话.mp4#第205集$https://dow.dowlz6.com/20220812/8077_5e40eb0b/博人传火影忍者新时代第205话.mp4#第206集$https://dow.dowlz6.com/20220812/8080_b8ae06c1/博人传火影忍者新时代第206话.mp4#第207集$https://dow.dowlz6.com/20220812/8079_db28c422/博人传火影忍者新时代第207话.mp4#第208集$https://dow.dowlz6.com/20220812/8078_08ca394b/博人传火影忍者新时代第208话.mp4#第209集$https://dow.dowlz6.com/20220812/8081_e4a7883e/博人传火影忍者新时代第209话.mp4#第210集$https://dow.dowlz6.com/20220812/8082_879c5fe0/博人传火影忍者新时代第210话.mp4#第211集$https://dow.dowlz6.com/20220812/8084_427bb061/博人传火影忍者新时代第211话.mp4#第212集$https://dow.dowlz6.com/20220812/8083_be224f9b/博人传火影忍者新时代第212话.mp4#第213集$https://dow.dowlz6.com/20220812/8085_e381de77/博人传火影忍者新时代第213话.mp4#第214集$https://dow.dowlz6.com/20220812/8086_d2819cef/博人传火影忍者新时代第214话.mp4#第215集$https://dow.dowlz6.com/20220812/8088_f6e1aa55/博人传火影忍者新时代第215话.mp4#第216集$https://dow.dowlz6.com/20220812/8087_d79d3b8a/博人传火影忍者新时代第216话.mp4#第217集$https://dow.dowlz6.com/20220812/8089_8e1e31bd/博人传火影忍者新时代第217话.mp4#第218集$https://dow.dowlz6.com/20220812/8090_e116ccce/博人传火影忍者新时代第218话.mp4#第219集$https://dow.dowlz6.com/20220812/8091_d8c51a75/博人传火影忍者新时代第219话.mp4#第220集$https://dow.dowlz6.com/20220812/8092_f1d6fb94/博人传火影忍者新时代第220话.mp4#第221集$https://dow.dowlz6.com/20220812/8093_9b190f20/博人传火影忍者新时代第221话.mp4#第222集$https://dow.dowlz6.com/20220812/8094_ab382ac6/博人传火影忍者新时代第222话.mp4#第223集$https://dow.dowlz6.com/20220812/8095_1ac826db/博人传火影忍者新时代第223话.mp4#第224集$https://dow.dowlz6.com/20220812/8096_ae66754f/博人传火影忍者新时代第224话.mp4#第225集$https://dow.dowlz6.com/20220812/8097_3d4174d6/博人传火影忍者新时代第225话.mp4#第226集$https://dow.dowlz6.com/20220812/8100_2cf372e8/博人传火影忍者新时代第226话.mp4#第227集$https://dow.dowlz6.com/20220812/8099_8e213bed/博人传火影忍者新时代第227话.mp4#第228集$https://dow.dowlz6.com/20220812/8098_89ba5381/博人传火影忍者新时代第228话.mp4#第229集$https://dow.dowlz6.com/20220812/8103_79f68e5e/博人传火影忍者新时代第229话.mp4#第230集$https://dow.dowlz6.com/20220812/8101_c2d72a6a/博人传火影忍者新时代第230话.mp4#第231集$https://dow.dowlz6.com/20220812/8102_1b6730ec/博人传火影忍者新时代第231话.mp4#第232集$https://dow.dowlz6.com/20220812/8106_1e40a1a1/博人传火影忍者新时代第232话.mp4#第233集$https://dow.dowlz6.com/20220812/8105_ba95775c/博人传火影忍者新时代第233话.mp4#第234集$https://dow.dowlz6.com/20220812/8104_7bc19ae1/博人传火影忍者新时代第234话.mp4#第235集$https://dow.dowlz6.com/20220812/8107_dae68949/博人传火影忍者新时代第235话.mp4#第236集$https://dow.dowlz6.com/20220812/8109_681d5361/博人传火影忍者新时代第236话.mp4#第237集$https://dow.dowlz6.com/20220812/8111_e0af2f90/博人传火影忍者新时代第237话.mp4#第238集$https://dow.dowlz6.com/20220812/8110_f16b5f49/博人传火影忍者新时代第238话.mp4#第239集$https://dow.dowlz6.com/20220812/8108_e1be40e2/博人传火影忍者新时代第239话.mp4#第240集$https://dow.dowlz6.com/20220812/8112_c1856eb4/博人传火影忍者新时代第240话.mp4#第241集$https://dow.dowlz6.com/20220812/8114_460f7b00/博人传火影忍者新时代第241话.mp4#第242集$https://dow.dowlz6.com/20220812/8113_b0eca575/博人传火影忍者新时代第242话.mp4#第243集$https://dow.dowlz6.com/20220812/8117_2efd819a/博人传火影忍者新时代第243话.mp4#第244集$https://dow.dowlz6.com/20220812/8116_44c5430b/博人传火影忍者新时代第244话.mp4#第245集$https://dow.dowlz6.com/20220812/8115_312064ce/博人传火影忍者新时代第245话.mp4#第246集$https://dow.dowlz6.com/20220812/8118_f177b957/博人传火影忍者新时代第246话.mp4#第247集$https://dow.dowlz6.com/20220812/8119_c96c3eab/博人传火影忍者新时代第247话.mp4#第248集$https://dow.dowlz6.com/20220812/8122_ea1cf66a/博人传火影忍者新时代第248话.mp4#第249集$https://dow.dowlz6.com/20220812/8123_53600d18/博人传火影忍者新时代第249话.mp4#第250集$https://dow.dowlz6.com/20220812/8121_be7d26cc/博人传火影忍者新时代第250话.mp4#第251集$https://dow.dowlz6.com/20220812/8120_cc927b10/博人传火影忍者新时代第251话.mp4#第252集$https://dow.dowlz6.com/20220812/8124_ab5b98fe/博人传火影忍者新时代第252话.mp4#第253集$https://dow.dowlz6.com/20220814/8270_1ca01c2f/博人传火影忍者新时代第253话.mp4#第254集$https://dow.dowlz6.com/20220821/8734_039ae79c/博人传火影忍者新时代第254话.mp4#第255集$https://dow.dowlz6.com/20220828/9222_385d29de/博人传火影忍者新时代第255话.mp4#第256集$https://dow.dowlz6.com/20220904/10541_2a835c1d/博人传火影忍者新时代第256话.mp4#第257集$https://dow.dowlz6.com/20220911/11190_b3419683/博人传火影忍者新时代第257话.mp4#第258集$https://dow.dowlz6.com/20220918/11636_a30a19db/博人传火影忍者新时代第258话.mp4#第259集$https://dow.dowlz6.com/20220925/12100_9ae383c0/博人传火影忍者新时代第259话.mp4#第260集$https://dow.dowlz6.com/20221002/12555_688ab497/博人传火影忍者新时代第260话.mp4#第261集$https://dow.dowlz6.com/20221009/12989_0b20390c/博人传火影忍者新时代第261话.mp4#第262集$https://dow.dowlz6.com/20221016/13369_708df88a/博人传火影忍者新时代第262话.mp4#第263集$https://dow.dowlz6.com/20221023/13767_14b92549/博人传火影忍者新时代第263话.mp4#第264集$https://dow.dowlz6.com/20221030/14204_186b0051/博人传火影忍者新时代第264话.mp4#第265集$https://dow.dowlz6.com/20221106/14569_e3107d7e/博人传火影忍者新时代第265话.mp4#第266集$https://dow.dowlz6.com/20221113/14803_73532f0c/博人传火影忍者新时代第266话.mp4#第267集$https://dow.dowlz6.com/20221120/15174_ba114e14/博人传火影忍者新时代第267话.mp4#第268集$https://dow.dowlz6.com/20221127/15522_f32ccb64/博人传火影忍者新时代第268话.mp4#第269集$https://dow.dowlz6.com/20221204/15887_ffacf515/博人传火影忍者新时代第269话.mp4#第270集$https://dow.dowlz6.com/20221211/16251_82f8a385/博人传火影忍者新时代第270话.mp4#第271集$https://dow.dowlz6.com/20221218/16585_db3ee507/博人传火影忍者新时代第271话.mp4#第272集$https://dow.dowlz6.com/20221225/16536_6000db16/博人传火影忍者新时代第272话.mp4#第273集$https://dow.dowlz6.com/20230101/16836_68c69cc7/博人传火影忍者新时代第273话.mp4#第274集$https://dow.dowlz6.com/20230108/17007_6688213b/博人传火影忍者新时代第274话.mp4#第275集$https://dow.dowlz6.com/20230115/17408_c730d2f2/博人传火影忍者新时代第275话.mp4#第276集$https://dow.dowlz6.com/20230122/17826_2c361d16/博人传火影忍者新时代第276话.mp4#第277集$https://dow.dowlz6.com/20230129/18181_a5facf71/博人传火影忍者新时代第277集.mp4#第278集$https://dow.dowlz6.com/20230205/18521_b360ae31/博人传火影忍者新时代第278集.mp4#第279集$https://dow.dowlz6.com/20230212/18857_277a3aba/博人传火影忍者新时代第279集.mp4#第280集$https://dow.dowlz6.com/20230219/19215_1329dc77/博人传火影忍者新时代第280集.mp4#第281集$https://dow.dowlz6.com/20230305/19923_18ae0b6d/博人传火影忍者新时代第281集.mp4#第282集$https://dow.dowlz6.com/20230312/20276_b014dcf7/博人传火影忍者新时代第282集.mp4#第283集$https://dow.dowlz6.com/20230319/20646_c7c55411/博人传火影忍者新时代第283集.mp4#第284集$https://dow.dowlz6.com/20230326/20948_9e025a75/博人传火影忍者新时代第284集.mp4#第285集$https://dow.dowlz6.com/20230402/21293_47ea3b06/博人传火影忍者新时代第285集.mp4#第286集$https://dow.dowlz6.com/20230409/21593_1145a5eb/博人传火影忍者新时代第286集.mp4#第287集$https://dow.dowlz6.com/20230416/21908_79e78136/博人传火影忍者新时代第287集.mp4#第288集$https://dow.dowlz6.com/20230423/22283_96c3fae0/博人传火影忍者新时代第288集.mp4#第289集$https://dow.dowlz6.com/20230430/22649_7944b080/博人传火影忍者新时代第289集.mp4#\";var downarr=downurls.split('#');var downinfo,ys_url,thunder_url,qq_url,yb_url,str;for(i=0;i<downarr.length-1;i++){downinfo = downarr[i].split('$');ys_url=urlconvert(downinfo[1],'ys');thunder_url=urlconvert(ys_url,'xl');qq_url=urlconvert(ys_url,'qq');yb_url = thunder_url;if(ys_url.indexOf('ed2k')>-1 || ys_url.indexOf('magnet')>-1){yb_url = encodeURIComponent(decodeURIComponent(ys_url));}str = '<LI id=\"li1_'+downinfo[0]+'\"><DIV class=\"adds\"><INPUT name=\"CopyAddr1\" class=\"1addr\" style=\"VERTICAL-ALIGN: middle\" type=\"checkbox\" value=\"' + thunder_url + '\"><DIV><SPAN id=\"s1p'+downinfo[0]+'\"><A title=\"'+downinfo[0]+'\" href=\"' + thunder_url + '\" target=\"_self\">'+downinfo[0]+'</A></SPAN><INPUT id=\"lin1k'+downinfo[0]+'\" style=\"WIDTH: 445px; VERTICAL-ALIGN: middle\" type=\"text\" value=\"' + thunder_url + '\"></DIV></DIV><DIV class=\"dwon_xl\"><a class=\"dwon2\" id=\"1thUrlid'+downinfo[0]+'\" href=\"' + thunder_url + '\" thunderHref=\"' + thunder_url + '\" thunderPid=\"38042\" thunderResTitle=\"\" class=\"thunder\" title=\"火影忍者：博人传之次世代继承者迅雷下载\">迅雷下载</a></DIV><DIV class=\"dwon_tx\"><a target=\"_self\" href=\"' + downinfo[1] + '\" onclick=\"XFLIB.startDownload(this,event,21590)\" oncontextmenu=\"OnContextClick(this, event)\" class=\"thunder\" title=\"火影忍者：博人传之次世代继承者mp4下载\">直接下载</a></DIV></LI>';document.write(str);}</script></ul><div class=\"ckall\"><span><input id=\"allcheck1\" name=\"checkall\" onclick=\"CheckAll(1)\" type=\"checkbox\"><em>全选</em></input></span><p><a href=\"javascript:void(0);\" onclick=\"thunderBatchTask(1)\" target=\"_self\">迅雷下载选中的文件</a></p></div></div></div></div><p><a href=\"/play-1295-1-1.html\" title=\"火影忍者：博人传之次世代继承者全集免费观看\">火影忍者：博人传之次世代继承者全集免费观看</a>,<a href=\"/play-1295-1-1.html\" title=\"火影忍者：博人传之次世代继承者完整版在哪里看\">火影忍者：博人传之次世代继承者完整版在哪里看</a>,<a href=\"/play-1295-1-1.html\" title=\"火影忍者：博人传之次世代继承者迅雷下载\">火影忍者：博人传之次世代继承者迅雷下载</a>,<a href=\"/play-1295-1-1.html\" title=\"火影忍者：博人传之次世代继承者mp4下载\">火影忍者：博人传之次世代继承者mp4下载</a>,<a href=\"/play-1295-1-1.html\" title=\"火影忍者：博人传之次世代继承者什么时候上映的\">火影忍者：博人传之次世代继承者什么时候上映的</a>,<a href=\"/play-1295-1-1.html\" title=\"火影忍者：博人传之次世代继承者豆瓣免费视频\">火影忍者：博人传之次世代继承者豆瓣免费视频</a>,<a href=\"/play-1295-1-1.html\" title=\"火影忍者：博人传之次世代继承者主题曲是什么歌\">火影忍者：博人传之次世代继承者主题曲是什么歌</a>,<a href=\"/play-1295-1-1.html\" title=\"火影忍者：博人传之次世代继承者还有第二部吗\">火影忍者：博人传之次世代继承者还有第二部吗</a>,<a href=\"/play-1295-1-1.html\" title=\"火影忍者：博人传之次世代继承者首播在那里播出\">火影忍者：博人传之次世代继承者首播在那里播出</a>,<a href=\"/play-1295-1-1.html\" title=\"火影忍者：博人传之次世代继承者结局怎么样\">火影忍者：博人传之次世代继承者结局怎么样</a>,<a href=\"/play-1295-1-1.html\" title=\"火影忍者：博人传之次世代继承者的评价怎么样\">火影忍者：博人传之次世代继承者的评价怎么样</a>,<a href=\"/play-1295-1-1.html\" title=\"火影忍者：博人传之次世代继承者预告片\">火影忍者：博人传之次世代继承者预告片</a>,<a href=\"/play-1295-1-1.html\" title=\"火影忍者：博人传之次世代继承者图片\">火影忍者：博人传之次世代继承者图片</a>,<a href=\"/play-1295-1-1.html\" title=\"火影忍者：博人传之次世代继承者剧情分集介绍\">火影忍者：博人传之次世代继承者剧情分集介绍</a>,<a href=\"/play-1295-1-1.html\" title=\"火影忍者：博人传之次世代继承者是小说改编的吗\">火影忍者：博人传之次世代继承者是小说改编的吗</a>,<a href=\"/play-1295-1-1.html\" title=\"火影忍者：博人传之次世代继承者大结局\">火影忍者：博人传之次世代继承者大结局</a>,<a href=\"/play-1295-1-1.html\" title=\"火影忍者：博人传之次世代继承者百度百科\">火影忍者：博人传之次世代继承者百度百科</a>,<a href=\"/play-1295-1-1.html\" title=\"火影忍者：博人传之次世代继承者小说全文免费阅读\">火影忍者：博人传之次世代继承者小说全文免费阅读</a>,<a href=\"/play-1295-1-1.html\" title=\"火影忍者：博人传之次世代继承者说的是什么\">火影忍者：博人传之次世代继承者说的是什么</a>,<a href=\"/play-1295-1-1.html\" title=\"火影忍者：博人传之次世代继承者小说原著叫什么\">火影忍者：博人传之次世代继承者小说原著叫什么</a>,<a href=\"/play-1295-1-1.html\" title=\"火影忍者：博人传之次世代继承者完整版电影在哪里看\">火影忍者：博人传之次世代继承者完整版电影在哪里看</a>,<a href=\"/play-1295-1-1.html\" title=\"火影忍者：博人传之次世代继承者无删减全集哪里有\">火影忍者：博人传之次世代继承者无删减全集哪里有</a>,<a href=\"/play-1295-1-1.html\" title=\"火影忍者：博人传之次世代继承者有动漫吗\">火影忍者：博人传之次世代继承者有动漫吗</a>,<a href=\"/play-1295-1-1.html\" title=\"火影忍者：博人传之次世代继承者高清完整版在哪里看\">火影忍者：博人传之次世代继承者高清完整版在哪里看</a>,<a href=\"/play-1295-1-1.html\" title=\"火影忍者：博人传之次世代继承者总共有多少集\">火影忍者：博人传之次世代继承者总共有多少集</a>,<a href=\"/play-1295-1-1.html\" title=\"火影忍者：博人传之次世代继承者正版免费观看\">火影忍者：博人传之次世代继承者正版免费观看</a>,<a href=\"/play-1295-1-1.html\" title=\"火影忍者：博人传之次世代继承者无删减在线免费播放\">火影忍者：博人传之次世代继承者无删减在线免费播放</a>,<a href=\"/play-1295-1-1.html\" title=\"火影忍者：博人传之次世代继承者完整版全集下载\">火影忍者：博人传之次世代继承者完整版全集下载</a>,<a href=\"/play-1295-1-1.html\" title=\"火影忍者：博人传之次世代继承者哪里或哪集最好看\">火影忍者：博人传之次世代继承者哪里或哪集最好看</a>,<a href=\"/play-1295-1-1.html\" title=\"火影忍者：博人传之次世代继承者大结局好不好看\">火影忍者：博人传之次世代继承者大结局好不好看</a></p></div><span alt=\"设置内容页浏览记录\" class=\"mac_ulog_set\" data-id=\"1295\" data-mid=\"1\" data-nid=\"0\" data-sid=\"0\" data-type=\"1\" style=\"display:none\"></span></section><footer class=\"footer\"><em><a href=\"https://www.kdianying.net\">K电影</a></em><p>免责声明：本网站所有内容都是在互联网上搜集而来，仅供测试和学习交流。<br/></p><p>若侵犯了您的权益，请即时发邮件 <a class=\"__cf_email__\" data-cfemail=\"0e6f6a6367604e656a676f607767606920606b7a\" href=\"/cdn-cgi/l/email-protection\">[email protected]</a> 通知站长删除 万分感谢！</p><a href=\"/rss/baidu.xml\" title=\"百度sitemap\">百度sitemap</a>，<a href=\"/rss/bing.xml\" title=\"必应sitemap\">必应sitemap</a>，<a href=\"/rss/google.xml\" title=\"谷歌sitemap\">谷歌sitemap</a>，<a href=\"/rss/sm.xml\" title=\"神马sitemap\">神马sitemap</a>，<a href=\"/rss/so.xml\" title=\"360sitemap\">360sitemap</a>，<a href=\"/rss/sogou.xml\" title=\"搜狗sitemap\">搜狗sitemap</a>，<script data-cfasync=\"false\" src=\"/cdn-cgi/scripts/5c5dd728/cloudflare-static/email-decode.min.js\"></script><script>var _hmt = _hmt || [];(function() { var hm = document.createElement(\"script\"); hm.src =\"https://hm.baidu.com/hm.js?b36220670bd093c9bbb426a2da023192\"; var s = document.getElementsByTagName(\"script\")[0]; s.parentNode.insertBefore(hm, s);})();</script><a href=\"/rss/index.xml\" title=\"sitemap\">sitemap</a></footer><script>(function(){ var bp = document.createElement('script'); var curProtocol = window.location.protocol.split(':')[0]; if (curProtocol === 'https') { bp.src = 'https://zz.bdstatic.com/linksubmit/push.js'; } else { bp.src = 'http://push.zhanzhang.baidu.com/push.js'; } var s = document.getElementsByTagName(\"script\")[0]; s.parentNode.insertBefore(bp, s);})();</script></body></html>\n"
     ]
    },
    {
     "ename": "AttributeError",
     "evalue": "'NoneType' object has no attribute 'startswith'",
     "output_type": "error",
     "traceback": [
      "\u001b[0;31m---------------------------------------------------------------------------\u001b[0m",
      "\u001b[0;31mAttributeError\u001b[0m                            Traceback (most recent call last)",
      "Cell \u001b[0;32mIn[4], line 19\u001b[0m\n\u001b[1;32m     17\u001b[0m \u001b[39m# 使用示例\u001b[39;00m\n\u001b[1;32m     18\u001b[0m url \u001b[39m=\u001b[39m \u001b[39m'\u001b[39m\u001b[39mhttps://www.kdianying.net/detail-1295.html\u001b[39m\u001b[39m'\u001b[39m  \u001b[39m# 替换为你的目标URL\u001b[39;00m\n\u001b[0;32m---> 19\u001b[0m magnet_links \u001b[39m=\u001b[39m get_magnet_links(url)\n\u001b[1;32m     20\u001b[0m \u001b[39mprint\u001b[39m(magnet_links)\n",
      "Cell \u001b[0;32mIn[4], line 12\u001b[0m, in \u001b[0;36mget_magnet_links\u001b[0;34m(url)\u001b[0m\n\u001b[1;32m     10\u001b[0m \u001b[39mfor\u001b[39;00m link \u001b[39min\u001b[39;00m soup\u001b[39m.\u001b[39mfind_all(\u001b[39m'\u001b[39m\u001b[39ma\u001b[39m\u001b[39m'\u001b[39m):\n\u001b[1;32m     11\u001b[0m     href \u001b[39m=\u001b[39m link\u001b[39m.\u001b[39mget(\u001b[39m'\u001b[39m\u001b[39mhref\u001b[39m\u001b[39m'\u001b[39m)\n\u001b[0;32m---> 12\u001b[0m     \u001b[39mif\u001b[39;00m href\u001b[39m.\u001b[39;49mstartswith(\u001b[39m'\u001b[39m\u001b[39mthunder://QUF\u001b[39m\u001b[39m'\u001b[39m):\n\u001b[1;32m     13\u001b[0m         magnet_links\u001b[39m.\u001b[39mappend(href)\n\u001b[1;32m     15\u001b[0m \u001b[39mreturn\u001b[39;00m magnet_links\n",
      "\u001b[0;31mAttributeError\u001b[0m: 'NoneType' object has no attribute 'startswith'"
     ]
    }
   ],
   "source": [
    "import requests\n",
    "from bs4 import BeautifulSoup\n",
    "\n",
    "def get_magnet_links(url):\n",
    "    response = requests.get(url)\n",
    "    soup = BeautifulSoup(response.content, 'html.parser')\n",
    "    print(soup)\n",
    "    magnet_links = []\n",
    "\n",
    "    for link in soup.find_all('a'):\n",
    "        href = link.get('href')\n",
    "        if href.startswith('thunder://QUF'):\n",
    "            magnet_links.append(href)\n",
    "\n",
    "    return magnet_links\n",
    "\n",
    "# 使用示例\n",
    "url = 'https://www.kdianying.net/detail-1295.html'  # 替换为你的目标URL\n",
    "magnet_links = get_magnet_links(url)\n",
    "print(magnet_links)\n"
   ]
  },
  {
   "cell_type": "code",
   "execution_count": null,
   "metadata": {},
   "outputs": [
    {
     "ename": "NameError",
     "evalue": "name 'soup' is not defined",
     "output_type": "error",
     "traceback": [
      "\u001b[0;31m---------------------------------------------------------------------------\u001b[0m",
      "\u001b[0;31mNameError\u001b[0m                                 Traceback (most recent call last)",
      "Cell \u001b[0;32mIn[2], line 1\u001b[0m\n\u001b[0;32m----> 1\u001b[0m soup\n",
      "\u001b[0;31mNameError\u001b[0m: name 'soup' is not defined"
     ]
    }
   ],
   "source": [
    "soup"
   ]
  },
  {
   "cell_type": "code",
   "execution_count": null,
   "metadata": {},
   "outputs": [
    {
     "data": {
      "text/html": [
       "<a href=\"magnet:?xt=urn:btih:5c33f2fe5ab808be3e3f5f8ccb08d1f5ce2950db&dn=火影忍者 博人传之火影次世代293.mp4&tr=http://t.t789.me:2710/announce&tr=http://t.t789.co:2710/announce&tr=http://t.t789.vip:2710/announce\">magnet:?xt=urn:btih:5c33f2fe5ab808be3e3f5f8ccb08d1f5ce2950db&dn=火影忍者 博人传之火影次世代293.mp4&tr=http://t.t789.me:2710/announce&tr=http://t.t789.co:2710/announce&tr=http://t.t789.vip:2710/announce</a><br>"
      ],
      "text/plain": [
       "<IPython.core.display.HTML object>"
      ]
     },
     "metadata": {},
     "output_type": "display_data"
    },
    {
     "data": {
      "text/html": [
       "<a href=\"magnet:?xt=urn:btih:1ac8bbd285bf5d757a434c6ba246144697a93b49&dn=火影忍者 博人传之火影次世代292.mp4\r&tr=http://t.t789.me:2710/announce&tr=http://t.t789.co:2710/announce&tr=http://t.t789.vip:2710/announce\">magnet:?xt=urn:btih:1ac8bbd285bf5d757a434c6ba246144697a93b49&dn=火影忍者 博人传之火影次世代292.mp4\r&tr=http://t.t789.me:2710/announce&tr=http://t.t789.co:2710/announce&tr=http://t.t789.vip:2710/announce</a><br>"
      ],
      "text/plain": [
       "<IPython.core.display.HTML object>"
      ]
     },
     "metadata": {},
     "output_type": "display_data"
    },
    {
     "data": {
      "text/html": [
       "<a href=\"magnet:?xt=urn:btih:1b7cf80fb8971482c1bc2ecedc1b6a2d1028c950&dn=火影忍者 博人传之火影次世代291.mp4\r&tr=http://t.t789.me:2710/announce&tr=http://t.t789.co:2710/announce&tr=http://t.t789.vip:2710/announce\">magnet:?xt=urn:btih:1b7cf80fb8971482c1bc2ecedc1b6a2d1028c950&dn=火影忍者 博人传之火影次世代291.mp4\r&tr=http://t.t789.me:2710/announce&tr=http://t.t789.co:2710/announce&tr=http://t.t789.vip:2710/announce</a><br>"
      ],
      "text/plain": [
       "<IPython.core.display.HTML object>"
      ]
     },
     "metadata": {},
     "output_type": "display_data"
    },
    {
     "data": {
      "text/html": [
       "<a href=\"magnet:?xt=urn:btih:6c33fc39e8d999cbf702b6e0078675dd4f064d94&dn=火影忍者 博人传之火影次世代290.mp4\r&tr=http://t.t789.me:2710/announce&tr=http://t.t789.co:2710/announce&tr=http://t.t789.vip:2710/announce\">magnet:?xt=urn:btih:6c33fc39e8d999cbf702b6e0078675dd4f064d94&dn=火影忍者 博人传之火影次世代290.mp4\r&tr=http://t.t789.me:2710/announce&tr=http://t.t789.co:2710/announce&tr=http://t.t789.vip:2710/announce</a><br>"
      ],
      "text/plain": [
       "<IPython.core.display.HTML object>"
      ]
     },
     "metadata": {},
     "output_type": "display_data"
    },
    {
     "data": {
      "text/html": [
       "<a href=\"magnet:?xt=urn:btih:d7f9b4e672c1141728f0b904485ace3e7be2870a&dn=火影忍者 博人传之火影次世代289.mp4\r&tr=http://t.t789.me:2710/announce&tr=http://t.t789.co:2710/announce&tr=http://t.t789.vip:2710/announce\">magnet:?xt=urn:btih:d7f9b4e672c1141728f0b904485ace3e7be2870a&dn=火影忍者 博人传之火影次世代289.mp4\r&tr=http://t.t789.me:2710/announce&tr=http://t.t789.co:2710/announce&tr=http://t.t789.vip:2710/announce</a><br>"
      ],
      "text/plain": [
       "<IPython.core.display.HTML object>"
      ]
     },
     "metadata": {},
     "output_type": "display_data"
    },
    {
     "data": {
      "text/html": [
       "<a href=\"magnet:?xt=urn:btih:010c20d80792e857d5b957505dadc49f661a62c9&dn=火影忍者 博人传之火影次世代288.mp4\r&tr=http://t.t789.me:2710/announce&tr=http://t.t789.co:2710/announce&tr=http://t.t789.vip:2710/announce\">magnet:?xt=urn:btih:010c20d80792e857d5b957505dadc49f661a62c9&dn=火影忍者 博人传之火影次世代288.mp4\r&tr=http://t.t789.me:2710/announce&tr=http://t.t789.co:2710/announce&tr=http://t.t789.vip:2710/announce</a><br>"
      ],
      "text/plain": [
       "<IPython.core.display.HTML object>"
      ]
     },
     "metadata": {},
     "output_type": "display_data"
    },
    {
     "data": {
      "text/html": [
       "<a href=\"magnet:?xt=urn:btih:88349fe9bdffbddff17dddfb9390171bd99034ff&dn=火影忍者 博人传之火影次世代287.mp4\r&tr=http://t.t789.me:2710/announce&tr=http://t.t789.co:2710/announce&tr=http://t.t789.vip:2710/announce\">magnet:?xt=urn:btih:88349fe9bdffbddff17dddfb9390171bd99034ff&dn=火影忍者 博人传之火影次世代287.mp4\r&tr=http://t.t789.me:2710/announce&tr=http://t.t789.co:2710/announce&tr=http://t.t789.vip:2710/announce</a><br>"
      ],
      "text/plain": [
       "<IPython.core.display.HTML object>"
      ]
     },
     "metadata": {},
     "output_type": "display_data"
    },
    {
     "data": {
      "text/html": [
       "<a href=\"magnet:?xt=urn:btih:fc53a3a2ab6d430013093937161fb5a12957f7c4&dn=火影忍者 博人传之火影次世代286.mp4\r&tr=http://t.t789.me:2710/announce&tr=http://t.t789.co:2710/announce&tr=http://t.t789.vip:2710/announce\">magnet:?xt=urn:btih:fc53a3a2ab6d430013093937161fb5a12957f7c4&dn=火影忍者 博人传之火影次世代286.mp4\r&tr=http://t.t789.me:2710/announce&tr=http://t.t789.co:2710/announce&tr=http://t.t789.vip:2710/announce</a><br>"
      ],
      "text/plain": [
       "<IPython.core.display.HTML object>"
      ]
     },
     "metadata": {},
     "output_type": "display_data"
    },
    {
     "data": {
      "text/html": [
       "<a href=\"magnet:?xt=urn:btih:8099e3aab2072a11da47c0313bbe3ef0c8204eaf&dn=火影忍者 博人传之火影次世代285.mp4\r&tr=http://t.t789.me:2710/announce&tr=http://t.t789.co:2710/announce&tr=http://t.t789.vip:2710/announce\">magnet:?xt=urn:btih:8099e3aab2072a11da47c0313bbe3ef0c8204eaf&dn=火影忍者 博人传之火影次世代285.mp4\r&tr=http://t.t789.me:2710/announce&tr=http://t.t789.co:2710/announce&tr=http://t.t789.vip:2710/announce</a><br>"
      ],
      "text/plain": [
       "<IPython.core.display.HTML object>"
      ]
     },
     "metadata": {},
     "output_type": "display_data"
    },
    {
     "data": {
      "text/html": [
       "<a href=\"magnet:?xt=urn:btih:add3ee928508f78fd92516a0ad918d49af4d6e07&dn=火影忍者 博人传之火影次世代284.mp4\r&tr=http://t.t789.me:2710/announce&tr=http://t.t789.co:2710/announce&tr=http://t.t789.vip:2710/announce\">magnet:?xt=urn:btih:add3ee928508f78fd92516a0ad918d49af4d6e07&dn=火影忍者 博人传之火影次世代284.mp4\r&tr=http://t.t789.me:2710/announce&tr=http://t.t789.co:2710/announce&tr=http://t.t789.vip:2710/announce</a><br>"
      ],
      "text/plain": [
       "<IPython.core.display.HTML object>"
      ]
     },
     "metadata": {},
     "output_type": "display_data"
    },
    {
     "data": {
      "text/html": [
       "<a href=\"magnet:?xt=urn:btih:aeb9d0c675015282b127cc16273967d421602f60&dn=火影忍者 博人传之火影次世代283.mp4\r&tr=http://t.t789.me:2710/announce&tr=http://t.t789.co:2710/announce&tr=http://t.t789.vip:2710/announce\">magnet:?xt=urn:btih:aeb9d0c675015282b127cc16273967d421602f60&dn=火影忍者 博人传之火影次世代283.mp4\r&tr=http://t.t789.me:2710/announce&tr=http://t.t789.co:2710/announce&tr=http://t.t789.vip:2710/announce</a><br>"
      ],
      "text/plain": [
       "<IPython.core.display.HTML object>"
      ]
     },
     "metadata": {},
     "output_type": "display_data"
    },
    {
     "data": {
      "text/html": [
       "<a href=\"magnet:?xt=urn:btih:fc74db18875b982ce2e6365599a5199c7b1e49b5&dn=火影忍者 博人传之火影次世代282.mp4\r&tr=http://t.t789.me:2710/announce&tr=http://t.t789.co:2710/announce&tr=http://t.t789.vip:2710/announce\">magnet:?xt=urn:btih:fc74db18875b982ce2e6365599a5199c7b1e49b5&dn=火影忍者 博人传之火影次世代282.mp4\r&tr=http://t.t789.me:2710/announce&tr=http://t.t789.co:2710/announce&tr=http://t.t789.vip:2710/announce</a><br>"
      ],
      "text/plain": [
       "<IPython.core.display.HTML object>"
      ]
     },
     "metadata": {},
     "output_type": "display_data"
    },
    {
     "data": {
      "text/html": [
       "<a href=\"magnet:?xt=urn:btih:9dbe273322a383b503c572a31968c667b9f43473&dn=火影忍者 博人传之火影次世代281.mp4\r&tr=http://t.t789.me:2710/announce&tr=http://t.t789.co:2710/announce&tr=http://t.t789.vip:2710/announce\">magnet:?xt=urn:btih:9dbe273322a383b503c572a31968c667b9f43473&dn=火影忍者 博人传之火影次世代281.mp4\r&tr=http://t.t789.me:2710/announce&tr=http://t.t789.co:2710/announce&tr=http://t.t789.vip:2710/announce</a><br>"
      ],
      "text/plain": [
       "<IPython.core.display.HTML object>"
      ]
     },
     "metadata": {},
     "output_type": "display_data"
    },
    {
     "data": {
      "text/html": [
       "<a href=\"magnet:?xt=urn:btih:b3b501637000a8e47dfc8dabc36a8bc2a5932760&dn=火影忍者 博人传之火影次世代280.mp4\r&tr=http://t.t789.me:2710/announce&tr=http://t.t789.co:2710/announce&tr=http://t.t789.vip:2710/announce\">magnet:?xt=urn:btih:b3b501637000a8e47dfc8dabc36a8bc2a5932760&dn=火影忍者 博人传之火影次世代280.mp4\r&tr=http://t.t789.me:2710/announce&tr=http://t.t789.co:2710/announce&tr=http://t.t789.vip:2710/announce</a><br>"
      ],
      "text/plain": [
       "<IPython.core.display.HTML object>"
      ]
     },
     "metadata": {},
     "output_type": "display_data"
    },
    {
     "data": {
      "text/html": [
       "<a href=\"magnet:?xt=urn:btih:e003322519d8d82dbcb6b180410547f8fcf8a7b4&dn=火影忍者 博人传之火影次世代279.mp4\r&tr=http://t.t789.me:2710/announce&tr=http://t.t789.co:2710/announce&tr=http://t.t789.vip:2710/announce\">magnet:?xt=urn:btih:e003322519d8d82dbcb6b180410547f8fcf8a7b4&dn=火影忍者 博人传之火影次世代279.mp4\r&tr=http://t.t789.me:2710/announce&tr=http://t.t789.co:2710/announce&tr=http://t.t789.vip:2710/announce</a><br>"
      ],
      "text/plain": [
       "<IPython.core.display.HTML object>"
      ]
     },
     "metadata": {},
     "output_type": "display_data"
    },
    {
     "data": {
      "text/html": [
       "<a href=\"magnet:?xt=urn:btih:148eaba9728c781c46ff70bc287d8c4c86329331&dn=火影忍者 博人传之火影次世代278.mp4\r&tr=http://t.t789.me:2710/announce&tr=http://t.t789.co:2710/announce&tr=http://t.t789.vip:2710/announce\">magnet:?xt=urn:btih:148eaba9728c781c46ff70bc287d8c4c86329331&dn=火影忍者 博人传之火影次世代278.mp4\r&tr=http://t.t789.me:2710/announce&tr=http://t.t789.co:2710/announce&tr=http://t.t789.vip:2710/announce</a><br>"
      ],
      "text/plain": [
       "<IPython.core.display.HTML object>"
      ]
     },
     "metadata": {},
     "output_type": "display_data"
    },
    {
     "data": {
      "text/html": [
       "<a href=\"magnet:?xt=urn:btih:f342beedf8bcd1f35a31b43adb099f8a5b2db7bb&dn=火影忍者 博人传之火影次世代277.mp4\r&tr=http://t.t789.me:2710/announce&tr=http://t.t789.co:2710/announce&tr=http://t.t789.vip:2710/announce\">magnet:?xt=urn:btih:f342beedf8bcd1f35a31b43adb099f8a5b2db7bb&dn=火影忍者 博人传之火影次世代277.mp4\r&tr=http://t.t789.me:2710/announce&tr=http://t.t789.co:2710/announce&tr=http://t.t789.vip:2710/announce</a><br>"
      ],
      "text/plain": [
       "<IPython.core.display.HTML object>"
      ]
     },
     "metadata": {},
     "output_type": "display_data"
    },
    {
     "data": {
      "text/html": [
       "<a href=\"magnet:?xt=urn:btih:289db52ccc3d0d87e8459dc74285aea8aeafaf17&dn=火影忍者 博人传之火影次世代276.mp4\r&tr=http://t.t789.me:2710/announce&tr=http://t.t789.co:2710/announce&tr=http://t.t789.vip:2710/announce\">magnet:?xt=urn:btih:289db52ccc3d0d87e8459dc74285aea8aeafaf17&dn=火影忍者 博人传之火影次世代276.mp4\r&tr=http://t.t789.me:2710/announce&tr=http://t.t789.co:2710/announce&tr=http://t.t789.vip:2710/announce</a><br>"
      ],
      "text/plain": [
       "<IPython.core.display.HTML object>"
      ]
     },
     "metadata": {},
     "output_type": "display_data"
    },
    {
     "data": {
      "text/html": [
       "<a href=\"magnet:?xt=urn:btih:70f4614d0d3a7ccca488dd3b22c68aea6ffd418e&dn=火影忍者 博人传之火影次世代275.mp4\r&tr=http://t.t789.me:2710/announce&tr=http://t.t789.co:2710/announce&tr=http://t.t789.vip:2710/announce\">magnet:?xt=urn:btih:70f4614d0d3a7ccca488dd3b22c68aea6ffd418e&dn=火影忍者 博人传之火影次世代275.mp4\r&tr=http://t.t789.me:2710/announce&tr=http://t.t789.co:2710/announce&tr=http://t.t789.vip:2710/announce</a><br>"
      ],
      "text/plain": [
       "<IPython.core.display.HTML object>"
      ]
     },
     "metadata": {},
     "output_type": "display_data"
    },
    {
     "data": {
      "text/html": [
       "<a href=\"magnet:?xt=urn:btih:b3e19b485b07cbf6c6f5ec407a6c700ed29b7aa7&dn=火影忍者 博人传之火影次世代274.mp4\r&tr=http://t.t789.me:2710/announce&tr=http://t.t789.co:2710/announce&tr=http://t.t789.vip:2710/announce\">magnet:?xt=urn:btih:b3e19b485b07cbf6c6f5ec407a6c700ed29b7aa7&dn=火影忍者 博人传之火影次世代274.mp4\r&tr=http://t.t789.me:2710/announce&tr=http://t.t789.co:2710/announce&tr=http://t.t789.vip:2710/announce</a><br>"
      ],
      "text/plain": [
       "<IPython.core.display.HTML object>"
      ]
     },
     "metadata": {},
     "output_type": "display_data"
    },
    {
     "data": {
      "text/html": [
       "<a href=\"magnet:?xt=urn:btih:85fa5a533526b6aabf648efe6114879fc1f65f30&dn=火影忍者 博人传之火影次世代273.mp4\r&tr=http://t.t789.me:2710/announce&tr=http://t.t789.co:2710/announce&tr=http://t.t789.vip:2710/announce\">magnet:?xt=urn:btih:85fa5a533526b6aabf648efe6114879fc1f65f30&dn=火影忍者 博人传之火影次世代273.mp4\r&tr=http://t.t789.me:2710/announce&tr=http://t.t789.co:2710/announce&tr=http://t.t789.vip:2710/announce</a><br>"
      ],
      "text/plain": [
       "<IPython.core.display.HTML object>"
      ]
     },
     "metadata": {},
     "output_type": "display_data"
    },
    {
     "data": {
      "text/html": [
       "<a href=\"magnet:?xt=urn:btih:52f5c3aaaff7181714691c32a7e964fd9cfeb642&dn=火影忍者 博人传之火影次世代272.mp4\r&tr=http://t.t789.me:2710/announce&tr=http://t.t789.co:2710/announce&tr=http://t.t789.vip:2710/announce\">magnet:?xt=urn:btih:52f5c3aaaff7181714691c32a7e964fd9cfeb642&dn=火影忍者 博人传之火影次世代272.mp4\r&tr=http://t.t789.me:2710/announce&tr=http://t.t789.co:2710/announce&tr=http://t.t789.vip:2710/announce</a><br>"
      ],
      "text/plain": [
       "<IPython.core.display.HTML object>"
      ]
     },
     "metadata": {},
     "output_type": "display_data"
    },
    {
     "data": {
      "text/html": [
       "<a href=\"magnet:?xt=urn:btih:35225ece00163e85a1f977dfb081b7bba02aa75f&dn=火影忍者 博人传之火影次世代271.mp4\r&tr=http://t.t789.me:2710/announce&tr=http://t.t789.co:2710/announce&tr=http://t.t789.vip:2710/announce\">magnet:?xt=urn:btih:35225ece00163e85a1f977dfb081b7bba02aa75f&dn=火影忍者 博人传之火影次世代271.mp4\r&tr=http://t.t789.me:2710/announce&tr=http://t.t789.co:2710/announce&tr=http://t.t789.vip:2710/announce</a><br>"
      ],
      "text/plain": [
       "<IPython.core.display.HTML object>"
      ]
     },
     "metadata": {},
     "output_type": "display_data"
    },
    {
     "data": {
      "text/html": [
       "<a href=\"magnet:?xt=urn:btih:4697d4e3b574a1396e865e365912311bf3b3dcab&dn=火影忍者 博人传之火影次世代270.mp4\r&tr=http://t.t789.me:2710/announce&tr=http://t.t789.co:2710/announce&tr=http://t.t789.vip:2710/announce\">magnet:?xt=urn:btih:4697d4e3b574a1396e865e365912311bf3b3dcab&dn=火影忍者 博人传之火影次世代270.mp4\r&tr=http://t.t789.me:2710/announce&tr=http://t.t789.co:2710/announce&tr=http://t.t789.vip:2710/announce</a><br>"
      ],
      "text/plain": [
       "<IPython.core.display.HTML object>"
      ]
     },
     "metadata": {},
     "output_type": "display_data"
    },
    {
     "data": {
      "text/html": [
       "<a href=\"magnet:?xt=urn:btih:3d96ad8e319cdb1ebdb56ea0edca4678de2c23fa&dn=火影忍者 博人传之火影次世代269.mp4\r&tr=http://t.t789.me:2710/announce&tr=http://t.t789.co:2710/announce&tr=http://t.t789.vip:2710/announce\">magnet:?xt=urn:btih:3d96ad8e319cdb1ebdb56ea0edca4678de2c23fa&dn=火影忍者 博人传之火影次世代269.mp4\r&tr=http://t.t789.me:2710/announce&tr=http://t.t789.co:2710/announce&tr=http://t.t789.vip:2710/announce</a><br>"
      ],
      "text/plain": [
       "<IPython.core.display.HTML object>"
      ]
     },
     "metadata": {},
     "output_type": "display_data"
    },
    {
     "data": {
      "text/html": [
       "<a href=\"magnet:?xt=urn:btih:ff8690ccd2572a38f71bfe0beb242e0a0ff971bf&dn=火影忍者 博人传之火影次世代268.mp4\r&tr=http://t.t789.me:2710/announce&tr=http://t.t789.co:2710/announce&tr=http://t.t789.vip:2710/announce\">magnet:?xt=urn:btih:ff8690ccd2572a38f71bfe0beb242e0a0ff971bf&dn=火影忍者 博人传之火影次世代268.mp4\r&tr=http://t.t789.me:2710/announce&tr=http://t.t789.co:2710/announce&tr=http://t.t789.vip:2710/announce</a><br>"
      ],
      "text/plain": [
       "<IPython.core.display.HTML object>"
      ]
     },
     "metadata": {},
     "output_type": "display_data"
    },
    {
     "data": {
      "text/html": [
       "<a href=\"magnet:?xt=urn:btih:21bbff60ba397a9fdeb359e438381ad55d9a3175&dn=火影忍者 博人传之火影次世代267.mp4\r&tr=http://t.t789.me:2710/announce&tr=http://t.t789.co:2710/announce&tr=http://t.t789.vip:2710/announce\">magnet:?xt=urn:btih:21bbff60ba397a9fdeb359e438381ad55d9a3175&dn=火影忍者 博人传之火影次世代267.mp4\r&tr=http://t.t789.me:2710/announce&tr=http://t.t789.co:2710/announce&tr=http://t.t789.vip:2710/announce</a><br>"
      ],
      "text/plain": [
       "<IPython.core.display.HTML object>"
      ]
     },
     "metadata": {},
     "output_type": "display_data"
    },
    {
     "data": {
      "text/html": [
       "<a href=\"magnet:?xt=urn:btih:08513d0dc2a162aaafaa490e8f0f09378c40f912&dn=火影忍者 博人传之火影次世代266.mp4\r&tr=http://t.t789.me:2710/announce&tr=http://t.t789.co:2710/announce&tr=http://t.t789.vip:2710/announce\">magnet:?xt=urn:btih:08513d0dc2a162aaafaa490e8f0f09378c40f912&dn=火影忍者 博人传之火影次世代266.mp4\r&tr=http://t.t789.me:2710/announce&tr=http://t.t789.co:2710/announce&tr=http://t.t789.vip:2710/announce</a><br>"
      ],
      "text/plain": [
       "<IPython.core.display.HTML object>"
      ]
     },
     "metadata": {},
     "output_type": "display_data"
    },
    {
     "data": {
      "text/html": [
       "<a href=\"magnet:?xt=urn:btih:37792671653934921832c12d837512f21beb3fb9&dn=火影忍者 博人传之火影次世代265.mp4\r&tr=http://t.t789.me:2710/announce&tr=http://t.t789.co:2710/announce&tr=http://t.t789.vip:2710/announce\">magnet:?xt=urn:btih:37792671653934921832c12d837512f21beb3fb9&dn=火影忍者 博人传之火影次世代265.mp4\r&tr=http://t.t789.me:2710/announce&tr=http://t.t789.co:2710/announce&tr=http://t.t789.vip:2710/announce</a><br>"
      ],
      "text/plain": [
       "<IPython.core.display.HTML object>"
      ]
     },
     "metadata": {},
     "output_type": "display_data"
    },
    {
     "data": {
      "text/html": [
       "<a href=\"magnet:?xt=urn:btih:4ae57396a6240f150bb17008131294539996968d&dn=火影忍者 博人传之火影次世代264.mp4\r&tr=http://t.t789.me:2710/announce&tr=http://t.t789.co:2710/announce&tr=http://t.t789.vip:2710/announce\">magnet:?xt=urn:btih:4ae57396a6240f150bb17008131294539996968d&dn=火影忍者 博人传之火影次世代264.mp4\r&tr=http://t.t789.me:2710/announce&tr=http://t.t789.co:2710/announce&tr=http://t.t789.vip:2710/announce</a><br>"
      ],
      "text/plain": [
       "<IPython.core.display.HTML object>"
      ]
     },
     "metadata": {},
     "output_type": "display_data"
    },
    {
     "data": {
      "text/html": [
       "<a href=\"magnet:?xt=urn:btih:90c6b123ca0e359f5600790a91e7edac9c8d16d7&dn=火影忍者 博人传之火影次世代263.mp4\r&tr=http://t.t789.me:2710/announce&tr=http://t.t789.co:2710/announce&tr=http://t.t789.vip:2710/announce\">magnet:?xt=urn:btih:90c6b123ca0e359f5600790a91e7edac9c8d16d7&dn=火影忍者 博人传之火影次世代263.mp4\r&tr=http://t.t789.me:2710/announce&tr=http://t.t789.co:2710/announce&tr=http://t.t789.vip:2710/announce</a><br>"
      ],
      "text/plain": [
       "<IPython.core.display.HTML object>"
      ]
     },
     "metadata": {},
     "output_type": "display_data"
    },
    {
     "data": {
      "text/html": [
       "<a href=\"magnet:?xt=urn:btih:ee031a3d5d510117f680ef61c927dce525870c41&dn=火影忍者 博人传之火影次世代262.mp4\r&tr=http://t.t789.me:2710/announce&tr=http://t.t789.co:2710/announce&tr=http://t.t789.vip:2710/announce\">magnet:?xt=urn:btih:ee031a3d5d510117f680ef61c927dce525870c41&dn=火影忍者 博人传之火影次世代262.mp4\r&tr=http://t.t789.me:2710/announce&tr=http://t.t789.co:2710/announce&tr=http://t.t789.vip:2710/announce</a><br>"
      ],
      "text/plain": [
       "<IPython.core.display.HTML object>"
      ]
     },
     "metadata": {},
     "output_type": "display_data"
    },
    {
     "data": {
      "text/html": [
       "<a href=\"magnet:?xt=urn:btih:92658975f9d049bb89e4b64c38cf74d18ce4936d&dn=火影忍者 博人传之火影次世代261.mp4\r&tr=http://t.t789.me:2710/announce&tr=http://t.t789.co:2710/announce&tr=http://t.t789.vip:2710/announce\">magnet:?xt=urn:btih:92658975f9d049bb89e4b64c38cf74d18ce4936d&dn=火影忍者 博人传之火影次世代261.mp4\r&tr=http://t.t789.me:2710/announce&tr=http://t.t789.co:2710/announce&tr=http://t.t789.vip:2710/announce</a><br>"
      ],
      "text/plain": [
       "<IPython.core.display.HTML object>"
      ]
     },
     "metadata": {},
     "output_type": "display_data"
    },
    {
     "data": {
      "text/html": [
       "<a href=\"magnet:?xt=urn:btih:4432f00c627a915f2e6afc60e85a79310f229f24&dn=火影忍者 博人传之火影次世代260.mp4\r&tr=http://t.t789.me:2710/announce&tr=http://t.t789.co:2710/announce&tr=http://t.t789.vip:2710/announce\">magnet:?xt=urn:btih:4432f00c627a915f2e6afc60e85a79310f229f24&dn=火影忍者 博人传之火影次世代260.mp4\r&tr=http://t.t789.me:2710/announce&tr=http://t.t789.co:2710/announce&tr=http://t.t789.vip:2710/announce</a><br>"
      ],
      "text/plain": [
       "<IPython.core.display.HTML object>"
      ]
     },
     "metadata": {},
     "output_type": "display_data"
    },
    {
     "data": {
      "text/html": [
       "<a href=\"magnet:?xt=urn:btih:79fa9a3ad6f508bb59c73fff21800c94c0c0a52d&dn=火影忍者 博人传之火影次世代259.mp4\r&tr=http://t.t789.me:2710/announce&tr=http://t.t789.co:2710/announce&tr=http://t.t789.vip:2710/announce\">magnet:?xt=urn:btih:79fa9a3ad6f508bb59c73fff21800c94c0c0a52d&dn=火影忍者 博人传之火影次世代259.mp4\r&tr=http://t.t789.me:2710/announce&tr=http://t.t789.co:2710/announce&tr=http://t.t789.vip:2710/announce</a><br>"
      ],
      "text/plain": [
       "<IPython.core.display.HTML object>"
      ]
     },
     "metadata": {},
     "output_type": "display_data"
    },
    {
     "data": {
      "text/html": [
       "<a href=\"magnet:?xt=urn:btih:8ae9d2099d6cd383234138c57a23e09d065d447e&dn=火影忍者 博人传之火影次世代258.mp4\r&tr=http://t.t789.me:2710/announce&tr=http://t.t789.co:2710/announce&tr=http://t.t789.vip:2710/announce\">magnet:?xt=urn:btih:8ae9d2099d6cd383234138c57a23e09d065d447e&dn=火影忍者 博人传之火影次世代258.mp4\r&tr=http://t.t789.me:2710/announce&tr=http://t.t789.co:2710/announce&tr=http://t.t789.vip:2710/announce</a><br>"
      ],
      "text/plain": [
       "<IPython.core.display.HTML object>"
      ]
     },
     "metadata": {},
     "output_type": "display_data"
    },
    {
     "data": {
      "text/html": [
       "<a href=\"magnet:?xt=urn:btih:f51c039437ec7ba917edb5922f4c147febd39112&dn=火影忍者 博人传之火影次世代257.mp4\r&tr=http://t.t789.me:2710/announce&tr=http://t.t789.co:2710/announce&tr=http://t.t789.vip:2710/announce\">magnet:?xt=urn:btih:f51c039437ec7ba917edb5922f4c147febd39112&dn=火影忍者 博人传之火影次世代257.mp4\r&tr=http://t.t789.me:2710/announce&tr=http://t.t789.co:2710/announce&tr=http://t.t789.vip:2710/announce</a><br>"
      ],
      "text/plain": [
       "<IPython.core.display.HTML object>"
      ]
     },
     "metadata": {},
     "output_type": "display_data"
    },
    {
     "data": {
      "text/html": [
       "<a href=\"magnet:?xt=urn:btih:a1c33ddfd02c957f687e538fd7308da58b34e249&dn=火影忍者 博人传之火影次世代256.mp4\r&tr=http://t.t789.me:2710/announce&tr=http://t.t789.co:2710/announce&tr=http://t.t789.vip:2710/announce\">magnet:?xt=urn:btih:a1c33ddfd02c957f687e538fd7308da58b34e249&dn=火影忍者 博人传之火影次世代256.mp4\r&tr=http://t.t789.me:2710/announce&tr=http://t.t789.co:2710/announce&tr=http://t.t789.vip:2710/announce</a><br>"
      ],
      "text/plain": [
       "<IPython.core.display.HTML object>"
      ]
     },
     "metadata": {},
     "output_type": "display_data"
    },
    {
     "data": {
      "text/html": [
       "<a href=\"magnet:?xt=urn:btih:7d6d75add39b1212dc5b9a5bbd418cd4af1e7a37&dn=火影忍者 博人传之火影次世代255.mp4\r&tr=http://t.t789.me:2710/announce&tr=http://t.t789.co:2710/announce&tr=http://t.t789.vip:2710/announce\">magnet:?xt=urn:btih:7d6d75add39b1212dc5b9a5bbd418cd4af1e7a37&dn=火影忍者 博人传之火影次世代255.mp4\r&tr=http://t.t789.me:2710/announce&tr=http://t.t789.co:2710/announce&tr=http://t.t789.vip:2710/announce</a><br>"
      ],
      "text/plain": [
       "<IPython.core.display.HTML object>"
      ]
     },
     "metadata": {},
     "output_type": "display_data"
    },
    {
     "data": {
      "text/html": [
       "<a href=\"magnet:?xt=urn:btih:116278b3437c5c85ad03beb6680dfe54946522d4&dn=火影忍者 博人传之火影次世代254.mp4\r&tr=http://t.t789.me:2710/announce&tr=http://t.t789.co:2710/announce&tr=http://t.t789.vip:2710/announce\">magnet:?xt=urn:btih:116278b3437c5c85ad03beb6680dfe54946522d4&dn=火影忍者 博人传之火影次世代254.mp4\r&tr=http://t.t789.me:2710/announce&tr=http://t.t789.co:2710/announce&tr=http://t.t789.vip:2710/announce</a><br>"
      ],
      "text/plain": [
       "<IPython.core.display.HTML object>"
      ]
     },
     "metadata": {},
     "output_type": "display_data"
    },
    {
     "data": {
      "text/html": [
       "<a href=\"magnet:?xt=urn:btih:1ebd4092f64c93f1a49b5ab6a8e4a632acbe9d7f&dn=火影忍者 博人传之火影次世代253.mp4\r&tr=http://t.t789.me:2710/announce&tr=http://t.t789.co:2710/announce&tr=http://t.t789.vip:2710/announce\">magnet:?xt=urn:btih:1ebd4092f64c93f1a49b5ab6a8e4a632acbe9d7f&dn=火影忍者 博人传之火影次世代253.mp4\r&tr=http://t.t789.me:2710/announce&tr=http://t.t789.co:2710/announce&tr=http://t.t789.vip:2710/announce</a><br>"
      ],
      "text/plain": [
       "<IPython.core.display.HTML object>"
      ]
     },
     "metadata": {},
     "output_type": "display_data"
    },
    {
     "data": {
      "text/html": [
       "<a href=\"magnet:?xt=urn:btih:0c45c4fcab0fe83df27cc2cfedcf7278d93da0d2&dn=火影忍者 博人传之火影次世代252.mp4\r&tr=http://t.t789.me:2710/announce&tr=http://t.t789.co:2710/announce&tr=http://t.t789.vip:2710/announce\">magnet:?xt=urn:btih:0c45c4fcab0fe83df27cc2cfedcf7278d93da0d2&dn=火影忍者 博人传之火影次世代252.mp4\r&tr=http://t.t789.me:2710/announce&tr=http://t.t789.co:2710/announce&tr=http://t.t789.vip:2710/announce</a><br>"
      ],
      "text/plain": [
       "<IPython.core.display.HTML object>"
      ]
     },
     "metadata": {},
     "output_type": "display_data"
    },
    {
     "data": {
      "text/html": [
       "<a href=\"magnet:?xt=urn:btih:bc59122aa6aa41314f2b7d88c6cf141a637f6a14&dn=火影忍者 博人传之火影次世代251.mp4\r&tr=http://t.t789.me:2710/announce&tr=http://t.t789.co:2710/announce&tr=http://t.t789.vip:2710/announce\">magnet:?xt=urn:btih:bc59122aa6aa41314f2b7d88c6cf141a637f6a14&dn=火影忍者 博人传之火影次世代251.mp4\r&tr=http://t.t789.me:2710/announce&tr=http://t.t789.co:2710/announce&tr=http://t.t789.vip:2710/announce</a><br>"
      ],
      "text/plain": [
       "<IPython.core.display.HTML object>"
      ]
     },
     "metadata": {},
     "output_type": "display_data"
    },
    {
     "data": {
      "text/html": [
       "<a href=\"magnet:?xt=urn:btih:b4926c2b11869fba0efff2460ecf1d3be4280bd8&dn=火影忍者 博人传之火影次世代249.mp4\r&tr=http://t.t789.me:2710/announce&tr=http://t.t789.co:2710/announce&tr=http://t.t789.vip:2710/announce\">magnet:?xt=urn:btih:b4926c2b11869fba0efff2460ecf1d3be4280bd8&dn=火影忍者 博人传之火影次世代249.mp4\r&tr=http://t.t789.me:2710/announce&tr=http://t.t789.co:2710/announce&tr=http://t.t789.vip:2710/announce</a><br>"
      ],
      "text/plain": [
       "<IPython.core.display.HTML object>"
      ]
     },
     "metadata": {},
     "output_type": "display_data"
    },
    {
     "data": {
      "text/html": [
       "<a href=\"magnet:?xt=urn:btih:1351fc7d094f87d73f6eae073510be52d5161c2f&dn=火影忍者 博人传之火影次世代248.mp4\r&tr=http://t.t789.me:2710/announce&tr=http://t.t789.co:2710/announce&tr=http://t.t789.vip:2710/announce\">magnet:?xt=urn:btih:1351fc7d094f87d73f6eae073510be52d5161c2f&dn=火影忍者 博人传之火影次世代248.mp4\r&tr=http://t.t789.me:2710/announce&tr=http://t.t789.co:2710/announce&tr=http://t.t789.vip:2710/announce</a><br>"
      ],
      "text/plain": [
       "<IPython.core.display.HTML object>"
      ]
     },
     "metadata": {},
     "output_type": "display_data"
    },
    {
     "data": {
      "text/html": [
       "<a href=\"magnet:?xt=urn:btih:ea8161e681b22a6f2d239363180182ca5fd8b832&dn=火影忍者 博人传之火影次世代247.mp4\r&tr=http://t.t789.me:2710/announce&tr=http://t.t789.co:2710/announce&tr=http://t.t789.vip:2710/announce\">magnet:?xt=urn:btih:ea8161e681b22a6f2d239363180182ca5fd8b832&dn=火影忍者 博人传之火影次世代247.mp4\r&tr=http://t.t789.me:2710/announce&tr=http://t.t789.co:2710/announce&tr=http://t.t789.vip:2710/announce</a><br>"
      ],
      "text/plain": [
       "<IPython.core.display.HTML object>"
      ]
     },
     "metadata": {},
     "output_type": "display_data"
    },
    {
     "data": {
      "text/html": [
       "<a href=\"magnet:?xt=urn:btih:25238f6a307b7dc51c72dd2322bb43217ff09bab&dn=火影忍者 博人传之火影次世代246.mp4\r&tr=http://t.t789.me:2710/announce&tr=http://t.t789.co:2710/announce&tr=http://t.t789.vip:2710/announce\">magnet:?xt=urn:btih:25238f6a307b7dc51c72dd2322bb43217ff09bab&dn=火影忍者 博人传之火影次世代246.mp4\r&tr=http://t.t789.me:2710/announce&tr=http://t.t789.co:2710/announce&tr=http://t.t789.vip:2710/announce</a><br>"
      ],
      "text/plain": [
       "<IPython.core.display.HTML object>"
      ]
     },
     "metadata": {},
     "output_type": "display_data"
    },
    {
     "data": {
      "text/html": [
       "<a href=\"magnet:?xt=urn:btih:0e358b8faae2d111be08bd014b50cf156a67879a&dn=火影忍者 博人传之火影次世代245.mp4\r&tr=http://t.t789.me:2710/announce&tr=http://t.t789.co:2710/announce&tr=http://t.t789.vip:2710/announce\">magnet:?xt=urn:btih:0e358b8faae2d111be08bd014b50cf156a67879a&dn=火影忍者 博人传之火影次世代245.mp4\r&tr=http://t.t789.me:2710/announce&tr=http://t.t789.co:2710/announce&tr=http://t.t789.vip:2710/announce</a><br>"
      ],
      "text/plain": [
       "<IPython.core.display.HTML object>"
      ]
     },
     "metadata": {},
     "output_type": "display_data"
    },
    {
     "data": {
      "text/html": [
       "<a href=\"magnet:?xt=urn:btih:b721193190ab10b8e8170b017651684280c1b889&dn=火影忍者 博人传之火影次世代244.mp4\r&tr=http://t.t789.me:2710/announce&tr=http://t.t789.co:2710/announce&tr=http://t.t789.vip:2710/announce\">magnet:?xt=urn:btih:b721193190ab10b8e8170b017651684280c1b889&dn=火影忍者 博人传之火影次世代244.mp4\r&tr=http://t.t789.me:2710/announce&tr=http://t.t789.co:2710/announce&tr=http://t.t789.vip:2710/announce</a><br>"
      ],
      "text/plain": [
       "<IPython.core.display.HTML object>"
      ]
     },
     "metadata": {},
     "output_type": "display_data"
    },
    {
     "data": {
      "text/html": [
       "<a href=\"magnet:?xt=urn:btih:c138ac5471bdcae3f9f96065f40234c8a42c6d9e&dn=火影忍者 博人传之火影次世代243.mp4\r&tr=http://t.t789.me:2710/announce&tr=http://t.t789.co:2710/announce&tr=http://t.t789.vip:2710/announce\">magnet:?xt=urn:btih:c138ac5471bdcae3f9f96065f40234c8a42c6d9e&dn=火影忍者 博人传之火影次世代243.mp4\r&tr=http://t.t789.me:2710/announce&tr=http://t.t789.co:2710/announce&tr=http://t.t789.vip:2710/announce</a><br>"
      ],
      "text/plain": [
       "<IPython.core.display.HTML object>"
      ]
     },
     "metadata": {},
     "output_type": "display_data"
    },
    {
     "data": {
      "text/html": [
       "<hr><p style='color:red;'>---- Next Group ----</p><hr>"
      ],
      "text/plain": [
       "<IPython.core.display.HTML object>"
      ]
     },
     "metadata": {},
     "output_type": "display_data"
    },
    {
     "data": {
      "text/html": [
       "<a href=\"magnet:?xt=urn:btih:5ec9af4b36dbd37fe98d931f33d7a80f3de1a951&dn=火影忍者 博人传之火影次世代242.mp4\r&tr=http://t.t789.me:2710/announce&tr=http://t.t789.co:2710/announce&tr=http://t.t789.vip:2710/announce\">magnet:?xt=urn:btih:5ec9af4b36dbd37fe98d931f33d7a80f3de1a951&dn=火影忍者 博人传之火影次世代242.mp4\r&tr=http://t.t789.me:2710/announce&tr=http://t.t789.co:2710/announce&tr=http://t.t789.vip:2710/announce</a><br>"
      ],
      "text/plain": [
       "<IPython.core.display.HTML object>"
      ]
     },
     "metadata": {},
     "output_type": "display_data"
    },
    {
     "data": {
      "text/html": [
       "<a href=\"magnet:?xt=urn:btih:a6b2b2410e2884d29c9776d787bc9164e74a6ac5&dn=火影忍者 博人传之火影次世代241.mp4\r&tr=http://t.t789.me:2710/announce&tr=http://t.t789.co:2710/announce&tr=http://t.t789.vip:2710/announce\">magnet:?xt=urn:btih:a6b2b2410e2884d29c9776d787bc9164e74a6ac5&dn=火影忍者 博人传之火影次世代241.mp4\r&tr=http://t.t789.me:2710/announce&tr=http://t.t789.co:2710/announce&tr=http://t.t789.vip:2710/announce</a><br>"
      ],
      "text/plain": [
       "<IPython.core.display.HTML object>"
      ]
     },
     "metadata": {},
     "output_type": "display_data"
    },
    {
     "data": {
      "text/html": [
       "<a href=\"magnet:?xt=urn:btih:2b36d3c70d20061f263cc786c094db87395e8c84&dn=火影忍者 博人传之火影次世代240.mp4\r&tr=http://t.t789.me:2710/announce&tr=http://t.t789.co:2710/announce&tr=http://t.t789.vip:2710/announce\">magnet:?xt=urn:btih:2b36d3c70d20061f263cc786c094db87395e8c84&dn=火影忍者 博人传之火影次世代240.mp4\r&tr=http://t.t789.me:2710/announce&tr=http://t.t789.co:2710/announce&tr=http://t.t789.vip:2710/announce</a><br>"
      ],
      "text/plain": [
       "<IPython.core.display.HTML object>"
      ]
     },
     "metadata": {},
     "output_type": "display_data"
    },
    {
     "data": {
      "text/html": [
       "<a href=\"magnet:?xt=urn:btih:9f6ab7a32ee54e56f3d467b2f6a599d5723eb289&dn=火影忍者 博人传之火影次世代239.mp4\r&tr=http://t.t789.me:2710/announce&tr=http://t.t789.co:2710/announce&tr=http://t.t789.vip:2710/announce\">magnet:?xt=urn:btih:9f6ab7a32ee54e56f3d467b2f6a599d5723eb289&dn=火影忍者 博人传之火影次世代239.mp4\r&tr=http://t.t789.me:2710/announce&tr=http://t.t789.co:2710/announce&tr=http://t.t789.vip:2710/announce</a><br>"
      ],
      "text/plain": [
       "<IPython.core.display.HTML object>"
      ]
     },
     "metadata": {},
     "output_type": "display_data"
    },
    {
     "data": {
      "text/html": [
       "<a href=\"magnet:?xt=urn:btih:16d024abf0dcb098406c104596e2c1dc67a9446c&dn=火影忍者 博人传之火影次世代238.mp4\r&tr=http://t.t789.me:2710/announce&tr=http://t.t789.co:2710/announce&tr=http://t.t789.vip:2710/announce\">magnet:?xt=urn:btih:16d024abf0dcb098406c104596e2c1dc67a9446c&dn=火影忍者 博人传之火影次世代238.mp4\r&tr=http://t.t789.me:2710/announce&tr=http://t.t789.co:2710/announce&tr=http://t.t789.vip:2710/announce</a><br>"
      ],
      "text/plain": [
       "<IPython.core.display.HTML object>"
      ]
     },
     "metadata": {},
     "output_type": "display_data"
    },
    {
     "data": {
      "text/html": [
       "<a href=\"magnet:?xt=urn:btih:bd32e9d581aac61b9619cf30bdc3b8bcdab082d4&dn=火影忍者 博人传之火影次世代237.mp4\r&tr=http://t.t789.me:2710/announce&tr=http://t.t789.co:2710/announce&tr=http://t.t789.vip:2710/announce\">magnet:?xt=urn:btih:bd32e9d581aac61b9619cf30bdc3b8bcdab082d4&dn=火影忍者 博人传之火影次世代237.mp4\r&tr=http://t.t789.me:2710/announce&tr=http://t.t789.co:2710/announce&tr=http://t.t789.vip:2710/announce</a><br>"
      ],
      "text/plain": [
       "<IPython.core.display.HTML object>"
      ]
     },
     "metadata": {},
     "output_type": "display_data"
    },
    {
     "data": {
      "text/html": [
       "<a href=\"magnet:?xt=urn:btih:2244be80570a547c42db02da35f93c386ac3e721&dn=火影忍者 博人传之火影次世代236.mp4\r&tr=http://t.t789.me:2710/announce&tr=http://t.t789.co:2710/announce&tr=http://t.t789.vip:2710/announce\">magnet:?xt=urn:btih:2244be80570a547c42db02da35f93c386ac3e721&dn=火影忍者 博人传之火影次世代236.mp4\r&tr=http://t.t789.me:2710/announce&tr=http://t.t789.co:2710/announce&tr=http://t.t789.vip:2710/announce</a><br>"
      ],
      "text/plain": [
       "<IPython.core.display.HTML object>"
      ]
     },
     "metadata": {},
     "output_type": "display_data"
    },
    {
     "data": {
      "text/html": [
       "<a href=\"magnet:?xt=urn:btih:548744a21a935209aff33de9e2e7eeeae35f29a4&dn=火影忍者 博人传之火影次世代235.mp4\r&tr=http://t.t789.me:2710/announce&tr=http://t.t789.co:2710/announce&tr=http://t.t789.vip:2710/announce\">magnet:?xt=urn:btih:548744a21a935209aff33de9e2e7eeeae35f29a4&dn=火影忍者 博人传之火影次世代235.mp4\r&tr=http://t.t789.me:2710/announce&tr=http://t.t789.co:2710/announce&tr=http://t.t789.vip:2710/announce</a><br>"
      ],
      "text/plain": [
       "<IPython.core.display.HTML object>"
      ]
     },
     "metadata": {},
     "output_type": "display_data"
    },
    {
     "data": {
      "text/html": [
       "<a href=\"magnet:?xt=urn:btih:ca9b3ac463df013de28b4844896f13462538b00d&dn=火影忍者 博人传之火影次世代234.mp4\r&tr=http://t.t789.me:2710/announce&tr=http://t.t789.co:2710/announce&tr=http://t.t789.vip:2710/announce\">magnet:?xt=urn:btih:ca9b3ac463df013de28b4844896f13462538b00d&dn=火影忍者 博人传之火影次世代234.mp4\r&tr=http://t.t789.me:2710/announce&tr=http://t.t789.co:2710/announce&tr=http://t.t789.vip:2710/announce</a><br>"
      ],
      "text/plain": [
       "<IPython.core.display.HTML object>"
      ]
     },
     "metadata": {},
     "output_type": "display_data"
    },
    {
     "data": {
      "text/html": [
       "<a href=\"magnet:?xt=urn:btih:8d450f6b5bf725cbca87860d05478efd842859ec&dn=火影忍者 博人传之火影次世代233.mp4\r&tr=http://t.t789.me:2710/announce&tr=http://t.t789.co:2710/announce&tr=http://t.t789.vip:2710/announce\">magnet:?xt=urn:btih:8d450f6b5bf725cbca87860d05478efd842859ec&dn=火影忍者 博人传之火影次世代233.mp4\r&tr=http://t.t789.me:2710/announce&tr=http://t.t789.co:2710/announce&tr=http://t.t789.vip:2710/announce</a><br>"
      ],
      "text/plain": [
       "<IPython.core.display.HTML object>"
      ]
     },
     "metadata": {},
     "output_type": "display_data"
    },
    {
     "data": {
      "text/html": [
       "<a href=\"magnet:?xt=urn:btih:6cc6f40f2a406ad8dc0b6b429c283acd77081dd0&dn=火影忍者 博人传之火影次世代232.mp4\r&tr=http://t.t789.me:2710/announce&tr=http://t.t789.co:2710/announce&tr=http://t.t789.vip:2710/announce\">magnet:?xt=urn:btih:6cc6f40f2a406ad8dc0b6b429c283acd77081dd0&dn=火影忍者 博人传之火影次世代232.mp4\r&tr=http://t.t789.me:2710/announce&tr=http://t.t789.co:2710/announce&tr=http://t.t789.vip:2710/announce</a><br>"
      ],
      "text/plain": [
       "<IPython.core.display.HTML object>"
      ]
     },
     "metadata": {},
     "output_type": "display_data"
    },
    {
     "data": {
      "text/html": [
       "<a href=\"magnet:?xt=urn:btih:52570f3a2e85c6862c33e5baf809afbfaf2748ef&dn=火影忍者 博人传之火影次世代231.mp4\r&tr=http://t.t789.me:2710/announce&tr=http://t.t789.co:2710/announce&tr=http://t.t789.vip:2710/announce\">magnet:?xt=urn:btih:52570f3a2e85c6862c33e5baf809afbfaf2748ef&dn=火影忍者 博人传之火影次世代231.mp4\r&tr=http://t.t789.me:2710/announce&tr=http://t.t789.co:2710/announce&tr=http://t.t789.vip:2710/announce</a><br>"
      ],
      "text/plain": [
       "<IPython.core.display.HTML object>"
      ]
     },
     "metadata": {},
     "output_type": "display_data"
    },
    {
     "data": {
      "text/html": [
       "<a href=\"magnet:?xt=urn:btih:0fb828df75d8a474156ed3856636ffe818e4dc36&dn=火影忍者 博人传之火影次世代230.mp4\r&tr=http://t.t789.me:2710/announce&tr=http://t.t789.co:2710/announce&tr=http://t.t789.vip:2710/announce\">magnet:?xt=urn:btih:0fb828df75d8a474156ed3856636ffe818e4dc36&dn=火影忍者 博人传之火影次世代230.mp4\r&tr=http://t.t789.me:2710/announce&tr=http://t.t789.co:2710/announce&tr=http://t.t789.vip:2710/announce</a><br>"
      ],
      "text/plain": [
       "<IPython.core.display.HTML object>"
      ]
     },
     "metadata": {},
     "output_type": "display_data"
    },
    {
     "data": {
      "text/html": [
       "<a href=\"magnet:?xt=urn:btih:9660bdc3353040f3bc9977e447b9c84143afaeaa&dn=火影忍者 博人传之火影次世代229.mp4\r&tr=http://t.t789.me:2710/announce&tr=http://t.t789.co:2710/announce&tr=http://t.t789.vip:2710/announce\">magnet:?xt=urn:btih:9660bdc3353040f3bc9977e447b9c84143afaeaa&dn=火影忍者 博人传之火影次世代229.mp4\r&tr=http://t.t789.me:2710/announce&tr=http://t.t789.co:2710/announce&tr=http://t.t789.vip:2710/announce</a><br>"
      ],
      "text/plain": [
       "<IPython.core.display.HTML object>"
      ]
     },
     "metadata": {},
     "output_type": "display_data"
    },
    {
     "data": {
      "text/html": [
       "<a href=\"magnet:?xt=urn:btih:e444e810f42e6ef50b9b3937079047a9db0cc5f9&dn=火影忍者 博人传之火影次世代228.mp4\r&tr=http://t.t789.me:2710/announce&tr=http://t.t789.co:2710/announce&tr=http://t.t789.vip:2710/announce\">magnet:?xt=urn:btih:e444e810f42e6ef50b9b3937079047a9db0cc5f9&dn=火影忍者 博人传之火影次世代228.mp4\r&tr=http://t.t789.me:2710/announce&tr=http://t.t789.co:2710/announce&tr=http://t.t789.vip:2710/announce</a><br>"
      ],
      "text/plain": [
       "<IPython.core.display.HTML object>"
      ]
     },
     "metadata": {},
     "output_type": "display_data"
    },
    {
     "data": {
      "text/html": [
       "<a href=\"magnet:?xt=urn:btih:b5292eca14f55365125f1313ef131c8ed747b64c&dn=火影忍者 博人传之火影次世代227.mp4\r&tr=http://t.t789.me:2710/announce&tr=http://t.t789.co:2710/announce&tr=http://t.t789.vip:2710/announce\">magnet:?xt=urn:btih:b5292eca14f55365125f1313ef131c8ed747b64c&dn=火影忍者 博人传之火影次世代227.mp4\r&tr=http://t.t789.me:2710/announce&tr=http://t.t789.co:2710/announce&tr=http://t.t789.vip:2710/announce</a><br>"
      ],
      "text/plain": [
       "<IPython.core.display.HTML object>"
      ]
     },
     "metadata": {},
     "output_type": "display_data"
    },
    {
     "data": {
      "text/html": [
       "<a href=\"magnet:?xt=urn:btih:bfb2d028145576adaf909d27ad514b273e4d872d&dn=火影忍者 博人传之火影次世代226.mp4\r&tr=http://t.t789.me:2710/announce&tr=http://t.t789.co:2710/announce&tr=http://t.t789.vip:2710/announce\">magnet:?xt=urn:btih:bfb2d028145576adaf909d27ad514b273e4d872d&dn=火影忍者 博人传之火影次世代226.mp4\r&tr=http://t.t789.me:2710/announce&tr=http://t.t789.co:2710/announce&tr=http://t.t789.vip:2710/announce</a><br>"
      ],
      "text/plain": [
       "<IPython.core.display.HTML object>"
      ]
     },
     "metadata": {},
     "output_type": "display_data"
    },
    {
     "data": {
      "text/html": [
       "<a href=\"magnet:?xt=urn:btih:478a3428467ce2d487cbc50c2e5ac134f351e7ac&dn=火影忍者 博人传之火影次世代225.mp4\r&tr=http://t.t789.me:2710/announce&tr=http://t.t789.co:2710/announce&tr=http://t.t789.vip:2710/announce\">magnet:?xt=urn:btih:478a3428467ce2d487cbc50c2e5ac134f351e7ac&dn=火影忍者 博人传之火影次世代225.mp4\r&tr=http://t.t789.me:2710/announce&tr=http://t.t789.co:2710/announce&tr=http://t.t789.vip:2710/announce</a><br>"
      ],
      "text/plain": [
       "<IPython.core.display.HTML object>"
      ]
     },
     "metadata": {},
     "output_type": "display_data"
    },
    {
     "data": {
      "text/html": [
       "<a href=\"magnet:?xt=urn:btih:0389bfe93c5e68dbceff46f9d895f30db4c441d4&dn=火影忍者 博人传之火影次世代224.mp4\r&tr=http://t.t789.me:2710/announce&tr=http://t.t789.co:2710/announce&tr=http://t.t789.vip:2710/announce\">magnet:?xt=urn:btih:0389bfe93c5e68dbceff46f9d895f30db4c441d4&dn=火影忍者 博人传之火影次世代224.mp4\r&tr=http://t.t789.me:2710/announce&tr=http://t.t789.co:2710/announce&tr=http://t.t789.vip:2710/announce</a><br>"
      ],
      "text/plain": [
       "<IPython.core.display.HTML object>"
      ]
     },
     "metadata": {},
     "output_type": "display_data"
    },
    {
     "data": {
      "text/html": [
       "<a href=\"magnet:?xt=urn:btih:258e19585d40a127ce5889bef807860a4365464c&dn=火影忍者 博人传之火影次世代223.mp4\r&tr=http://t.t789.me:2710/announce&tr=http://t.t789.co:2710/announce&tr=http://t.t789.vip:2710/announce\">magnet:?xt=urn:btih:258e19585d40a127ce5889bef807860a4365464c&dn=火影忍者 博人传之火影次世代223.mp4\r&tr=http://t.t789.me:2710/announce&tr=http://t.t789.co:2710/announce&tr=http://t.t789.vip:2710/announce</a><br>"
      ],
      "text/plain": [
       "<IPython.core.display.HTML object>"
      ]
     },
     "metadata": {},
     "output_type": "display_data"
    },
    {
     "data": {
      "text/html": [
       "<a href=\"magnet:?xt=urn:btih:1edf4d949c1fb62aeb1e212f9d86f6ff46eb432e&dn=火影忍者 博人传之火影次世代222.mp4\r&tr=http://t.t789.me:2710/announce&tr=http://t.t789.co:2710/announce&tr=http://t.t789.vip:2710/announce\">magnet:?xt=urn:btih:1edf4d949c1fb62aeb1e212f9d86f6ff46eb432e&dn=火影忍者 博人传之火影次世代222.mp4\r&tr=http://t.t789.me:2710/announce&tr=http://t.t789.co:2710/announce&tr=http://t.t789.vip:2710/announce</a><br>"
      ],
      "text/plain": [
       "<IPython.core.display.HTML object>"
      ]
     },
     "metadata": {},
     "output_type": "display_data"
    },
    {
     "data": {
      "text/html": [
       "<a href=\"magnet:?xt=urn:btih:2625e09eded565a37e32a352574f6b4991ccb84f&dn=火影忍者 博人传之火影次世代221.mp4\r&tr=http://t.t789.me:2710/announce&tr=http://t.t789.co:2710/announce&tr=http://t.t789.vip:2710/announce\">magnet:?xt=urn:btih:2625e09eded565a37e32a352574f6b4991ccb84f&dn=火影忍者 博人传之火影次世代221.mp4\r&tr=http://t.t789.me:2710/announce&tr=http://t.t789.co:2710/announce&tr=http://t.t789.vip:2710/announce</a><br>"
      ],
      "text/plain": [
       "<IPython.core.display.HTML object>"
      ]
     },
     "metadata": {},
     "output_type": "display_data"
    },
    {
     "data": {
      "text/html": [
       "<a href=\"magnet:?xt=urn:btih:2ca8feaa534e00bd24a830e0bdd25942fed8d932&dn=火影忍者 博人传之火影次世代220.mp4\r&tr=http://t.t789.me:2710/announce&tr=http://t.t789.co:2710/announce&tr=http://t.t789.vip:2710/announce\">magnet:?xt=urn:btih:2ca8feaa534e00bd24a830e0bdd25942fed8d932&dn=火影忍者 博人传之火影次世代220.mp4\r&tr=http://t.t789.me:2710/announce&tr=http://t.t789.co:2710/announce&tr=http://t.t789.vip:2710/announce</a><br>"
      ],
      "text/plain": [
       "<IPython.core.display.HTML object>"
      ]
     },
     "metadata": {},
     "output_type": "display_data"
    },
    {
     "data": {
      "text/html": [
       "<a href=\"magnet:?xt=urn:btih:816b0f61453db10963e9cc106e25d536f8a2c2da&dn=火影忍者 博人传之火影次世代219.mp4\r&tr=http://t.t789.me:2710/announce&tr=http://t.t789.co:2710/announce&tr=http://t.t789.vip:2710/announce\">magnet:?xt=urn:btih:816b0f61453db10963e9cc106e25d536f8a2c2da&dn=火影忍者 博人传之火影次世代219.mp4\r&tr=http://t.t789.me:2710/announce&tr=http://t.t789.co:2710/announce&tr=http://t.t789.vip:2710/announce</a><br>"
      ],
      "text/plain": [
       "<IPython.core.display.HTML object>"
      ]
     },
     "metadata": {},
     "output_type": "display_data"
    },
    {
     "data": {
      "text/html": [
       "<a href=\"magnet:?xt=urn:btih:ee1d50723f5af6ad2e90fa14ec35fbebb1ac243b&dn=火影忍者 博人传之火影次世代218.mp4\r&tr=http://t.t789.me:2710/announce&tr=http://t.t789.co:2710/announce&tr=http://t.t789.vip:2710/announce\">magnet:?xt=urn:btih:ee1d50723f5af6ad2e90fa14ec35fbebb1ac243b&dn=火影忍者 博人传之火影次世代218.mp4\r&tr=http://t.t789.me:2710/announce&tr=http://t.t789.co:2710/announce&tr=http://t.t789.vip:2710/announce</a><br>"
      ],
      "text/plain": [
       "<IPython.core.display.HTML object>"
      ]
     },
     "metadata": {},
     "output_type": "display_data"
    },
    {
     "data": {
      "text/html": [
       "<a href=\"magnet:?xt=urn:btih:43ad13ebbe454c6b9640a845ccf3222b0ec4528c&dn=火影忍者 博人传之火影次世代217.mp4\r&tr=http://t.t789.me:2710/announce&tr=http://t.t789.co:2710/announce&tr=http://t.t789.vip:2710/announce\">magnet:?xt=urn:btih:43ad13ebbe454c6b9640a845ccf3222b0ec4528c&dn=火影忍者 博人传之火影次世代217.mp4\r&tr=http://t.t789.me:2710/announce&tr=http://t.t789.co:2710/announce&tr=http://t.t789.vip:2710/announce</a><br>"
      ],
      "text/plain": [
       "<IPython.core.display.HTML object>"
      ]
     },
     "metadata": {},
     "output_type": "display_data"
    },
    {
     "data": {
      "text/html": [
       "<a href=\"magnet:?xt=urn:btih:6c73632beabebc1c8f4a5a1f5257c191771ec7bd&dn=火影忍者 博人传之火影次世代216.mp4\r&tr=http://t.t789.me:2710/announce&tr=http://t.t789.co:2710/announce&tr=http://t.t789.vip:2710/announce\">magnet:?xt=urn:btih:6c73632beabebc1c8f4a5a1f5257c191771ec7bd&dn=火影忍者 博人传之火影次世代216.mp4\r&tr=http://t.t789.me:2710/announce&tr=http://t.t789.co:2710/announce&tr=http://t.t789.vip:2710/announce</a><br>"
      ],
      "text/plain": [
       "<IPython.core.display.HTML object>"
      ]
     },
     "metadata": {},
     "output_type": "display_data"
    },
    {
     "data": {
      "text/html": [
       "<a href=\"magnet:?xt=urn:btih:cb6b740dc2ec3c705a4623ecb0234baf3c80ab48&dn=火影忍者 博人传之火影次世代215.mp4\r&tr=http://t.t789.me:2710/announce&tr=http://t.t789.co:2710/announce&tr=http://t.t789.vip:2710/announce\">magnet:?xt=urn:btih:cb6b740dc2ec3c705a4623ecb0234baf3c80ab48&dn=火影忍者 博人传之火影次世代215.mp4\r&tr=http://t.t789.me:2710/announce&tr=http://t.t789.co:2710/announce&tr=http://t.t789.vip:2710/announce</a><br>"
      ],
      "text/plain": [
       "<IPython.core.display.HTML object>"
      ]
     },
     "metadata": {},
     "output_type": "display_data"
    },
    {
     "data": {
      "text/html": [
       "<a href=\"magnet:?xt=urn:btih:516eddd22b12fafeef0f7b4c17b88cbe6b0fdc45&dn=火影忍者 博人传之火影次世代214.mp4\r&tr=http://t.t789.me:2710/announce&tr=http://t.t789.co:2710/announce&tr=http://t.t789.vip:2710/announce\">magnet:?xt=urn:btih:516eddd22b12fafeef0f7b4c17b88cbe6b0fdc45&dn=火影忍者 博人传之火影次世代214.mp4\r&tr=http://t.t789.me:2710/announce&tr=http://t.t789.co:2710/announce&tr=http://t.t789.vip:2710/announce</a><br>"
      ],
      "text/plain": [
       "<IPython.core.display.HTML object>"
      ]
     },
     "metadata": {},
     "output_type": "display_data"
    },
    {
     "data": {
      "text/html": [
       "<a href=\"magnet:?xt=urn:btih:6fa8361ba46dbd61f39cc9fa4ef2b59bf0e439a6&dn=火影忍者 博人传之火影次世代213.mp4\r&tr=http://t.t789.me:2710/announce&tr=http://t.t789.co:2710/announce&tr=http://t.t789.vip:2710/announce\">magnet:?xt=urn:btih:6fa8361ba46dbd61f39cc9fa4ef2b59bf0e439a6&dn=火影忍者 博人传之火影次世代213.mp4\r&tr=http://t.t789.me:2710/announce&tr=http://t.t789.co:2710/announce&tr=http://t.t789.vip:2710/announce</a><br>"
      ],
      "text/plain": [
       "<IPython.core.display.HTML object>"
      ]
     },
     "metadata": {},
     "output_type": "display_data"
    },
    {
     "data": {
      "text/html": [
       "<a href=\"magnet:?xt=urn:btih:270d45b633bdf9116e8f07220d930a74055f8b3c&dn=火影忍者 博人传之火影次世代212.mp4\r&tr=http://t.t789.me:2710/announce&tr=http://t.t789.co:2710/announce&tr=http://t.t789.vip:2710/announce\">magnet:?xt=urn:btih:270d45b633bdf9116e8f07220d930a74055f8b3c&dn=火影忍者 博人传之火影次世代212.mp4\r&tr=http://t.t789.me:2710/announce&tr=http://t.t789.co:2710/announce&tr=http://t.t789.vip:2710/announce</a><br>"
      ],
      "text/plain": [
       "<IPython.core.display.HTML object>"
      ]
     },
     "metadata": {},
     "output_type": "display_data"
    },
    {
     "data": {
      "text/html": [
       "<a href=\"magnet:?xt=urn:btih:be70ba0198c75f60108910fb3e9acc3a010bb05d&dn=火影忍者 博人传之火影次世代211.mp4\r&tr=http://t.t789.me:2710/announce&tr=http://t.t789.co:2710/announce&tr=http://t.t789.vip:2710/announce\">magnet:?xt=urn:btih:be70ba0198c75f60108910fb3e9acc3a010bb05d&dn=火影忍者 博人传之火影次世代211.mp4\r&tr=http://t.t789.me:2710/announce&tr=http://t.t789.co:2710/announce&tr=http://t.t789.vip:2710/announce</a><br>"
      ],
      "text/plain": [
       "<IPython.core.display.HTML object>"
      ]
     },
     "metadata": {},
     "output_type": "display_data"
    },
    {
     "data": {
      "text/html": [
       "<a href=\"magnet:?xt=urn:btih:4ddf38c9459244581bcbbdfa67fdc8336115c33f&dn=火影忍者 博人传之火影次世代210.mp4\r&tr=http://t.t789.me:2710/announce&tr=http://t.t789.co:2710/announce&tr=http://t.t789.vip:2710/announce\">magnet:?xt=urn:btih:4ddf38c9459244581bcbbdfa67fdc8336115c33f&dn=火影忍者 博人传之火影次世代210.mp4\r&tr=http://t.t789.me:2710/announce&tr=http://t.t789.co:2710/announce&tr=http://t.t789.vip:2710/announce</a><br>"
      ],
      "text/plain": [
       "<IPython.core.display.HTML object>"
      ]
     },
     "metadata": {},
     "output_type": "display_data"
    },
    {
     "data": {
      "text/html": [
       "<a href=\"magnet:?xt=urn:btih:d4e84c167434fdd788858ef0a3a54175c3336186&dn=火影忍者 博人传之火影次世代209.mp4\r&tr=http://t.t789.me:2710/announce&tr=http://t.t789.co:2710/announce&tr=http://t.t789.vip:2710/announce\">magnet:?xt=urn:btih:d4e84c167434fdd788858ef0a3a54175c3336186&dn=火影忍者 博人传之火影次世代209.mp4\r&tr=http://t.t789.me:2710/announce&tr=http://t.t789.co:2710/announce&tr=http://t.t789.vip:2710/announce</a><br>"
      ],
      "text/plain": [
       "<IPython.core.display.HTML object>"
      ]
     },
     "metadata": {},
     "output_type": "display_data"
    },
    {
     "data": {
      "text/html": [
       "<a href=\"magnet:?xt=urn:btih:1537c7d2793c1489a8cd073cfa2007dcdd374a20&dn=火影忍者 博人传之火影次世代208.mp4\r&tr=http://t.t789.me:2710/announce&tr=http://t.t789.co:2710/announce&tr=http://t.t789.vip:2710/announce\">magnet:?xt=urn:btih:1537c7d2793c1489a8cd073cfa2007dcdd374a20&dn=火影忍者 博人传之火影次世代208.mp4\r&tr=http://t.t789.me:2710/announce&tr=http://t.t789.co:2710/announce&tr=http://t.t789.vip:2710/announce</a><br>"
      ],
      "text/plain": [
       "<IPython.core.display.HTML object>"
      ]
     },
     "metadata": {},
     "output_type": "display_data"
    },
    {
     "data": {
      "text/html": [
       "<a href=\"magnet:?xt=urn:btih:b6d29bf79a833bdf6bbd30bb21cfc621214c7624&dn=火影忍者 博人传之火影次世代207.mp4\r&tr=http://t.t789.me:2710/announce&tr=http://t.t789.co:2710/announce&tr=http://t.t789.vip:2710/announce\">magnet:?xt=urn:btih:b6d29bf79a833bdf6bbd30bb21cfc621214c7624&dn=火影忍者 博人传之火影次世代207.mp4\r&tr=http://t.t789.me:2710/announce&tr=http://t.t789.co:2710/announce&tr=http://t.t789.vip:2710/announce</a><br>"
      ],
      "text/plain": [
       "<IPython.core.display.HTML object>"
      ]
     },
     "metadata": {},
     "output_type": "display_data"
    },
    {
     "data": {
      "text/html": [
       "<a href=\"magnet:?xt=urn:btih:3382f8614b28e55d70f584c0817efa0f9048b47d&dn=火影忍者 博人传之火影次世代206.mp4\r&tr=http://t.t789.me:2710/announce&tr=http://t.t789.co:2710/announce&tr=http://t.t789.vip:2710/announce\">magnet:?xt=urn:btih:3382f8614b28e55d70f584c0817efa0f9048b47d&dn=火影忍者 博人传之火影次世代206.mp4\r&tr=http://t.t789.me:2710/announce&tr=http://t.t789.co:2710/announce&tr=http://t.t789.vip:2710/announce</a><br>"
      ],
      "text/plain": [
       "<IPython.core.display.HTML object>"
      ]
     },
     "metadata": {},
     "output_type": "display_data"
    },
    {
     "data": {
      "text/html": [
       "<a href=\"magnet:?xt=urn:btih:005f150b6683a7da5e2229d1e67ecfd8eab0cae2&dn=火影忍者 博人传之火影次世代205.mp4\r&tr=http://t.t789.me:2710/announce&tr=http://t.t789.co:2710/announce&tr=http://t.t789.vip:2710/announce\">magnet:?xt=urn:btih:005f150b6683a7da5e2229d1e67ecfd8eab0cae2&dn=火影忍者 博人传之火影次世代205.mp4\r&tr=http://t.t789.me:2710/announce&tr=http://t.t789.co:2710/announce&tr=http://t.t789.vip:2710/announce</a><br>"
      ],
      "text/plain": [
       "<IPython.core.display.HTML object>"
      ]
     },
     "metadata": {},
     "output_type": "display_data"
    },
    {
     "data": {
      "text/html": [
       "<a href=\"magnet:?xt=urn:btih:97cfbc9c626d080ca5ae663d46dae05ef9e3fc0f&dn=火影忍者：博人传之次世代继承者204.mp4\r&tr=http://t.t789.me:2710/announce&tr=http://t.t789.co:2710/announce&tr=http://t.t789.vip:2710/announce\">magnet:?xt=urn:btih:97cfbc9c626d080ca5ae663d46dae05ef9e3fc0f&dn=火影忍者：博人传之次世代继承者204.mp4\r&tr=http://t.t789.me:2710/announce&tr=http://t.t789.co:2710/announce&tr=http://t.t789.vip:2710/announce</a><br>"
      ],
      "text/plain": [
       "<IPython.core.display.HTML object>"
      ]
     },
     "metadata": {},
     "output_type": "display_data"
    },
    {
     "data": {
      "text/html": [
       "<a href=\"magnet:?xt=urn:btih:f08458a4e797fe47ef53c31c10e313cb68d7ae8f&dn=火影忍者 博人传之火影次世代203.mp4\r&tr=http://t.t789.me:2710/announce&tr=http://t.t789.co:2710/announce&tr=http://t.t789.vip:2710/announce\">magnet:?xt=urn:btih:f08458a4e797fe47ef53c31c10e313cb68d7ae8f&dn=火影忍者 博人传之火影次世代203.mp4\r&tr=http://t.t789.me:2710/announce&tr=http://t.t789.co:2710/announce&tr=http://t.t789.vip:2710/announce</a><br>"
      ],
      "text/plain": [
       "<IPython.core.display.HTML object>"
      ]
     },
     "metadata": {},
     "output_type": "display_data"
    },
    {
     "data": {
      "text/html": [
       "<a href=\"magnet:?xt=urn:btih:a76e0986d2c66665f8a0b5dc3a57e2942031e6a6&dn=火影忍者 博人传之火影次世代202.mp4\r&tr=http://t.t789.me:2710/announce&tr=http://t.t789.co:2710/announce&tr=http://t.t789.vip:2710/announce\">magnet:?xt=urn:btih:a76e0986d2c66665f8a0b5dc3a57e2942031e6a6&dn=火影忍者 博人传之火影次世代202.mp4\r&tr=http://t.t789.me:2710/announce&tr=http://t.t789.co:2710/announce&tr=http://t.t789.vip:2710/announce</a><br>"
      ],
      "text/plain": [
       "<IPython.core.display.HTML object>"
      ]
     },
     "metadata": {},
     "output_type": "display_data"
    },
    {
     "data": {
      "text/html": [
       "<a href=\"magnet:?xt=urn:btih:1955f4afaffb8587e5dce0faf1da6d2f94957bef&dn=火影忍者：博人传之次世代继承者201.mp4\r&tr=http://t.t789.me:2710/announce&tr=http://t.t789.co:2710/announce&tr=http://t.t789.vip:2710/announce\">magnet:?xt=urn:btih:1955f4afaffb8587e5dce0faf1da6d2f94957bef&dn=火影忍者：博人传之次世代继承者201.mp4\r&tr=http://t.t789.me:2710/announce&tr=http://t.t789.co:2710/announce&tr=http://t.t789.vip:2710/announce</a><br>"
      ],
      "text/plain": [
       "<IPython.core.display.HTML object>"
      ]
     },
     "metadata": {},
     "output_type": "display_data"
    },
    {
     "data": {
      "text/html": [
       "<a href=\"magnet:?xt=urn:btih:3cb959d6597210302a544c85f676dc9e026a9552&dn=火影忍者 博人传之火影次世代200.mp4\r&tr=http://t.t789.me:2710/announce&tr=http://t.t789.co:2710/announce&tr=http://t.t789.vip:2710/announce\">magnet:?xt=urn:btih:3cb959d6597210302a544c85f676dc9e026a9552&dn=火影忍者 博人传之火影次世代200.mp4\r&tr=http://t.t789.me:2710/announce&tr=http://t.t789.co:2710/announce&tr=http://t.t789.vip:2710/announce</a><br>"
      ],
      "text/plain": [
       "<IPython.core.display.HTML object>"
      ]
     },
     "metadata": {},
     "output_type": "display_data"
    },
    {
     "data": {
      "text/html": [
       "<a href=\"magnet:?xt=urn:btih:cfec8d608d19779bd32524770f1e07d6053f5817&dn=火影忍者：博人传之次世代继承者199.mp4\r&tr=http://t.t789.me:2710/announce&tr=http://t.t789.co:2710/announce&tr=http://t.t789.vip:2710/announce\">magnet:?xt=urn:btih:cfec8d608d19779bd32524770f1e07d6053f5817&dn=火影忍者：博人传之次世代继承者199.mp4\r&tr=http://t.t789.me:2710/announce&tr=http://t.t789.co:2710/announce&tr=http://t.t789.vip:2710/announce</a><br>"
      ],
      "text/plain": [
       "<IPython.core.display.HTML object>"
      ]
     },
     "metadata": {},
     "output_type": "display_data"
    },
    {
     "data": {
      "text/html": [
       "<a href=\"magnet:?xt=urn:btih:d34a3ba3410f0a873e094af30a58e0f9606c44f2&dn=火影忍者：博人传之次世代继承者198.mp4\r&tr=http://t.t789.me:2710/announce&tr=http://t.t789.co:2710/announce&tr=http://t.t789.vip:2710/announce\">magnet:?xt=urn:btih:d34a3ba3410f0a873e094af30a58e0f9606c44f2&dn=火影忍者：博人传之次世代继承者198.mp4\r&tr=http://t.t789.me:2710/announce&tr=http://t.t789.co:2710/announce&tr=http://t.t789.vip:2710/announce</a><br>"
      ],
      "text/plain": [
       "<IPython.core.display.HTML object>"
      ]
     },
     "metadata": {},
     "output_type": "display_data"
    },
    {
     "data": {
      "text/html": [
       "<a href=\"magnet:?xt=urn:btih:d296925754ab09e10d6ba1ba11423b88b8e7411c&dn=火影忍者：博人传之次世代继承者197.mp4\r&tr=http://t.t789.me:2710/announce&tr=http://t.t789.co:2710/announce&tr=http://t.t789.vip:2710/announce\">magnet:?xt=urn:btih:d296925754ab09e10d6ba1ba11423b88b8e7411c&dn=火影忍者：博人传之次世代继承者197.mp4\r&tr=http://t.t789.me:2710/announce&tr=http://t.t789.co:2710/announce&tr=http://t.t789.vip:2710/announce</a><br>"
      ],
      "text/plain": [
       "<IPython.core.display.HTML object>"
      ]
     },
     "metadata": {},
     "output_type": "display_data"
    },
    {
     "data": {
      "text/html": [
       "<a href=\"magnet:?xt=urn:btih:16ba5d9e203b36cf6ec06bbd27660221a145c525&dn=火影忍者：博人传之次世代继承者196.mp4\r&tr=http://t.t789.me:2710/announce&tr=http://t.t789.co:2710/announce&tr=http://t.t789.vip:2710/announce\">magnet:?xt=urn:btih:16ba5d9e203b36cf6ec06bbd27660221a145c525&dn=火影忍者：博人传之次世代继承者196.mp4\r&tr=http://t.t789.me:2710/announce&tr=http://t.t789.co:2710/announce&tr=http://t.t789.vip:2710/announce</a><br>"
      ],
      "text/plain": [
       "<IPython.core.display.HTML object>"
      ]
     },
     "metadata": {},
     "output_type": "display_data"
    },
    {
     "data": {
      "text/html": [
       "<a href=\"magnet:?xt=urn:btih:bb36665d5b0d112c07f9777459ef5a90b5cec651&dn=火影忍者：博人传之次世代继承者195.mp4\r&tr=http://t.t789.me:2710/announce&tr=http://t.t789.co:2710/announce&tr=http://t.t789.vip:2710/announce\">magnet:?xt=urn:btih:bb36665d5b0d112c07f9777459ef5a90b5cec651&dn=火影忍者：博人传之次世代继承者195.mp4\r&tr=http://t.t789.me:2710/announce&tr=http://t.t789.co:2710/announce&tr=http://t.t789.vip:2710/announce</a><br>"
      ],
      "text/plain": [
       "<IPython.core.display.HTML object>"
      ]
     },
     "metadata": {},
     "output_type": "display_data"
    },
    {
     "data": {
      "text/html": [
       "<a href=\"magnet:?xt=urn:btih:de66774e515d964299820e46342988502a5ddf22&dn=火影忍者 博人传之火影次世代194.mp4\r&tr=http://t.t789.me:2710/announce&tr=http://t.t789.co:2710/announce&tr=http://t.t789.vip:2710/announce\">magnet:?xt=urn:btih:de66774e515d964299820e46342988502a5ddf22&dn=火影忍者 博人传之火影次世代194.mp4\r&tr=http://t.t789.me:2710/announce&tr=http://t.t789.co:2710/announce&tr=http://t.t789.vip:2710/announce</a><br>"
      ],
      "text/plain": [
       "<IPython.core.display.HTML object>"
      ]
     },
     "metadata": {},
     "output_type": "display_data"
    },
    {
     "data": {
      "text/html": [
       "<a href=\"magnet:?xt=urn:btih:4fcdb2c7b767c0a183fa6b8ad8876df0ba193b68&dn=火影忍者：博人传之次世代继承者193.mp4\r&tr=http://t.t789.me:2710/announce&tr=http://t.t789.co:2710/announce&tr=http://t.t789.vip:2710/announce\">magnet:?xt=urn:btih:4fcdb2c7b767c0a183fa6b8ad8876df0ba193b68&dn=火影忍者：博人传之次世代继承者193.mp4\r&tr=http://t.t789.me:2710/announce&tr=http://t.t789.co:2710/announce&tr=http://t.t789.vip:2710/announce</a><br>"
      ],
      "text/plain": [
       "<IPython.core.display.HTML object>"
      ]
     },
     "metadata": {},
     "output_type": "display_data"
    },
    {
     "data": {
      "text/html": [
       "<hr><p style='color:red;'>---- Next Group ----</p><hr>"
      ],
      "text/plain": [
       "<IPython.core.display.HTML object>"
      ]
     },
     "metadata": {},
     "output_type": "display_data"
    },
    {
     "data": {
      "text/html": [
       "<a href=\"magnet:?xt=urn:btih:652cafebc5954353e8e35ce95c5acb3c8c13c0db&dn=火影忍者 博人传之火影次世代192.mp4\r&tr=http://t.t789.me:2710/announce&tr=http://t.t789.co:2710/announce&tr=http://t.t789.vip:2710/announce\">magnet:?xt=urn:btih:652cafebc5954353e8e35ce95c5acb3c8c13c0db&dn=火影忍者 博人传之火影次世代192.mp4\r&tr=http://t.t789.me:2710/announce&tr=http://t.t789.co:2710/announce&tr=http://t.t789.vip:2710/announce</a><br>"
      ],
      "text/plain": [
       "<IPython.core.display.HTML object>"
      ]
     },
     "metadata": {},
     "output_type": "display_data"
    },
    {
     "data": {
      "text/html": [
       "<a href=\"magnet:?xt=urn:btih:33dd5558a20d32251ad84f9c07562a0935131389&dn=火影忍者：博人传之次世代继承者191.mp4\r&tr=http://t.t789.me:2710/announce&tr=http://t.t789.co:2710/announce&tr=http://t.t789.vip:2710/announce\">magnet:?xt=urn:btih:33dd5558a20d32251ad84f9c07562a0935131389&dn=火影忍者：博人传之次世代继承者191.mp4\r&tr=http://t.t789.me:2710/announce&tr=http://t.t789.co:2710/announce&tr=http://t.t789.vip:2710/announce</a><br>"
      ],
      "text/plain": [
       "<IPython.core.display.HTML object>"
      ]
     },
     "metadata": {},
     "output_type": "display_data"
    },
    {
     "data": {
      "text/html": [
       "<a href=\"magnet:?xt=urn:btih:e8026c6f07a29a85ac88c6ac4045ed40f76662d3&dn=火影忍者 博人传之火影次世代190.mp4\r&tr=http://t.t789.me:2710/announce&tr=http://t.t789.co:2710/announce&tr=http://t.t789.vip:2710/announce\">magnet:?xt=urn:btih:e8026c6f07a29a85ac88c6ac4045ed40f76662d3&dn=火影忍者 博人传之火影次世代190.mp4\r&tr=http://t.t789.me:2710/announce&tr=http://t.t789.co:2710/announce&tr=http://t.t789.vip:2710/announce</a><br>"
      ],
      "text/plain": [
       "<IPython.core.display.HTML object>"
      ]
     },
     "metadata": {},
     "output_type": "display_data"
    },
    {
     "data": {
      "text/html": [
       "<a href=\"magnet:?xt=urn:btih:03d9c385a5c5e2af9c521ef660ae470d0a8eb185&dn=火影忍者：博人传之次世代继承者189.mp4\r&tr=http://t.t789.me:2710/announce&tr=http://t.t789.co:2710/announce&tr=http://t.t789.vip:2710/announce\">magnet:?xt=urn:btih:03d9c385a5c5e2af9c521ef660ae470d0a8eb185&dn=火影忍者：博人传之次世代继承者189.mp4\r&tr=http://t.t789.me:2710/announce&tr=http://t.t789.co:2710/announce&tr=http://t.t789.vip:2710/announce</a><br>"
      ],
      "text/plain": [
       "<IPython.core.display.HTML object>"
      ]
     },
     "metadata": {},
     "output_type": "display_data"
    },
    {
     "data": {
      "text/html": [
       "<a href=\"magnet:?xt=urn:btih:d52904fff384177b2c6f4e7d8d6c977f3e452d84&dn=火影忍者：博人传之次世代继承者188.mp4\r&tr=http://t.t789.me:2710/announce&tr=http://t.t789.co:2710/announce&tr=http://t.t789.vip:2710/announce\">magnet:?xt=urn:btih:d52904fff384177b2c6f4e7d8d6c977f3e452d84&dn=火影忍者：博人传之次世代继承者188.mp4\r&tr=http://t.t789.me:2710/announce&tr=http://t.t789.co:2710/announce&tr=http://t.t789.vip:2710/announce</a><br>"
      ],
      "text/plain": [
       "<IPython.core.display.HTML object>"
      ]
     },
     "metadata": {},
     "output_type": "display_data"
    },
    {
     "data": {
      "text/html": [
       "<a href=\"magnet:?xt=urn:btih:72de3c68aa3e66e3ceea97c4c9247bff6d99612d&dn=火影忍者：博人传之次世代继承者187.mp4\r&tr=http://t.t789.me:2710/announce&tr=http://t.t789.co:2710/announce&tr=http://t.t789.vip:2710/announce\">magnet:?xt=urn:btih:72de3c68aa3e66e3ceea97c4c9247bff6d99612d&dn=火影忍者：博人传之次世代继承者187.mp4\r&tr=http://t.t789.me:2710/announce&tr=http://t.t789.co:2710/announce&tr=http://t.t789.vip:2710/announce</a><br>"
      ],
      "text/plain": [
       "<IPython.core.display.HTML object>"
      ]
     },
     "metadata": {},
     "output_type": "display_data"
    },
    {
     "data": {
      "text/html": [
       "<a href=\"magnet:?xt=urn:btih:2570fd20aa795ba84453c4cfad0695ab7875610f&dn=火影忍者：博人传之次世代继承者186.mp4\r&tr=http://t.t789.me:2710/announce&tr=http://t.t789.co:2710/announce&tr=http://t.t789.vip:2710/announce\">magnet:?xt=urn:btih:2570fd20aa795ba84453c4cfad0695ab7875610f&dn=火影忍者：博人传之次世代继承者186.mp4\r&tr=http://t.t789.me:2710/announce&tr=http://t.t789.co:2710/announce&tr=http://t.t789.vip:2710/announce</a><br>"
      ],
      "text/plain": [
       "<IPython.core.display.HTML object>"
      ]
     },
     "metadata": {},
     "output_type": "display_data"
    },
    {
     "data": {
      "text/html": [
       "<a href=\"magnet:?xt=urn:btih:14e43a098e02b40de9d7b6b5a6992e3a5c7fc581&dn=火影忍者：博人传之次世代继承者185.mp4\r&tr=http://t.t789.me:2710/announce&tr=http://t.t789.co:2710/announce&tr=http://t.t789.vip:2710/announce\">magnet:?xt=urn:btih:14e43a098e02b40de9d7b6b5a6992e3a5c7fc581&dn=火影忍者：博人传之次世代继承者185.mp4\r&tr=http://t.t789.me:2710/announce&tr=http://t.t789.co:2710/announce&tr=http://t.t789.vip:2710/announce</a><br>"
      ],
      "text/plain": [
       "<IPython.core.display.HTML object>"
      ]
     },
     "metadata": {},
     "output_type": "display_data"
    },
    {
     "data": {
      "text/html": [
       "<a href=\"magnet:?xt=urn:btih:B44FJZSP6FFJDOHQRAUC5RMX55RRPYTY&dn=博人传-火影忍者新时代第184集.mp4\r&tr=http://t.t789.me:2710/announce&tr=http://t.t789.co:2710/announce&tr=http://t.t789.vip:2710/announce\">magnet:?xt=urn:btih:B44FJZSP6FFJDOHQRAUC5RMX55RRPYTY&dn=博人传-火影忍者新时代第184集.mp4\r&tr=http://t.t789.me:2710/announce&tr=http://t.t789.co:2710/announce&tr=http://t.t789.vip:2710/announce</a><br>"
      ],
      "text/plain": [
       "<IPython.core.display.HTML object>"
      ]
     },
     "metadata": {},
     "output_type": "display_data"
    },
    {
     "data": {
      "text/html": [
       "<a href=\"magnet:?xt=urn:btih:6OWC5OCZ54YONPLEUMFKO4LNDAJ3UBUL&dn=博人传-火影忍者新时代第183集.mp4\r&tr=http://t.t789.me:2710/announce&tr=http://t.t789.co:2710/announce&tr=http://t.t789.vip:2710/announce\">magnet:?xt=urn:btih:6OWC5OCZ54YONPLEUMFKO4LNDAJ3UBUL&dn=博人传-火影忍者新时代第183集.mp4\r&tr=http://t.t789.me:2710/announce&tr=http://t.t789.co:2710/announce&tr=http://t.t789.vip:2710/announce</a><br>"
      ],
      "text/plain": [
       "<IPython.core.display.HTML object>"
      ]
     },
     "metadata": {},
     "output_type": "display_data"
    },
    {
     "data": {
      "text/html": [
       "<a href=\"magnet:?xt=urn:btih:2WAEDJNFUAQW5J624AELGW5GCUWVRIPT&dn=博人传-火影忍者新时代第182集.mp4\r&tr=http://t.t789.me:2710/announce&tr=http://t.t789.co:2710/announce&tr=http://t.t789.vip:2710/announce\">magnet:?xt=urn:btih:2WAEDJNFUAQW5J624AELGW5GCUWVRIPT&dn=博人传-火影忍者新时代第182集.mp4\r&tr=http://t.t789.me:2710/announce&tr=http://t.t789.co:2710/announce&tr=http://t.t789.vip:2710/announce</a><br>"
      ],
      "text/plain": [
       "<IPython.core.display.HTML object>"
      ]
     },
     "metadata": {},
     "output_type": "display_data"
    },
    {
     "data": {
      "text/html": [
       "<a href=\"magnet:?xt=urn:btih:2FAKZOITK5X3CFNFNH2IJVGNZ2HWGZ3M&dn=博人传-火影忍者新时代第181集.mp4\r&tr=http://t.t789.me:2710/announce&tr=http://t.t789.co:2710/announce&tr=http://t.t789.vip:2710/announce\">magnet:?xt=urn:btih:2FAKZOITK5X3CFNFNH2IJVGNZ2HWGZ3M&dn=博人传-火影忍者新时代第181集.mp4\r&tr=http://t.t789.me:2710/announce&tr=http://t.t789.co:2710/announce&tr=http://t.t789.vip:2710/announce</a><br>"
      ],
      "text/plain": [
       "<IPython.core.display.HTML object>"
      ]
     },
     "metadata": {},
     "output_type": "display_data"
    },
    {
     "data": {
      "text/html": [
       "<a href=\"magnet:?xt=urn:btih:4YIV2UXYGIOG2BUVRY6EDK5HKUFRTUIL&dn=博人传-火影忍者新时代第180集.mp4\r&tr=http://t.t789.me:2710/announce&tr=http://t.t789.co:2710/announce&tr=http://t.t789.vip:2710/announce\">magnet:?xt=urn:btih:4YIV2UXYGIOG2BUVRY6EDK5HKUFRTUIL&dn=博人传-火影忍者新时代第180集.mp4\r&tr=http://t.t789.me:2710/announce&tr=http://t.t789.co:2710/announce&tr=http://t.t789.vip:2710/announce</a><br>"
      ],
      "text/plain": [
       "<IPython.core.display.HTML object>"
      ]
     },
     "metadata": {},
     "output_type": "display_data"
    },
    {
     "data": {
      "text/html": [
       "<a href=\"magnet:?xt=urn:btih:QPIZBVD25OB5VGJHPDK2STAI7CR6EHQG&dn=博人传-火影忍者新时代第179集.mp4\r&tr=http://t.t789.me:2710/announce&tr=http://t.t789.co:2710/announce&tr=http://t.t789.vip:2710/announce\">magnet:?xt=urn:btih:QPIZBVD25OB5VGJHPDK2STAI7CR6EHQG&dn=博人传-火影忍者新时代第179集.mp4\r&tr=http://t.t789.me:2710/announce&tr=http://t.t789.co:2710/announce&tr=http://t.t789.vip:2710/announce</a><br>"
      ],
      "text/plain": [
       "<IPython.core.display.HTML object>"
      ]
     },
     "metadata": {},
     "output_type": "display_data"
    },
    {
     "data": {
      "text/html": [
       "<a href=\"magnet:?xt=urn:btih:A4OGU677I5Q2OWY2V44HPRYWHYWP2QWO&dn=博人传-火影忍者新时代第178集.mp4\r&tr=http://t.t789.me:2710/announce&tr=http://t.t789.co:2710/announce&tr=http://t.t789.vip:2710/announce\">magnet:?xt=urn:btih:A4OGU677I5Q2OWY2V44HPRYWHYWP2QWO&dn=博人传-火影忍者新时代第178集.mp4\r&tr=http://t.t789.me:2710/announce&tr=http://t.t789.co:2710/announce&tr=http://t.t789.vip:2710/announce</a><br>"
      ],
      "text/plain": [
       "<IPython.core.display.HTML object>"
      ]
     },
     "metadata": {},
     "output_type": "display_data"
    },
    {
     "data": {
      "text/html": [
       "<a href=\"magnet:?xt=urn:btih:EVPYKFISHKKQGKPR7VETHTPMZU7YB7U3&dn=博人传-火影忍者新时代第177集.mp4\r&tr=http://t.t789.me:2710/announce&tr=http://t.t789.co:2710/announce&tr=http://t.t789.vip:2710/announce\">magnet:?xt=urn:btih:EVPYKFISHKKQGKPR7VETHTPMZU7YB7U3&dn=博人传-火影忍者新时代第177集.mp4\r&tr=http://t.t789.me:2710/announce&tr=http://t.t789.co:2710/announce&tr=http://t.t789.vip:2710/announce</a><br>"
      ],
      "text/plain": [
       "<IPython.core.display.HTML object>"
      ]
     },
     "metadata": {},
     "output_type": "display_data"
    },
    {
     "data": {
      "text/html": [
       "<a href=\"magnet:?xt=urn:btih:PGQXD5QAN7TUNH6ZEYVNNQULCD4P26W6&dn=博人传-火影忍者新时代第176集.mp4\r&tr=http://t.t789.me:2710/announce&tr=http://t.t789.co:2710/announce&tr=http://t.t789.vip:2710/announce\">magnet:?xt=urn:btih:PGQXD5QAN7TUNH6ZEYVNNQULCD4P26W6&dn=博人传-火影忍者新时代第176集.mp4\r&tr=http://t.t789.me:2710/announce&tr=http://t.t789.co:2710/announce&tr=http://t.t789.vip:2710/announce</a><br>"
      ],
      "text/plain": [
       "<IPython.core.display.HTML object>"
      ]
     },
     "metadata": {},
     "output_type": "display_data"
    },
    {
     "data": {
      "text/html": [
       "<a href=\"magnet:?xt=urn:btih:XUCFBEE2PJ7DLTWUV6SD5NNWYQKZCQ76&dn=博人传-火影忍者新时代第175集.mp4\r&tr=http://t.t789.me:2710/announce&tr=http://t.t789.co:2710/announce&tr=http://t.t789.vip:2710/announce\">magnet:?xt=urn:btih:XUCFBEE2PJ7DLTWUV6SD5NNWYQKZCQ76&dn=博人传-火影忍者新时代第175集.mp4\r&tr=http://t.t789.me:2710/announce&tr=http://t.t789.co:2710/announce&tr=http://t.t789.vip:2710/announce</a><br>"
      ],
      "text/plain": [
       "<IPython.core.display.HTML object>"
      ]
     },
     "metadata": {},
     "output_type": "display_data"
    },
    {
     "data": {
      "text/html": [
       "<a href=\"magnet:?xt=urn:btih:E5QY6VXBPDFA7WBSJAQYHCCY3HVUXILW&dn=博人传-火影忍者新时代第174集.mp4\r&tr=http://t.t789.me:2710/announce&tr=http://t.t789.co:2710/announce&tr=http://t.t789.vip:2710/announce\">magnet:?xt=urn:btih:E5QY6VXBPDFA7WBSJAQYHCCY3HVUXILW&dn=博人传-火影忍者新时代第174集.mp4\r&tr=http://t.t789.me:2710/announce&tr=http://t.t789.co:2710/announce&tr=http://t.t789.vip:2710/announce</a><br>"
      ],
      "text/plain": [
       "<IPython.core.display.HTML object>"
      ]
     },
     "metadata": {},
     "output_type": "display_data"
    },
    {
     "data": {
      "text/html": [
       "<a href=\"magnet:?xt=urn:btih:753HZBNQ4BJT3K6LHMZ6IQV4L7NY36PR&dn=博人传-火影忍者新时代第173集.mp4\r&tr=http://t.t789.me:2710/announce&tr=http://t.t789.co:2710/announce&tr=http://t.t789.vip:2710/announce\">magnet:?xt=urn:btih:753HZBNQ4BJT3K6LHMZ6IQV4L7NY36PR&dn=博人传-火影忍者新时代第173集.mp4\r&tr=http://t.t789.me:2710/announce&tr=http://t.t789.co:2710/announce&tr=http://t.t789.vip:2710/announce</a><br>"
      ],
      "text/plain": [
       "<IPython.core.display.HTML object>"
      ]
     },
     "metadata": {},
     "output_type": "display_data"
    },
    {
     "data": {
      "text/html": [
       "<a href=\"magnet:?xt=urn:btih:H76D67VR5CNVBZU4VN6NEMACTCYVLQZP&dn=博人传-火影忍者新时代第171集.mp4\r&tr=http://t.t789.me:2710/announce&tr=http://t.t789.co:2710/announce&tr=http://t.t789.vip:2710/announce\">magnet:?xt=urn:btih:H76D67VR5CNVBZU4VN6NEMACTCYVLQZP&dn=博人传-火影忍者新时代第171集.mp4\r&tr=http://t.t789.me:2710/announce&tr=http://t.t789.co:2710/announce&tr=http://t.t789.vip:2710/announce</a><br>"
      ],
      "text/plain": [
       "<IPython.core.display.HTML object>"
      ]
     },
     "metadata": {},
     "output_type": "display_data"
    },
    {
     "data": {
      "text/html": [
       "<a href=\"magnet:?xt=urn:btih:HQPDYHCEAKKC4CGSCLHWCNWWIGHKBV6O&dn=博人传-火影忍者新时代第170集.mp4\r&tr=http://t.t789.me:2710/announce&tr=http://t.t789.co:2710/announce&tr=http://t.t789.vip:2710/announce\">magnet:?xt=urn:btih:HQPDYHCEAKKC4CGSCLHWCNWWIGHKBV6O&dn=博人传-火影忍者新时代第170集.mp4\r&tr=http://t.t789.me:2710/announce&tr=http://t.t789.co:2710/announce&tr=http://t.t789.vip:2710/announce</a><br>"
      ],
      "text/plain": [
       "<IPython.core.display.HTML object>"
      ]
     },
     "metadata": {},
     "output_type": "display_data"
    },
    {
     "data": {
      "text/html": [
       "<a href=\"magnet:?xt=urn:btih:CPNSRCLUD62YN33LGMXIBZF65QSITUXQ&dn=博人传-火影忍者新时代第169集.mp4\r&tr=http://t.t789.me:2710/announce&tr=http://t.t789.co:2710/announce&tr=http://t.t789.vip:2710/announce\">magnet:?xt=urn:btih:CPNSRCLUD62YN33LGMXIBZF65QSITUXQ&dn=博人传-火影忍者新时代第169集.mp4\r&tr=http://t.t789.me:2710/announce&tr=http://t.t789.co:2710/announce&tr=http://t.t789.vip:2710/announce</a><br>"
      ],
      "text/plain": [
       "<IPython.core.display.HTML object>"
      ]
     },
     "metadata": {},
     "output_type": "display_data"
    },
    {
     "data": {
      "text/html": [
       "<a href=\"magnet:?xt=urn:btih:S3M7WB3VJX4BVGOBKLTV6DG4MFT3S45O&dn=博人传-火影忍者新时代第168集.mp4\r&tr=http://t.t789.me:2710/announce&tr=http://t.t789.co:2710/announce&tr=http://t.t789.vip:2710/announce\">magnet:?xt=urn:btih:S3M7WB3VJX4BVGOBKLTV6DG4MFT3S45O&dn=博人传-火影忍者新时代第168集.mp4\r&tr=http://t.t789.me:2710/announce&tr=http://t.t789.co:2710/announce&tr=http://t.t789.vip:2710/announce</a><br>"
      ],
      "text/plain": [
       "<IPython.core.display.HTML object>"
      ]
     },
     "metadata": {},
     "output_type": "display_data"
    },
    {
     "data": {
      "text/html": [
       "<a href=\"magnet:?xt=urn:btih:2VRFAR2K7MZPVVGU675YCEA2NGTL6FJF&dn=博人传-火影忍者新时代第167集.mp4\r&tr=http://t.t789.me:2710/announce&tr=http://t.t789.co:2710/announce&tr=http://t.t789.vip:2710/announce\">magnet:?xt=urn:btih:2VRFAR2K7MZPVVGU675YCEA2NGTL6FJF&dn=博人传-火影忍者新时代第167集.mp4\r&tr=http://t.t789.me:2710/announce&tr=http://t.t789.co:2710/announce&tr=http://t.t789.vip:2710/announce</a><br>"
      ],
      "text/plain": [
       "<IPython.core.display.HTML object>"
      ]
     },
     "metadata": {},
     "output_type": "display_data"
    },
    {
     "data": {
      "text/html": [
       "<a href=\"magnet:?xt=urn:btih:DQE2DKAR6H36L7PO6KKAQFXELZ7SWACE&dn=博人传-火影忍者新时代第166集.mp4\r&tr=http://t.t789.me:2710/announce&tr=http://t.t789.co:2710/announce&tr=http://t.t789.vip:2710/announce\">magnet:?xt=urn:btih:DQE2DKAR6H36L7PO6KKAQFXELZ7SWACE&dn=博人传-火影忍者新时代第166集.mp4\r&tr=http://t.t789.me:2710/announce&tr=http://t.t789.co:2710/announce&tr=http://t.t789.vip:2710/announce</a><br>"
      ],
      "text/plain": [
       "<IPython.core.display.HTML object>"
      ]
     },
     "metadata": {},
     "output_type": "display_data"
    },
    {
     "data": {
      "text/html": [
       "<a href=\"magnet:?xt=urn:btih:SEMNP7PYMFPSFD6RGMTX7DQOHNJ5B3UK&dn=博人传-火影忍者新时代第165集.mp4\r&tr=http://t.t789.me:2710/announce&tr=http://t.t789.co:2710/announce&tr=http://t.t789.vip:2710/announce\">magnet:?xt=urn:btih:SEMNP7PYMFPSFD6RGMTX7DQOHNJ5B3UK&dn=博人传-火影忍者新时代第165集.mp4\r&tr=http://t.t789.me:2710/announce&tr=http://t.t789.co:2710/announce&tr=http://t.t789.vip:2710/announce</a><br>"
      ],
      "text/plain": [
       "<IPython.core.display.HTML object>"
      ]
     },
     "metadata": {},
     "output_type": "display_data"
    },
    {
     "data": {
      "text/html": [
       "<a href=\"magnet:?xt=urn:btih:IQ5X3IIPN3VZW7I7FWVMKP3CGHZSGDCI&dn=博人传-火影忍者新时代第164集.mp4\r&tr=http://t.t789.me:2710/announce&tr=http://t.t789.co:2710/announce&tr=http://t.t789.vip:2710/announce\">magnet:?xt=urn:btih:IQ5X3IIPN3VZW7I7FWVMKP3CGHZSGDCI&dn=博人传-火影忍者新时代第164集.mp4\r&tr=http://t.t789.me:2710/announce&tr=http://t.t789.co:2710/announce&tr=http://t.t789.vip:2710/announce</a><br>"
      ],
      "text/plain": [
       "<IPython.core.display.HTML object>"
      ]
     },
     "metadata": {},
     "output_type": "display_data"
    },
    {
     "data": {
      "text/html": [
       "<a href=\"magnet:?xt=urn:btih:DYA35HBAVLDTDM6DL62FGFIYEYUYIISZ&dn=博人传-火影忍者新时代第163集.mp4\r&tr=http://t.t789.me:2710/announce&tr=http://t.t789.co:2710/announce&tr=http://t.t789.vip:2710/announce\">magnet:?xt=urn:btih:DYA35HBAVLDTDM6DL62FGFIYEYUYIISZ&dn=博人传-火影忍者新时代第163集.mp4\r&tr=http://t.t789.me:2710/announce&tr=http://t.t789.co:2710/announce&tr=http://t.t789.vip:2710/announce</a><br>"
      ],
      "text/plain": [
       "<IPython.core.display.HTML object>"
      ]
     },
     "metadata": {},
     "output_type": "display_data"
    },
    {
     "data": {
      "text/html": [
       "<a href=\"magnet:?xt=urn:btih:6YVPBHRQNGMIQ5W35UU6LHBSSM2TL7RG&dn=博人传-火影忍者新时代第162集.mp4\r&tr=http://t.t789.me:2710/announce&tr=http://t.t789.co:2710/announce&tr=http://t.t789.vip:2710/announce\">magnet:?xt=urn:btih:6YVPBHRQNGMIQ5W35UU6LHBSSM2TL7RG&dn=博人传-火影忍者新时代第162集.mp4\r&tr=http://t.t789.me:2710/announce&tr=http://t.t789.co:2710/announce&tr=http://t.t789.vip:2710/announce</a><br>"
      ],
      "text/plain": [
       "<IPython.core.display.HTML object>"
      ]
     },
     "metadata": {},
     "output_type": "display_data"
    },
    {
     "data": {
      "text/html": [
       "<a href=\"magnet:?xt=urn:btih:WBNTW5VGH36GPU5UQA6GW727BP6PPSFZ&dn=博人传-火影忍者新时代第161集.mp4\r&tr=http://t.t789.me:2710/announce&tr=http://t.t789.co:2710/announce&tr=http://t.t789.vip:2710/announce\">magnet:?xt=urn:btih:WBNTW5VGH36GPU5UQA6GW727BP6PPSFZ&dn=博人传-火影忍者新时代第161集.mp4\r&tr=http://t.t789.me:2710/announce&tr=http://t.t789.co:2710/announce&tr=http://t.t789.vip:2710/announce</a><br>"
      ],
      "text/plain": [
       "<IPython.core.display.HTML object>"
      ]
     },
     "metadata": {},
     "output_type": "display_data"
    },
    {
     "data": {
      "text/html": [
       "<a href=\"magnet:?xt=urn:btih:NP5OMTCXQKH5BCNWM5WVJFRKI4DFDT7A&dn=[电影天堂www.dytt89.com]博人传-火影忍者新时代第160集.mp4\r&tr=http://t.t789.me:2710/announce&tr=http://t.t789.co:2710/announce&tr=http://t.t789.vip:2710/announce\">magnet:?xt=urn:btih:NP5OMTCXQKH5BCNWM5WVJFRKI4DFDT7A&dn=[电影天堂www.dytt89.com]博人传-火影忍者新时代第160集.mp4\r&tr=http://t.t789.me:2710/announce&tr=http://t.t789.co:2710/announce&tr=http://t.t789.vip:2710/announce</a><br>"
      ],
      "text/plain": [
       "<IPython.core.display.HTML object>"
      ]
     },
     "metadata": {},
     "output_type": "display_data"
    },
    {
     "data": {
      "text/html": [
       "<a href=\"magnet:?xt=urn:btih:27FXEJH3GJD7CFNOSX5CD36VTZ2W63U6&dn=[电影天堂www.dytt89.com]博人传-火影忍者新时代第159集.mp4\r&tr=http://t.t789.me:2710/announce&tr=http://t.t789.co:2710/announce&tr=http://t.t789.vip:2710/announce\">magnet:?xt=urn:btih:27FXEJH3GJD7CFNOSX5CD36VTZ2W63U6&dn=[电影天堂www.dytt89.com]博人传-火影忍者新时代第159集.mp4\r&tr=http://t.t789.me:2710/announce&tr=http://t.t789.co:2710/announce&tr=http://t.t789.vip:2710/announce</a><br>"
      ],
      "text/plain": [
       "<IPython.core.display.HTML object>"
      ]
     },
     "metadata": {},
     "output_type": "display_data"
    },
    {
     "data": {
      "text/html": [
       "<a href=\"magnet:?xt=urn:btih:CIUBJVVURLBYQI6B2FIPM3O52ZTLF4AY&dn=[电影天堂www.dytt89.com]博人传-火影忍者新时代第158集.mp4\r&tr=http://t.t789.me:2710/announce&tr=http://t.t789.co:2710/announce&tr=http://t.t789.vip:2710/announce\">magnet:?xt=urn:btih:CIUBJVVURLBYQI6B2FIPM3O52ZTLF4AY&dn=[电影天堂www.dytt89.com]博人传-火影忍者新时代第158集.mp4\r&tr=http://t.t789.me:2710/announce&tr=http://t.t789.co:2710/announce&tr=http://t.t789.vip:2710/announce</a><br>"
      ],
      "text/plain": [
       "<IPython.core.display.HTML object>"
      ]
     },
     "metadata": {},
     "output_type": "display_data"
    },
    {
     "data": {
      "text/html": [
       "<a href=\"magnet:?xt=urn:btih:VARA2I2YH3WABADTDK4HOP7RHDKB6GB7&dn=[电影天堂www.dytt89.com]博人传-火影忍者新时代第157集.mp4\r&tr=http://t.t789.me:2710/announce&tr=http://t.t789.co:2710/announce&tr=http://t.t789.vip:2710/announce\">magnet:?xt=urn:btih:VARA2I2YH3WABADTDK4HOP7RHDKB6GB7&dn=[电影天堂www.dytt89.com]博人传-火影忍者新时代第157集.mp4\r&tr=http://t.t789.me:2710/announce&tr=http://t.t789.co:2710/announce&tr=http://t.t789.vip:2710/announce</a><br>"
      ],
      "text/plain": [
       "<IPython.core.display.HTML object>"
      ]
     },
     "metadata": {},
     "output_type": "display_data"
    },
    {
     "data": {
      "text/html": [
       "<a href=\"magnet:?xt=urn:btih:6VPZODVOPRI6AZOGGB6UWB7NBKGVDZQY&dn=[电影天堂www.dytt89.com]博人传-火影忍者新时代第156集.mp4\r&tr=http://t.t789.me:2710/announce&tr=http://t.t789.co:2710/announce&tr=http://t.t789.vip:2710/announce\">magnet:?xt=urn:btih:6VPZODVOPRI6AZOGGB6UWB7NBKGVDZQY&dn=[电影天堂www.dytt89.com]博人传-火影忍者新时代第156集.mp4\r&tr=http://t.t789.me:2710/announce&tr=http://t.t789.co:2710/announce&tr=http://t.t789.vip:2710/announce</a><br>"
      ],
      "text/plain": [
       "<IPython.core.display.HTML object>"
      ]
     },
     "metadata": {},
     "output_type": "display_data"
    },
    {
     "data": {
      "text/html": [
       "<a href=\"magnet:?xt=urn:btih:UNZXP2O6PJBCHEIIQBL5SKAUAHRR74LF&dn=[电影天堂www.dytt89.com]博人传-火影忍者新时代第155集.mp4\r&tr=http://t.t789.me:2710/announce&tr=http://t.t789.co:2710/announce&tr=http://t.t789.vip:2710/announce\">magnet:?xt=urn:btih:UNZXP2O6PJBCHEIIQBL5SKAUAHRR74LF&dn=[电影天堂www.dytt89.com]博人传-火影忍者新时代第155集.mp4\r&tr=http://t.t789.me:2710/announce&tr=http://t.t789.co:2710/announce&tr=http://t.t789.vip:2710/announce</a><br>"
      ],
      "text/plain": [
       "<IPython.core.display.HTML object>"
      ]
     },
     "metadata": {},
     "output_type": "display_data"
    },
    {
     "data": {
      "text/html": [
       "<a href=\"magnet:?xt=urn:btih:PDHAOTYFZN3HWYOW4BWTLHDFAUBSO3PA&dn=[电影天堂www.dy2018.com]博人传-火影忍者新时代第154集.mp4\r&tr=http://t.t789.me:2710/announce&tr=http://t.t789.co:2710/announce&tr=http://t.t789.vip:2710/announce\">magnet:?xt=urn:btih:PDHAOTYFZN3HWYOW4BWTLHDFAUBSO3PA&dn=[电影天堂www.dy2018.com]博人传-火影忍者新时代第154集.mp4\r&tr=http://t.t789.me:2710/announce&tr=http://t.t789.co:2710/announce&tr=http://t.t789.vip:2710/announce</a><br>"
      ],
      "text/plain": [
       "<IPython.core.display.HTML object>"
      ]
     },
     "metadata": {},
     "output_type": "display_data"
    },
    {
     "data": {
      "text/html": [
       "<a href=\"magnet:?xt=urn:btih:SB5BQBFXWFYMS5CC6EGU6DZVNNB2DMNE&dn=[电影天堂www.dy2018.com]博人传-火影忍者新时代第153集.mp4\r&tr=http://t.t789.me:2710/announce&tr=http://t.t789.co:2710/announce&tr=http://t.t789.vip:2710/announce\">magnet:?xt=urn:btih:SB5BQBFXWFYMS5CC6EGU6DZVNNB2DMNE&dn=[电影天堂www.dy2018.com]博人传-火影忍者新时代第153集.mp4\r&tr=http://t.t789.me:2710/announce&tr=http://t.t789.co:2710/announce&tr=http://t.t789.vip:2710/announce</a><br>"
      ],
      "text/plain": [
       "<IPython.core.display.HTML object>"
      ]
     },
     "metadata": {},
     "output_type": "display_data"
    },
    {
     "data": {
      "text/html": [
       "<a href=\"magnet:?xt=urn:btih:THGRCKTPUCIHVDKNCDE6WGXONE3SKGTN&dn=[电影天堂www.dy2018.com]博人传-火影忍者新时代第152集.mp4\r&tr=http://t.t789.me:2710/announce&tr=http://t.t789.co:2710/announce&tr=http://t.t789.vip:2710/announce\">magnet:?xt=urn:btih:THGRCKTPUCIHVDKNCDE6WGXONE3SKGTN&dn=[电影天堂www.dy2018.com]博人传-火影忍者新时代第152集.mp4\r&tr=http://t.t789.me:2710/announce&tr=http://t.t789.co:2710/announce&tr=http://t.t789.vip:2710/announce</a><br>"
      ],
      "text/plain": [
       "<IPython.core.display.HTML object>"
      ]
     },
     "metadata": {},
     "output_type": "display_data"
    },
    {
     "data": {
      "text/html": [
       "<a href=\"magnet:?xt=urn:btih:QX43XOQCFVB4OF4ZYH5HLMXSA42YCD4F&dn=[电影天堂www.dy2018.com]博人传-火影忍者新时代第151集.mp4\r&tr=http://t.t789.me:2710/announce&tr=http://t.t789.co:2710/announce&tr=http://t.t789.vip:2710/announce\">magnet:?xt=urn:btih:QX43XOQCFVB4OF4ZYH5HLMXSA42YCD4F&dn=[电影天堂www.dy2018.com]博人传-火影忍者新时代第151集.mp4\r&tr=http://t.t789.me:2710/announce&tr=http://t.t789.co:2710/announce&tr=http://t.t789.vip:2710/announce</a><br>"
      ],
      "text/plain": [
       "<IPython.core.display.HTML object>"
      ]
     },
     "metadata": {},
     "output_type": "display_data"
    },
    {
     "data": {
      "text/html": [
       "<a href=\"magnet:?xt=urn:btih:IIHEJDFM4BIAHQFEWCSBWGOE6SXDLOQG&dn=[电影天堂www.dy2018.com]博人传-火影忍者新时代第150集.mp4\r&tr=http://t.t789.me:2710/announce&tr=http://t.t789.co:2710/announce&tr=http://t.t789.vip:2710/announce\">magnet:?xt=urn:btih:IIHEJDFM4BIAHQFEWCSBWGOE6SXDLOQG&dn=[电影天堂www.dy2018.com]博人传-火影忍者新时代第150集.mp4\r&tr=http://t.t789.me:2710/announce&tr=http://t.t789.co:2710/announce&tr=http://t.t789.vip:2710/announce</a><br>"
      ],
      "text/plain": [
       "<IPython.core.display.HTML object>"
      ]
     },
     "metadata": {},
     "output_type": "display_data"
    },
    {
     "data": {
      "text/html": [
       "<a href=\"magnet:?xt=urn:btih:65HIUHN3V74TI2VLMLE73MHKY4BY3RTW&dn=[电影天堂www.dy2018.com]博人传-火影忍者新时代第149集.mp4\r&tr=http://t.t789.me:2710/announce&tr=http://t.t789.co:2710/announce&tr=http://t.t789.vip:2710/announce\">magnet:?xt=urn:btih:65HIUHN3V74TI2VLMLE73MHKY4BY3RTW&dn=[电影天堂www.dy2018.com]博人传-火影忍者新时代第149集.mp4\r&tr=http://t.t789.me:2710/announce&tr=http://t.t789.co:2710/announce&tr=http://t.t789.vip:2710/announce</a><br>"
      ],
      "text/plain": [
       "<IPython.core.display.HTML object>"
      ]
     },
     "metadata": {},
     "output_type": "display_data"
    },
    {
     "data": {
      "text/html": [
       "<a href=\"magnet:?xt=urn:btih:2M5TMHPTE7BKWAG67DMWELD6L7U2IVFE&dn=[电影天堂www.dy2018.com]博人传-火影忍者新时代第148集.mp4\r&tr=http://t.t789.me:2710/announce&tr=http://t.t789.co:2710/announce&tr=http://t.t789.vip:2710/announce\">magnet:?xt=urn:btih:2M5TMHPTE7BKWAG67DMWELD6L7U2IVFE&dn=[电影天堂www.dy2018.com]博人传-火影忍者新时代第148集.mp4\r&tr=http://t.t789.me:2710/announce&tr=http://t.t789.co:2710/announce&tr=http://t.t789.vip:2710/announce</a><br>"
      ],
      "text/plain": [
       "<IPython.core.display.HTML object>"
      ]
     },
     "metadata": {},
     "output_type": "display_data"
    },
    {
     "data": {
      "text/html": [
       "<a href=\"magnet:?xt=urn:btih:ECTLB4T5GQG5LQFLDYIE7ESDJMX6IVFJ&dn=[电影天堂www.dy2018.com]博人传-火影忍者新时代第147集.mp4\r&tr=http://t.t789.me:2710/announce&tr=http://t.t789.co:2710/announce&tr=http://t.t789.vip:2710/announce\">magnet:?xt=urn:btih:ECTLB4T5GQG5LQFLDYIE7ESDJMX6IVFJ&dn=[电影天堂www.dy2018.com]博人传-火影忍者新时代第147集.mp4\r&tr=http://t.t789.me:2710/announce&tr=http://t.t789.co:2710/announce&tr=http://t.t789.vip:2710/announce</a><br>"
      ],
      "text/plain": [
       "<IPython.core.display.HTML object>"
      ]
     },
     "metadata": {},
     "output_type": "display_data"
    },
    {
     "data": {
      "text/html": [
       "<a href=\"magnet:?xt=urn:btih:AQAE4DE5WLLXVFKQJXVHRRVYFY3KSFQL&dn=[电影天堂www.dy2018.com]博人传-火影忍者新时代第146集.mp4\r&tr=http://t.t789.me:2710/announce&tr=http://t.t789.co:2710/announce&tr=http://t.t789.vip:2710/announce\">magnet:?xt=urn:btih:AQAE4DE5WLLXVFKQJXVHRRVYFY3KSFQL&dn=[电影天堂www.dy2018.com]博人传-火影忍者新时代第146集.mp4\r&tr=http://t.t789.me:2710/announce&tr=http://t.t789.co:2710/announce&tr=http://t.t789.vip:2710/announce</a><br>"
      ],
      "text/plain": [
       "<IPython.core.display.HTML object>"
      ]
     },
     "metadata": {},
     "output_type": "display_data"
    },
    {
     "data": {
      "text/html": [
       "<a href=\"magnet:?xt=urn:btih:36VSQLN7TZZIDKPSCYT6356OQMMJMIBE&dn=[电影天堂www.dy2018.com]博人传-火影忍者新时代第145集.mp4\r&tr=http://t.t789.me:2710/announce&tr=http://t.t789.co:2710/announce&tr=http://t.t789.vip:2710/announce\">magnet:?xt=urn:btih:36VSQLN7TZZIDKPSCYT6356OQMMJMIBE&dn=[电影天堂www.dy2018.com]博人传-火影忍者新时代第145集.mp4\r&tr=http://t.t789.me:2710/announce&tr=http://t.t789.co:2710/announce&tr=http://t.t789.vip:2710/announce</a><br>"
      ],
      "text/plain": [
       "<IPython.core.display.HTML object>"
      ]
     },
     "metadata": {},
     "output_type": "display_data"
    },
    {
     "data": {
      "text/html": [
       "<a href=\"magnet:?xt=urn:btih:BYJUFES4XGKUOMAINMJUG46IFNSKQFZ7&dn=[电影天堂www.dy2018.com]博人传-火影忍者新时代第144集.mp4\r&tr=http://t.t789.me:2710/announce&tr=http://t.t789.co:2710/announce&tr=http://t.t789.vip:2710/announce\">magnet:?xt=urn:btih:BYJUFES4XGKUOMAINMJUG46IFNSKQFZ7&dn=[电影天堂www.dy2018.com]博人传-火影忍者新时代第144集.mp4\r&tr=http://t.t789.me:2710/announce&tr=http://t.t789.co:2710/announce&tr=http://t.t789.vip:2710/announce</a><br>"
      ],
      "text/plain": [
       "<IPython.core.display.HTML object>"
      ]
     },
     "metadata": {},
     "output_type": "display_data"
    },
    {
     "data": {
      "text/html": [
       "<a href=\"magnet:?xt=urn:btih:M6EGXUUIE7F7XLYAFXG27BBUIVLNYH6Q&dn=[电影天堂www.dy2018.com]博人传-火影忍者新时代第143集.mp4\r&tr=http://t.t789.me:2710/announce&tr=http://t.t789.co:2710/announce&tr=http://t.t789.vip:2710/announce\">magnet:?xt=urn:btih:M6EGXUUIE7F7XLYAFXG27BBUIVLNYH6Q&dn=[电影天堂www.dy2018.com]博人传-火影忍者新时代第143集.mp4\r&tr=http://t.t789.me:2710/announce&tr=http://t.t789.co:2710/announce&tr=http://t.t789.vip:2710/announce</a><br>"
      ],
      "text/plain": [
       "<IPython.core.display.HTML object>"
      ]
     },
     "metadata": {},
     "output_type": "display_data"
    },
    {
     "data": {
      "text/html": [
       "<a href=\"magnet:?xt=urn:btih:T6QWABBP7J4ACIZCJLBIZPGI2UIRPBL3&dn=[电影天堂www.dy2018.com]博人传-火影忍者新时代第139-142集.mp4\r&tr=http://t.t789.me:2710/announce&tr=http://t.t789.co:2710/announce&tr=http://t.t789.vip:2710/announce\">magnet:?xt=urn:btih:T6QWABBP7J4ACIZCJLBIZPGI2UIRPBL3&dn=[电影天堂www.dy2018.com]博人传-火影忍者新时代第139-142集.mp4\r&tr=http://t.t789.me:2710/announce&tr=http://t.t789.co:2710/announce&tr=http://t.t789.vip:2710/announce</a><br>"
      ],
      "text/plain": [
       "<IPython.core.display.HTML object>"
      ]
     },
     "metadata": {},
     "output_type": "display_data"
    },
    {
     "data": {
      "text/html": [
       "<hr><p style='color:red;'>---- Next Group ----</p><hr>"
      ],
      "text/plain": [
       "<IPython.core.display.HTML object>"
      ]
     },
     "metadata": {},
     "output_type": "display_data"
    },
    {
     "data": {
      "text/html": [
       "<a href=\"magnet:?xt=urn:btih:YJFCYEH2U2U53T2NNZT65T5RRZ55SKZH&dn=[电影天堂www.dy2018.com]博人传-火影忍者新时代第138集.mp4\r&tr=http://t.t789.me:2710/announce&tr=http://t.t789.co:2710/announce&tr=http://t.t789.vip:2710/announce\">magnet:?xt=urn:btih:YJFCYEH2U2U53T2NNZT65T5RRZ55SKZH&dn=[电影天堂www.dy2018.com]博人传-火影忍者新时代第138集.mp4\r&tr=http://t.t789.me:2710/announce&tr=http://t.t789.co:2710/announce&tr=http://t.t789.vip:2710/announce</a><br>"
      ],
      "text/plain": [
       "<IPython.core.display.HTML object>"
      ]
     },
     "metadata": {},
     "output_type": "display_data"
    },
    {
     "data": {
      "text/html": [
       "<a href=\"magnet:?xt=urn:btih:KXSUGUQRULQTB2JLAKASWNF67IRYIE65&dn=[电影天堂www.dy2018.com]博人传-火影忍者新时代第137集.mp4\r&tr=http://t.t789.me:2710/announce&tr=http://t.t789.co:2710/announce&tr=http://t.t789.vip:2710/announce\">magnet:?xt=urn:btih:KXSUGUQRULQTB2JLAKASWNF67IRYIE65&dn=[电影天堂www.dy2018.com]博人传-火影忍者新时代第137集.mp4\r&tr=http://t.t789.me:2710/announce&tr=http://t.t789.co:2710/announce&tr=http://t.t789.vip:2710/announce</a><br>"
      ],
      "text/plain": [
       "<IPython.core.display.HTML object>"
      ]
     },
     "metadata": {},
     "output_type": "display_data"
    },
    {
     "data": {
      "text/html": [
       "<a href=\"magnet:?xt=urn:btih:4XUUFQWNDSR3VIQ65LLFHNIKIBXHR6YO&dn=[电影天堂www.dy2018.com]博人传-火影忍者新时代第136集.mp4\r&tr=http://t.t789.me:2710/announce&tr=http://t.t789.co:2710/announce&tr=http://t.t789.vip:2710/announce\">magnet:?xt=urn:btih:4XUUFQWNDSR3VIQ65LLFHNIKIBXHR6YO&dn=[电影天堂www.dy2018.com]博人传-火影忍者新时代第136集.mp4\r&tr=http://t.t789.me:2710/announce&tr=http://t.t789.co:2710/announce&tr=http://t.t789.vip:2710/announce</a><br>"
      ],
      "text/plain": [
       "<IPython.core.display.HTML object>"
      ]
     },
     "metadata": {},
     "output_type": "display_data"
    },
    {
     "data": {
      "text/html": [
       "<a href=\"magnet:?xt=urn:btih:X6AAQ7UYX25JZLGQVW5GGAAQBVW57RNU&dn=[电影天堂www.dy2018.com]博人传-火影忍者新时代第135集.mp4\r&tr=http://t.t789.me:2710/announce&tr=http://t.t789.co:2710/announce&tr=http://t.t789.vip:2710/announce\">magnet:?xt=urn:btih:X6AAQ7UYX25JZLGQVW5GGAAQBVW57RNU&dn=[电影天堂www.dy2018.com]博人传-火影忍者新时代第135集.mp4\r&tr=http://t.t789.me:2710/announce&tr=http://t.t789.co:2710/announce&tr=http://t.t789.vip:2710/announce</a><br>"
      ],
      "text/plain": [
       "<IPython.core.display.HTML object>"
      ]
     },
     "metadata": {},
     "output_type": "display_data"
    },
    {
     "data": {
      "text/html": [
       "<a href=\"magnet:?xt=urn:btih:Z5ARIMOIDDJDYZKKLMH3XB5O4O5JO3LX&dn=[电影天堂www.dy2018.com]博人传-火影忍者新时代第134集.mp4\r&tr=http://t.t789.me:2710/announce&tr=http://t.t789.co:2710/announce&tr=http://t.t789.vip:2710/announce\">magnet:?xt=urn:btih:Z5ARIMOIDDJDYZKKLMH3XB5O4O5JO3LX&dn=[电影天堂www.dy2018.com]博人传-火影忍者新时代第134集.mp4\r&tr=http://t.t789.me:2710/announce&tr=http://t.t789.co:2710/announce&tr=http://t.t789.vip:2710/announce</a><br>"
      ],
      "text/plain": [
       "<IPython.core.display.HTML object>"
      ]
     },
     "metadata": {},
     "output_type": "display_data"
    },
    {
     "data": {
      "text/html": [
       "<a href=\"magnet:?xt=urn:btih:QDVLWYIYQIK7VAHKSITJRXEREBCDLBAQ&dn=[电影天堂www.dy2018.com]博人传-火影忍者新时代第133集.mp4\r&tr=http://t.t789.me:2710/announce&tr=http://t.t789.co:2710/announce&tr=http://t.t789.vip:2710/announce\">magnet:?xt=urn:btih:QDVLWYIYQIK7VAHKSITJRXEREBCDLBAQ&dn=[电影天堂www.dy2018.com]博人传-火影忍者新时代第133集.mp4\r&tr=http://t.t789.me:2710/announce&tr=http://t.t789.co:2710/announce&tr=http://t.t789.vip:2710/announce</a><br>"
      ],
      "text/plain": [
       "<IPython.core.display.HTML object>"
      ]
     },
     "metadata": {},
     "output_type": "display_data"
    },
    {
     "data": {
      "text/html": [
       "<a href=\"magnet:?xt=urn:btih:CHCJPLQBH7NN6BBG3DLNL7OLEHGK7WG7&dn=[电影天堂www.dy2018.com]博人传-火影忍者新时代第132集.mp4\r&tr=http://t.t789.me:2710/announce&tr=http://t.t789.co:2710/announce&tr=http://t.t789.vip:2710/announce\">magnet:?xt=urn:btih:CHCJPLQBH7NN6BBG3DLNL7OLEHGK7WG7&dn=[电影天堂www.dy2018.com]博人传-火影忍者新时代第132集.mp4\r&tr=http://t.t789.me:2710/announce&tr=http://t.t789.co:2710/announce&tr=http://t.t789.vip:2710/announce</a><br>"
      ],
      "text/plain": [
       "<IPython.core.display.HTML object>"
      ]
     },
     "metadata": {},
     "output_type": "display_data"
    },
    {
     "data": {
      "text/html": [
       "<a href=\"magnet:?xt=urn:btih:UFZWRQD2GHALKXWPVY4COO34UP4RY6BX&dn=[电影天堂www.dy2018.com]博人传-火影忍者新时代第131集.mp4\r&tr=http://t.t789.me:2710/announce&tr=http://t.t789.co:2710/announce&tr=http://t.t789.vip:2710/announce\">magnet:?xt=urn:btih:UFZWRQD2GHALKXWPVY4COO34UP4RY6BX&dn=[电影天堂www.dy2018.com]博人传-火影忍者新时代第131集.mp4\r&tr=http://t.t789.me:2710/announce&tr=http://t.t789.co:2710/announce&tr=http://t.t789.vip:2710/announce</a><br>"
      ],
      "text/plain": [
       "<IPython.core.display.HTML object>"
      ]
     },
     "metadata": {},
     "output_type": "display_data"
    },
    {
     "data": {
      "text/html": [
       "<a href=\"magnet:?xt=urn:btih:PC3YYLPI3XXBMBHEFNOGXBJTO3P3RC7J&dn=[电影天堂www.dy2018.com]博人传-火影忍者新时代第130集.mp4\r&tr=http://t.t789.me:2710/announce&tr=http://t.t789.co:2710/announce&tr=http://t.t789.vip:2710/announce\">magnet:?xt=urn:btih:PC3YYLPI3XXBMBHEFNOGXBJTO3P3RC7J&dn=[电影天堂www.dy2018.com]博人传-火影忍者新时代第130集.mp4\r&tr=http://t.t789.me:2710/announce&tr=http://t.t789.co:2710/announce&tr=http://t.t789.vip:2710/announce</a><br>"
      ],
      "text/plain": [
       "<IPython.core.display.HTML object>"
      ]
     },
     "metadata": {},
     "output_type": "display_data"
    },
    {
     "data": {
      "text/html": [
       "<a href=\"magnet:?xt=urn:btih:WQUQYWKVP4LJZGINIIWF7GE42AMB5PZL&dn=[电影天堂www.dy2018.com]博人传-火影忍者新时代第129集.mp4\r&tr=http://t.t789.me:2710/announce&tr=http://t.t789.co:2710/announce&tr=http://t.t789.vip:2710/announce\">magnet:?xt=urn:btih:WQUQYWKVP4LJZGINIIWF7GE42AMB5PZL&dn=[电影天堂www.dy2018.com]博人传-火影忍者新时代第129集.mp4\r&tr=http://t.t789.me:2710/announce&tr=http://t.t789.co:2710/announce&tr=http://t.t789.vip:2710/announce</a><br>"
      ],
      "text/plain": [
       "<IPython.core.display.HTML object>"
      ]
     },
     "metadata": {},
     "output_type": "display_data"
    },
    {
     "data": {
      "text/html": [
       "<a href=\"magnet:?xt=urn:btih:4SDVNFSPBDGIXLE2YO7XC6K3YEH2L5NW&dn=[电影天堂www.dy2018.com]博人传-火影忍者新时代第128集.mp4\r&tr=http://t.t789.me:2710/announce&tr=http://t.t789.co:2710/announce&tr=http://t.t789.vip:2710/announce\">magnet:?xt=urn:btih:4SDVNFSPBDGIXLE2YO7XC6K3YEH2L5NW&dn=[电影天堂www.dy2018.com]博人传-火影忍者新时代第128集.mp4\r&tr=http://t.t789.me:2710/announce&tr=http://t.t789.co:2710/announce&tr=http://t.t789.vip:2710/announce</a><br>"
      ],
      "text/plain": [
       "<IPython.core.display.HTML object>"
      ]
     },
     "metadata": {},
     "output_type": "display_data"
    },
    {
     "data": {
      "text/html": [
       "<a href=\"magnet:?xt=urn:btih:IIFBD6HGQKKRO42CSOXBHSGPI2LQEYQT&dn=[电影天堂www.dy2018.com]博人传-火影忍者新时代第127集.mp4\r&tr=http://t.t789.me:2710/announce&tr=http://t.t789.co:2710/announce&tr=http://t.t789.vip:2710/announce\">magnet:?xt=urn:btih:IIFBD6HGQKKRO42CSOXBHSGPI2LQEYQT&dn=[电影天堂www.dy2018.com]博人传-火影忍者新时代第127集.mp4\r&tr=http://t.t789.me:2710/announce&tr=http://t.t789.co:2710/announce&tr=http://t.t789.vip:2710/announce</a><br>"
      ],
      "text/plain": [
       "<IPython.core.display.HTML object>"
      ]
     },
     "metadata": {},
     "output_type": "display_data"
    },
    {
     "data": {
      "text/html": [
       "<a href=\"magnet:?xt=urn:btih:UQWV44PHYY5IDYNO23IICOA65Q4Q7W64&dn=[电影天堂www.dy2018.com]博人传-火影忍者新时代第126集.mp4\r&tr=http://t.t789.me:2710/announce&tr=http://t.t789.co:2710/announce&tr=http://t.t789.vip:2710/announce\">magnet:?xt=urn:btih:UQWV44PHYY5IDYNO23IICOA65Q4Q7W64&dn=[电影天堂www.dy2018.com]博人传-火影忍者新时代第126集.mp4\r&tr=http://t.t789.me:2710/announce&tr=http://t.t789.co:2710/announce&tr=http://t.t789.vip:2710/announce</a><br>"
      ],
      "text/plain": [
       "<IPython.core.display.HTML object>"
      ]
     },
     "metadata": {},
     "output_type": "display_data"
    },
    {
     "data": {
      "text/html": [
       "<a href=\"magnet:?xt=urn:btih:UR5BVF62FPHIFJMIGEUTX776XUTSPDWG&dn=[电影天堂www.dy2018.com]博人传-火影忍者新时代第125集.mp4\r&tr=http://t.t789.me:2710/announce&tr=http://t.t789.co:2710/announce&tr=http://t.t789.vip:2710/announce\">magnet:?xt=urn:btih:UR5BVF62FPHIFJMIGEUTX776XUTSPDWG&dn=[电影天堂www.dy2018.com]博人传-火影忍者新时代第125集.mp4\r&tr=http://t.t789.me:2710/announce&tr=http://t.t789.co:2710/announce&tr=http://t.t789.vip:2710/announce</a><br>"
      ],
      "text/plain": [
       "<IPython.core.display.HTML object>"
      ]
     },
     "metadata": {},
     "output_type": "display_data"
    },
    {
     "data": {
      "text/html": [
       "<a href=\"magnet:?xt=urn:btih:QF77U72HYDBQ7HHECPTVUUHOZZM2UERT&dn=[电影天堂www.dy2018.com]博人传-火影忍者新时代第124集.mp4\r&tr=http://t.t789.me:2710/announce&tr=http://t.t789.co:2710/announce&tr=http://t.t789.vip:2710/announce\">magnet:?xt=urn:btih:QF77U72HYDBQ7HHECPTVUUHOZZM2UERT&dn=[电影天堂www.dy2018.com]博人传-火影忍者新时代第124集.mp4\r&tr=http://t.t789.me:2710/announce&tr=http://t.t789.co:2710/announce&tr=http://t.t789.vip:2710/announce</a><br>"
      ],
      "text/plain": [
       "<IPython.core.display.HTML object>"
      ]
     },
     "metadata": {},
     "output_type": "display_data"
    },
    {
     "data": {
      "text/html": [
       "<a href=\"magnet:?xt=urn:btih:JNRYKKOTNUS5GNKFLXWGVCLUVXHOL3ZW&dn=[电影天堂www.dy2018.com]博人传-火影忍者新时代第123集.mp4\r&tr=http://t.t789.me:2710/announce&tr=http://t.t789.co:2710/announce&tr=http://t.t789.vip:2710/announce\">magnet:?xt=urn:btih:JNRYKKOTNUS5GNKFLXWGVCLUVXHOL3ZW&dn=[电影天堂www.dy2018.com]博人传-火影忍者新时代第123集.mp4\r&tr=http://t.t789.me:2710/announce&tr=http://t.t789.co:2710/announce&tr=http://t.t789.vip:2710/announce</a><br>"
      ],
      "text/plain": [
       "<IPython.core.display.HTML object>"
      ]
     },
     "metadata": {},
     "output_type": "display_data"
    },
    {
     "data": {
      "text/html": [
       "<a href=\"magnet:?xt=urn:btih:27EUT6F76KYZIFBTBSRETFSBPN3BNNGQ&dn=[电影天堂www.dy2018.com]博人传-火影忍者新时代第122集.mp4\r&tr=http://t.t789.me:2710/announce&tr=http://t.t789.co:2710/announce&tr=http://t.t789.vip:2710/announce\">magnet:?xt=urn:btih:27EUT6F76KYZIFBTBSRETFSBPN3BNNGQ&dn=[电影天堂www.dy2018.com]博人传-火影忍者新时代第122集.mp4\r&tr=http://t.t789.me:2710/announce&tr=http://t.t789.co:2710/announce&tr=http://t.t789.vip:2710/announce</a><br>"
      ],
      "text/plain": [
       "<IPython.core.display.HTML object>"
      ]
     },
     "metadata": {},
     "output_type": "display_data"
    },
    {
     "data": {
      "text/html": [
       "<a href=\"magnet:?xt=urn:btih:B5ZFG564L6EJPU6ZOEHHHA2JQKGGDNCL&dn=[电影天堂www.dy2018.com]博人传-火影忍者新时代第121集.mp4\r&tr=http://t.t789.me:2710/announce&tr=http://t.t789.co:2710/announce&tr=http://t.t789.vip:2710/announce\">magnet:?xt=urn:btih:B5ZFG564L6EJPU6ZOEHHHA2JQKGGDNCL&dn=[电影天堂www.dy2018.com]博人传-火影忍者新时代第121集.mp4\r&tr=http://t.t789.me:2710/announce&tr=http://t.t789.co:2710/announce&tr=http://t.t789.vip:2710/announce</a><br>"
      ],
      "text/plain": [
       "<IPython.core.display.HTML object>"
      ]
     },
     "metadata": {},
     "output_type": "display_data"
    },
    {
     "data": {
      "text/html": [
       "<a href=\"magnet:?xt=urn:btih:PEYFSLOTTTU3SLAPGF2FXGTUN7VMX6L5&dn=[电影天堂www.dy2018.com]博人传-火影忍者新时代第120集.mp4\r&tr=http://t.t789.me:2710/announce&tr=http://t.t789.co:2710/announce&tr=http://t.t789.vip:2710/announce\">magnet:?xt=urn:btih:PEYFSLOTTTU3SLAPGF2FXGTUN7VMX6L5&dn=[电影天堂www.dy2018.com]博人传-火影忍者新时代第120集.mp4\r&tr=http://t.t789.me:2710/announce&tr=http://t.t789.co:2710/announce&tr=http://t.t789.vip:2710/announce</a><br>"
      ],
      "text/plain": [
       "<IPython.core.display.HTML object>"
      ]
     },
     "metadata": {},
     "output_type": "display_data"
    },
    {
     "data": {
      "text/html": [
       "<a href=\"magnet:?xt=urn:btih:JEXRGK2WLZYCMDP35VYZSZLM7GAKY2EQ&dn=[电影天堂www.dy2018.com]博人传-火影忍者新时代第119集.mp4\r&tr=http://t.t789.me:2710/announce&tr=http://t.t789.co:2710/announce&tr=http://t.t789.vip:2710/announce\">magnet:?xt=urn:btih:JEXRGK2WLZYCMDP35VYZSZLM7GAKY2EQ&dn=[电影天堂www.dy2018.com]博人传-火影忍者新时代第119集.mp4\r&tr=http://t.t789.me:2710/announce&tr=http://t.t789.co:2710/announce&tr=http://t.t789.vip:2710/announce</a><br>"
      ],
      "text/plain": [
       "<IPython.core.display.HTML object>"
      ]
     },
     "metadata": {},
     "output_type": "display_data"
    },
    {
     "data": {
      "text/html": [
       "<a href=\"magnet:?xt=urn:btih:LBQURA54CBDIJTNY47URBZEX4TM72MSE&dn=[电影天堂www.dy2018.com]博人传-火影忍者新时代第118集.mp4\r&tr=http://t.t789.me:2710/announce&tr=http://t.t789.co:2710/announce&tr=http://t.t789.vip:2710/announce\">magnet:?xt=urn:btih:LBQURA54CBDIJTNY47URBZEX4TM72MSE&dn=[电影天堂www.dy2018.com]博人传-火影忍者新时代第118集.mp4\r&tr=http://t.t789.me:2710/announce&tr=http://t.t789.co:2710/announce&tr=http://t.t789.vip:2710/announce</a><br>"
      ],
      "text/plain": [
       "<IPython.core.display.HTML object>"
      ]
     },
     "metadata": {},
     "output_type": "display_data"
    },
    {
     "data": {
      "text/html": [
       "<a href=\"magnet:?xt=urn:btih:A72IPSXE3DDHAV7LDZIV3F655JH3FTQL&dn=[电影天堂www.dy2018.com]博人传-火影忍者新时代第117集.mp4\r&tr=http://t.t789.me:2710/announce&tr=http://t.t789.co:2710/announce&tr=http://t.t789.vip:2710/announce\">magnet:?xt=urn:btih:A72IPSXE3DDHAV7LDZIV3F655JH3FTQL&dn=[电影天堂www.dy2018.com]博人传-火影忍者新时代第117集.mp4\r&tr=http://t.t789.me:2710/announce&tr=http://t.t789.co:2710/announce&tr=http://t.t789.vip:2710/announce</a><br>"
      ],
      "text/plain": [
       "<IPython.core.display.HTML object>"
      ]
     },
     "metadata": {},
     "output_type": "display_data"
    },
    {
     "data": {
      "text/html": [
       "<a href=\"magnet:?xt=urn:btih:65FMWRJ5DOU7XQZFQ3TEQQYD5WOJJDX2&dn=[电影天堂www.dy2018.com]博人传-火影忍者新时代第116集.mp4\r&tr=http://t.t789.me:2710/announce&tr=http://t.t789.co:2710/announce&tr=http://t.t789.vip:2710/announce\">magnet:?xt=urn:btih:65FMWRJ5DOU7XQZFQ3TEQQYD5WOJJDX2&dn=[电影天堂www.dy2018.com]博人传-火影忍者新时代第116集.mp4\r&tr=http://t.t789.me:2710/announce&tr=http://t.t789.co:2710/announce&tr=http://t.t789.vip:2710/announce</a><br>"
      ],
      "text/plain": [
       "<IPython.core.display.HTML object>"
      ]
     },
     "metadata": {},
     "output_type": "display_data"
    },
    {
     "data": {
      "text/html": [
       "<a href=\"magnet:?xt=urn:btih:ILMWYQFANF6A5SR45GGW5IY7XSJOYOZQ&dn=[电影天堂www.dy2018.com]博人传-火影忍者新时代第115集.mp4\r&tr=http://t.t789.me:2710/announce&tr=http://t.t789.co:2710/announce&tr=http://t.t789.vip:2710/announce\">magnet:?xt=urn:btih:ILMWYQFANF6A5SR45GGW5IY7XSJOYOZQ&dn=[电影天堂www.dy2018.com]博人传-火影忍者新时代第115集.mp4\r&tr=http://t.t789.me:2710/announce&tr=http://t.t789.co:2710/announce&tr=http://t.t789.vip:2710/announce</a><br>"
      ],
      "text/plain": [
       "<IPython.core.display.HTML object>"
      ]
     },
     "metadata": {},
     "output_type": "display_data"
    },
    {
     "data": {
      "text/html": [
       "<a href=\"magnet:?xt=urn:btih:GGSZFXBGXSZXMXKHTFVDWQ4KTWQOYGIR&dn=[电影天堂www.dy2018.com]博人传-火影忍者新时代第114集.mp4\r&tr=http://t.t789.me:2710/announce&tr=http://t.t789.co:2710/announce&tr=http://t.t789.vip:2710/announce\">magnet:?xt=urn:btih:GGSZFXBGXSZXMXKHTFVDWQ4KTWQOYGIR&dn=[电影天堂www.dy2018.com]博人传-火影忍者新时代第114集.mp4\r&tr=http://t.t789.me:2710/announce&tr=http://t.t789.co:2710/announce&tr=http://t.t789.vip:2710/announce</a><br>"
      ],
      "text/plain": [
       "<IPython.core.display.HTML object>"
      ]
     },
     "metadata": {},
     "output_type": "display_data"
    },
    {
     "data": {
      "text/html": [
       "<a href=\"magnet:?xt=urn:btih:XCKPKCP3FWKW5SETYYDZJ5Q7DLOY6BCD&dn=[电影天堂www.dy2018.com]博人传-火影忍者新时代第113集.mp4\r&tr=http://t.t789.me:2710/announce&tr=http://t.t789.co:2710/announce&tr=http://t.t789.vip:2710/announce\">magnet:?xt=urn:btih:XCKPKCP3FWKW5SETYYDZJ5Q7DLOY6BCD&dn=[电影天堂www.dy2018.com]博人传-火影忍者新时代第113集.mp4\r&tr=http://t.t789.me:2710/announce&tr=http://t.t789.co:2710/announce&tr=http://t.t789.vip:2710/announce</a><br>"
      ],
      "text/plain": [
       "<IPython.core.display.HTML object>"
      ]
     },
     "metadata": {},
     "output_type": "display_data"
    },
    {
     "data": {
      "text/html": [
       "<a href=\"magnet:?xt=urn:btih:PMPNUJDQ6ZFADNFXUNGFOOWP5SH34ZH5&dn=[电影天堂www.dy2018.com]博人传-火影忍者新时代第112集.mp4\r&tr=http://t.t789.me:2710/announce&tr=http://t.t789.co:2710/announce&tr=http://t.t789.vip:2710/announce\">magnet:?xt=urn:btih:PMPNUJDQ6ZFADNFXUNGFOOWP5SH34ZH5&dn=[电影天堂www.dy2018.com]博人传-火影忍者新时代第112集.mp4\r&tr=http://t.t789.me:2710/announce&tr=http://t.t789.co:2710/announce&tr=http://t.t789.vip:2710/announce</a><br>"
      ],
      "text/plain": [
       "<IPython.core.display.HTML object>"
      ]
     },
     "metadata": {},
     "output_type": "display_data"
    },
    {
     "data": {
      "text/html": [
       "<a href=\"magnet:?xt=urn:btih:RILIRIJWAHF7RIZLV6TFMLNNN3XEHPA2&dn=[电影天堂www.dy2018.com]博人传-火影忍者新时代第111集.mp4\r&tr=http://t.t789.me:2710/announce&tr=http://t.t789.co:2710/announce&tr=http://t.t789.vip:2710/announce\">magnet:?xt=urn:btih:RILIRIJWAHF7RIZLV6TFMLNNN3XEHPA2&dn=[电影天堂www.dy2018.com]博人传-火影忍者新时代第111集.mp4\r&tr=http://t.t789.me:2710/announce&tr=http://t.t789.co:2710/announce&tr=http://t.t789.vip:2710/announce</a><br>"
      ],
      "text/plain": [
       "<IPython.core.display.HTML object>"
      ]
     },
     "metadata": {},
     "output_type": "display_data"
    },
    {
     "data": {
      "text/html": [
       "<a href=\"magnet:?xt=urn:btih:EL5ER5HIDGMWSAORBKHPVAT6SDRUHXJM&dn=[电影天堂www.dy2018.com]博人传-火影忍者新时代第110集.mp4\r&tr=http://t.t789.me:2710/announce&tr=http://t.t789.co:2710/announce&tr=http://t.t789.vip:2710/announce\">magnet:?xt=urn:btih:EL5ER5HIDGMWSAORBKHPVAT6SDRUHXJM&dn=[电影天堂www.dy2018.com]博人传-火影忍者新时代第110集.mp4\r&tr=http://t.t789.me:2710/announce&tr=http://t.t789.co:2710/announce&tr=http://t.t789.vip:2710/announce</a><br>"
      ],
      "text/plain": [
       "<IPython.core.display.HTML object>"
      ]
     },
     "metadata": {},
     "output_type": "display_data"
    },
    {
     "data": {
      "text/html": [
       "<a href=\"magnet:?xt=urn:btih:IWH7OKC23PLBQOG7AFZ7OJDM4IC43LJJ&dn=[电影天堂www.dy2018.com]博人传-火影忍者新时代第109集.mp4\r&tr=http://t.t789.me:2710/announce&tr=http://t.t789.co:2710/announce&tr=http://t.t789.vip:2710/announce\">magnet:?xt=urn:btih:IWH7OKC23PLBQOG7AFZ7OJDM4IC43LJJ&dn=[电影天堂www.dy2018.com]博人传-火影忍者新时代第109集.mp4\r&tr=http://t.t789.me:2710/announce&tr=http://t.t789.co:2710/announce&tr=http://t.t789.vip:2710/announce</a><br>"
      ],
      "text/plain": [
       "<IPython.core.display.HTML object>"
      ]
     },
     "metadata": {},
     "output_type": "display_data"
    },
    {
     "data": {
      "text/html": [
       "<a href=\"magnet:?xt=urn:btih:YWBPWAWXMCXMI3ZJEKUT3NXAKBT5SLTT&dn=[电影天堂www.dy2018.com]博人传-火影忍者新时代第108集.mp4\r&tr=http://t.t789.me:2710/announce&tr=http://t.t789.co:2710/announce&tr=http://t.t789.vip:2710/announce\">magnet:?xt=urn:btih:YWBPWAWXMCXMI3ZJEKUT3NXAKBT5SLTT&dn=[电影天堂www.dy2018.com]博人传-火影忍者新时代第108集.mp4\r&tr=http://t.t789.me:2710/announce&tr=http://t.t789.co:2710/announce&tr=http://t.t789.vip:2710/announce</a><br>"
      ],
      "text/plain": [
       "<IPython.core.display.HTML object>"
      ]
     },
     "metadata": {},
     "output_type": "display_data"
    },
    {
     "data": {
      "text/html": [
       "<a href=\"magnet:?xt=urn:btih:4FXAWFQGDONRFVWTX6T6KPKRSM4XUZMV&dn=[电影天堂www.dy2018.com]博人传-火影忍者新时代第107集.mp4\r&tr=http://t.t789.me:2710/announce&tr=http://t.t789.co:2710/announce&tr=http://t.t789.vip:2710/announce\">magnet:?xt=urn:btih:4FXAWFQGDONRFVWTX6T6KPKRSM4XUZMV&dn=[电影天堂www.dy2018.com]博人传-火影忍者新时代第107集.mp4\r&tr=http://t.t789.me:2710/announce&tr=http://t.t789.co:2710/announce&tr=http://t.t789.vip:2710/announce</a><br>"
      ],
      "text/plain": [
       "<IPython.core.display.HTML object>"
      ]
     },
     "metadata": {},
     "output_type": "display_data"
    },
    {
     "data": {
      "text/html": [
       "<a href=\"magnet:?xt=urn:btih:AR53DDSQAOPI7YMNVWRDSU2WRZSZW22L&dn=[电影天堂www.dy2018.com]博人传-火影忍者新时代第106集.mp4\r&tr=http://t.t789.me:2710/announce&tr=http://t.t789.co:2710/announce&tr=http://t.t789.vip:2710/announce\">magnet:?xt=urn:btih:AR53DDSQAOPI7YMNVWRDSU2WRZSZW22L&dn=[电影天堂www.dy2018.com]博人传-火影忍者新时代第106集.mp4\r&tr=http://t.t789.me:2710/announce&tr=http://t.t789.co:2710/announce&tr=http://t.t789.vip:2710/announce</a><br>"
      ],
      "text/plain": [
       "<IPython.core.display.HTML object>"
      ]
     },
     "metadata": {},
     "output_type": "display_data"
    },
    {
     "data": {
      "text/html": [
       "<a href=\"magnet:?xt=urn:btih:UIPE7LAOMEIB3O3ZJERGPQ3KTYXNBTZY&dn=[电影天堂www.dy2018.com]博人传-火影忍者新时代第105集.mp4\r&tr=http://t.t789.me:2710/announce&tr=http://t.t789.co:2710/announce&tr=http://t.t789.vip:2710/announce\">magnet:?xt=urn:btih:UIPE7LAOMEIB3O3ZJERGPQ3KTYXNBTZY&dn=[电影天堂www.dy2018.com]博人传-火影忍者新时代第105集.mp4\r&tr=http://t.t789.me:2710/announce&tr=http://t.t789.co:2710/announce&tr=http://t.t789.vip:2710/announce</a><br>"
      ],
      "text/plain": [
       "<IPython.core.display.HTML object>"
      ]
     },
     "metadata": {},
     "output_type": "display_data"
    },
    {
     "data": {
      "text/html": [
       "<a href=\"magnet:?xt=urn:btih:XPVX42HFG423JUJGE7CKCOCTCNKUG73V&dn=[电影天堂www.dy2018.com]博人传-火影忍者新时代第104集.mp4\r&tr=http://t.t789.me:2710/announce&tr=http://t.t789.co:2710/announce&tr=http://t.t789.vip:2710/announce\">magnet:?xt=urn:btih:XPVX42HFG423JUJGE7CKCOCTCNKUG73V&dn=[电影天堂www.dy2018.com]博人传-火影忍者新时代第104集.mp4\r&tr=http://t.t789.me:2710/announce&tr=http://t.t789.co:2710/announce&tr=http://t.t789.vip:2710/announce</a><br>"
      ],
      "text/plain": [
       "<IPython.core.display.HTML object>"
      ]
     },
     "metadata": {},
     "output_type": "display_data"
    },
    {
     "data": {
      "text/html": [
       "<a href=\"magnet:?xt=urn:btih:I2D72UQJYX3X2QFDTVUZKKJIMCPMTXJR&dn=[电影天堂www.dy2018.com]博人传-火影忍者新时代第103集.mp4\r&tr=http://t.t789.me:2710/announce&tr=http://t.t789.co:2710/announce&tr=http://t.t789.vip:2710/announce\">magnet:?xt=urn:btih:I2D72UQJYX3X2QFDTVUZKKJIMCPMTXJR&dn=[电影天堂www.dy2018.com]博人传-火影忍者新时代第103集.mp4\r&tr=http://t.t789.me:2710/announce&tr=http://t.t789.co:2710/announce&tr=http://t.t789.vip:2710/announce</a><br>"
      ],
      "text/plain": [
       "<IPython.core.display.HTML object>"
      ]
     },
     "metadata": {},
     "output_type": "display_data"
    },
    {
     "data": {
      "text/html": [
       "<a href=\"magnet:?xt=urn:btih:E4MSOU2LGWS4KNW6L37JRTZ3TYG2HSUZ&dn=[电影天堂www.dy2018.com]博人传-火影忍者新时代第102集.mp4\r&tr=http://t.t789.me:2710/announce&tr=http://t.t789.co:2710/announce&tr=http://t.t789.vip:2710/announce\">magnet:?xt=urn:btih:E4MSOU2LGWS4KNW6L37JRTZ3TYG2HSUZ&dn=[电影天堂www.dy2018.com]博人传-火影忍者新时代第102集.mp4\r&tr=http://t.t789.me:2710/announce&tr=http://t.t789.co:2710/announce&tr=http://t.t789.vip:2710/announce</a><br>"
      ],
      "text/plain": [
       "<IPython.core.display.HTML object>"
      ]
     },
     "metadata": {},
     "output_type": "display_data"
    },
    {
     "data": {
      "text/html": [
       "<a href=\"magnet:?xt=urn:btih:YJTCS5M24PMKWB3QTLPVHECPPNHGX2W2&dn=[电影天堂www.dy2018.com]博人传-火影忍者新时代第101集.mp4\r&tr=http://t.t789.me:2710/announce&tr=http://t.t789.co:2710/announce&tr=http://t.t789.vip:2710/announce\">magnet:?xt=urn:btih:YJTCS5M24PMKWB3QTLPVHECPPNHGX2W2&dn=[电影天堂www.dy2018.com]博人传-火影忍者新时代第101集.mp4\r&tr=http://t.t789.me:2710/announce&tr=http://t.t789.co:2710/announce&tr=http://t.t789.vip:2710/announce</a><br>"
      ],
      "text/plain": [
       "<IPython.core.display.HTML object>"
      ]
     },
     "metadata": {},
     "output_type": "display_data"
    },
    {
     "ename": "FileNotFoundError",
     "evalue": "[Errno 2] No such file or directory: 'output/links.txt'",
     "output_type": "error",
     "traceback": [
      "\u001b[0;31m---------------------------------------------------------------------------\u001b[0m",
      "\u001b[0;31mFileNotFoundError\u001b[0m                         Traceback (most recent call last)",
      "Cell \u001b[0;32mIn[10], line 19\u001b[0m\n\u001b[1;32m     17\u001b[0m             \u001b[39mif\u001b[39;00m i \u001b[39m%\u001b[39m group_size \u001b[39m==\u001b[39m \u001b[39m0\u001b[39m:\n\u001b[1;32m     18\u001b[0m                 f\u001b[39m.\u001b[39mwrite(\u001b[39m'\u001b[39m\u001b[39m---- Next Group ----\u001b[39m\u001b[39m\\n\u001b[39;00m\u001b[39m'\u001b[39m)\n\u001b[0;32m---> 19\u001b[0m write_links_to_file(magnet_links, \u001b[39m'\u001b[39;49m\u001b[39moutput/links.txt\u001b[39;49m\u001b[39m'\u001b[39;49m)\n",
      "Cell \u001b[0;32mIn[10], line 14\u001b[0m, in \u001b[0;36mwrite_links_to_file\u001b[0;34m(links, filename, group_size)\u001b[0m\n\u001b[1;32m     13\u001b[0m \u001b[39mdef\u001b[39;00m \u001b[39mwrite_links_to_file\u001b[39m(links, filename, group_size\u001b[39m=\u001b[39m\u001b[39m50\u001b[39m):\n\u001b[0;32m---> 14\u001b[0m     \u001b[39mwith\u001b[39;00m \u001b[39mopen\u001b[39;49m(filename, \u001b[39m'\u001b[39;49m\u001b[39mw\u001b[39;49m\u001b[39m'\u001b[39;49m) \u001b[39mas\u001b[39;00m f:\n\u001b[1;32m     15\u001b[0m         \u001b[39mfor\u001b[39;00m i, link \u001b[39min\u001b[39;00m \u001b[39menumerate\u001b[39m(links, start\u001b[39m=\u001b[39m\u001b[39m1\u001b[39m):\n\u001b[1;32m     16\u001b[0m             f\u001b[39m.\u001b[39mwrite(\u001b[39mf\u001b[39m\u001b[39m'\u001b[39m\u001b[39m{\u001b[39;00mlink\u001b[39m}\u001b[39;00m\u001b[39m\\n\u001b[39;00m\u001b[39m'\u001b[39m)\n",
      "File \u001b[0;32m~/opt/anaconda3/envs/vscode/lib/python3.10/site-packages/IPython/core/interactiveshell.py:282\u001b[0m, in \u001b[0;36m_modified_open\u001b[0;34m(file, *args, **kwargs)\u001b[0m\n\u001b[1;32m    275\u001b[0m \u001b[39mif\u001b[39;00m file \u001b[39min\u001b[39;00m {\u001b[39m0\u001b[39m, \u001b[39m1\u001b[39m, \u001b[39m2\u001b[39m}:\n\u001b[1;32m    276\u001b[0m     \u001b[39mraise\u001b[39;00m \u001b[39mValueError\u001b[39;00m(\n\u001b[1;32m    277\u001b[0m         \u001b[39mf\u001b[39m\u001b[39m\"\u001b[39m\u001b[39mIPython won\u001b[39m\u001b[39m'\u001b[39m\u001b[39mt let you open fd=\u001b[39m\u001b[39m{\u001b[39;00mfile\u001b[39m}\u001b[39;00m\u001b[39m by default \u001b[39m\u001b[39m\"\u001b[39m\n\u001b[1;32m    278\u001b[0m         \u001b[39m\"\u001b[39m\u001b[39mas it is likely to crash IPython. If you know what you are doing, \u001b[39m\u001b[39m\"\u001b[39m\n\u001b[1;32m    279\u001b[0m         \u001b[39m\"\u001b[39m\u001b[39myou can use builtins\u001b[39m\u001b[39m'\u001b[39m\u001b[39m open.\u001b[39m\u001b[39m\"\u001b[39m\n\u001b[1;32m    280\u001b[0m     )\n\u001b[0;32m--> 282\u001b[0m \u001b[39mreturn\u001b[39;00m io_open(file, \u001b[39m*\u001b[39;49margs, \u001b[39m*\u001b[39;49m\u001b[39m*\u001b[39;49mkwargs)\n",
      "\u001b[0;31mFileNotFoundError\u001b[0m: [Errno 2] No such file or directory: 'output/links.txt'"
     ]
    }
   ],
   "source": [
    "from IPython.display import display, HTML\n",
    "\n",
    "def print_links_in_groups(links, group_size=50):\n",
    "    for i, link in enumerate(links, start=1):\n",
    "        display(HTML(f'<a href=\"{link}\">{link}</a><br>'))\n",
    "        if i % group_size == 0:\n",
    "            display(HTML(\"<hr><p style='color:red;'>---- Next Group ----</p><hr>\"))\n",
    "print_links_in_groups(magnet_links)\n",
    "\n",
    "\n",
    "\n",
    "# 写入到文件\n",
    "def write_links_to_file(links, filename, group_size=50):\n",
    "    with open(filename, 'w') as f:\n",
    "        for i, link in enumerate(links, start=1):\n",
    "            f.write(f'{link}\\n')\n",
    "            if i % group_size == 0:\n",
    "                f.write('---- Next Group ----\\n')\n",
    "write_links_to_file(magnet_links, 'output/links.txt')\n",
    "\n"
   ]
  }
 ],
 "metadata": {
  "kernelspec": {
   "display_name": "vscode",
   "language": "python",
   "name": "python3"
  },
  "language_info": {
   "codemirror_mode": {
    "name": "ipython",
    "version": 3
   },
   "file_extension": ".py",
   "mimetype": "text/x-python",
   "name": "python",
   "nbconvert_exporter": "python",
   "pygments_lexer": "ipython3",
   "version": "3.10.9"
  },
  "orig_nbformat": 4
 },
 "nbformat": 4,
 "nbformat_minor": 2
}
