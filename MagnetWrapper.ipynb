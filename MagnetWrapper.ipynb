{
 "cells": [
  {
   "cell_type": "code",
   "execution_count": 3,
   "metadata": {},
   "outputs": [],
   "source": [
    "url = 'https://www.clmp4.com/dianshiju/10942'\n",
    "response = requests.get(url)\n",
    "soup = BeautifulSoup(response.content, 'html.parser')\n",
    "soup.find_all('input', {'class': 'form-control'})"
   ]
  },
  {
   "cell_type": "code",
   "execution_count": 12,
   "metadata": {},
   "outputs": [
    {
     "data": {
      "text/plain": [
       "[<input class=\"ff-wd form-control\" data-original-title=\"\" id=\"wd\" name=\"wd\" placeholder=\"片名,演员,导演...\" type=\"text\" value=\"\"/>,\n",
       " <input class=\"form-control\" type=\"text\" value=\"南来北往.EP39.END.HD1080p.mp4磁力链下载 magnet:?xt=urn:btih:b91a3216bfc8555d69747f1255d724cac418236b&amp;dn=[www.clmp4.com]南来北往.EP39.END.HD1080p.mp4\"/>,\n",
       " <input class=\"form-control\" type=\"text\" value=\"南来北往.EP38.HD1080p.mp4磁力链下载 magnet:?xt=urn:btih:c6648e04198d36501a026b88314f0b956b3d8195&amp;dn=[www.clmp4.com]南来北往.EP38.HD1080p.mp4\"/>,\n",
       " <input class=\"form-control\" type=\"text\" value=\"南来北往.EP37.HD1080p.mp4磁力链下载 magnet:?xt=urn:btih:3e07e7e0dda5366be5e9f819d07a491697ceb6ad&amp;dn=[www.clmp4.com]南来北往.EP37.HD1080p.mp4\"/>,\n",
       " <input class=\"form-control\" type=\"text\" value=\"南来北往.EP36.HD1080p.mp4磁力链下载 magnet:?xt=urn:btih:202e7c26c935179fbea3108e4ac5ffffd47c47ad&amp;dn=[www.clmp4.com]南来北往.EP36.HD1080p.mp4\"/>,\n",
       " <input class=\"form-control\" type=\"text\" value=\"南来北往.EP35.HD1080p.mp4磁力链下载 magnet:?xt=urn:btih:4b4d0d1b63979b5e99531a8b095b8096fd817e9d&amp;dn=[www.clmp4.com]南来北往.EP35.HD1080p.mp4\"/>,\n",
       " <input class=\"form-control\" type=\"text\" value=\"南来北往.EP34.HD1080p.mp4磁力链下载 magnet:?xt=urn:btih:f315e85cf9667cf26127aaeaa5281c09a03644e6&amp;dn=[www.clmp4.com]南来北往.EP34.HD1080p.mp4\"/>,\n",
       " <input class=\"form-control\" type=\"text\" value=\"南来北往.EP33.HD1080p.mp4磁力链下载 magnet:?xt=urn:btih:5e028954442b45e96309e7692ca54f6e4313e099&amp;dn=[www.clmp4.com]南来北往.EP33.HD1080p.mp4\"/>,\n",
       " <input class=\"form-control\" type=\"text\" value=\"南来北往.EP32.HD1080p.mp4磁力链下载 magnet:?xt=urn:btih:7ca03f8c0b2f5ce6f6a7e78543c159473dafb7e7&amp;dn=[www.clmp4.com]南来北往.EP32.HD1080p.mp4\"/>,\n",
       " <input class=\"form-control\" type=\"text\" value=\"南来北往.EP31.HD1080p.mp4磁力链下载 magnet:?xt=urn:btih:9e3d35c2522dcbce9675f1c1b4c39f8109ffcb97&amp;dn=[www.clmp4.com]南来北往.EP31.HD1080p.mp4\"/>,\n",
       " <input class=\"form-control\" type=\"text\" value=\"南来北往.EP30.HD1080p.mp4磁力链下载 magnet:?xt=urn:btih:e87d5c36f0e18bf58a5739a900868d56cff11b67&amp;dn=[www.clmp4.com]南来北往.EP30.HD1080p.mp4\"/>,\n",
       " <input class=\"form-control\" type=\"text\" value=\"南来北往.EP29.HD1080p.mp4磁力链下载 magnet:?xt=urn:btih:44dc97c8b8143f406d1f120556c6c82bb34fc635&amp;dn=[www.clmp4.com]南来北往.EP29.HD1080p.mp4\"/>,\n",
       " <input class=\"form-control\" type=\"text\" value=\"南来北往.EP28.HD1080p.mp4磁力链下载 magnet:?xt=urn:btih:896560040e41865057726dceee6b1863f708fafd&amp;dn=[www.clmp4.com]南来北往.EP28.HD1080p.mp4\"/>,\n",
       " <input class=\"form-control\" type=\"text\" value=\"南来北往.EP27.HD1080p.mp4磁力链下载 magnet:?xt=urn:btih:b559388b08885d7ca00d65846efc4ee331b3c623&amp;dn=[www.clmp4.com]南来北往.EP27.HD1080p.mp4\"/>,\n",
       " <input class=\"form-control\" type=\"text\" value=\"南来北往.EP26.HD1080p.mp4磁力链下载 magnet:?xt=urn:btih:5dbb60fb0329f3b932bb4fb1857c7b1bac435602&amp;dn=[www.clmp4.com]南来北往.EP26.HD1080p.mp4\"/>,\n",
       " <input class=\"form-control\" type=\"text\" value=\"南来北往.EP25.HD1080p.mp4磁力链下载 magnet:?xt=urn:btih:236695f8e04a06c8191fe3a1b7e3e0f7534e67ee&amp;dn=[www.clmp4.com]南来北往.EP25.HD1080p.mp4\"/>,\n",
       " <input class=\"form-control\" type=\"text\" value=\"南来北往.EP24.HD1080p.mp4磁力链下载 magnet:?xt=urn:btih:bffcd447c468d09ddb34de33eb943e2667809de4&amp;dn=[www.clmp4.com]南来北往.EP24.HD1080p.mp4\"/>,\n",
       " <input class=\"form-control\" type=\"text\" value=\"南来北往.EP23.HD1080p.mp4磁力链下载 magnet:?xt=urn:btih:96a7d9d7fec20a1b60334f77ff1fb3956fc39b0c&amp;dn=[www.clmp4.com]南来北往.EP23.HD1080p.mp4\"/>,\n",
       " <input class=\"form-control\" type=\"text\" value=\"南来北往.EP22.HD1080p.mp4磁力链下载 magnet:?xt=urn:btih:d38b64dadcc848ce0bcc3b9c546bf663da71824a&amp;dn=[www.clmp4.com]南来北往.EP22.HD1080p.mp4\"/>,\n",
       " <input class=\"form-control\" type=\"text\" value=\"南来北往.EP21.HD1080p.mp4磁力链下载 magnet:?xt=urn:btih:ca03d037c3f813eca9b3c80d33c40f1352ea3082&amp;dn=[www.clmp4.com]南来北往.EP21.HD1080p.mp4\"/>,\n",
       " <input class=\"form-control\" type=\"text\" value=\"南来北往.EP20.HD1080p.mp4磁力链下载 magnet:?xt=urn:btih:5b373c19f09fb244deb7202a6c2852f75711acd9&amp;dn=[www.clmp4.com]南来北往.EP20.HD1080p.mp4\"/>,\n",
       " <input class=\"form-control\" type=\"text\" value=\"南来北往.EP19.HD1080p.mp4磁力链下载 magnet:?xt=urn:btih:a527e8cc8b21bca502f93e9d4e19bc814163804b&amp;dn=[www.clmp4.com]南来北往.EP19.HD1080p.mp4\"/>,\n",
       " <input class=\"form-control\" type=\"text\" value=\"南来北往.EP18.HD1080p.mp4磁力链下载 magnet:?xt=urn:btih:9035707b5462cf23ee8484297ade5cd71ebb03df&amp;dn=[www.clmp4.com]南来北往.EP18.HD1080p.mp4\"/>,\n",
       " <input class=\"form-control\" type=\"text\" value=\"南来北往.EP17.HD1080p.mp4磁力链下载 magnet:?xt=urn:btih:f4810b1991b7089313d789a3ac3e420be05554aa&amp;dn=[www.clmp4.com]南来北往.EP17.HD1080p.mp4\"/>,\n",
       " <input class=\"form-control\" type=\"text\" value=\"南来北往.EP16.HD1080p.mp4磁力链下载 magnet:?xt=urn:btih:d3fef277dd89c3dcde0d5e3abeac754bd5a0a560&amp;dn=[www.clmp4.com]南来北往.EP16.HD1080p.mp4\"/>,\n",
       " <input class=\"form-control\" type=\"text\" value=\"南来北往.EP15.HD1080p.mp4磁力链下载 magnet:?xt=urn:btih:5a1c6f38964840cb92290b3d70f50120eef32ee9&amp;dn=[www.clmp4.com]南来北往.EP15.HD1080p.mp4\"/>,\n",
       " <input class=\"form-control\" type=\"text\" value=\"南来北往.EP14.HD1080p.mp4磁力链下载 magnet:?xt=urn:btih:8d297854da298f913306ec8c2e7765b86b6e4b45&amp;dn=[www.clmp4.com]南来北往.EP14.HD1080p.mp4\"/>,\n",
       " <input class=\"form-control\" type=\"text\" value=\"南来北往.EP13.HD1080p.mp4磁力链下载 magnet:?xt=urn:btih:b047e6acc9fade105e1cf9ba2f5766cbdfb189be&amp;dn=[www.clmp4.com]南来北往.EP13.HD1080p.mp4\"/>,\n",
       " <input class=\"form-control\" type=\"text\" value=\"南来北往.EP12.HD1080p.mp4磁力链下载 magnet:?xt=urn:btih:3d28c92639e463cc8c1e10fe0ddf1c466c4c4a2b&amp;dn=[www.clmp4.com]南来北往.EP12.HD1080p.mp4\"/>,\n",
       " <input class=\"form-control\" type=\"text\" value=\"南来北往.EP11.HD1080p.mp4磁力链下载 magnet:?xt=urn:btih:d5daaf9cf38f7b3740601326511ddd32f6ce91a9&amp;dn=[www.clmp4.com]南来北往.EP11.HD1080p.mp4\"/>,\n",
       " <input class=\"form-control\" type=\"text\" value=\"南来北往.EP10.HD1080p.mp4磁力链下载 magnet:?xt=urn:btih:14693dd15d7f804e667e14f893c9fba8660fc2af&amp;dn=[www.clmp4.com]南来北往.EP10.HD1080p.mp4\"/>,\n",
       " <input class=\"form-control\" type=\"text\" value=\"南来北往.EP9.HD1080p.mp4磁力链下载 magnet:?xt=urn:btih:8c0339ec375cc82d3f6154403a1eb98f305d0eaf&amp;dn=[www.clmp4.com]南来北往.EP9.HD1080p.mp4\"/>,\n",
       " <input class=\"form-control\" type=\"text\" value=\"南来北往.EP8.HD1080p.mp4磁力链下载 magnet:?xt=urn:btih:595568003ccf704b6371c61a99e698a0f67e32d1&amp;dn=[www.clmp4.com]南来北往.EP8.HD1080p.mp4\"/>,\n",
       " <input class=\"form-control\" type=\"text\" value=\"南来北往.EP7.HD1080p.mp4磁力链下载 magnet:?xt=urn:btih:983847e28d3a8b4f8b7fe5d3069f48f36d19a169&amp;dn=[www.clmp4.com]南来北往.EP7.HD1080p.mp4\"/>,\n",
       " <input class=\"form-control\" type=\"text\" value=\"南来北往.EP6.HD1080p.mp4磁力链下载 magnet:?xt=urn:btih:be3147cd193c1d5ca98a71419a349516f908c5f1&amp;dn=[www.clmp4.com]南来北往.EP6.HD1080p.mp4\"/>,\n",
       " <input class=\"form-control\" type=\"text\" value=\"南来北往.EP5.HD1080p.mp4磁力链下载 magnet:?xt=urn:btih:128c743a2b445db7e21d5147ee27ca76f964bfd7&amp;dn=[www.clmp4.com]南来北往.EP5.HD1080p.mp4\"/>,\n",
       " <input class=\"form-control\" type=\"text\" value=\"南来北往.EP4.HD1080p.mp4磁力链下载 magnet:?xt=urn:btih:81a28b3bd873031f8e37e584263f25652b4eeb80&amp;dn=[www.clmp4.com]南来北往.EP4.HD1080p.mp4\"/>,\n",
       " <input class=\"form-control\" type=\"text\" value=\"南来北往.EP3.HD1080p.mp4磁力链下载 magnet:?xt=urn:btih:f57298887f0c8c6ac41b37cc63d322a21ee77bd5&amp;dn=[www.clmp4.com]南来北往.EP3.HD1080p.mp4\"/>,\n",
       " <input class=\"form-control\" type=\"text\" value=\"南来北往.EP2.HD1080p.mp4磁力链下载 magnet:?xt=urn:btih:0e971e6ff62186aaba65aaa4abdd240bc3b95b39&amp;dn=[www.clmp4.com]南来北往.EP2.HD1080p.mp4\"/>,\n",
       " <input class=\"form-control\" type=\"text\" value=\"南来北往.EP1.HD1080p.mp4磁力链下载 magnet:?xt=urn:btih:02c30d65d2ac10be0d22514910e51e9a30675d3b&amp;dn=[www.clmp4.com]南来北往.EP1.HD1080p.mp4\"/>]"
      ]
     },
     "execution_count": 12,
     "metadata": {},
     "output_type": "execute_result"
    }
   ],
   "source": [
    "soup.find_all('input', {'class': 'form-control'})"
   ]
  },
  {
   "cell_type": "code",
   "execution_count": 19,
   "metadata": {},
   "outputs": [
    {
     "name": "stdout",
     "output_type": "stream",
     "text": [
      "magnet:?xt=urn:btih:b91a3216bfc8555d69747f1255d724cac418236b&dn=[www.clmp4.com]南来北往.EP39.END.HD1080p.mp4\n",
      "magnet:?xt=urn:btih:c6648e04198d36501a026b88314f0b956b3d8195&dn=[www.clmp4.com]南来北往.EP38.HD1080p.mp4\n",
      "magnet:?xt=urn:btih:3e07e7e0dda5366be5e9f819d07a491697ceb6ad&dn=[www.clmp4.com]南来北往.EP37.HD1080p.mp4\n",
      "magnet:?xt=urn:btih:202e7c26c935179fbea3108e4ac5ffffd47c47ad&dn=[www.clmp4.com]南来北往.EP36.HD1080p.mp4\n",
      "magnet:?xt=urn:btih:4b4d0d1b63979b5e99531a8b095b8096fd817e9d&dn=[www.clmp4.com]南来北往.EP35.HD1080p.mp4\n",
      "magnet:?xt=urn:btih:f315e85cf9667cf26127aaeaa5281c09a03644e6&dn=[www.clmp4.com]南来北往.EP34.HD1080p.mp4\n",
      "magnet:?xt=urn:btih:5e028954442b45e96309e7692ca54f6e4313e099&dn=[www.clmp4.com]南来北往.EP33.HD1080p.mp4\n",
      "magnet:?xt=urn:btih:7ca03f8c0b2f5ce6f6a7e78543c159473dafb7e7&dn=[www.clmp4.com]南来北往.EP32.HD1080p.mp4\n",
      "magnet:?xt=urn:btih:9e3d35c2522dcbce9675f1c1b4c39f8109ffcb97&dn=[www.clmp4.com]南来北往.EP31.HD1080p.mp4\n",
      "magnet:?xt=urn:btih:e87d5c36f0e18bf58a5739a900868d56cff11b67&dn=[www.clmp4.com]南来北往.EP30.HD1080p.mp4\n",
      "magnet:?xt=urn:btih:44dc97c8b8143f406d1f120556c6c82bb34fc635&dn=[www.clmp4.com]南来北往.EP29.HD1080p.mp4\n",
      "magnet:?xt=urn:btih:896560040e41865057726dceee6b1863f708fafd&dn=[www.clmp4.com]南来北往.EP28.HD1080p.mp4\n",
      "magnet:?xt=urn:btih:b559388b08885d7ca00d65846efc4ee331b3c623&dn=[www.clmp4.com]南来北往.EP27.HD1080p.mp4\n",
      "magnet:?xt=urn:btih:5dbb60fb0329f3b932bb4fb1857c7b1bac435602&dn=[www.clmp4.com]南来北往.EP26.HD1080p.mp4\n",
      "magnet:?xt=urn:btih:236695f8e04a06c8191fe3a1b7e3e0f7534e67ee&dn=[www.clmp4.com]南来北往.EP25.HD1080p.mp4\n",
      "magnet:?xt=urn:btih:bffcd447c468d09ddb34de33eb943e2667809de4&dn=[www.clmp4.com]南来北往.EP24.HD1080p.mp4\n",
      "magnet:?xt=urn:btih:96a7d9d7fec20a1b60334f77ff1fb3956fc39b0c&dn=[www.clmp4.com]南来北往.EP23.HD1080p.mp4\n",
      "magnet:?xt=urn:btih:d38b64dadcc848ce0bcc3b9c546bf663da71824a&dn=[www.clmp4.com]南来北往.EP22.HD1080p.mp4\n",
      "magnet:?xt=urn:btih:ca03d037c3f813eca9b3c80d33c40f1352ea3082&dn=[www.clmp4.com]南来北往.EP21.HD1080p.mp4\n",
      "magnet:?xt=urn:btih:5b373c19f09fb244deb7202a6c2852f75711acd9&dn=[www.clmp4.com]南来北往.EP20.HD1080p.mp4\n",
      "magnet:?xt=urn:btih:a527e8cc8b21bca502f93e9d4e19bc814163804b&dn=[www.clmp4.com]南来北往.EP19.HD1080p.mp4\n",
      "magnet:?xt=urn:btih:9035707b5462cf23ee8484297ade5cd71ebb03df&dn=[www.clmp4.com]南来北往.EP18.HD1080p.mp4\n",
      "magnet:?xt=urn:btih:f4810b1991b7089313d789a3ac3e420be05554aa&dn=[www.clmp4.com]南来北往.EP17.HD1080p.mp4\n",
      "magnet:?xt=urn:btih:d3fef277dd89c3dcde0d5e3abeac754bd5a0a560&dn=[www.clmp4.com]南来北往.EP16.HD1080p.mp4\n",
      "magnet:?xt=urn:btih:5a1c6f38964840cb92290b3d70f50120eef32ee9&dn=[www.clmp4.com]南来北往.EP15.HD1080p.mp4\n",
      "magnet:?xt=urn:btih:8d297854da298f913306ec8c2e7765b86b6e4b45&dn=[www.clmp4.com]南来北往.EP14.HD1080p.mp4\n",
      "magnet:?xt=urn:btih:b047e6acc9fade105e1cf9ba2f5766cbdfb189be&dn=[www.clmp4.com]南来北往.EP13.HD1080p.mp4\n",
      "magnet:?xt=urn:btih:3d28c92639e463cc8c1e10fe0ddf1c466c4c4a2b&dn=[www.clmp4.com]南来北往.EP12.HD1080p.mp4\n",
      "magnet:?xt=urn:btih:d5daaf9cf38f7b3740601326511ddd32f6ce91a9&dn=[www.clmp4.com]南来北往.EP11.HD1080p.mp4\n",
      "magnet:?xt=urn:btih:14693dd15d7f804e667e14f893c9fba8660fc2af&dn=[www.clmp4.com]南来北往.EP10.HD1080p.mp4\n",
      "magnet:?xt=urn:btih:8c0339ec375cc82d3f6154403a1eb98f305d0eaf&dn=[www.clmp4.com]南来北往.EP9.HD1080p.mp4\n",
      "magnet:?xt=urn:btih:595568003ccf704b6371c61a99e698a0f67e32d1&dn=[www.clmp4.com]南来北往.EP8.HD1080p.mp4\n",
      "magnet:?xt=urn:btih:983847e28d3a8b4f8b7fe5d3069f48f36d19a169&dn=[www.clmp4.com]南来北往.EP7.HD1080p.mp4\n",
      "magnet:?xt=urn:btih:be3147cd193c1d5ca98a71419a349516f908c5f1&dn=[www.clmp4.com]南来北往.EP6.HD1080p.mp4\n",
      "magnet:?xt=urn:btih:128c743a2b445db7e21d5147ee27ca76f964bfd7&dn=[www.clmp4.com]南来北往.EP5.HD1080p.mp4\n",
      "magnet:?xt=urn:btih:81a28b3bd873031f8e37e584263f25652b4eeb80&dn=[www.clmp4.com]南来北往.EP4.HD1080p.mp4\n",
      "magnet:?xt=urn:btih:f57298887f0c8c6ac41b37cc63d322a21ee77bd5&dn=[www.clmp4.com]南来北往.EP3.HD1080p.mp4\n",
      "magnet:?xt=urn:btih:0e971e6ff62186aaba65aaa4abdd240bc3b95b39&dn=[www.clmp4.com]南来北往.EP2.HD1080p.mp4\n",
      "magnet:?xt=urn:btih:02c30d65d2ac10be0d22514910e51e9a30675d3b&dn=[www.clmp4.com]南来北往.EP1.HD1080p.mp4\n"
     ]
    }
   ],
   "source": [
    "import requests\n",
    "from bs4 import BeautifulSoup\n",
    "\n",
    "def get_magnet_links(url):\n",
    "    response = requests.get(url)\n",
    "    soup = BeautifulSoup(response.content, 'html.parser')\n",
    "    magnet_links = []\n",
    "    for input_tag in soup.find_all('input', {'class': 'form-control'}):\n",
    "        value = input_tag.get('value')\n",
    "        if value:\n",
    "            start_index = value.find(' magnet:?')\n",
    "            if start_index != -1:\n",
    "                # 提取\" magnet:?\"后面的部分作为磁力链接并添加到列表中\n",
    "                magnet_links.append(value[start_index + 1:])\n",
    "\n",
    "    return magnet_links\n",
    "\n",
    "# 使用示例\n",
    "url = 'https://www.clmp4.com/dianshiju/10942'  # 替换为你的目标URL\n",
    "magnet_links = get_magnet_links(url)\n",
    "for m in magnet_links:\n",
    "    print(m)"
   ]
  },
  {
   "cell_type": "code",
   "execution_count": null,
   "metadata": {},
   "outputs": [
    {
     "data": {
      "text/html": [
       "<a href=\"magnet:?xt=urn:btih:5c33f2fe5ab808be3e3f5f8ccb08d1f5ce2950db&dn=火影忍者 博人传之火影次世代293.mp4&tr=http://t.t789.me:2710/announce&tr=http://t.t789.co:2710/announce&tr=http://t.t789.vip:2710/announce\">magnet:?xt=urn:btih:5c33f2fe5ab808be3e3f5f8ccb08d1f5ce2950db&dn=火影忍者 博人传之火影次世代293.mp4&tr=http://t.t789.me:2710/announce&tr=http://t.t789.co:2710/announce&tr=http://t.t789.vip:2710/announce</a><br>"
      ],
      "text/plain": [
       "<IPython.core.display.HTML object>"
      ]
     },
     "metadata": {},
     "output_type": "display_data"
    },
    {
     "data": {
      "text/html": [
       "<a href=\"magnet:?xt=urn:btih:1ac8bbd285bf5d757a434c6ba246144697a93b49&dn=火影忍者 博人传之火影次世代292.mp4\r&tr=http://t.t789.me:2710/announce&tr=http://t.t789.co:2710/announce&tr=http://t.t789.vip:2710/announce\">magnet:?xt=urn:btih:1ac8bbd285bf5d757a434c6ba246144697a93b49&dn=火影忍者 博人传之火影次世代292.mp4\r&tr=http://t.t789.me:2710/announce&tr=http://t.t789.co:2710/announce&tr=http://t.t789.vip:2710/announce</a><br>"
      ],
      "text/plain": [
       "<IPython.core.display.HTML object>"
      ]
     },
     "metadata": {},
     "output_type": "display_data"
    },
    {
     "data": {
      "text/html": [
       "<a href=\"magnet:?xt=urn:btih:1b7cf80fb8971482c1bc2ecedc1b6a2d1028c950&dn=火影忍者 博人传之火影次世代291.mp4\r&tr=http://t.t789.me:2710/announce&tr=http://t.t789.co:2710/announce&tr=http://t.t789.vip:2710/announce\">magnet:?xt=urn:btih:1b7cf80fb8971482c1bc2ecedc1b6a2d1028c950&dn=火影忍者 博人传之火影次世代291.mp4\r&tr=http://t.t789.me:2710/announce&tr=http://t.t789.co:2710/announce&tr=http://t.t789.vip:2710/announce</a><br>"
      ],
      "text/plain": [
       "<IPython.core.display.HTML object>"
      ]
     },
     "metadata": {},
     "output_type": "display_data"
    },
    {
     "data": {
      "text/html": [
       "<a href=\"magnet:?xt=urn:btih:6c33fc39e8d999cbf702b6e0078675dd4f064d94&dn=火影忍者 博人传之火影次世代290.mp4\r&tr=http://t.t789.me:2710/announce&tr=http://t.t789.co:2710/announce&tr=http://t.t789.vip:2710/announce\">magnet:?xt=urn:btih:6c33fc39e8d999cbf702b6e0078675dd4f064d94&dn=火影忍者 博人传之火影次世代290.mp4\r&tr=http://t.t789.me:2710/announce&tr=http://t.t789.co:2710/announce&tr=http://t.t789.vip:2710/announce</a><br>"
      ],
      "text/plain": [
       "<IPython.core.display.HTML object>"
      ]
     },
     "metadata": {},
     "output_type": "display_data"
    },
    {
     "data": {
      "text/html": [
       "<a href=\"magnet:?xt=urn:btih:d7f9b4e672c1141728f0b904485ace3e7be2870a&dn=火影忍者 博人传之火影次世代289.mp4\r&tr=http://t.t789.me:2710/announce&tr=http://t.t789.co:2710/announce&tr=http://t.t789.vip:2710/announce\">magnet:?xt=urn:btih:d7f9b4e672c1141728f0b904485ace3e7be2870a&dn=火影忍者 博人传之火影次世代289.mp4\r&tr=http://t.t789.me:2710/announce&tr=http://t.t789.co:2710/announce&tr=http://t.t789.vip:2710/announce</a><br>"
      ],
      "text/plain": [
       "<IPython.core.display.HTML object>"
      ]
     },
     "metadata": {},
     "output_type": "display_data"
    },
    {
     "data": {
      "text/html": [
       "<a href=\"magnet:?xt=urn:btih:010c20d80792e857d5b957505dadc49f661a62c9&dn=火影忍者 博人传之火影次世代288.mp4\r&tr=http://t.t789.me:2710/announce&tr=http://t.t789.co:2710/announce&tr=http://t.t789.vip:2710/announce\">magnet:?xt=urn:btih:010c20d80792e857d5b957505dadc49f661a62c9&dn=火影忍者 博人传之火影次世代288.mp4\r&tr=http://t.t789.me:2710/announce&tr=http://t.t789.co:2710/announce&tr=http://t.t789.vip:2710/announce</a><br>"
      ],
      "text/plain": [
       "<IPython.core.display.HTML object>"
      ]
     },
     "metadata": {},
     "output_type": "display_data"
    },
    {
     "data": {
      "text/html": [
       "<a href=\"magnet:?xt=urn:btih:88349fe9bdffbddff17dddfb9390171bd99034ff&dn=火影忍者 博人传之火影次世代287.mp4\r&tr=http://t.t789.me:2710/announce&tr=http://t.t789.co:2710/announce&tr=http://t.t789.vip:2710/announce\">magnet:?xt=urn:btih:88349fe9bdffbddff17dddfb9390171bd99034ff&dn=火影忍者 博人传之火影次世代287.mp4\r&tr=http://t.t789.me:2710/announce&tr=http://t.t789.co:2710/announce&tr=http://t.t789.vip:2710/announce</a><br>"
      ],
      "text/plain": [
       "<IPython.core.display.HTML object>"
      ]
     },
     "metadata": {},
     "output_type": "display_data"
    },
    {
     "data": {
      "text/html": [
       "<a href=\"magnet:?xt=urn:btih:fc53a3a2ab6d430013093937161fb5a12957f7c4&dn=火影忍者 博人传之火影次世代286.mp4\r&tr=http://t.t789.me:2710/announce&tr=http://t.t789.co:2710/announce&tr=http://t.t789.vip:2710/announce\">magnet:?xt=urn:btih:fc53a3a2ab6d430013093937161fb5a12957f7c4&dn=火影忍者 博人传之火影次世代286.mp4\r&tr=http://t.t789.me:2710/announce&tr=http://t.t789.co:2710/announce&tr=http://t.t789.vip:2710/announce</a><br>"
      ],
      "text/plain": [
       "<IPython.core.display.HTML object>"
      ]
     },
     "metadata": {},
     "output_type": "display_data"
    },
    {
     "data": {
      "text/html": [
       "<a href=\"magnet:?xt=urn:btih:8099e3aab2072a11da47c0313bbe3ef0c8204eaf&dn=火影忍者 博人传之火影次世代285.mp4\r&tr=http://t.t789.me:2710/announce&tr=http://t.t789.co:2710/announce&tr=http://t.t789.vip:2710/announce\">magnet:?xt=urn:btih:8099e3aab2072a11da47c0313bbe3ef0c8204eaf&dn=火影忍者 博人传之火影次世代285.mp4\r&tr=http://t.t789.me:2710/announce&tr=http://t.t789.co:2710/announce&tr=http://t.t789.vip:2710/announce</a><br>"
      ],
      "text/plain": [
       "<IPython.core.display.HTML object>"
      ]
     },
     "metadata": {},
     "output_type": "display_data"
    },
    {
     "data": {
      "text/html": [
       "<a href=\"magnet:?xt=urn:btih:add3ee928508f78fd92516a0ad918d49af4d6e07&dn=火影忍者 博人传之火影次世代284.mp4\r&tr=http://t.t789.me:2710/announce&tr=http://t.t789.co:2710/announce&tr=http://t.t789.vip:2710/announce\">magnet:?xt=urn:btih:add3ee928508f78fd92516a0ad918d49af4d6e07&dn=火影忍者 博人传之火影次世代284.mp4\r&tr=http://t.t789.me:2710/announce&tr=http://t.t789.co:2710/announce&tr=http://t.t789.vip:2710/announce</a><br>"
      ],
      "text/plain": [
       "<IPython.core.display.HTML object>"
      ]
     },
     "metadata": {},
     "output_type": "display_data"
    },
    {
     "data": {
      "text/html": [
       "<a href=\"magnet:?xt=urn:btih:aeb9d0c675015282b127cc16273967d421602f60&dn=火影忍者 博人传之火影次世代283.mp4\r&tr=http://t.t789.me:2710/announce&tr=http://t.t789.co:2710/announce&tr=http://t.t789.vip:2710/announce\">magnet:?xt=urn:btih:aeb9d0c675015282b127cc16273967d421602f60&dn=火影忍者 博人传之火影次世代283.mp4\r&tr=http://t.t789.me:2710/announce&tr=http://t.t789.co:2710/announce&tr=http://t.t789.vip:2710/announce</a><br>"
      ],
      "text/plain": [
       "<IPython.core.display.HTML object>"
      ]
     },
     "metadata": {},
     "output_type": "display_data"
    },
    {
     "data": {
      "text/html": [
       "<a href=\"magnet:?xt=urn:btih:fc74db18875b982ce2e6365599a5199c7b1e49b5&dn=火影忍者 博人传之火影次世代282.mp4\r&tr=http://t.t789.me:2710/announce&tr=http://t.t789.co:2710/announce&tr=http://t.t789.vip:2710/announce\">magnet:?xt=urn:btih:fc74db18875b982ce2e6365599a5199c7b1e49b5&dn=火影忍者 博人传之火影次世代282.mp4\r&tr=http://t.t789.me:2710/announce&tr=http://t.t789.co:2710/announce&tr=http://t.t789.vip:2710/announce</a><br>"
      ],
      "text/plain": [
       "<IPython.core.display.HTML object>"
      ]
     },
     "metadata": {},
     "output_type": "display_data"
    },
    {
     "data": {
      "text/html": [
       "<a href=\"magnet:?xt=urn:btih:9dbe273322a383b503c572a31968c667b9f43473&dn=火影忍者 博人传之火影次世代281.mp4\r&tr=http://t.t789.me:2710/announce&tr=http://t.t789.co:2710/announce&tr=http://t.t789.vip:2710/announce\">magnet:?xt=urn:btih:9dbe273322a383b503c572a31968c667b9f43473&dn=火影忍者 博人传之火影次世代281.mp4\r&tr=http://t.t789.me:2710/announce&tr=http://t.t789.co:2710/announce&tr=http://t.t789.vip:2710/announce</a><br>"
      ],
      "text/plain": [
       "<IPython.core.display.HTML object>"
      ]
     },
     "metadata": {},
     "output_type": "display_data"
    },
    {
     "data": {
      "text/html": [
       "<a href=\"magnet:?xt=urn:btih:b3b501637000a8e47dfc8dabc36a8bc2a5932760&dn=火影忍者 博人传之火影次世代280.mp4\r&tr=http://t.t789.me:2710/announce&tr=http://t.t789.co:2710/announce&tr=http://t.t789.vip:2710/announce\">magnet:?xt=urn:btih:b3b501637000a8e47dfc8dabc36a8bc2a5932760&dn=火影忍者 博人传之火影次世代280.mp4\r&tr=http://t.t789.me:2710/announce&tr=http://t.t789.co:2710/announce&tr=http://t.t789.vip:2710/announce</a><br>"
      ],
      "text/plain": [
       "<IPython.core.display.HTML object>"
      ]
     },
     "metadata": {},
     "output_type": "display_data"
    },
    {
     "data": {
      "text/html": [
       "<a href=\"magnet:?xt=urn:btih:e003322519d8d82dbcb6b180410547f8fcf8a7b4&dn=火影忍者 博人传之火影次世代279.mp4\r&tr=http://t.t789.me:2710/announce&tr=http://t.t789.co:2710/announce&tr=http://t.t789.vip:2710/announce\">magnet:?xt=urn:btih:e003322519d8d82dbcb6b180410547f8fcf8a7b4&dn=火影忍者 博人传之火影次世代279.mp4\r&tr=http://t.t789.me:2710/announce&tr=http://t.t789.co:2710/announce&tr=http://t.t789.vip:2710/announce</a><br>"
      ],
      "text/plain": [
       "<IPython.core.display.HTML object>"
      ]
     },
     "metadata": {},
     "output_type": "display_data"
    },
    {
     "data": {
      "text/html": [
       "<a href=\"magnet:?xt=urn:btih:148eaba9728c781c46ff70bc287d8c4c86329331&dn=火影忍者 博人传之火影次世代278.mp4\r&tr=http://t.t789.me:2710/announce&tr=http://t.t789.co:2710/announce&tr=http://t.t789.vip:2710/announce\">magnet:?xt=urn:btih:148eaba9728c781c46ff70bc287d8c4c86329331&dn=火影忍者 博人传之火影次世代278.mp4\r&tr=http://t.t789.me:2710/announce&tr=http://t.t789.co:2710/announce&tr=http://t.t789.vip:2710/announce</a><br>"
      ],
      "text/plain": [
       "<IPython.core.display.HTML object>"
      ]
     },
     "metadata": {},
     "output_type": "display_data"
    },
    {
     "data": {
      "text/html": [
       "<a href=\"magnet:?xt=urn:btih:f342beedf8bcd1f35a31b43adb099f8a5b2db7bb&dn=火影忍者 博人传之火影次世代277.mp4\r&tr=http://t.t789.me:2710/announce&tr=http://t.t789.co:2710/announce&tr=http://t.t789.vip:2710/announce\">magnet:?xt=urn:btih:f342beedf8bcd1f35a31b43adb099f8a5b2db7bb&dn=火影忍者 博人传之火影次世代277.mp4\r&tr=http://t.t789.me:2710/announce&tr=http://t.t789.co:2710/announce&tr=http://t.t789.vip:2710/announce</a><br>"
      ],
      "text/plain": [
       "<IPython.core.display.HTML object>"
      ]
     },
     "metadata": {},
     "output_type": "display_data"
    },
    {
     "data": {
      "text/html": [
       "<a href=\"magnet:?xt=urn:btih:289db52ccc3d0d87e8459dc74285aea8aeafaf17&dn=火影忍者 博人传之火影次世代276.mp4\r&tr=http://t.t789.me:2710/announce&tr=http://t.t789.co:2710/announce&tr=http://t.t789.vip:2710/announce\">magnet:?xt=urn:btih:289db52ccc3d0d87e8459dc74285aea8aeafaf17&dn=火影忍者 博人传之火影次世代276.mp4\r&tr=http://t.t789.me:2710/announce&tr=http://t.t789.co:2710/announce&tr=http://t.t789.vip:2710/announce</a><br>"
      ],
      "text/plain": [
       "<IPython.core.display.HTML object>"
      ]
     },
     "metadata": {},
     "output_type": "display_data"
    },
    {
     "data": {
      "text/html": [
       "<a href=\"magnet:?xt=urn:btih:70f4614d0d3a7ccca488dd3b22c68aea6ffd418e&dn=火影忍者 博人传之火影次世代275.mp4\r&tr=http://t.t789.me:2710/announce&tr=http://t.t789.co:2710/announce&tr=http://t.t789.vip:2710/announce\">magnet:?xt=urn:btih:70f4614d0d3a7ccca488dd3b22c68aea6ffd418e&dn=火影忍者 博人传之火影次世代275.mp4\r&tr=http://t.t789.me:2710/announce&tr=http://t.t789.co:2710/announce&tr=http://t.t789.vip:2710/announce</a><br>"
      ],
      "text/plain": [
       "<IPython.core.display.HTML object>"
      ]
     },
     "metadata": {},
     "output_type": "display_data"
    },
    {
     "data": {
      "text/html": [
       "<a href=\"magnet:?xt=urn:btih:b3e19b485b07cbf6c6f5ec407a6c700ed29b7aa7&dn=火影忍者 博人传之火影次世代274.mp4\r&tr=http://t.t789.me:2710/announce&tr=http://t.t789.co:2710/announce&tr=http://t.t789.vip:2710/announce\">magnet:?xt=urn:btih:b3e19b485b07cbf6c6f5ec407a6c700ed29b7aa7&dn=火影忍者 博人传之火影次世代274.mp4\r&tr=http://t.t789.me:2710/announce&tr=http://t.t789.co:2710/announce&tr=http://t.t789.vip:2710/announce</a><br>"
      ],
      "text/plain": [
       "<IPython.core.display.HTML object>"
      ]
     },
     "metadata": {},
     "output_type": "display_data"
    },
    {
     "data": {
      "text/html": [
       "<a href=\"magnet:?xt=urn:btih:85fa5a533526b6aabf648efe6114879fc1f65f30&dn=火影忍者 博人传之火影次世代273.mp4\r&tr=http://t.t789.me:2710/announce&tr=http://t.t789.co:2710/announce&tr=http://t.t789.vip:2710/announce\">magnet:?xt=urn:btih:85fa5a533526b6aabf648efe6114879fc1f65f30&dn=火影忍者 博人传之火影次世代273.mp4\r&tr=http://t.t789.me:2710/announce&tr=http://t.t789.co:2710/announce&tr=http://t.t789.vip:2710/announce</a><br>"
      ],
      "text/plain": [
       "<IPython.core.display.HTML object>"
      ]
     },
     "metadata": {},
     "output_type": "display_data"
    },
    {
     "data": {
      "text/html": [
       "<a href=\"magnet:?xt=urn:btih:52f5c3aaaff7181714691c32a7e964fd9cfeb642&dn=火影忍者 博人传之火影次世代272.mp4\r&tr=http://t.t789.me:2710/announce&tr=http://t.t789.co:2710/announce&tr=http://t.t789.vip:2710/announce\">magnet:?xt=urn:btih:52f5c3aaaff7181714691c32a7e964fd9cfeb642&dn=火影忍者 博人传之火影次世代272.mp4\r&tr=http://t.t789.me:2710/announce&tr=http://t.t789.co:2710/announce&tr=http://t.t789.vip:2710/announce</a><br>"
      ],
      "text/plain": [
       "<IPython.core.display.HTML object>"
      ]
     },
     "metadata": {},
     "output_type": "display_data"
    },
    {
     "data": {
      "text/html": [
       "<a href=\"magnet:?xt=urn:btih:35225ece00163e85a1f977dfb081b7bba02aa75f&dn=火影忍者 博人传之火影次世代271.mp4\r&tr=http://t.t789.me:2710/announce&tr=http://t.t789.co:2710/announce&tr=http://t.t789.vip:2710/announce\">magnet:?xt=urn:btih:35225ece00163e85a1f977dfb081b7bba02aa75f&dn=火影忍者 博人传之火影次世代271.mp4\r&tr=http://t.t789.me:2710/announce&tr=http://t.t789.co:2710/announce&tr=http://t.t789.vip:2710/announce</a><br>"
      ],
      "text/plain": [
       "<IPython.core.display.HTML object>"
      ]
     },
     "metadata": {},
     "output_type": "display_data"
    },
    {
     "data": {
      "text/html": [
       "<a href=\"magnet:?xt=urn:btih:4697d4e3b574a1396e865e365912311bf3b3dcab&dn=火影忍者 博人传之火影次世代270.mp4\r&tr=http://t.t789.me:2710/announce&tr=http://t.t789.co:2710/announce&tr=http://t.t789.vip:2710/announce\">magnet:?xt=urn:btih:4697d4e3b574a1396e865e365912311bf3b3dcab&dn=火影忍者 博人传之火影次世代270.mp4\r&tr=http://t.t789.me:2710/announce&tr=http://t.t789.co:2710/announce&tr=http://t.t789.vip:2710/announce</a><br>"
      ],
      "text/plain": [
       "<IPython.core.display.HTML object>"
      ]
     },
     "metadata": {},
     "output_type": "display_data"
    },
    {
     "data": {
      "text/html": [
       "<a href=\"magnet:?xt=urn:btih:3d96ad8e319cdb1ebdb56ea0edca4678de2c23fa&dn=火影忍者 博人传之火影次世代269.mp4\r&tr=http://t.t789.me:2710/announce&tr=http://t.t789.co:2710/announce&tr=http://t.t789.vip:2710/announce\">magnet:?xt=urn:btih:3d96ad8e319cdb1ebdb56ea0edca4678de2c23fa&dn=火影忍者 博人传之火影次世代269.mp4\r&tr=http://t.t789.me:2710/announce&tr=http://t.t789.co:2710/announce&tr=http://t.t789.vip:2710/announce</a><br>"
      ],
      "text/plain": [
       "<IPython.core.display.HTML object>"
      ]
     },
     "metadata": {},
     "output_type": "display_data"
    },
    {
     "data": {
      "text/html": [
       "<a href=\"magnet:?xt=urn:btih:ff8690ccd2572a38f71bfe0beb242e0a0ff971bf&dn=火影忍者 博人传之火影次世代268.mp4\r&tr=http://t.t789.me:2710/announce&tr=http://t.t789.co:2710/announce&tr=http://t.t789.vip:2710/announce\">magnet:?xt=urn:btih:ff8690ccd2572a38f71bfe0beb242e0a0ff971bf&dn=火影忍者 博人传之火影次世代268.mp4\r&tr=http://t.t789.me:2710/announce&tr=http://t.t789.co:2710/announce&tr=http://t.t789.vip:2710/announce</a><br>"
      ],
      "text/plain": [
       "<IPython.core.display.HTML object>"
      ]
     },
     "metadata": {},
     "output_type": "display_data"
    },
    {
     "data": {
      "text/html": [
       "<a href=\"magnet:?xt=urn:btih:21bbff60ba397a9fdeb359e438381ad55d9a3175&dn=火影忍者 博人传之火影次世代267.mp4\r&tr=http://t.t789.me:2710/announce&tr=http://t.t789.co:2710/announce&tr=http://t.t789.vip:2710/announce\">magnet:?xt=urn:btih:21bbff60ba397a9fdeb359e438381ad55d9a3175&dn=火影忍者 博人传之火影次世代267.mp4\r&tr=http://t.t789.me:2710/announce&tr=http://t.t789.co:2710/announce&tr=http://t.t789.vip:2710/announce</a><br>"
      ],
      "text/plain": [
       "<IPython.core.display.HTML object>"
      ]
     },
     "metadata": {},
     "output_type": "display_data"
    },
    {
     "data": {
      "text/html": [
       "<a href=\"magnet:?xt=urn:btih:08513d0dc2a162aaafaa490e8f0f09378c40f912&dn=火影忍者 博人传之火影次世代266.mp4\r&tr=http://t.t789.me:2710/announce&tr=http://t.t789.co:2710/announce&tr=http://t.t789.vip:2710/announce\">magnet:?xt=urn:btih:08513d0dc2a162aaafaa490e8f0f09378c40f912&dn=火影忍者 博人传之火影次世代266.mp4\r&tr=http://t.t789.me:2710/announce&tr=http://t.t789.co:2710/announce&tr=http://t.t789.vip:2710/announce</a><br>"
      ],
      "text/plain": [
       "<IPython.core.display.HTML object>"
      ]
     },
     "metadata": {},
     "output_type": "display_data"
    },
    {
     "data": {
      "text/html": [
       "<a href=\"magnet:?xt=urn:btih:37792671653934921832c12d837512f21beb3fb9&dn=火影忍者 博人传之火影次世代265.mp4\r&tr=http://t.t789.me:2710/announce&tr=http://t.t789.co:2710/announce&tr=http://t.t789.vip:2710/announce\">magnet:?xt=urn:btih:37792671653934921832c12d837512f21beb3fb9&dn=火影忍者 博人传之火影次世代265.mp4\r&tr=http://t.t789.me:2710/announce&tr=http://t.t789.co:2710/announce&tr=http://t.t789.vip:2710/announce</a><br>"
      ],
      "text/plain": [
       "<IPython.core.display.HTML object>"
      ]
     },
     "metadata": {},
     "output_type": "display_data"
    },
    {
     "data": {
      "text/html": [
       "<a href=\"magnet:?xt=urn:btih:4ae57396a6240f150bb17008131294539996968d&dn=火影忍者 博人传之火影次世代264.mp4\r&tr=http://t.t789.me:2710/announce&tr=http://t.t789.co:2710/announce&tr=http://t.t789.vip:2710/announce\">magnet:?xt=urn:btih:4ae57396a6240f150bb17008131294539996968d&dn=火影忍者 博人传之火影次世代264.mp4\r&tr=http://t.t789.me:2710/announce&tr=http://t.t789.co:2710/announce&tr=http://t.t789.vip:2710/announce</a><br>"
      ],
      "text/plain": [
       "<IPython.core.display.HTML object>"
      ]
     },
     "metadata": {},
     "output_type": "display_data"
    },
    {
     "data": {
      "text/html": [
       "<a href=\"magnet:?xt=urn:btih:90c6b123ca0e359f5600790a91e7edac9c8d16d7&dn=火影忍者 博人传之火影次世代263.mp4\r&tr=http://t.t789.me:2710/announce&tr=http://t.t789.co:2710/announce&tr=http://t.t789.vip:2710/announce\">magnet:?xt=urn:btih:90c6b123ca0e359f5600790a91e7edac9c8d16d7&dn=火影忍者 博人传之火影次世代263.mp4\r&tr=http://t.t789.me:2710/announce&tr=http://t.t789.co:2710/announce&tr=http://t.t789.vip:2710/announce</a><br>"
      ],
      "text/plain": [
       "<IPython.core.display.HTML object>"
      ]
     },
     "metadata": {},
     "output_type": "display_data"
    },
    {
     "data": {
      "text/html": [
       "<a href=\"magnet:?xt=urn:btih:ee031a3d5d510117f680ef61c927dce525870c41&dn=火影忍者 博人传之火影次世代262.mp4\r&tr=http://t.t789.me:2710/announce&tr=http://t.t789.co:2710/announce&tr=http://t.t789.vip:2710/announce\">magnet:?xt=urn:btih:ee031a3d5d510117f680ef61c927dce525870c41&dn=火影忍者 博人传之火影次世代262.mp4\r&tr=http://t.t789.me:2710/announce&tr=http://t.t789.co:2710/announce&tr=http://t.t789.vip:2710/announce</a><br>"
      ],
      "text/plain": [
       "<IPython.core.display.HTML object>"
      ]
     },
     "metadata": {},
     "output_type": "display_data"
    },
    {
     "data": {
      "text/html": [
       "<a href=\"magnet:?xt=urn:btih:92658975f9d049bb89e4b64c38cf74d18ce4936d&dn=火影忍者 博人传之火影次世代261.mp4\r&tr=http://t.t789.me:2710/announce&tr=http://t.t789.co:2710/announce&tr=http://t.t789.vip:2710/announce\">magnet:?xt=urn:btih:92658975f9d049bb89e4b64c38cf74d18ce4936d&dn=火影忍者 博人传之火影次世代261.mp4\r&tr=http://t.t789.me:2710/announce&tr=http://t.t789.co:2710/announce&tr=http://t.t789.vip:2710/announce</a><br>"
      ],
      "text/plain": [
       "<IPython.core.display.HTML object>"
      ]
     },
     "metadata": {},
     "output_type": "display_data"
    },
    {
     "data": {
      "text/html": [
       "<a href=\"magnet:?xt=urn:btih:4432f00c627a915f2e6afc60e85a79310f229f24&dn=火影忍者 博人传之火影次世代260.mp4\r&tr=http://t.t789.me:2710/announce&tr=http://t.t789.co:2710/announce&tr=http://t.t789.vip:2710/announce\">magnet:?xt=urn:btih:4432f00c627a915f2e6afc60e85a79310f229f24&dn=火影忍者 博人传之火影次世代260.mp4\r&tr=http://t.t789.me:2710/announce&tr=http://t.t789.co:2710/announce&tr=http://t.t789.vip:2710/announce</a><br>"
      ],
      "text/plain": [
       "<IPython.core.display.HTML object>"
      ]
     },
     "metadata": {},
     "output_type": "display_data"
    },
    {
     "data": {
      "text/html": [
       "<a href=\"magnet:?xt=urn:btih:79fa9a3ad6f508bb59c73fff21800c94c0c0a52d&dn=火影忍者 博人传之火影次世代259.mp4\r&tr=http://t.t789.me:2710/announce&tr=http://t.t789.co:2710/announce&tr=http://t.t789.vip:2710/announce\">magnet:?xt=urn:btih:79fa9a3ad6f508bb59c73fff21800c94c0c0a52d&dn=火影忍者 博人传之火影次世代259.mp4\r&tr=http://t.t789.me:2710/announce&tr=http://t.t789.co:2710/announce&tr=http://t.t789.vip:2710/announce</a><br>"
      ],
      "text/plain": [
       "<IPython.core.display.HTML object>"
      ]
     },
     "metadata": {},
     "output_type": "display_data"
    },
    {
     "data": {
      "text/html": [
       "<a href=\"magnet:?xt=urn:btih:8ae9d2099d6cd383234138c57a23e09d065d447e&dn=火影忍者 博人传之火影次世代258.mp4\r&tr=http://t.t789.me:2710/announce&tr=http://t.t789.co:2710/announce&tr=http://t.t789.vip:2710/announce\">magnet:?xt=urn:btih:8ae9d2099d6cd383234138c57a23e09d065d447e&dn=火影忍者 博人传之火影次世代258.mp4\r&tr=http://t.t789.me:2710/announce&tr=http://t.t789.co:2710/announce&tr=http://t.t789.vip:2710/announce</a><br>"
      ],
      "text/plain": [
       "<IPython.core.display.HTML object>"
      ]
     },
     "metadata": {},
     "output_type": "display_data"
    },
    {
     "data": {
      "text/html": [
       "<a href=\"magnet:?xt=urn:btih:f51c039437ec7ba917edb5922f4c147febd39112&dn=火影忍者 博人传之火影次世代257.mp4\r&tr=http://t.t789.me:2710/announce&tr=http://t.t789.co:2710/announce&tr=http://t.t789.vip:2710/announce\">magnet:?xt=urn:btih:f51c039437ec7ba917edb5922f4c147febd39112&dn=火影忍者 博人传之火影次世代257.mp4\r&tr=http://t.t789.me:2710/announce&tr=http://t.t789.co:2710/announce&tr=http://t.t789.vip:2710/announce</a><br>"
      ],
      "text/plain": [
       "<IPython.core.display.HTML object>"
      ]
     },
     "metadata": {},
     "output_type": "display_data"
    },
    {
     "data": {
      "text/html": [
       "<a href=\"magnet:?xt=urn:btih:a1c33ddfd02c957f687e538fd7308da58b34e249&dn=火影忍者 博人传之火影次世代256.mp4\r&tr=http://t.t789.me:2710/announce&tr=http://t.t789.co:2710/announce&tr=http://t.t789.vip:2710/announce\">magnet:?xt=urn:btih:a1c33ddfd02c957f687e538fd7308da58b34e249&dn=火影忍者 博人传之火影次世代256.mp4\r&tr=http://t.t789.me:2710/announce&tr=http://t.t789.co:2710/announce&tr=http://t.t789.vip:2710/announce</a><br>"
      ],
      "text/plain": [
       "<IPython.core.display.HTML object>"
      ]
     },
     "metadata": {},
     "output_type": "display_data"
    },
    {
     "data": {
      "text/html": [
       "<a href=\"magnet:?xt=urn:btih:7d6d75add39b1212dc5b9a5bbd418cd4af1e7a37&dn=火影忍者 博人传之火影次世代255.mp4\r&tr=http://t.t789.me:2710/announce&tr=http://t.t789.co:2710/announce&tr=http://t.t789.vip:2710/announce\">magnet:?xt=urn:btih:7d6d75add39b1212dc5b9a5bbd418cd4af1e7a37&dn=火影忍者 博人传之火影次世代255.mp4\r&tr=http://t.t789.me:2710/announce&tr=http://t.t789.co:2710/announce&tr=http://t.t789.vip:2710/announce</a><br>"
      ],
      "text/plain": [
       "<IPython.core.display.HTML object>"
      ]
     },
     "metadata": {},
     "output_type": "display_data"
    },
    {
     "data": {
      "text/html": [
       "<a href=\"magnet:?xt=urn:btih:116278b3437c5c85ad03beb6680dfe54946522d4&dn=火影忍者 博人传之火影次世代254.mp4\r&tr=http://t.t789.me:2710/announce&tr=http://t.t789.co:2710/announce&tr=http://t.t789.vip:2710/announce\">magnet:?xt=urn:btih:116278b3437c5c85ad03beb6680dfe54946522d4&dn=火影忍者 博人传之火影次世代254.mp4\r&tr=http://t.t789.me:2710/announce&tr=http://t.t789.co:2710/announce&tr=http://t.t789.vip:2710/announce</a><br>"
      ],
      "text/plain": [
       "<IPython.core.display.HTML object>"
      ]
     },
     "metadata": {},
     "output_type": "display_data"
    },
    {
     "data": {
      "text/html": [
       "<a href=\"magnet:?xt=urn:btih:1ebd4092f64c93f1a49b5ab6a8e4a632acbe9d7f&dn=火影忍者 博人传之火影次世代253.mp4\r&tr=http://t.t789.me:2710/announce&tr=http://t.t789.co:2710/announce&tr=http://t.t789.vip:2710/announce\">magnet:?xt=urn:btih:1ebd4092f64c93f1a49b5ab6a8e4a632acbe9d7f&dn=火影忍者 博人传之火影次世代253.mp4\r&tr=http://t.t789.me:2710/announce&tr=http://t.t789.co:2710/announce&tr=http://t.t789.vip:2710/announce</a><br>"
      ],
      "text/plain": [
       "<IPython.core.display.HTML object>"
      ]
     },
     "metadata": {},
     "output_type": "display_data"
    },
    {
     "data": {
      "text/html": [
       "<a href=\"magnet:?xt=urn:btih:0c45c4fcab0fe83df27cc2cfedcf7278d93da0d2&dn=火影忍者 博人传之火影次世代252.mp4\r&tr=http://t.t789.me:2710/announce&tr=http://t.t789.co:2710/announce&tr=http://t.t789.vip:2710/announce\">magnet:?xt=urn:btih:0c45c4fcab0fe83df27cc2cfedcf7278d93da0d2&dn=火影忍者 博人传之火影次世代252.mp4\r&tr=http://t.t789.me:2710/announce&tr=http://t.t789.co:2710/announce&tr=http://t.t789.vip:2710/announce</a><br>"
      ],
      "text/plain": [
       "<IPython.core.display.HTML object>"
      ]
     },
     "metadata": {},
     "output_type": "display_data"
    },
    {
     "data": {
      "text/html": [
       "<a href=\"magnet:?xt=urn:btih:bc59122aa6aa41314f2b7d88c6cf141a637f6a14&dn=火影忍者 博人传之火影次世代251.mp4\r&tr=http://t.t789.me:2710/announce&tr=http://t.t789.co:2710/announce&tr=http://t.t789.vip:2710/announce\">magnet:?xt=urn:btih:bc59122aa6aa41314f2b7d88c6cf141a637f6a14&dn=火影忍者 博人传之火影次世代251.mp4\r&tr=http://t.t789.me:2710/announce&tr=http://t.t789.co:2710/announce&tr=http://t.t789.vip:2710/announce</a><br>"
      ],
      "text/plain": [
       "<IPython.core.display.HTML object>"
      ]
     },
     "metadata": {},
     "output_type": "display_data"
    },
    {
     "data": {
      "text/html": [
       "<a href=\"magnet:?xt=urn:btih:b4926c2b11869fba0efff2460ecf1d3be4280bd8&dn=火影忍者 博人传之火影次世代249.mp4\r&tr=http://t.t789.me:2710/announce&tr=http://t.t789.co:2710/announce&tr=http://t.t789.vip:2710/announce\">magnet:?xt=urn:btih:b4926c2b11869fba0efff2460ecf1d3be4280bd8&dn=火影忍者 博人传之火影次世代249.mp4\r&tr=http://t.t789.me:2710/announce&tr=http://t.t789.co:2710/announce&tr=http://t.t789.vip:2710/announce</a><br>"
      ],
      "text/plain": [
       "<IPython.core.display.HTML object>"
      ]
     },
     "metadata": {},
     "output_type": "display_data"
    },
    {
     "data": {
      "text/html": [
       "<a href=\"magnet:?xt=urn:btih:1351fc7d094f87d73f6eae073510be52d5161c2f&dn=火影忍者 博人传之火影次世代248.mp4\r&tr=http://t.t789.me:2710/announce&tr=http://t.t789.co:2710/announce&tr=http://t.t789.vip:2710/announce\">magnet:?xt=urn:btih:1351fc7d094f87d73f6eae073510be52d5161c2f&dn=火影忍者 博人传之火影次世代248.mp4\r&tr=http://t.t789.me:2710/announce&tr=http://t.t789.co:2710/announce&tr=http://t.t789.vip:2710/announce</a><br>"
      ],
      "text/plain": [
       "<IPython.core.display.HTML object>"
      ]
     },
     "metadata": {},
     "output_type": "display_data"
    },
    {
     "data": {
      "text/html": [
       "<a href=\"magnet:?xt=urn:btih:ea8161e681b22a6f2d239363180182ca5fd8b832&dn=火影忍者 博人传之火影次世代247.mp4\r&tr=http://t.t789.me:2710/announce&tr=http://t.t789.co:2710/announce&tr=http://t.t789.vip:2710/announce\">magnet:?xt=urn:btih:ea8161e681b22a6f2d239363180182ca5fd8b832&dn=火影忍者 博人传之火影次世代247.mp4\r&tr=http://t.t789.me:2710/announce&tr=http://t.t789.co:2710/announce&tr=http://t.t789.vip:2710/announce</a><br>"
      ],
      "text/plain": [
       "<IPython.core.display.HTML object>"
      ]
     },
     "metadata": {},
     "output_type": "display_data"
    },
    {
     "data": {
      "text/html": [
       "<a href=\"magnet:?xt=urn:btih:25238f6a307b7dc51c72dd2322bb43217ff09bab&dn=火影忍者 博人传之火影次世代246.mp4\r&tr=http://t.t789.me:2710/announce&tr=http://t.t789.co:2710/announce&tr=http://t.t789.vip:2710/announce\">magnet:?xt=urn:btih:25238f6a307b7dc51c72dd2322bb43217ff09bab&dn=火影忍者 博人传之火影次世代246.mp4\r&tr=http://t.t789.me:2710/announce&tr=http://t.t789.co:2710/announce&tr=http://t.t789.vip:2710/announce</a><br>"
      ],
      "text/plain": [
       "<IPython.core.display.HTML object>"
      ]
     },
     "metadata": {},
     "output_type": "display_data"
    },
    {
     "data": {
      "text/html": [
       "<a href=\"magnet:?xt=urn:btih:0e358b8faae2d111be08bd014b50cf156a67879a&dn=火影忍者 博人传之火影次世代245.mp4\r&tr=http://t.t789.me:2710/announce&tr=http://t.t789.co:2710/announce&tr=http://t.t789.vip:2710/announce\">magnet:?xt=urn:btih:0e358b8faae2d111be08bd014b50cf156a67879a&dn=火影忍者 博人传之火影次世代245.mp4\r&tr=http://t.t789.me:2710/announce&tr=http://t.t789.co:2710/announce&tr=http://t.t789.vip:2710/announce</a><br>"
      ],
      "text/plain": [
       "<IPython.core.display.HTML object>"
      ]
     },
     "metadata": {},
     "output_type": "display_data"
    },
    {
     "data": {
      "text/html": [
       "<a href=\"magnet:?xt=urn:btih:b721193190ab10b8e8170b017651684280c1b889&dn=火影忍者 博人传之火影次世代244.mp4\r&tr=http://t.t789.me:2710/announce&tr=http://t.t789.co:2710/announce&tr=http://t.t789.vip:2710/announce\">magnet:?xt=urn:btih:b721193190ab10b8e8170b017651684280c1b889&dn=火影忍者 博人传之火影次世代244.mp4\r&tr=http://t.t789.me:2710/announce&tr=http://t.t789.co:2710/announce&tr=http://t.t789.vip:2710/announce</a><br>"
      ],
      "text/plain": [
       "<IPython.core.display.HTML object>"
      ]
     },
     "metadata": {},
     "output_type": "display_data"
    },
    {
     "data": {
      "text/html": [
       "<a href=\"magnet:?xt=urn:btih:c138ac5471bdcae3f9f96065f40234c8a42c6d9e&dn=火影忍者 博人传之火影次世代243.mp4\r&tr=http://t.t789.me:2710/announce&tr=http://t.t789.co:2710/announce&tr=http://t.t789.vip:2710/announce\">magnet:?xt=urn:btih:c138ac5471bdcae3f9f96065f40234c8a42c6d9e&dn=火影忍者 博人传之火影次世代243.mp4\r&tr=http://t.t789.me:2710/announce&tr=http://t.t789.co:2710/announce&tr=http://t.t789.vip:2710/announce</a><br>"
      ],
      "text/plain": [
       "<IPython.core.display.HTML object>"
      ]
     },
     "metadata": {},
     "output_type": "display_data"
    },
    {
     "data": {
      "text/html": [
       "<hr><p style='color:red;'>---- Next Group ----</p><hr>"
      ],
      "text/plain": [
       "<IPython.core.display.HTML object>"
      ]
     },
     "metadata": {},
     "output_type": "display_data"
    },
    {
     "data": {
      "text/html": [
       "<a href=\"magnet:?xt=urn:btih:5ec9af4b36dbd37fe98d931f33d7a80f3de1a951&dn=火影忍者 博人传之火影次世代242.mp4\r&tr=http://t.t789.me:2710/announce&tr=http://t.t789.co:2710/announce&tr=http://t.t789.vip:2710/announce\">magnet:?xt=urn:btih:5ec9af4b36dbd37fe98d931f33d7a80f3de1a951&dn=火影忍者 博人传之火影次世代242.mp4\r&tr=http://t.t789.me:2710/announce&tr=http://t.t789.co:2710/announce&tr=http://t.t789.vip:2710/announce</a><br>"
      ],
      "text/plain": [
       "<IPython.core.display.HTML object>"
      ]
     },
     "metadata": {},
     "output_type": "display_data"
    },
    {
     "data": {
      "text/html": [
       "<a href=\"magnet:?xt=urn:btih:a6b2b2410e2884d29c9776d787bc9164e74a6ac5&dn=火影忍者 博人传之火影次世代241.mp4\r&tr=http://t.t789.me:2710/announce&tr=http://t.t789.co:2710/announce&tr=http://t.t789.vip:2710/announce\">magnet:?xt=urn:btih:a6b2b2410e2884d29c9776d787bc9164e74a6ac5&dn=火影忍者 博人传之火影次世代241.mp4\r&tr=http://t.t789.me:2710/announce&tr=http://t.t789.co:2710/announce&tr=http://t.t789.vip:2710/announce</a><br>"
      ],
      "text/plain": [
       "<IPython.core.display.HTML object>"
      ]
     },
     "metadata": {},
     "output_type": "display_data"
    },
    {
     "data": {
      "text/html": [
       "<a href=\"magnet:?xt=urn:btih:2b36d3c70d20061f263cc786c094db87395e8c84&dn=火影忍者 博人传之火影次世代240.mp4\r&tr=http://t.t789.me:2710/announce&tr=http://t.t789.co:2710/announce&tr=http://t.t789.vip:2710/announce\">magnet:?xt=urn:btih:2b36d3c70d20061f263cc786c094db87395e8c84&dn=火影忍者 博人传之火影次世代240.mp4\r&tr=http://t.t789.me:2710/announce&tr=http://t.t789.co:2710/announce&tr=http://t.t789.vip:2710/announce</a><br>"
      ],
      "text/plain": [
       "<IPython.core.display.HTML object>"
      ]
     },
     "metadata": {},
     "output_type": "display_data"
    },
    {
     "data": {
      "text/html": [
       "<a href=\"magnet:?xt=urn:btih:9f6ab7a32ee54e56f3d467b2f6a599d5723eb289&dn=火影忍者 博人传之火影次世代239.mp4\r&tr=http://t.t789.me:2710/announce&tr=http://t.t789.co:2710/announce&tr=http://t.t789.vip:2710/announce\">magnet:?xt=urn:btih:9f6ab7a32ee54e56f3d467b2f6a599d5723eb289&dn=火影忍者 博人传之火影次世代239.mp4\r&tr=http://t.t789.me:2710/announce&tr=http://t.t789.co:2710/announce&tr=http://t.t789.vip:2710/announce</a><br>"
      ],
      "text/plain": [
       "<IPython.core.display.HTML object>"
      ]
     },
     "metadata": {},
     "output_type": "display_data"
    },
    {
     "data": {
      "text/html": [
       "<a href=\"magnet:?xt=urn:btih:16d024abf0dcb098406c104596e2c1dc67a9446c&dn=火影忍者 博人传之火影次世代238.mp4\r&tr=http://t.t789.me:2710/announce&tr=http://t.t789.co:2710/announce&tr=http://t.t789.vip:2710/announce\">magnet:?xt=urn:btih:16d024abf0dcb098406c104596e2c1dc67a9446c&dn=火影忍者 博人传之火影次世代238.mp4\r&tr=http://t.t789.me:2710/announce&tr=http://t.t789.co:2710/announce&tr=http://t.t789.vip:2710/announce</a><br>"
      ],
      "text/plain": [
       "<IPython.core.display.HTML object>"
      ]
     },
     "metadata": {},
     "output_type": "display_data"
    },
    {
     "data": {
      "text/html": [
       "<a href=\"magnet:?xt=urn:btih:bd32e9d581aac61b9619cf30bdc3b8bcdab082d4&dn=火影忍者 博人传之火影次世代237.mp4\r&tr=http://t.t789.me:2710/announce&tr=http://t.t789.co:2710/announce&tr=http://t.t789.vip:2710/announce\">magnet:?xt=urn:btih:bd32e9d581aac61b9619cf30bdc3b8bcdab082d4&dn=火影忍者 博人传之火影次世代237.mp4\r&tr=http://t.t789.me:2710/announce&tr=http://t.t789.co:2710/announce&tr=http://t.t789.vip:2710/announce</a><br>"
      ],
      "text/plain": [
       "<IPython.core.display.HTML object>"
      ]
     },
     "metadata": {},
     "output_type": "display_data"
    },
    {
     "data": {
      "text/html": [
       "<a href=\"magnet:?xt=urn:btih:2244be80570a547c42db02da35f93c386ac3e721&dn=火影忍者 博人传之火影次世代236.mp4\r&tr=http://t.t789.me:2710/announce&tr=http://t.t789.co:2710/announce&tr=http://t.t789.vip:2710/announce\">magnet:?xt=urn:btih:2244be80570a547c42db02da35f93c386ac3e721&dn=火影忍者 博人传之火影次世代236.mp4\r&tr=http://t.t789.me:2710/announce&tr=http://t.t789.co:2710/announce&tr=http://t.t789.vip:2710/announce</a><br>"
      ],
      "text/plain": [
       "<IPython.core.display.HTML object>"
      ]
     },
     "metadata": {},
     "output_type": "display_data"
    },
    {
     "data": {
      "text/html": [
       "<a href=\"magnet:?xt=urn:btih:548744a21a935209aff33de9e2e7eeeae35f29a4&dn=火影忍者 博人传之火影次世代235.mp4\r&tr=http://t.t789.me:2710/announce&tr=http://t.t789.co:2710/announce&tr=http://t.t789.vip:2710/announce\">magnet:?xt=urn:btih:548744a21a935209aff33de9e2e7eeeae35f29a4&dn=火影忍者 博人传之火影次世代235.mp4\r&tr=http://t.t789.me:2710/announce&tr=http://t.t789.co:2710/announce&tr=http://t.t789.vip:2710/announce</a><br>"
      ],
      "text/plain": [
       "<IPython.core.display.HTML object>"
      ]
     },
     "metadata": {},
     "output_type": "display_data"
    },
    {
     "data": {
      "text/html": [
       "<a href=\"magnet:?xt=urn:btih:ca9b3ac463df013de28b4844896f13462538b00d&dn=火影忍者 博人传之火影次世代234.mp4\r&tr=http://t.t789.me:2710/announce&tr=http://t.t789.co:2710/announce&tr=http://t.t789.vip:2710/announce\">magnet:?xt=urn:btih:ca9b3ac463df013de28b4844896f13462538b00d&dn=火影忍者 博人传之火影次世代234.mp4\r&tr=http://t.t789.me:2710/announce&tr=http://t.t789.co:2710/announce&tr=http://t.t789.vip:2710/announce</a><br>"
      ],
      "text/plain": [
       "<IPython.core.display.HTML object>"
      ]
     },
     "metadata": {},
     "output_type": "display_data"
    },
    {
     "data": {
      "text/html": [
       "<a href=\"magnet:?xt=urn:btih:8d450f6b5bf725cbca87860d05478efd842859ec&dn=火影忍者 博人传之火影次世代233.mp4\r&tr=http://t.t789.me:2710/announce&tr=http://t.t789.co:2710/announce&tr=http://t.t789.vip:2710/announce\">magnet:?xt=urn:btih:8d450f6b5bf725cbca87860d05478efd842859ec&dn=火影忍者 博人传之火影次世代233.mp4\r&tr=http://t.t789.me:2710/announce&tr=http://t.t789.co:2710/announce&tr=http://t.t789.vip:2710/announce</a><br>"
      ],
      "text/plain": [
       "<IPython.core.display.HTML object>"
      ]
     },
     "metadata": {},
     "output_type": "display_data"
    },
    {
     "data": {
      "text/html": [
       "<a href=\"magnet:?xt=urn:btih:6cc6f40f2a406ad8dc0b6b429c283acd77081dd0&dn=火影忍者 博人传之火影次世代232.mp4\r&tr=http://t.t789.me:2710/announce&tr=http://t.t789.co:2710/announce&tr=http://t.t789.vip:2710/announce\">magnet:?xt=urn:btih:6cc6f40f2a406ad8dc0b6b429c283acd77081dd0&dn=火影忍者 博人传之火影次世代232.mp4\r&tr=http://t.t789.me:2710/announce&tr=http://t.t789.co:2710/announce&tr=http://t.t789.vip:2710/announce</a><br>"
      ],
      "text/plain": [
       "<IPython.core.display.HTML object>"
      ]
     },
     "metadata": {},
     "output_type": "display_data"
    },
    {
     "data": {
      "text/html": [
       "<a href=\"magnet:?xt=urn:btih:52570f3a2e85c6862c33e5baf809afbfaf2748ef&dn=火影忍者 博人传之火影次世代231.mp4\r&tr=http://t.t789.me:2710/announce&tr=http://t.t789.co:2710/announce&tr=http://t.t789.vip:2710/announce\">magnet:?xt=urn:btih:52570f3a2e85c6862c33e5baf809afbfaf2748ef&dn=火影忍者 博人传之火影次世代231.mp4\r&tr=http://t.t789.me:2710/announce&tr=http://t.t789.co:2710/announce&tr=http://t.t789.vip:2710/announce</a><br>"
      ],
      "text/plain": [
       "<IPython.core.display.HTML object>"
      ]
     },
     "metadata": {},
     "output_type": "display_data"
    },
    {
     "data": {
      "text/html": [
       "<a href=\"magnet:?xt=urn:btih:0fb828df75d8a474156ed3856636ffe818e4dc36&dn=火影忍者 博人传之火影次世代230.mp4\r&tr=http://t.t789.me:2710/announce&tr=http://t.t789.co:2710/announce&tr=http://t.t789.vip:2710/announce\">magnet:?xt=urn:btih:0fb828df75d8a474156ed3856636ffe818e4dc36&dn=火影忍者 博人传之火影次世代230.mp4\r&tr=http://t.t789.me:2710/announce&tr=http://t.t789.co:2710/announce&tr=http://t.t789.vip:2710/announce</a><br>"
      ],
      "text/plain": [
       "<IPython.core.display.HTML object>"
      ]
     },
     "metadata": {},
     "output_type": "display_data"
    },
    {
     "data": {
      "text/html": [
       "<a href=\"magnet:?xt=urn:btih:9660bdc3353040f3bc9977e447b9c84143afaeaa&dn=火影忍者 博人传之火影次世代229.mp4\r&tr=http://t.t789.me:2710/announce&tr=http://t.t789.co:2710/announce&tr=http://t.t789.vip:2710/announce\">magnet:?xt=urn:btih:9660bdc3353040f3bc9977e447b9c84143afaeaa&dn=火影忍者 博人传之火影次世代229.mp4\r&tr=http://t.t789.me:2710/announce&tr=http://t.t789.co:2710/announce&tr=http://t.t789.vip:2710/announce</a><br>"
      ],
      "text/plain": [
       "<IPython.core.display.HTML object>"
      ]
     },
     "metadata": {},
     "output_type": "display_data"
    },
    {
     "data": {
      "text/html": [
       "<a href=\"magnet:?xt=urn:btih:e444e810f42e6ef50b9b3937079047a9db0cc5f9&dn=火影忍者 博人传之火影次世代228.mp4\r&tr=http://t.t789.me:2710/announce&tr=http://t.t789.co:2710/announce&tr=http://t.t789.vip:2710/announce\">magnet:?xt=urn:btih:e444e810f42e6ef50b9b3937079047a9db0cc5f9&dn=火影忍者 博人传之火影次世代228.mp4\r&tr=http://t.t789.me:2710/announce&tr=http://t.t789.co:2710/announce&tr=http://t.t789.vip:2710/announce</a><br>"
      ],
      "text/plain": [
       "<IPython.core.display.HTML object>"
      ]
     },
     "metadata": {},
     "output_type": "display_data"
    },
    {
     "data": {
      "text/html": [
       "<a href=\"magnet:?xt=urn:btih:b5292eca14f55365125f1313ef131c8ed747b64c&dn=火影忍者 博人传之火影次世代227.mp4\r&tr=http://t.t789.me:2710/announce&tr=http://t.t789.co:2710/announce&tr=http://t.t789.vip:2710/announce\">magnet:?xt=urn:btih:b5292eca14f55365125f1313ef131c8ed747b64c&dn=火影忍者 博人传之火影次世代227.mp4\r&tr=http://t.t789.me:2710/announce&tr=http://t.t789.co:2710/announce&tr=http://t.t789.vip:2710/announce</a><br>"
      ],
      "text/plain": [
       "<IPython.core.display.HTML object>"
      ]
     },
     "metadata": {},
     "output_type": "display_data"
    },
    {
     "data": {
      "text/html": [
       "<a href=\"magnet:?xt=urn:btih:bfb2d028145576adaf909d27ad514b273e4d872d&dn=火影忍者 博人传之火影次世代226.mp4\r&tr=http://t.t789.me:2710/announce&tr=http://t.t789.co:2710/announce&tr=http://t.t789.vip:2710/announce\">magnet:?xt=urn:btih:bfb2d028145576adaf909d27ad514b273e4d872d&dn=火影忍者 博人传之火影次世代226.mp4\r&tr=http://t.t789.me:2710/announce&tr=http://t.t789.co:2710/announce&tr=http://t.t789.vip:2710/announce</a><br>"
      ],
      "text/plain": [
       "<IPython.core.display.HTML object>"
      ]
     },
     "metadata": {},
     "output_type": "display_data"
    },
    {
     "data": {
      "text/html": [
       "<a href=\"magnet:?xt=urn:btih:478a3428467ce2d487cbc50c2e5ac134f351e7ac&dn=火影忍者 博人传之火影次世代225.mp4\r&tr=http://t.t789.me:2710/announce&tr=http://t.t789.co:2710/announce&tr=http://t.t789.vip:2710/announce\">magnet:?xt=urn:btih:478a3428467ce2d487cbc50c2e5ac134f351e7ac&dn=火影忍者 博人传之火影次世代225.mp4\r&tr=http://t.t789.me:2710/announce&tr=http://t.t789.co:2710/announce&tr=http://t.t789.vip:2710/announce</a><br>"
      ],
      "text/plain": [
       "<IPython.core.display.HTML object>"
      ]
     },
     "metadata": {},
     "output_type": "display_data"
    },
    {
     "data": {
      "text/html": [
       "<a href=\"magnet:?xt=urn:btih:0389bfe93c5e68dbceff46f9d895f30db4c441d4&dn=火影忍者 博人传之火影次世代224.mp4\r&tr=http://t.t789.me:2710/announce&tr=http://t.t789.co:2710/announce&tr=http://t.t789.vip:2710/announce\">magnet:?xt=urn:btih:0389bfe93c5e68dbceff46f9d895f30db4c441d4&dn=火影忍者 博人传之火影次世代224.mp4\r&tr=http://t.t789.me:2710/announce&tr=http://t.t789.co:2710/announce&tr=http://t.t789.vip:2710/announce</a><br>"
      ],
      "text/plain": [
       "<IPython.core.display.HTML object>"
      ]
     },
     "metadata": {},
     "output_type": "display_data"
    },
    {
     "data": {
      "text/html": [
       "<a href=\"magnet:?xt=urn:btih:258e19585d40a127ce5889bef807860a4365464c&dn=火影忍者 博人传之火影次世代223.mp4\r&tr=http://t.t789.me:2710/announce&tr=http://t.t789.co:2710/announce&tr=http://t.t789.vip:2710/announce\">magnet:?xt=urn:btih:258e19585d40a127ce5889bef807860a4365464c&dn=火影忍者 博人传之火影次世代223.mp4\r&tr=http://t.t789.me:2710/announce&tr=http://t.t789.co:2710/announce&tr=http://t.t789.vip:2710/announce</a><br>"
      ],
      "text/plain": [
       "<IPython.core.display.HTML object>"
      ]
     },
     "metadata": {},
     "output_type": "display_data"
    },
    {
     "data": {
      "text/html": [
       "<a href=\"magnet:?xt=urn:btih:1edf4d949c1fb62aeb1e212f9d86f6ff46eb432e&dn=火影忍者 博人传之火影次世代222.mp4\r&tr=http://t.t789.me:2710/announce&tr=http://t.t789.co:2710/announce&tr=http://t.t789.vip:2710/announce\">magnet:?xt=urn:btih:1edf4d949c1fb62aeb1e212f9d86f6ff46eb432e&dn=火影忍者 博人传之火影次世代222.mp4\r&tr=http://t.t789.me:2710/announce&tr=http://t.t789.co:2710/announce&tr=http://t.t789.vip:2710/announce</a><br>"
      ],
      "text/plain": [
       "<IPython.core.display.HTML object>"
      ]
     },
     "metadata": {},
     "output_type": "display_data"
    },
    {
     "data": {
      "text/html": [
       "<a href=\"magnet:?xt=urn:btih:2625e09eded565a37e32a352574f6b4991ccb84f&dn=火影忍者 博人传之火影次世代221.mp4\r&tr=http://t.t789.me:2710/announce&tr=http://t.t789.co:2710/announce&tr=http://t.t789.vip:2710/announce\">magnet:?xt=urn:btih:2625e09eded565a37e32a352574f6b4991ccb84f&dn=火影忍者 博人传之火影次世代221.mp4\r&tr=http://t.t789.me:2710/announce&tr=http://t.t789.co:2710/announce&tr=http://t.t789.vip:2710/announce</a><br>"
      ],
      "text/plain": [
       "<IPython.core.display.HTML object>"
      ]
     },
     "metadata": {},
     "output_type": "display_data"
    },
    {
     "data": {
      "text/html": [
       "<a href=\"magnet:?xt=urn:btih:2ca8feaa534e00bd24a830e0bdd25942fed8d932&dn=火影忍者 博人传之火影次世代220.mp4\r&tr=http://t.t789.me:2710/announce&tr=http://t.t789.co:2710/announce&tr=http://t.t789.vip:2710/announce\">magnet:?xt=urn:btih:2ca8feaa534e00bd24a830e0bdd25942fed8d932&dn=火影忍者 博人传之火影次世代220.mp4\r&tr=http://t.t789.me:2710/announce&tr=http://t.t789.co:2710/announce&tr=http://t.t789.vip:2710/announce</a><br>"
      ],
      "text/plain": [
       "<IPython.core.display.HTML object>"
      ]
     },
     "metadata": {},
     "output_type": "display_data"
    },
    {
     "data": {
      "text/html": [
       "<a href=\"magnet:?xt=urn:btih:816b0f61453db10963e9cc106e25d536f8a2c2da&dn=火影忍者 博人传之火影次世代219.mp4\r&tr=http://t.t789.me:2710/announce&tr=http://t.t789.co:2710/announce&tr=http://t.t789.vip:2710/announce\">magnet:?xt=urn:btih:816b0f61453db10963e9cc106e25d536f8a2c2da&dn=火影忍者 博人传之火影次世代219.mp4\r&tr=http://t.t789.me:2710/announce&tr=http://t.t789.co:2710/announce&tr=http://t.t789.vip:2710/announce</a><br>"
      ],
      "text/plain": [
       "<IPython.core.display.HTML object>"
      ]
     },
     "metadata": {},
     "output_type": "display_data"
    },
    {
     "data": {
      "text/html": [
       "<a href=\"magnet:?xt=urn:btih:ee1d50723f5af6ad2e90fa14ec35fbebb1ac243b&dn=火影忍者 博人传之火影次世代218.mp4\r&tr=http://t.t789.me:2710/announce&tr=http://t.t789.co:2710/announce&tr=http://t.t789.vip:2710/announce\">magnet:?xt=urn:btih:ee1d50723f5af6ad2e90fa14ec35fbebb1ac243b&dn=火影忍者 博人传之火影次世代218.mp4\r&tr=http://t.t789.me:2710/announce&tr=http://t.t789.co:2710/announce&tr=http://t.t789.vip:2710/announce</a><br>"
      ],
      "text/plain": [
       "<IPython.core.display.HTML object>"
      ]
     },
     "metadata": {},
     "output_type": "display_data"
    },
    {
     "data": {
      "text/html": [
       "<a href=\"magnet:?xt=urn:btih:43ad13ebbe454c6b9640a845ccf3222b0ec4528c&dn=火影忍者 博人传之火影次世代217.mp4\r&tr=http://t.t789.me:2710/announce&tr=http://t.t789.co:2710/announce&tr=http://t.t789.vip:2710/announce\">magnet:?xt=urn:btih:43ad13ebbe454c6b9640a845ccf3222b0ec4528c&dn=火影忍者 博人传之火影次世代217.mp4\r&tr=http://t.t789.me:2710/announce&tr=http://t.t789.co:2710/announce&tr=http://t.t789.vip:2710/announce</a><br>"
      ],
      "text/plain": [
       "<IPython.core.display.HTML object>"
      ]
     },
     "metadata": {},
     "output_type": "display_data"
    },
    {
     "data": {
      "text/html": [
       "<a href=\"magnet:?xt=urn:btih:6c73632beabebc1c8f4a5a1f5257c191771ec7bd&dn=火影忍者 博人传之火影次世代216.mp4\r&tr=http://t.t789.me:2710/announce&tr=http://t.t789.co:2710/announce&tr=http://t.t789.vip:2710/announce\">magnet:?xt=urn:btih:6c73632beabebc1c8f4a5a1f5257c191771ec7bd&dn=火影忍者 博人传之火影次世代216.mp4\r&tr=http://t.t789.me:2710/announce&tr=http://t.t789.co:2710/announce&tr=http://t.t789.vip:2710/announce</a><br>"
      ],
      "text/plain": [
       "<IPython.core.display.HTML object>"
      ]
     },
     "metadata": {},
     "output_type": "display_data"
    },
    {
     "data": {
      "text/html": [
       "<a href=\"magnet:?xt=urn:btih:cb6b740dc2ec3c705a4623ecb0234baf3c80ab48&dn=火影忍者 博人传之火影次世代215.mp4\r&tr=http://t.t789.me:2710/announce&tr=http://t.t789.co:2710/announce&tr=http://t.t789.vip:2710/announce\">magnet:?xt=urn:btih:cb6b740dc2ec3c705a4623ecb0234baf3c80ab48&dn=火影忍者 博人传之火影次世代215.mp4\r&tr=http://t.t789.me:2710/announce&tr=http://t.t789.co:2710/announce&tr=http://t.t789.vip:2710/announce</a><br>"
      ],
      "text/plain": [
       "<IPython.core.display.HTML object>"
      ]
     },
     "metadata": {},
     "output_type": "display_data"
    },
    {
     "data": {
      "text/html": [
       "<a href=\"magnet:?xt=urn:btih:516eddd22b12fafeef0f7b4c17b88cbe6b0fdc45&dn=火影忍者 博人传之火影次世代214.mp4\r&tr=http://t.t789.me:2710/announce&tr=http://t.t789.co:2710/announce&tr=http://t.t789.vip:2710/announce\">magnet:?xt=urn:btih:516eddd22b12fafeef0f7b4c17b88cbe6b0fdc45&dn=火影忍者 博人传之火影次世代214.mp4\r&tr=http://t.t789.me:2710/announce&tr=http://t.t789.co:2710/announce&tr=http://t.t789.vip:2710/announce</a><br>"
      ],
      "text/plain": [
       "<IPython.core.display.HTML object>"
      ]
     },
     "metadata": {},
     "output_type": "display_data"
    },
    {
     "data": {
      "text/html": [
       "<a href=\"magnet:?xt=urn:btih:6fa8361ba46dbd61f39cc9fa4ef2b59bf0e439a6&dn=火影忍者 博人传之火影次世代213.mp4\r&tr=http://t.t789.me:2710/announce&tr=http://t.t789.co:2710/announce&tr=http://t.t789.vip:2710/announce\">magnet:?xt=urn:btih:6fa8361ba46dbd61f39cc9fa4ef2b59bf0e439a6&dn=火影忍者 博人传之火影次世代213.mp4\r&tr=http://t.t789.me:2710/announce&tr=http://t.t789.co:2710/announce&tr=http://t.t789.vip:2710/announce</a><br>"
      ],
      "text/plain": [
       "<IPython.core.display.HTML object>"
      ]
     },
     "metadata": {},
     "output_type": "display_data"
    },
    {
     "data": {
      "text/html": [
       "<a href=\"magnet:?xt=urn:btih:270d45b633bdf9116e8f07220d930a74055f8b3c&dn=火影忍者 博人传之火影次世代212.mp4\r&tr=http://t.t789.me:2710/announce&tr=http://t.t789.co:2710/announce&tr=http://t.t789.vip:2710/announce\">magnet:?xt=urn:btih:270d45b633bdf9116e8f07220d930a74055f8b3c&dn=火影忍者 博人传之火影次世代212.mp4\r&tr=http://t.t789.me:2710/announce&tr=http://t.t789.co:2710/announce&tr=http://t.t789.vip:2710/announce</a><br>"
      ],
      "text/plain": [
       "<IPython.core.display.HTML object>"
      ]
     },
     "metadata": {},
     "output_type": "display_data"
    },
    {
     "data": {
      "text/html": [
       "<a href=\"magnet:?xt=urn:btih:be70ba0198c75f60108910fb3e9acc3a010bb05d&dn=火影忍者 博人传之火影次世代211.mp4\r&tr=http://t.t789.me:2710/announce&tr=http://t.t789.co:2710/announce&tr=http://t.t789.vip:2710/announce\">magnet:?xt=urn:btih:be70ba0198c75f60108910fb3e9acc3a010bb05d&dn=火影忍者 博人传之火影次世代211.mp4\r&tr=http://t.t789.me:2710/announce&tr=http://t.t789.co:2710/announce&tr=http://t.t789.vip:2710/announce</a><br>"
      ],
      "text/plain": [
       "<IPython.core.display.HTML object>"
      ]
     },
     "metadata": {},
     "output_type": "display_data"
    },
    {
     "data": {
      "text/html": [
       "<a href=\"magnet:?xt=urn:btih:4ddf38c9459244581bcbbdfa67fdc8336115c33f&dn=火影忍者 博人传之火影次世代210.mp4\r&tr=http://t.t789.me:2710/announce&tr=http://t.t789.co:2710/announce&tr=http://t.t789.vip:2710/announce\">magnet:?xt=urn:btih:4ddf38c9459244581bcbbdfa67fdc8336115c33f&dn=火影忍者 博人传之火影次世代210.mp4\r&tr=http://t.t789.me:2710/announce&tr=http://t.t789.co:2710/announce&tr=http://t.t789.vip:2710/announce</a><br>"
      ],
      "text/plain": [
       "<IPython.core.display.HTML object>"
      ]
     },
     "metadata": {},
     "output_type": "display_data"
    },
    {
     "data": {
      "text/html": [
       "<a href=\"magnet:?xt=urn:btih:d4e84c167434fdd788858ef0a3a54175c3336186&dn=火影忍者 博人传之火影次世代209.mp4\r&tr=http://t.t789.me:2710/announce&tr=http://t.t789.co:2710/announce&tr=http://t.t789.vip:2710/announce\">magnet:?xt=urn:btih:d4e84c167434fdd788858ef0a3a54175c3336186&dn=火影忍者 博人传之火影次世代209.mp4\r&tr=http://t.t789.me:2710/announce&tr=http://t.t789.co:2710/announce&tr=http://t.t789.vip:2710/announce</a><br>"
      ],
      "text/plain": [
       "<IPython.core.display.HTML object>"
      ]
     },
     "metadata": {},
     "output_type": "display_data"
    },
    {
     "data": {
      "text/html": [
       "<a href=\"magnet:?xt=urn:btih:1537c7d2793c1489a8cd073cfa2007dcdd374a20&dn=火影忍者 博人传之火影次世代208.mp4\r&tr=http://t.t789.me:2710/announce&tr=http://t.t789.co:2710/announce&tr=http://t.t789.vip:2710/announce\">magnet:?xt=urn:btih:1537c7d2793c1489a8cd073cfa2007dcdd374a20&dn=火影忍者 博人传之火影次世代208.mp4\r&tr=http://t.t789.me:2710/announce&tr=http://t.t789.co:2710/announce&tr=http://t.t789.vip:2710/announce</a><br>"
      ],
      "text/plain": [
       "<IPython.core.display.HTML object>"
      ]
     },
     "metadata": {},
     "output_type": "display_data"
    },
    {
     "data": {
      "text/html": [
       "<a href=\"magnet:?xt=urn:btih:b6d29bf79a833bdf6bbd30bb21cfc621214c7624&dn=火影忍者 博人传之火影次世代207.mp4\r&tr=http://t.t789.me:2710/announce&tr=http://t.t789.co:2710/announce&tr=http://t.t789.vip:2710/announce\">magnet:?xt=urn:btih:b6d29bf79a833bdf6bbd30bb21cfc621214c7624&dn=火影忍者 博人传之火影次世代207.mp4\r&tr=http://t.t789.me:2710/announce&tr=http://t.t789.co:2710/announce&tr=http://t.t789.vip:2710/announce</a><br>"
      ],
      "text/plain": [
       "<IPython.core.display.HTML object>"
      ]
     },
     "metadata": {},
     "output_type": "display_data"
    },
    {
     "data": {
      "text/html": [
       "<a href=\"magnet:?xt=urn:btih:3382f8614b28e55d70f584c0817efa0f9048b47d&dn=火影忍者 博人传之火影次世代206.mp4\r&tr=http://t.t789.me:2710/announce&tr=http://t.t789.co:2710/announce&tr=http://t.t789.vip:2710/announce\">magnet:?xt=urn:btih:3382f8614b28e55d70f584c0817efa0f9048b47d&dn=火影忍者 博人传之火影次世代206.mp4\r&tr=http://t.t789.me:2710/announce&tr=http://t.t789.co:2710/announce&tr=http://t.t789.vip:2710/announce</a><br>"
      ],
      "text/plain": [
       "<IPython.core.display.HTML object>"
      ]
     },
     "metadata": {},
     "output_type": "display_data"
    },
    {
     "data": {
      "text/html": [
       "<a href=\"magnet:?xt=urn:btih:005f150b6683a7da5e2229d1e67ecfd8eab0cae2&dn=火影忍者 博人传之火影次世代205.mp4\r&tr=http://t.t789.me:2710/announce&tr=http://t.t789.co:2710/announce&tr=http://t.t789.vip:2710/announce\">magnet:?xt=urn:btih:005f150b6683a7da5e2229d1e67ecfd8eab0cae2&dn=火影忍者 博人传之火影次世代205.mp4\r&tr=http://t.t789.me:2710/announce&tr=http://t.t789.co:2710/announce&tr=http://t.t789.vip:2710/announce</a><br>"
      ],
      "text/plain": [
       "<IPython.core.display.HTML object>"
      ]
     },
     "metadata": {},
     "output_type": "display_data"
    },
    {
     "data": {
      "text/html": [
       "<a href=\"magnet:?xt=urn:btih:97cfbc9c626d080ca5ae663d46dae05ef9e3fc0f&dn=火影忍者：博人传之次世代继承者204.mp4\r&tr=http://t.t789.me:2710/announce&tr=http://t.t789.co:2710/announce&tr=http://t.t789.vip:2710/announce\">magnet:?xt=urn:btih:97cfbc9c626d080ca5ae663d46dae05ef9e3fc0f&dn=火影忍者：博人传之次世代继承者204.mp4\r&tr=http://t.t789.me:2710/announce&tr=http://t.t789.co:2710/announce&tr=http://t.t789.vip:2710/announce</a><br>"
      ],
      "text/plain": [
       "<IPython.core.display.HTML object>"
      ]
     },
     "metadata": {},
     "output_type": "display_data"
    },
    {
     "data": {
      "text/html": [
       "<a href=\"magnet:?xt=urn:btih:f08458a4e797fe47ef53c31c10e313cb68d7ae8f&dn=火影忍者 博人传之火影次世代203.mp4\r&tr=http://t.t789.me:2710/announce&tr=http://t.t789.co:2710/announce&tr=http://t.t789.vip:2710/announce\">magnet:?xt=urn:btih:f08458a4e797fe47ef53c31c10e313cb68d7ae8f&dn=火影忍者 博人传之火影次世代203.mp4\r&tr=http://t.t789.me:2710/announce&tr=http://t.t789.co:2710/announce&tr=http://t.t789.vip:2710/announce</a><br>"
      ],
      "text/plain": [
       "<IPython.core.display.HTML object>"
      ]
     },
     "metadata": {},
     "output_type": "display_data"
    },
    {
     "data": {
      "text/html": [
       "<a href=\"magnet:?xt=urn:btih:a76e0986d2c66665f8a0b5dc3a57e2942031e6a6&dn=火影忍者 博人传之火影次世代202.mp4\r&tr=http://t.t789.me:2710/announce&tr=http://t.t789.co:2710/announce&tr=http://t.t789.vip:2710/announce\">magnet:?xt=urn:btih:a76e0986d2c66665f8a0b5dc3a57e2942031e6a6&dn=火影忍者 博人传之火影次世代202.mp4\r&tr=http://t.t789.me:2710/announce&tr=http://t.t789.co:2710/announce&tr=http://t.t789.vip:2710/announce</a><br>"
      ],
      "text/plain": [
       "<IPython.core.display.HTML object>"
      ]
     },
     "metadata": {},
     "output_type": "display_data"
    },
    {
     "data": {
      "text/html": [
       "<a href=\"magnet:?xt=urn:btih:1955f4afaffb8587e5dce0faf1da6d2f94957bef&dn=火影忍者：博人传之次世代继承者201.mp4\r&tr=http://t.t789.me:2710/announce&tr=http://t.t789.co:2710/announce&tr=http://t.t789.vip:2710/announce\">magnet:?xt=urn:btih:1955f4afaffb8587e5dce0faf1da6d2f94957bef&dn=火影忍者：博人传之次世代继承者201.mp4\r&tr=http://t.t789.me:2710/announce&tr=http://t.t789.co:2710/announce&tr=http://t.t789.vip:2710/announce</a><br>"
      ],
      "text/plain": [
       "<IPython.core.display.HTML object>"
      ]
     },
     "metadata": {},
     "output_type": "display_data"
    },
    {
     "data": {
      "text/html": [
       "<a href=\"magnet:?xt=urn:btih:3cb959d6597210302a544c85f676dc9e026a9552&dn=火影忍者 博人传之火影次世代200.mp4\r&tr=http://t.t789.me:2710/announce&tr=http://t.t789.co:2710/announce&tr=http://t.t789.vip:2710/announce\">magnet:?xt=urn:btih:3cb959d6597210302a544c85f676dc9e026a9552&dn=火影忍者 博人传之火影次世代200.mp4\r&tr=http://t.t789.me:2710/announce&tr=http://t.t789.co:2710/announce&tr=http://t.t789.vip:2710/announce</a><br>"
      ],
      "text/plain": [
       "<IPython.core.display.HTML object>"
      ]
     },
     "metadata": {},
     "output_type": "display_data"
    },
    {
     "data": {
      "text/html": [
       "<a href=\"magnet:?xt=urn:btih:cfec8d608d19779bd32524770f1e07d6053f5817&dn=火影忍者：博人传之次世代继承者199.mp4\r&tr=http://t.t789.me:2710/announce&tr=http://t.t789.co:2710/announce&tr=http://t.t789.vip:2710/announce\">magnet:?xt=urn:btih:cfec8d608d19779bd32524770f1e07d6053f5817&dn=火影忍者：博人传之次世代继承者199.mp4\r&tr=http://t.t789.me:2710/announce&tr=http://t.t789.co:2710/announce&tr=http://t.t789.vip:2710/announce</a><br>"
      ],
      "text/plain": [
       "<IPython.core.display.HTML object>"
      ]
     },
     "metadata": {},
     "output_type": "display_data"
    },
    {
     "data": {
      "text/html": [
       "<a href=\"magnet:?xt=urn:btih:d34a3ba3410f0a873e094af30a58e0f9606c44f2&dn=火影忍者：博人传之次世代继承者198.mp4\r&tr=http://t.t789.me:2710/announce&tr=http://t.t789.co:2710/announce&tr=http://t.t789.vip:2710/announce\">magnet:?xt=urn:btih:d34a3ba3410f0a873e094af30a58e0f9606c44f2&dn=火影忍者：博人传之次世代继承者198.mp4\r&tr=http://t.t789.me:2710/announce&tr=http://t.t789.co:2710/announce&tr=http://t.t789.vip:2710/announce</a><br>"
      ],
      "text/plain": [
       "<IPython.core.display.HTML object>"
      ]
     },
     "metadata": {},
     "output_type": "display_data"
    },
    {
     "data": {
      "text/html": [
       "<a href=\"magnet:?xt=urn:btih:d296925754ab09e10d6ba1ba11423b88b8e7411c&dn=火影忍者：博人传之次世代继承者197.mp4\r&tr=http://t.t789.me:2710/announce&tr=http://t.t789.co:2710/announce&tr=http://t.t789.vip:2710/announce\">magnet:?xt=urn:btih:d296925754ab09e10d6ba1ba11423b88b8e7411c&dn=火影忍者：博人传之次世代继承者197.mp4\r&tr=http://t.t789.me:2710/announce&tr=http://t.t789.co:2710/announce&tr=http://t.t789.vip:2710/announce</a><br>"
      ],
      "text/plain": [
       "<IPython.core.display.HTML object>"
      ]
     },
     "metadata": {},
     "output_type": "display_data"
    },
    {
     "data": {
      "text/html": [
       "<a href=\"magnet:?xt=urn:btih:16ba5d9e203b36cf6ec06bbd27660221a145c525&dn=火影忍者：博人传之次世代继承者196.mp4\r&tr=http://t.t789.me:2710/announce&tr=http://t.t789.co:2710/announce&tr=http://t.t789.vip:2710/announce\">magnet:?xt=urn:btih:16ba5d9e203b36cf6ec06bbd27660221a145c525&dn=火影忍者：博人传之次世代继承者196.mp4\r&tr=http://t.t789.me:2710/announce&tr=http://t.t789.co:2710/announce&tr=http://t.t789.vip:2710/announce</a><br>"
      ],
      "text/plain": [
       "<IPython.core.display.HTML object>"
      ]
     },
     "metadata": {},
     "output_type": "display_data"
    },
    {
     "data": {
      "text/html": [
       "<a href=\"magnet:?xt=urn:btih:bb36665d5b0d112c07f9777459ef5a90b5cec651&dn=火影忍者：博人传之次世代继承者195.mp4\r&tr=http://t.t789.me:2710/announce&tr=http://t.t789.co:2710/announce&tr=http://t.t789.vip:2710/announce\">magnet:?xt=urn:btih:bb36665d5b0d112c07f9777459ef5a90b5cec651&dn=火影忍者：博人传之次世代继承者195.mp4\r&tr=http://t.t789.me:2710/announce&tr=http://t.t789.co:2710/announce&tr=http://t.t789.vip:2710/announce</a><br>"
      ],
      "text/plain": [
       "<IPython.core.display.HTML object>"
      ]
     },
     "metadata": {},
     "output_type": "display_data"
    },
    {
     "data": {
      "text/html": [
       "<a href=\"magnet:?xt=urn:btih:de66774e515d964299820e46342988502a5ddf22&dn=火影忍者 博人传之火影次世代194.mp4\r&tr=http://t.t789.me:2710/announce&tr=http://t.t789.co:2710/announce&tr=http://t.t789.vip:2710/announce\">magnet:?xt=urn:btih:de66774e515d964299820e46342988502a5ddf22&dn=火影忍者 博人传之火影次世代194.mp4\r&tr=http://t.t789.me:2710/announce&tr=http://t.t789.co:2710/announce&tr=http://t.t789.vip:2710/announce</a><br>"
      ],
      "text/plain": [
       "<IPython.core.display.HTML object>"
      ]
     },
     "metadata": {},
     "output_type": "display_data"
    },
    {
     "data": {
      "text/html": [
       "<a href=\"magnet:?xt=urn:btih:4fcdb2c7b767c0a183fa6b8ad8876df0ba193b68&dn=火影忍者：博人传之次世代继承者193.mp4\r&tr=http://t.t789.me:2710/announce&tr=http://t.t789.co:2710/announce&tr=http://t.t789.vip:2710/announce\">magnet:?xt=urn:btih:4fcdb2c7b767c0a183fa6b8ad8876df0ba193b68&dn=火影忍者：博人传之次世代继承者193.mp4\r&tr=http://t.t789.me:2710/announce&tr=http://t.t789.co:2710/announce&tr=http://t.t789.vip:2710/announce</a><br>"
      ],
      "text/plain": [
       "<IPython.core.display.HTML object>"
      ]
     },
     "metadata": {},
     "output_type": "display_data"
    },
    {
     "data": {
      "text/html": [
       "<hr><p style='color:red;'>---- Next Group ----</p><hr>"
      ],
      "text/plain": [
       "<IPython.core.display.HTML object>"
      ]
     },
     "metadata": {},
     "output_type": "display_data"
    },
    {
     "data": {
      "text/html": [
       "<a href=\"magnet:?xt=urn:btih:652cafebc5954353e8e35ce95c5acb3c8c13c0db&dn=火影忍者 博人传之火影次世代192.mp4\r&tr=http://t.t789.me:2710/announce&tr=http://t.t789.co:2710/announce&tr=http://t.t789.vip:2710/announce\">magnet:?xt=urn:btih:652cafebc5954353e8e35ce95c5acb3c8c13c0db&dn=火影忍者 博人传之火影次世代192.mp4\r&tr=http://t.t789.me:2710/announce&tr=http://t.t789.co:2710/announce&tr=http://t.t789.vip:2710/announce</a><br>"
      ],
      "text/plain": [
       "<IPython.core.display.HTML object>"
      ]
     },
     "metadata": {},
     "output_type": "display_data"
    },
    {
     "data": {
      "text/html": [
       "<a href=\"magnet:?xt=urn:btih:33dd5558a20d32251ad84f9c07562a0935131389&dn=火影忍者：博人传之次世代继承者191.mp4\r&tr=http://t.t789.me:2710/announce&tr=http://t.t789.co:2710/announce&tr=http://t.t789.vip:2710/announce\">magnet:?xt=urn:btih:33dd5558a20d32251ad84f9c07562a0935131389&dn=火影忍者：博人传之次世代继承者191.mp4\r&tr=http://t.t789.me:2710/announce&tr=http://t.t789.co:2710/announce&tr=http://t.t789.vip:2710/announce</a><br>"
      ],
      "text/plain": [
       "<IPython.core.display.HTML object>"
      ]
     },
     "metadata": {},
     "output_type": "display_data"
    },
    {
     "data": {
      "text/html": [
       "<a href=\"magnet:?xt=urn:btih:e8026c6f07a29a85ac88c6ac4045ed40f76662d3&dn=火影忍者 博人传之火影次世代190.mp4\r&tr=http://t.t789.me:2710/announce&tr=http://t.t789.co:2710/announce&tr=http://t.t789.vip:2710/announce\">magnet:?xt=urn:btih:e8026c6f07a29a85ac88c6ac4045ed40f76662d3&dn=火影忍者 博人传之火影次世代190.mp4\r&tr=http://t.t789.me:2710/announce&tr=http://t.t789.co:2710/announce&tr=http://t.t789.vip:2710/announce</a><br>"
      ],
      "text/plain": [
       "<IPython.core.display.HTML object>"
      ]
     },
     "metadata": {},
     "output_type": "display_data"
    },
    {
     "data": {
      "text/html": [
       "<a href=\"magnet:?xt=urn:btih:03d9c385a5c5e2af9c521ef660ae470d0a8eb185&dn=火影忍者：博人传之次世代继承者189.mp4\r&tr=http://t.t789.me:2710/announce&tr=http://t.t789.co:2710/announce&tr=http://t.t789.vip:2710/announce\">magnet:?xt=urn:btih:03d9c385a5c5e2af9c521ef660ae470d0a8eb185&dn=火影忍者：博人传之次世代继承者189.mp4\r&tr=http://t.t789.me:2710/announce&tr=http://t.t789.co:2710/announce&tr=http://t.t789.vip:2710/announce</a><br>"
      ],
      "text/plain": [
       "<IPython.core.display.HTML object>"
      ]
     },
     "metadata": {},
     "output_type": "display_data"
    },
    {
     "data": {
      "text/html": [
       "<a href=\"magnet:?xt=urn:btih:d52904fff384177b2c6f4e7d8d6c977f3e452d84&dn=火影忍者：博人传之次世代继承者188.mp4\r&tr=http://t.t789.me:2710/announce&tr=http://t.t789.co:2710/announce&tr=http://t.t789.vip:2710/announce\">magnet:?xt=urn:btih:d52904fff384177b2c6f4e7d8d6c977f3e452d84&dn=火影忍者：博人传之次世代继承者188.mp4\r&tr=http://t.t789.me:2710/announce&tr=http://t.t789.co:2710/announce&tr=http://t.t789.vip:2710/announce</a><br>"
      ],
      "text/plain": [
       "<IPython.core.display.HTML object>"
      ]
     },
     "metadata": {},
     "output_type": "display_data"
    },
    {
     "data": {
      "text/html": [
       "<a href=\"magnet:?xt=urn:btih:72de3c68aa3e66e3ceea97c4c9247bff6d99612d&dn=火影忍者：博人传之次世代继承者187.mp4\r&tr=http://t.t789.me:2710/announce&tr=http://t.t789.co:2710/announce&tr=http://t.t789.vip:2710/announce\">magnet:?xt=urn:btih:72de3c68aa3e66e3ceea97c4c9247bff6d99612d&dn=火影忍者：博人传之次世代继承者187.mp4\r&tr=http://t.t789.me:2710/announce&tr=http://t.t789.co:2710/announce&tr=http://t.t789.vip:2710/announce</a><br>"
      ],
      "text/plain": [
       "<IPython.core.display.HTML object>"
      ]
     },
     "metadata": {},
     "output_type": "display_data"
    },
    {
     "data": {
      "text/html": [
       "<a href=\"magnet:?xt=urn:btih:2570fd20aa795ba84453c4cfad0695ab7875610f&dn=火影忍者：博人传之次世代继承者186.mp4\r&tr=http://t.t789.me:2710/announce&tr=http://t.t789.co:2710/announce&tr=http://t.t789.vip:2710/announce\">magnet:?xt=urn:btih:2570fd20aa795ba84453c4cfad0695ab7875610f&dn=火影忍者：博人传之次世代继承者186.mp4\r&tr=http://t.t789.me:2710/announce&tr=http://t.t789.co:2710/announce&tr=http://t.t789.vip:2710/announce</a><br>"
      ],
      "text/plain": [
       "<IPython.core.display.HTML object>"
      ]
     },
     "metadata": {},
     "output_type": "display_data"
    },
    {
     "data": {
      "text/html": [
       "<a href=\"magnet:?xt=urn:btih:14e43a098e02b40de9d7b6b5a6992e3a5c7fc581&dn=火影忍者：博人传之次世代继承者185.mp4\r&tr=http://t.t789.me:2710/announce&tr=http://t.t789.co:2710/announce&tr=http://t.t789.vip:2710/announce\">magnet:?xt=urn:btih:14e43a098e02b40de9d7b6b5a6992e3a5c7fc581&dn=火影忍者：博人传之次世代继承者185.mp4\r&tr=http://t.t789.me:2710/announce&tr=http://t.t789.co:2710/announce&tr=http://t.t789.vip:2710/announce</a><br>"
      ],
      "text/plain": [
       "<IPython.core.display.HTML object>"
      ]
     },
     "metadata": {},
     "output_type": "display_data"
    },
    {
     "data": {
      "text/html": [
       "<a href=\"magnet:?xt=urn:btih:B44FJZSP6FFJDOHQRAUC5RMX55RRPYTY&dn=博人传-火影忍者新时代第184集.mp4\r&tr=http://t.t789.me:2710/announce&tr=http://t.t789.co:2710/announce&tr=http://t.t789.vip:2710/announce\">magnet:?xt=urn:btih:B44FJZSP6FFJDOHQRAUC5RMX55RRPYTY&dn=博人传-火影忍者新时代第184集.mp4\r&tr=http://t.t789.me:2710/announce&tr=http://t.t789.co:2710/announce&tr=http://t.t789.vip:2710/announce</a><br>"
      ],
      "text/plain": [
       "<IPython.core.display.HTML object>"
      ]
     },
     "metadata": {},
     "output_type": "display_data"
    },
    {
     "data": {
      "text/html": [
       "<a href=\"magnet:?xt=urn:btih:6OWC5OCZ54YONPLEUMFKO4LNDAJ3UBUL&dn=博人传-火影忍者新时代第183集.mp4\r&tr=http://t.t789.me:2710/announce&tr=http://t.t789.co:2710/announce&tr=http://t.t789.vip:2710/announce\">magnet:?xt=urn:btih:6OWC5OCZ54YONPLEUMFKO4LNDAJ3UBUL&dn=博人传-火影忍者新时代第183集.mp4\r&tr=http://t.t789.me:2710/announce&tr=http://t.t789.co:2710/announce&tr=http://t.t789.vip:2710/announce</a><br>"
      ],
      "text/plain": [
       "<IPython.core.display.HTML object>"
      ]
     },
     "metadata": {},
     "output_type": "display_data"
    },
    {
     "data": {
      "text/html": [
       "<a href=\"magnet:?xt=urn:btih:2WAEDJNFUAQW5J624AELGW5GCUWVRIPT&dn=博人传-火影忍者新时代第182集.mp4\r&tr=http://t.t789.me:2710/announce&tr=http://t.t789.co:2710/announce&tr=http://t.t789.vip:2710/announce\">magnet:?xt=urn:btih:2WAEDJNFUAQW5J624AELGW5GCUWVRIPT&dn=博人传-火影忍者新时代第182集.mp4\r&tr=http://t.t789.me:2710/announce&tr=http://t.t789.co:2710/announce&tr=http://t.t789.vip:2710/announce</a><br>"
      ],
      "text/plain": [
       "<IPython.core.display.HTML object>"
      ]
     },
     "metadata": {},
     "output_type": "display_data"
    },
    {
     "data": {
      "text/html": [
       "<a href=\"magnet:?xt=urn:btih:2FAKZOITK5X3CFNFNH2IJVGNZ2HWGZ3M&dn=博人传-火影忍者新时代第181集.mp4\r&tr=http://t.t789.me:2710/announce&tr=http://t.t789.co:2710/announce&tr=http://t.t789.vip:2710/announce\">magnet:?xt=urn:btih:2FAKZOITK5X3CFNFNH2IJVGNZ2HWGZ3M&dn=博人传-火影忍者新时代第181集.mp4\r&tr=http://t.t789.me:2710/announce&tr=http://t.t789.co:2710/announce&tr=http://t.t789.vip:2710/announce</a><br>"
      ],
      "text/plain": [
       "<IPython.core.display.HTML object>"
      ]
     },
     "metadata": {},
     "output_type": "display_data"
    },
    {
     "data": {
      "text/html": [
       "<a href=\"magnet:?xt=urn:btih:4YIV2UXYGIOG2BUVRY6EDK5HKUFRTUIL&dn=博人传-火影忍者新时代第180集.mp4\r&tr=http://t.t789.me:2710/announce&tr=http://t.t789.co:2710/announce&tr=http://t.t789.vip:2710/announce\">magnet:?xt=urn:btih:4YIV2UXYGIOG2BUVRY6EDK5HKUFRTUIL&dn=博人传-火影忍者新时代第180集.mp4\r&tr=http://t.t789.me:2710/announce&tr=http://t.t789.co:2710/announce&tr=http://t.t789.vip:2710/announce</a><br>"
      ],
      "text/plain": [
       "<IPython.core.display.HTML object>"
      ]
     },
     "metadata": {},
     "output_type": "display_data"
    },
    {
     "data": {
      "text/html": [
       "<a href=\"magnet:?xt=urn:btih:QPIZBVD25OB5VGJHPDK2STAI7CR6EHQG&dn=博人传-火影忍者新时代第179集.mp4\r&tr=http://t.t789.me:2710/announce&tr=http://t.t789.co:2710/announce&tr=http://t.t789.vip:2710/announce\">magnet:?xt=urn:btih:QPIZBVD25OB5VGJHPDK2STAI7CR6EHQG&dn=博人传-火影忍者新时代第179集.mp4\r&tr=http://t.t789.me:2710/announce&tr=http://t.t789.co:2710/announce&tr=http://t.t789.vip:2710/announce</a><br>"
      ],
      "text/plain": [
       "<IPython.core.display.HTML object>"
      ]
     },
     "metadata": {},
     "output_type": "display_data"
    },
    {
     "data": {
      "text/html": [
       "<a href=\"magnet:?xt=urn:btih:A4OGU677I5Q2OWY2V44HPRYWHYWP2QWO&dn=博人传-火影忍者新时代第178集.mp4\r&tr=http://t.t789.me:2710/announce&tr=http://t.t789.co:2710/announce&tr=http://t.t789.vip:2710/announce\">magnet:?xt=urn:btih:A4OGU677I5Q2OWY2V44HPRYWHYWP2QWO&dn=博人传-火影忍者新时代第178集.mp4\r&tr=http://t.t789.me:2710/announce&tr=http://t.t789.co:2710/announce&tr=http://t.t789.vip:2710/announce</a><br>"
      ],
      "text/plain": [
       "<IPython.core.display.HTML object>"
      ]
     },
     "metadata": {},
     "output_type": "display_data"
    },
    {
     "data": {
      "text/html": [
       "<a href=\"magnet:?xt=urn:btih:EVPYKFISHKKQGKPR7VETHTPMZU7YB7U3&dn=博人传-火影忍者新时代第177集.mp4\r&tr=http://t.t789.me:2710/announce&tr=http://t.t789.co:2710/announce&tr=http://t.t789.vip:2710/announce\">magnet:?xt=urn:btih:EVPYKFISHKKQGKPR7VETHTPMZU7YB7U3&dn=博人传-火影忍者新时代第177集.mp4\r&tr=http://t.t789.me:2710/announce&tr=http://t.t789.co:2710/announce&tr=http://t.t789.vip:2710/announce</a><br>"
      ],
      "text/plain": [
       "<IPython.core.display.HTML object>"
      ]
     },
     "metadata": {},
     "output_type": "display_data"
    },
    {
     "data": {
      "text/html": [
       "<a href=\"magnet:?xt=urn:btih:PGQXD5QAN7TUNH6ZEYVNNQULCD4P26W6&dn=博人传-火影忍者新时代第176集.mp4\r&tr=http://t.t789.me:2710/announce&tr=http://t.t789.co:2710/announce&tr=http://t.t789.vip:2710/announce\">magnet:?xt=urn:btih:PGQXD5QAN7TUNH6ZEYVNNQULCD4P26W6&dn=博人传-火影忍者新时代第176集.mp4\r&tr=http://t.t789.me:2710/announce&tr=http://t.t789.co:2710/announce&tr=http://t.t789.vip:2710/announce</a><br>"
      ],
      "text/plain": [
       "<IPython.core.display.HTML object>"
      ]
     },
     "metadata": {},
     "output_type": "display_data"
    },
    {
     "data": {
      "text/html": [
       "<a href=\"magnet:?xt=urn:btih:XUCFBEE2PJ7DLTWUV6SD5NNWYQKZCQ76&dn=博人传-火影忍者新时代第175集.mp4\r&tr=http://t.t789.me:2710/announce&tr=http://t.t789.co:2710/announce&tr=http://t.t789.vip:2710/announce\">magnet:?xt=urn:btih:XUCFBEE2PJ7DLTWUV6SD5NNWYQKZCQ76&dn=博人传-火影忍者新时代第175集.mp4\r&tr=http://t.t789.me:2710/announce&tr=http://t.t789.co:2710/announce&tr=http://t.t789.vip:2710/announce</a><br>"
      ],
      "text/plain": [
       "<IPython.core.display.HTML object>"
      ]
     },
     "metadata": {},
     "output_type": "display_data"
    },
    {
     "data": {
      "text/html": [
       "<a href=\"magnet:?xt=urn:btih:E5QY6VXBPDFA7WBSJAQYHCCY3HVUXILW&dn=博人传-火影忍者新时代第174集.mp4\r&tr=http://t.t789.me:2710/announce&tr=http://t.t789.co:2710/announce&tr=http://t.t789.vip:2710/announce\">magnet:?xt=urn:btih:E5QY6VXBPDFA7WBSJAQYHCCY3HVUXILW&dn=博人传-火影忍者新时代第174集.mp4\r&tr=http://t.t789.me:2710/announce&tr=http://t.t789.co:2710/announce&tr=http://t.t789.vip:2710/announce</a><br>"
      ],
      "text/plain": [
       "<IPython.core.display.HTML object>"
      ]
     },
     "metadata": {},
     "output_type": "display_data"
    },
    {
     "data": {
      "text/html": [
       "<a href=\"magnet:?xt=urn:btih:753HZBNQ4BJT3K6LHMZ6IQV4L7NY36PR&dn=博人传-火影忍者新时代第173集.mp4\r&tr=http://t.t789.me:2710/announce&tr=http://t.t789.co:2710/announce&tr=http://t.t789.vip:2710/announce\">magnet:?xt=urn:btih:753HZBNQ4BJT3K6LHMZ6IQV4L7NY36PR&dn=博人传-火影忍者新时代第173集.mp4\r&tr=http://t.t789.me:2710/announce&tr=http://t.t789.co:2710/announce&tr=http://t.t789.vip:2710/announce</a><br>"
      ],
      "text/plain": [
       "<IPython.core.display.HTML object>"
      ]
     },
     "metadata": {},
     "output_type": "display_data"
    },
    {
     "data": {
      "text/html": [
       "<a href=\"magnet:?xt=urn:btih:H76D67VR5CNVBZU4VN6NEMACTCYVLQZP&dn=博人传-火影忍者新时代第171集.mp4\r&tr=http://t.t789.me:2710/announce&tr=http://t.t789.co:2710/announce&tr=http://t.t789.vip:2710/announce\">magnet:?xt=urn:btih:H76D67VR5CNVBZU4VN6NEMACTCYVLQZP&dn=博人传-火影忍者新时代第171集.mp4\r&tr=http://t.t789.me:2710/announce&tr=http://t.t789.co:2710/announce&tr=http://t.t789.vip:2710/announce</a><br>"
      ],
      "text/plain": [
       "<IPython.core.display.HTML object>"
      ]
     },
     "metadata": {},
     "output_type": "display_data"
    },
    {
     "data": {
      "text/html": [
       "<a href=\"magnet:?xt=urn:btih:HQPDYHCEAKKC4CGSCLHWCNWWIGHKBV6O&dn=博人传-火影忍者新时代第170集.mp4\r&tr=http://t.t789.me:2710/announce&tr=http://t.t789.co:2710/announce&tr=http://t.t789.vip:2710/announce\">magnet:?xt=urn:btih:HQPDYHCEAKKC4CGSCLHWCNWWIGHKBV6O&dn=博人传-火影忍者新时代第170集.mp4\r&tr=http://t.t789.me:2710/announce&tr=http://t.t789.co:2710/announce&tr=http://t.t789.vip:2710/announce</a><br>"
      ],
      "text/plain": [
       "<IPython.core.display.HTML object>"
      ]
     },
     "metadata": {},
     "output_type": "display_data"
    },
    {
     "data": {
      "text/html": [
       "<a href=\"magnet:?xt=urn:btih:CPNSRCLUD62YN33LGMXIBZF65QSITUXQ&dn=博人传-火影忍者新时代第169集.mp4\r&tr=http://t.t789.me:2710/announce&tr=http://t.t789.co:2710/announce&tr=http://t.t789.vip:2710/announce\">magnet:?xt=urn:btih:CPNSRCLUD62YN33LGMXIBZF65QSITUXQ&dn=博人传-火影忍者新时代第169集.mp4\r&tr=http://t.t789.me:2710/announce&tr=http://t.t789.co:2710/announce&tr=http://t.t789.vip:2710/announce</a><br>"
      ],
      "text/plain": [
       "<IPython.core.display.HTML object>"
      ]
     },
     "metadata": {},
     "output_type": "display_data"
    },
    {
     "data": {
      "text/html": [
       "<a href=\"magnet:?xt=urn:btih:S3M7WB3VJX4BVGOBKLTV6DG4MFT3S45O&dn=博人传-火影忍者新时代第168集.mp4\r&tr=http://t.t789.me:2710/announce&tr=http://t.t789.co:2710/announce&tr=http://t.t789.vip:2710/announce\">magnet:?xt=urn:btih:S3M7WB3VJX4BVGOBKLTV6DG4MFT3S45O&dn=博人传-火影忍者新时代第168集.mp4\r&tr=http://t.t789.me:2710/announce&tr=http://t.t789.co:2710/announce&tr=http://t.t789.vip:2710/announce</a><br>"
      ],
      "text/plain": [
       "<IPython.core.display.HTML object>"
      ]
     },
     "metadata": {},
     "output_type": "display_data"
    },
    {
     "data": {
      "text/html": [
       "<a href=\"magnet:?xt=urn:btih:2VRFAR2K7MZPVVGU675YCEA2NGTL6FJF&dn=博人传-火影忍者新时代第167集.mp4\r&tr=http://t.t789.me:2710/announce&tr=http://t.t789.co:2710/announce&tr=http://t.t789.vip:2710/announce\">magnet:?xt=urn:btih:2VRFAR2K7MZPVVGU675YCEA2NGTL6FJF&dn=博人传-火影忍者新时代第167集.mp4\r&tr=http://t.t789.me:2710/announce&tr=http://t.t789.co:2710/announce&tr=http://t.t789.vip:2710/announce</a><br>"
      ],
      "text/plain": [
       "<IPython.core.display.HTML object>"
      ]
     },
     "metadata": {},
     "output_type": "display_data"
    },
    {
     "data": {
      "text/html": [
       "<a href=\"magnet:?xt=urn:btih:DQE2DKAR6H36L7PO6KKAQFXELZ7SWACE&dn=博人传-火影忍者新时代第166集.mp4\r&tr=http://t.t789.me:2710/announce&tr=http://t.t789.co:2710/announce&tr=http://t.t789.vip:2710/announce\">magnet:?xt=urn:btih:DQE2DKAR6H36L7PO6KKAQFXELZ7SWACE&dn=博人传-火影忍者新时代第166集.mp4\r&tr=http://t.t789.me:2710/announce&tr=http://t.t789.co:2710/announce&tr=http://t.t789.vip:2710/announce</a><br>"
      ],
      "text/plain": [
       "<IPython.core.display.HTML object>"
      ]
     },
     "metadata": {},
     "output_type": "display_data"
    },
    {
     "data": {
      "text/html": [
       "<a href=\"magnet:?xt=urn:btih:SEMNP7PYMFPSFD6RGMTX7DQOHNJ5B3UK&dn=博人传-火影忍者新时代第165集.mp4\r&tr=http://t.t789.me:2710/announce&tr=http://t.t789.co:2710/announce&tr=http://t.t789.vip:2710/announce\">magnet:?xt=urn:btih:SEMNP7PYMFPSFD6RGMTX7DQOHNJ5B3UK&dn=博人传-火影忍者新时代第165集.mp4\r&tr=http://t.t789.me:2710/announce&tr=http://t.t789.co:2710/announce&tr=http://t.t789.vip:2710/announce</a><br>"
      ],
      "text/plain": [
       "<IPython.core.display.HTML object>"
      ]
     },
     "metadata": {},
     "output_type": "display_data"
    },
    {
     "data": {
      "text/html": [
       "<a href=\"magnet:?xt=urn:btih:IQ5X3IIPN3VZW7I7FWVMKP3CGHZSGDCI&dn=博人传-火影忍者新时代第164集.mp4\r&tr=http://t.t789.me:2710/announce&tr=http://t.t789.co:2710/announce&tr=http://t.t789.vip:2710/announce\">magnet:?xt=urn:btih:IQ5X3IIPN3VZW7I7FWVMKP3CGHZSGDCI&dn=博人传-火影忍者新时代第164集.mp4\r&tr=http://t.t789.me:2710/announce&tr=http://t.t789.co:2710/announce&tr=http://t.t789.vip:2710/announce</a><br>"
      ],
      "text/plain": [
       "<IPython.core.display.HTML object>"
      ]
     },
     "metadata": {},
     "output_type": "display_data"
    },
    {
     "data": {
      "text/html": [
       "<a href=\"magnet:?xt=urn:btih:DYA35HBAVLDTDM6DL62FGFIYEYUYIISZ&dn=博人传-火影忍者新时代第163集.mp4\r&tr=http://t.t789.me:2710/announce&tr=http://t.t789.co:2710/announce&tr=http://t.t789.vip:2710/announce\">magnet:?xt=urn:btih:DYA35HBAVLDTDM6DL62FGFIYEYUYIISZ&dn=博人传-火影忍者新时代第163集.mp4\r&tr=http://t.t789.me:2710/announce&tr=http://t.t789.co:2710/announce&tr=http://t.t789.vip:2710/announce</a><br>"
      ],
      "text/plain": [
       "<IPython.core.display.HTML object>"
      ]
     },
     "metadata": {},
     "output_type": "display_data"
    },
    {
     "data": {
      "text/html": [
       "<a href=\"magnet:?xt=urn:btih:6YVPBHRQNGMIQ5W35UU6LHBSSM2TL7RG&dn=博人传-火影忍者新时代第162集.mp4\r&tr=http://t.t789.me:2710/announce&tr=http://t.t789.co:2710/announce&tr=http://t.t789.vip:2710/announce\">magnet:?xt=urn:btih:6YVPBHRQNGMIQ5W35UU6LHBSSM2TL7RG&dn=博人传-火影忍者新时代第162集.mp4\r&tr=http://t.t789.me:2710/announce&tr=http://t.t789.co:2710/announce&tr=http://t.t789.vip:2710/announce</a><br>"
      ],
      "text/plain": [
       "<IPython.core.display.HTML object>"
      ]
     },
     "metadata": {},
     "output_type": "display_data"
    },
    {
     "data": {
      "text/html": [
       "<a href=\"magnet:?xt=urn:btih:WBNTW5VGH36GPU5UQA6GW727BP6PPSFZ&dn=博人传-火影忍者新时代第161集.mp4\r&tr=http://t.t789.me:2710/announce&tr=http://t.t789.co:2710/announce&tr=http://t.t789.vip:2710/announce\">magnet:?xt=urn:btih:WBNTW5VGH36GPU5UQA6GW727BP6PPSFZ&dn=博人传-火影忍者新时代第161集.mp4\r&tr=http://t.t789.me:2710/announce&tr=http://t.t789.co:2710/announce&tr=http://t.t789.vip:2710/announce</a><br>"
      ],
      "text/plain": [
       "<IPython.core.display.HTML object>"
      ]
     },
     "metadata": {},
     "output_type": "display_data"
    },
    {
     "data": {
      "text/html": [
       "<a href=\"magnet:?xt=urn:btih:NP5OMTCXQKH5BCNWM5WVJFRKI4DFDT7A&dn=[电影天堂www.dytt89.com]博人传-火影忍者新时代第160集.mp4\r&tr=http://t.t789.me:2710/announce&tr=http://t.t789.co:2710/announce&tr=http://t.t789.vip:2710/announce\">magnet:?xt=urn:btih:NP5OMTCXQKH5BCNWM5WVJFRKI4DFDT7A&dn=[电影天堂www.dytt89.com]博人传-火影忍者新时代第160集.mp4\r&tr=http://t.t789.me:2710/announce&tr=http://t.t789.co:2710/announce&tr=http://t.t789.vip:2710/announce</a><br>"
      ],
      "text/plain": [
       "<IPython.core.display.HTML object>"
      ]
     },
     "metadata": {},
     "output_type": "display_data"
    },
    {
     "data": {
      "text/html": [
       "<a href=\"magnet:?xt=urn:btih:27FXEJH3GJD7CFNOSX5CD36VTZ2W63U6&dn=[电影天堂www.dytt89.com]博人传-火影忍者新时代第159集.mp4\r&tr=http://t.t789.me:2710/announce&tr=http://t.t789.co:2710/announce&tr=http://t.t789.vip:2710/announce\">magnet:?xt=urn:btih:27FXEJH3GJD7CFNOSX5CD36VTZ2W63U6&dn=[电影天堂www.dytt89.com]博人传-火影忍者新时代第159集.mp4\r&tr=http://t.t789.me:2710/announce&tr=http://t.t789.co:2710/announce&tr=http://t.t789.vip:2710/announce</a><br>"
      ],
      "text/plain": [
       "<IPython.core.display.HTML object>"
      ]
     },
     "metadata": {},
     "output_type": "display_data"
    },
    {
     "data": {
      "text/html": [
       "<a href=\"magnet:?xt=urn:btih:CIUBJVVURLBYQI6B2FIPM3O52ZTLF4AY&dn=[电影天堂www.dytt89.com]博人传-火影忍者新时代第158集.mp4\r&tr=http://t.t789.me:2710/announce&tr=http://t.t789.co:2710/announce&tr=http://t.t789.vip:2710/announce\">magnet:?xt=urn:btih:CIUBJVVURLBYQI6B2FIPM3O52ZTLF4AY&dn=[电影天堂www.dytt89.com]博人传-火影忍者新时代第158集.mp4\r&tr=http://t.t789.me:2710/announce&tr=http://t.t789.co:2710/announce&tr=http://t.t789.vip:2710/announce</a><br>"
      ],
      "text/plain": [
       "<IPython.core.display.HTML object>"
      ]
     },
     "metadata": {},
     "output_type": "display_data"
    },
    {
     "data": {
      "text/html": [
       "<a href=\"magnet:?xt=urn:btih:VARA2I2YH3WABADTDK4HOP7RHDKB6GB7&dn=[电影天堂www.dytt89.com]博人传-火影忍者新时代第157集.mp4\r&tr=http://t.t789.me:2710/announce&tr=http://t.t789.co:2710/announce&tr=http://t.t789.vip:2710/announce\">magnet:?xt=urn:btih:VARA2I2YH3WABADTDK4HOP7RHDKB6GB7&dn=[电影天堂www.dytt89.com]博人传-火影忍者新时代第157集.mp4\r&tr=http://t.t789.me:2710/announce&tr=http://t.t789.co:2710/announce&tr=http://t.t789.vip:2710/announce</a><br>"
      ],
      "text/plain": [
       "<IPython.core.display.HTML object>"
      ]
     },
     "metadata": {},
     "output_type": "display_data"
    },
    {
     "data": {
      "text/html": [
       "<a href=\"magnet:?xt=urn:btih:6VPZODVOPRI6AZOGGB6UWB7NBKGVDZQY&dn=[电影天堂www.dytt89.com]博人传-火影忍者新时代第156集.mp4\r&tr=http://t.t789.me:2710/announce&tr=http://t.t789.co:2710/announce&tr=http://t.t789.vip:2710/announce\">magnet:?xt=urn:btih:6VPZODVOPRI6AZOGGB6UWB7NBKGVDZQY&dn=[电影天堂www.dytt89.com]博人传-火影忍者新时代第156集.mp4\r&tr=http://t.t789.me:2710/announce&tr=http://t.t789.co:2710/announce&tr=http://t.t789.vip:2710/announce</a><br>"
      ],
      "text/plain": [
       "<IPython.core.display.HTML object>"
      ]
     },
     "metadata": {},
     "output_type": "display_data"
    },
    {
     "data": {
      "text/html": [
       "<a href=\"magnet:?xt=urn:btih:UNZXP2O6PJBCHEIIQBL5SKAUAHRR74LF&dn=[电影天堂www.dytt89.com]博人传-火影忍者新时代第155集.mp4\r&tr=http://t.t789.me:2710/announce&tr=http://t.t789.co:2710/announce&tr=http://t.t789.vip:2710/announce\">magnet:?xt=urn:btih:UNZXP2O6PJBCHEIIQBL5SKAUAHRR74LF&dn=[电影天堂www.dytt89.com]博人传-火影忍者新时代第155集.mp4\r&tr=http://t.t789.me:2710/announce&tr=http://t.t789.co:2710/announce&tr=http://t.t789.vip:2710/announce</a><br>"
      ],
      "text/plain": [
       "<IPython.core.display.HTML object>"
      ]
     },
     "metadata": {},
     "output_type": "display_data"
    },
    {
     "data": {
      "text/html": [
       "<a href=\"magnet:?xt=urn:btih:PDHAOTYFZN3HWYOW4BWTLHDFAUBSO3PA&dn=[电影天堂www.dy2018.com]博人传-火影忍者新时代第154集.mp4\r&tr=http://t.t789.me:2710/announce&tr=http://t.t789.co:2710/announce&tr=http://t.t789.vip:2710/announce\">magnet:?xt=urn:btih:PDHAOTYFZN3HWYOW4BWTLHDFAUBSO3PA&dn=[电影天堂www.dy2018.com]博人传-火影忍者新时代第154集.mp4\r&tr=http://t.t789.me:2710/announce&tr=http://t.t789.co:2710/announce&tr=http://t.t789.vip:2710/announce</a><br>"
      ],
      "text/plain": [
       "<IPython.core.display.HTML object>"
      ]
     },
     "metadata": {},
     "output_type": "display_data"
    },
    {
     "data": {
      "text/html": [
       "<a href=\"magnet:?xt=urn:btih:SB5BQBFXWFYMS5CC6EGU6DZVNNB2DMNE&dn=[电影天堂www.dy2018.com]博人传-火影忍者新时代第153集.mp4\r&tr=http://t.t789.me:2710/announce&tr=http://t.t789.co:2710/announce&tr=http://t.t789.vip:2710/announce\">magnet:?xt=urn:btih:SB5BQBFXWFYMS5CC6EGU6DZVNNB2DMNE&dn=[电影天堂www.dy2018.com]博人传-火影忍者新时代第153集.mp4\r&tr=http://t.t789.me:2710/announce&tr=http://t.t789.co:2710/announce&tr=http://t.t789.vip:2710/announce</a><br>"
      ],
      "text/plain": [
       "<IPython.core.display.HTML object>"
      ]
     },
     "metadata": {},
     "output_type": "display_data"
    },
    {
     "data": {
      "text/html": [
       "<a href=\"magnet:?xt=urn:btih:THGRCKTPUCIHVDKNCDE6WGXONE3SKGTN&dn=[电影天堂www.dy2018.com]博人传-火影忍者新时代第152集.mp4\r&tr=http://t.t789.me:2710/announce&tr=http://t.t789.co:2710/announce&tr=http://t.t789.vip:2710/announce\">magnet:?xt=urn:btih:THGRCKTPUCIHVDKNCDE6WGXONE3SKGTN&dn=[电影天堂www.dy2018.com]博人传-火影忍者新时代第152集.mp4\r&tr=http://t.t789.me:2710/announce&tr=http://t.t789.co:2710/announce&tr=http://t.t789.vip:2710/announce</a><br>"
      ],
      "text/plain": [
       "<IPython.core.display.HTML object>"
      ]
     },
     "metadata": {},
     "output_type": "display_data"
    },
    {
     "data": {
      "text/html": [
       "<a href=\"magnet:?xt=urn:btih:QX43XOQCFVB4OF4ZYH5HLMXSA42YCD4F&dn=[电影天堂www.dy2018.com]博人传-火影忍者新时代第151集.mp4\r&tr=http://t.t789.me:2710/announce&tr=http://t.t789.co:2710/announce&tr=http://t.t789.vip:2710/announce\">magnet:?xt=urn:btih:QX43XOQCFVB4OF4ZYH5HLMXSA42YCD4F&dn=[电影天堂www.dy2018.com]博人传-火影忍者新时代第151集.mp4\r&tr=http://t.t789.me:2710/announce&tr=http://t.t789.co:2710/announce&tr=http://t.t789.vip:2710/announce</a><br>"
      ],
      "text/plain": [
       "<IPython.core.display.HTML object>"
      ]
     },
     "metadata": {},
     "output_type": "display_data"
    },
    {
     "data": {
      "text/html": [
       "<a href=\"magnet:?xt=urn:btih:IIHEJDFM4BIAHQFEWCSBWGOE6SXDLOQG&dn=[电影天堂www.dy2018.com]博人传-火影忍者新时代第150集.mp4\r&tr=http://t.t789.me:2710/announce&tr=http://t.t789.co:2710/announce&tr=http://t.t789.vip:2710/announce\">magnet:?xt=urn:btih:IIHEJDFM4BIAHQFEWCSBWGOE6SXDLOQG&dn=[电影天堂www.dy2018.com]博人传-火影忍者新时代第150集.mp4\r&tr=http://t.t789.me:2710/announce&tr=http://t.t789.co:2710/announce&tr=http://t.t789.vip:2710/announce</a><br>"
      ],
      "text/plain": [
       "<IPython.core.display.HTML object>"
      ]
     },
     "metadata": {},
     "output_type": "display_data"
    },
    {
     "data": {
      "text/html": [
       "<a href=\"magnet:?xt=urn:btih:65HIUHN3V74TI2VLMLE73MHKY4BY3RTW&dn=[电影天堂www.dy2018.com]博人传-火影忍者新时代第149集.mp4\r&tr=http://t.t789.me:2710/announce&tr=http://t.t789.co:2710/announce&tr=http://t.t789.vip:2710/announce\">magnet:?xt=urn:btih:65HIUHN3V74TI2VLMLE73MHKY4BY3RTW&dn=[电影天堂www.dy2018.com]博人传-火影忍者新时代第149集.mp4\r&tr=http://t.t789.me:2710/announce&tr=http://t.t789.co:2710/announce&tr=http://t.t789.vip:2710/announce</a><br>"
      ],
      "text/plain": [
       "<IPython.core.display.HTML object>"
      ]
     },
     "metadata": {},
     "output_type": "display_data"
    },
    {
     "data": {
      "text/html": [
       "<a href=\"magnet:?xt=urn:btih:2M5TMHPTE7BKWAG67DMWELD6L7U2IVFE&dn=[电影天堂www.dy2018.com]博人传-火影忍者新时代第148集.mp4\r&tr=http://t.t789.me:2710/announce&tr=http://t.t789.co:2710/announce&tr=http://t.t789.vip:2710/announce\">magnet:?xt=urn:btih:2M5TMHPTE7BKWAG67DMWELD6L7U2IVFE&dn=[电影天堂www.dy2018.com]博人传-火影忍者新时代第148集.mp4\r&tr=http://t.t789.me:2710/announce&tr=http://t.t789.co:2710/announce&tr=http://t.t789.vip:2710/announce</a><br>"
      ],
      "text/plain": [
       "<IPython.core.display.HTML object>"
      ]
     },
     "metadata": {},
     "output_type": "display_data"
    },
    {
     "data": {
      "text/html": [
       "<a href=\"magnet:?xt=urn:btih:ECTLB4T5GQG5LQFLDYIE7ESDJMX6IVFJ&dn=[电影天堂www.dy2018.com]博人传-火影忍者新时代第147集.mp4\r&tr=http://t.t789.me:2710/announce&tr=http://t.t789.co:2710/announce&tr=http://t.t789.vip:2710/announce\">magnet:?xt=urn:btih:ECTLB4T5GQG5LQFLDYIE7ESDJMX6IVFJ&dn=[电影天堂www.dy2018.com]博人传-火影忍者新时代第147集.mp4\r&tr=http://t.t789.me:2710/announce&tr=http://t.t789.co:2710/announce&tr=http://t.t789.vip:2710/announce</a><br>"
      ],
      "text/plain": [
       "<IPython.core.display.HTML object>"
      ]
     },
     "metadata": {},
     "output_type": "display_data"
    },
    {
     "data": {
      "text/html": [
       "<a href=\"magnet:?xt=urn:btih:AQAE4DE5WLLXVFKQJXVHRRVYFY3KSFQL&dn=[电影天堂www.dy2018.com]博人传-火影忍者新时代第146集.mp4\r&tr=http://t.t789.me:2710/announce&tr=http://t.t789.co:2710/announce&tr=http://t.t789.vip:2710/announce\">magnet:?xt=urn:btih:AQAE4DE5WLLXVFKQJXVHRRVYFY3KSFQL&dn=[电影天堂www.dy2018.com]博人传-火影忍者新时代第146集.mp4\r&tr=http://t.t789.me:2710/announce&tr=http://t.t789.co:2710/announce&tr=http://t.t789.vip:2710/announce</a><br>"
      ],
      "text/plain": [
       "<IPython.core.display.HTML object>"
      ]
     },
     "metadata": {},
     "output_type": "display_data"
    },
    {
     "data": {
      "text/html": [
       "<a href=\"magnet:?xt=urn:btih:36VSQLN7TZZIDKPSCYT6356OQMMJMIBE&dn=[电影天堂www.dy2018.com]博人传-火影忍者新时代第145集.mp4\r&tr=http://t.t789.me:2710/announce&tr=http://t.t789.co:2710/announce&tr=http://t.t789.vip:2710/announce\">magnet:?xt=urn:btih:36VSQLN7TZZIDKPSCYT6356OQMMJMIBE&dn=[电影天堂www.dy2018.com]博人传-火影忍者新时代第145集.mp4\r&tr=http://t.t789.me:2710/announce&tr=http://t.t789.co:2710/announce&tr=http://t.t789.vip:2710/announce</a><br>"
      ],
      "text/plain": [
       "<IPython.core.display.HTML object>"
      ]
     },
     "metadata": {},
     "output_type": "display_data"
    },
    {
     "data": {
      "text/html": [
       "<a href=\"magnet:?xt=urn:btih:BYJUFES4XGKUOMAINMJUG46IFNSKQFZ7&dn=[电影天堂www.dy2018.com]博人传-火影忍者新时代第144集.mp4\r&tr=http://t.t789.me:2710/announce&tr=http://t.t789.co:2710/announce&tr=http://t.t789.vip:2710/announce\">magnet:?xt=urn:btih:BYJUFES4XGKUOMAINMJUG46IFNSKQFZ7&dn=[电影天堂www.dy2018.com]博人传-火影忍者新时代第144集.mp4\r&tr=http://t.t789.me:2710/announce&tr=http://t.t789.co:2710/announce&tr=http://t.t789.vip:2710/announce</a><br>"
      ],
      "text/plain": [
       "<IPython.core.display.HTML object>"
      ]
     },
     "metadata": {},
     "output_type": "display_data"
    },
    {
     "data": {
      "text/html": [
       "<a href=\"magnet:?xt=urn:btih:M6EGXUUIE7F7XLYAFXG27BBUIVLNYH6Q&dn=[电影天堂www.dy2018.com]博人传-火影忍者新时代第143集.mp4\r&tr=http://t.t789.me:2710/announce&tr=http://t.t789.co:2710/announce&tr=http://t.t789.vip:2710/announce\">magnet:?xt=urn:btih:M6EGXUUIE7F7XLYAFXG27BBUIVLNYH6Q&dn=[电影天堂www.dy2018.com]博人传-火影忍者新时代第143集.mp4\r&tr=http://t.t789.me:2710/announce&tr=http://t.t789.co:2710/announce&tr=http://t.t789.vip:2710/announce</a><br>"
      ],
      "text/plain": [
       "<IPython.core.display.HTML object>"
      ]
     },
     "metadata": {},
     "output_type": "display_data"
    },
    {
     "data": {
      "text/html": [
       "<a href=\"magnet:?xt=urn:btih:T6QWABBP7J4ACIZCJLBIZPGI2UIRPBL3&dn=[电影天堂www.dy2018.com]博人传-火影忍者新时代第139-142集.mp4\r&tr=http://t.t789.me:2710/announce&tr=http://t.t789.co:2710/announce&tr=http://t.t789.vip:2710/announce\">magnet:?xt=urn:btih:T6QWABBP7J4ACIZCJLBIZPGI2UIRPBL3&dn=[电影天堂www.dy2018.com]博人传-火影忍者新时代第139-142集.mp4\r&tr=http://t.t789.me:2710/announce&tr=http://t.t789.co:2710/announce&tr=http://t.t789.vip:2710/announce</a><br>"
      ],
      "text/plain": [
       "<IPython.core.display.HTML object>"
      ]
     },
     "metadata": {},
     "output_type": "display_data"
    },
    {
     "data": {
      "text/html": [
       "<hr><p style='color:red;'>---- Next Group ----</p><hr>"
      ],
      "text/plain": [
       "<IPython.core.display.HTML object>"
      ]
     },
     "metadata": {},
     "output_type": "display_data"
    },
    {
     "data": {
      "text/html": [
       "<a href=\"magnet:?xt=urn:btih:YJFCYEH2U2U53T2NNZT65T5RRZ55SKZH&dn=[电影天堂www.dy2018.com]博人传-火影忍者新时代第138集.mp4\r&tr=http://t.t789.me:2710/announce&tr=http://t.t789.co:2710/announce&tr=http://t.t789.vip:2710/announce\">magnet:?xt=urn:btih:YJFCYEH2U2U53T2NNZT65T5RRZ55SKZH&dn=[电影天堂www.dy2018.com]博人传-火影忍者新时代第138集.mp4\r&tr=http://t.t789.me:2710/announce&tr=http://t.t789.co:2710/announce&tr=http://t.t789.vip:2710/announce</a><br>"
      ],
      "text/plain": [
       "<IPython.core.display.HTML object>"
      ]
     },
     "metadata": {},
     "output_type": "display_data"
    },
    {
     "data": {
      "text/html": [
       "<a href=\"magnet:?xt=urn:btih:KXSUGUQRULQTB2JLAKASWNF67IRYIE65&dn=[电影天堂www.dy2018.com]博人传-火影忍者新时代第137集.mp4\r&tr=http://t.t789.me:2710/announce&tr=http://t.t789.co:2710/announce&tr=http://t.t789.vip:2710/announce\">magnet:?xt=urn:btih:KXSUGUQRULQTB2JLAKASWNF67IRYIE65&dn=[电影天堂www.dy2018.com]博人传-火影忍者新时代第137集.mp4\r&tr=http://t.t789.me:2710/announce&tr=http://t.t789.co:2710/announce&tr=http://t.t789.vip:2710/announce</a><br>"
      ],
      "text/plain": [
       "<IPython.core.display.HTML object>"
      ]
     },
     "metadata": {},
     "output_type": "display_data"
    },
    {
     "data": {
      "text/html": [
       "<a href=\"magnet:?xt=urn:btih:4XUUFQWNDSR3VIQ65LLFHNIKIBXHR6YO&dn=[电影天堂www.dy2018.com]博人传-火影忍者新时代第136集.mp4\r&tr=http://t.t789.me:2710/announce&tr=http://t.t789.co:2710/announce&tr=http://t.t789.vip:2710/announce\">magnet:?xt=urn:btih:4XUUFQWNDSR3VIQ65LLFHNIKIBXHR6YO&dn=[电影天堂www.dy2018.com]博人传-火影忍者新时代第136集.mp4\r&tr=http://t.t789.me:2710/announce&tr=http://t.t789.co:2710/announce&tr=http://t.t789.vip:2710/announce</a><br>"
      ],
      "text/plain": [
       "<IPython.core.display.HTML object>"
      ]
     },
     "metadata": {},
     "output_type": "display_data"
    },
    {
     "data": {
      "text/html": [
       "<a href=\"magnet:?xt=urn:btih:X6AAQ7UYX25JZLGQVW5GGAAQBVW57RNU&dn=[电影天堂www.dy2018.com]博人传-火影忍者新时代第135集.mp4\r&tr=http://t.t789.me:2710/announce&tr=http://t.t789.co:2710/announce&tr=http://t.t789.vip:2710/announce\">magnet:?xt=urn:btih:X6AAQ7UYX25JZLGQVW5GGAAQBVW57RNU&dn=[电影天堂www.dy2018.com]博人传-火影忍者新时代第135集.mp4\r&tr=http://t.t789.me:2710/announce&tr=http://t.t789.co:2710/announce&tr=http://t.t789.vip:2710/announce</a><br>"
      ],
      "text/plain": [
       "<IPython.core.display.HTML object>"
      ]
     },
     "metadata": {},
     "output_type": "display_data"
    },
    {
     "data": {
      "text/html": [
       "<a href=\"magnet:?xt=urn:btih:Z5ARIMOIDDJDYZKKLMH3XB5O4O5JO3LX&dn=[电影天堂www.dy2018.com]博人传-火影忍者新时代第134集.mp4\r&tr=http://t.t789.me:2710/announce&tr=http://t.t789.co:2710/announce&tr=http://t.t789.vip:2710/announce\">magnet:?xt=urn:btih:Z5ARIMOIDDJDYZKKLMH3XB5O4O5JO3LX&dn=[电影天堂www.dy2018.com]博人传-火影忍者新时代第134集.mp4\r&tr=http://t.t789.me:2710/announce&tr=http://t.t789.co:2710/announce&tr=http://t.t789.vip:2710/announce</a><br>"
      ],
      "text/plain": [
       "<IPython.core.display.HTML object>"
      ]
     },
     "metadata": {},
     "output_type": "display_data"
    },
    {
     "data": {
      "text/html": [
       "<a href=\"magnet:?xt=urn:btih:QDVLWYIYQIK7VAHKSITJRXEREBCDLBAQ&dn=[电影天堂www.dy2018.com]博人传-火影忍者新时代第133集.mp4\r&tr=http://t.t789.me:2710/announce&tr=http://t.t789.co:2710/announce&tr=http://t.t789.vip:2710/announce\">magnet:?xt=urn:btih:QDVLWYIYQIK7VAHKSITJRXEREBCDLBAQ&dn=[电影天堂www.dy2018.com]博人传-火影忍者新时代第133集.mp4\r&tr=http://t.t789.me:2710/announce&tr=http://t.t789.co:2710/announce&tr=http://t.t789.vip:2710/announce</a><br>"
      ],
      "text/plain": [
       "<IPython.core.display.HTML object>"
      ]
     },
     "metadata": {},
     "output_type": "display_data"
    },
    {
     "data": {
      "text/html": [
       "<a href=\"magnet:?xt=urn:btih:CHCJPLQBH7NN6BBG3DLNL7OLEHGK7WG7&dn=[电影天堂www.dy2018.com]博人传-火影忍者新时代第132集.mp4\r&tr=http://t.t789.me:2710/announce&tr=http://t.t789.co:2710/announce&tr=http://t.t789.vip:2710/announce\">magnet:?xt=urn:btih:CHCJPLQBH7NN6BBG3DLNL7OLEHGK7WG7&dn=[电影天堂www.dy2018.com]博人传-火影忍者新时代第132集.mp4\r&tr=http://t.t789.me:2710/announce&tr=http://t.t789.co:2710/announce&tr=http://t.t789.vip:2710/announce</a><br>"
      ],
      "text/plain": [
       "<IPython.core.display.HTML object>"
      ]
     },
     "metadata": {},
     "output_type": "display_data"
    },
    {
     "data": {
      "text/html": [
       "<a href=\"magnet:?xt=urn:btih:UFZWRQD2GHALKXWPVY4COO34UP4RY6BX&dn=[电影天堂www.dy2018.com]博人传-火影忍者新时代第131集.mp4\r&tr=http://t.t789.me:2710/announce&tr=http://t.t789.co:2710/announce&tr=http://t.t789.vip:2710/announce\">magnet:?xt=urn:btih:UFZWRQD2GHALKXWPVY4COO34UP4RY6BX&dn=[电影天堂www.dy2018.com]博人传-火影忍者新时代第131集.mp4\r&tr=http://t.t789.me:2710/announce&tr=http://t.t789.co:2710/announce&tr=http://t.t789.vip:2710/announce</a><br>"
      ],
      "text/plain": [
       "<IPython.core.display.HTML object>"
      ]
     },
     "metadata": {},
     "output_type": "display_data"
    },
    {
     "data": {
      "text/html": [
       "<a href=\"magnet:?xt=urn:btih:PC3YYLPI3XXBMBHEFNOGXBJTO3P3RC7J&dn=[电影天堂www.dy2018.com]博人传-火影忍者新时代第130集.mp4\r&tr=http://t.t789.me:2710/announce&tr=http://t.t789.co:2710/announce&tr=http://t.t789.vip:2710/announce\">magnet:?xt=urn:btih:PC3YYLPI3XXBMBHEFNOGXBJTO3P3RC7J&dn=[电影天堂www.dy2018.com]博人传-火影忍者新时代第130集.mp4\r&tr=http://t.t789.me:2710/announce&tr=http://t.t789.co:2710/announce&tr=http://t.t789.vip:2710/announce</a><br>"
      ],
      "text/plain": [
       "<IPython.core.display.HTML object>"
      ]
     },
     "metadata": {},
     "output_type": "display_data"
    },
    {
     "data": {
      "text/html": [
       "<a href=\"magnet:?xt=urn:btih:WQUQYWKVP4LJZGINIIWF7GE42AMB5PZL&dn=[电影天堂www.dy2018.com]博人传-火影忍者新时代第129集.mp4\r&tr=http://t.t789.me:2710/announce&tr=http://t.t789.co:2710/announce&tr=http://t.t789.vip:2710/announce\">magnet:?xt=urn:btih:WQUQYWKVP4LJZGINIIWF7GE42AMB5PZL&dn=[电影天堂www.dy2018.com]博人传-火影忍者新时代第129集.mp4\r&tr=http://t.t789.me:2710/announce&tr=http://t.t789.co:2710/announce&tr=http://t.t789.vip:2710/announce</a><br>"
      ],
      "text/plain": [
       "<IPython.core.display.HTML object>"
      ]
     },
     "metadata": {},
     "output_type": "display_data"
    },
    {
     "data": {
      "text/html": [
       "<a href=\"magnet:?xt=urn:btih:4SDVNFSPBDGIXLE2YO7XC6K3YEH2L5NW&dn=[电影天堂www.dy2018.com]博人传-火影忍者新时代第128集.mp4\r&tr=http://t.t789.me:2710/announce&tr=http://t.t789.co:2710/announce&tr=http://t.t789.vip:2710/announce\">magnet:?xt=urn:btih:4SDVNFSPBDGIXLE2YO7XC6K3YEH2L5NW&dn=[电影天堂www.dy2018.com]博人传-火影忍者新时代第128集.mp4\r&tr=http://t.t789.me:2710/announce&tr=http://t.t789.co:2710/announce&tr=http://t.t789.vip:2710/announce</a><br>"
      ],
      "text/plain": [
       "<IPython.core.display.HTML object>"
      ]
     },
     "metadata": {},
     "output_type": "display_data"
    },
    {
     "data": {
      "text/html": [
       "<a href=\"magnet:?xt=urn:btih:IIFBD6HGQKKRO42CSOXBHSGPI2LQEYQT&dn=[电影天堂www.dy2018.com]博人传-火影忍者新时代第127集.mp4\r&tr=http://t.t789.me:2710/announce&tr=http://t.t789.co:2710/announce&tr=http://t.t789.vip:2710/announce\">magnet:?xt=urn:btih:IIFBD6HGQKKRO42CSOXBHSGPI2LQEYQT&dn=[电影天堂www.dy2018.com]博人传-火影忍者新时代第127集.mp4\r&tr=http://t.t789.me:2710/announce&tr=http://t.t789.co:2710/announce&tr=http://t.t789.vip:2710/announce</a><br>"
      ],
      "text/plain": [
       "<IPython.core.display.HTML object>"
      ]
     },
     "metadata": {},
     "output_type": "display_data"
    },
    {
     "data": {
      "text/html": [
       "<a href=\"magnet:?xt=urn:btih:UQWV44PHYY5IDYNO23IICOA65Q4Q7W64&dn=[电影天堂www.dy2018.com]博人传-火影忍者新时代第126集.mp4\r&tr=http://t.t789.me:2710/announce&tr=http://t.t789.co:2710/announce&tr=http://t.t789.vip:2710/announce\">magnet:?xt=urn:btih:UQWV44PHYY5IDYNO23IICOA65Q4Q7W64&dn=[电影天堂www.dy2018.com]博人传-火影忍者新时代第126集.mp4\r&tr=http://t.t789.me:2710/announce&tr=http://t.t789.co:2710/announce&tr=http://t.t789.vip:2710/announce</a><br>"
      ],
      "text/plain": [
       "<IPython.core.display.HTML object>"
      ]
     },
     "metadata": {},
     "output_type": "display_data"
    },
    {
     "data": {
      "text/html": [
       "<a href=\"magnet:?xt=urn:btih:UR5BVF62FPHIFJMIGEUTX776XUTSPDWG&dn=[电影天堂www.dy2018.com]博人传-火影忍者新时代第125集.mp4\r&tr=http://t.t789.me:2710/announce&tr=http://t.t789.co:2710/announce&tr=http://t.t789.vip:2710/announce\">magnet:?xt=urn:btih:UR5BVF62FPHIFJMIGEUTX776XUTSPDWG&dn=[电影天堂www.dy2018.com]博人传-火影忍者新时代第125集.mp4\r&tr=http://t.t789.me:2710/announce&tr=http://t.t789.co:2710/announce&tr=http://t.t789.vip:2710/announce</a><br>"
      ],
      "text/plain": [
       "<IPython.core.display.HTML object>"
      ]
     },
     "metadata": {},
     "output_type": "display_data"
    },
    {
     "data": {
      "text/html": [
       "<a href=\"magnet:?xt=urn:btih:QF77U72HYDBQ7HHECPTVUUHOZZM2UERT&dn=[电影天堂www.dy2018.com]博人传-火影忍者新时代第124集.mp4\r&tr=http://t.t789.me:2710/announce&tr=http://t.t789.co:2710/announce&tr=http://t.t789.vip:2710/announce\">magnet:?xt=urn:btih:QF77U72HYDBQ7HHECPTVUUHOZZM2UERT&dn=[电影天堂www.dy2018.com]博人传-火影忍者新时代第124集.mp4\r&tr=http://t.t789.me:2710/announce&tr=http://t.t789.co:2710/announce&tr=http://t.t789.vip:2710/announce</a><br>"
      ],
      "text/plain": [
       "<IPython.core.display.HTML object>"
      ]
     },
     "metadata": {},
     "output_type": "display_data"
    },
    {
     "data": {
      "text/html": [
       "<a href=\"magnet:?xt=urn:btih:JNRYKKOTNUS5GNKFLXWGVCLUVXHOL3ZW&dn=[电影天堂www.dy2018.com]博人传-火影忍者新时代第123集.mp4\r&tr=http://t.t789.me:2710/announce&tr=http://t.t789.co:2710/announce&tr=http://t.t789.vip:2710/announce\">magnet:?xt=urn:btih:JNRYKKOTNUS5GNKFLXWGVCLUVXHOL3ZW&dn=[电影天堂www.dy2018.com]博人传-火影忍者新时代第123集.mp4\r&tr=http://t.t789.me:2710/announce&tr=http://t.t789.co:2710/announce&tr=http://t.t789.vip:2710/announce</a><br>"
      ],
      "text/plain": [
       "<IPython.core.display.HTML object>"
      ]
     },
     "metadata": {},
     "output_type": "display_data"
    },
    {
     "data": {
      "text/html": [
       "<a href=\"magnet:?xt=urn:btih:27EUT6F76KYZIFBTBSRETFSBPN3BNNGQ&dn=[电影天堂www.dy2018.com]博人传-火影忍者新时代第122集.mp4\r&tr=http://t.t789.me:2710/announce&tr=http://t.t789.co:2710/announce&tr=http://t.t789.vip:2710/announce\">magnet:?xt=urn:btih:27EUT6F76KYZIFBTBSRETFSBPN3BNNGQ&dn=[电影天堂www.dy2018.com]博人传-火影忍者新时代第122集.mp4\r&tr=http://t.t789.me:2710/announce&tr=http://t.t789.co:2710/announce&tr=http://t.t789.vip:2710/announce</a><br>"
      ],
      "text/plain": [
       "<IPython.core.display.HTML object>"
      ]
     },
     "metadata": {},
     "output_type": "display_data"
    },
    {
     "data": {
      "text/html": [
       "<a href=\"magnet:?xt=urn:btih:B5ZFG564L6EJPU6ZOEHHHA2JQKGGDNCL&dn=[电影天堂www.dy2018.com]博人传-火影忍者新时代第121集.mp4\r&tr=http://t.t789.me:2710/announce&tr=http://t.t789.co:2710/announce&tr=http://t.t789.vip:2710/announce\">magnet:?xt=urn:btih:B5ZFG564L6EJPU6ZOEHHHA2JQKGGDNCL&dn=[电影天堂www.dy2018.com]博人传-火影忍者新时代第121集.mp4\r&tr=http://t.t789.me:2710/announce&tr=http://t.t789.co:2710/announce&tr=http://t.t789.vip:2710/announce</a><br>"
      ],
      "text/plain": [
       "<IPython.core.display.HTML object>"
      ]
     },
     "metadata": {},
     "output_type": "display_data"
    },
    {
     "data": {
      "text/html": [
       "<a href=\"magnet:?xt=urn:btih:PEYFSLOTTTU3SLAPGF2FXGTUN7VMX6L5&dn=[电影天堂www.dy2018.com]博人传-火影忍者新时代第120集.mp4\r&tr=http://t.t789.me:2710/announce&tr=http://t.t789.co:2710/announce&tr=http://t.t789.vip:2710/announce\">magnet:?xt=urn:btih:PEYFSLOTTTU3SLAPGF2FXGTUN7VMX6L5&dn=[电影天堂www.dy2018.com]博人传-火影忍者新时代第120集.mp4\r&tr=http://t.t789.me:2710/announce&tr=http://t.t789.co:2710/announce&tr=http://t.t789.vip:2710/announce</a><br>"
      ],
      "text/plain": [
       "<IPython.core.display.HTML object>"
      ]
     },
     "metadata": {},
     "output_type": "display_data"
    },
    {
     "data": {
      "text/html": [
       "<a href=\"magnet:?xt=urn:btih:JEXRGK2WLZYCMDP35VYZSZLM7GAKY2EQ&dn=[电影天堂www.dy2018.com]博人传-火影忍者新时代第119集.mp4\r&tr=http://t.t789.me:2710/announce&tr=http://t.t789.co:2710/announce&tr=http://t.t789.vip:2710/announce\">magnet:?xt=urn:btih:JEXRGK2WLZYCMDP35VYZSZLM7GAKY2EQ&dn=[电影天堂www.dy2018.com]博人传-火影忍者新时代第119集.mp4\r&tr=http://t.t789.me:2710/announce&tr=http://t.t789.co:2710/announce&tr=http://t.t789.vip:2710/announce</a><br>"
      ],
      "text/plain": [
       "<IPython.core.display.HTML object>"
      ]
     },
     "metadata": {},
     "output_type": "display_data"
    },
    {
     "data": {
      "text/html": [
       "<a href=\"magnet:?xt=urn:btih:LBQURA54CBDIJTNY47URBZEX4TM72MSE&dn=[电影天堂www.dy2018.com]博人传-火影忍者新时代第118集.mp4\r&tr=http://t.t789.me:2710/announce&tr=http://t.t789.co:2710/announce&tr=http://t.t789.vip:2710/announce\">magnet:?xt=urn:btih:LBQURA54CBDIJTNY47URBZEX4TM72MSE&dn=[电影天堂www.dy2018.com]博人传-火影忍者新时代第118集.mp4\r&tr=http://t.t789.me:2710/announce&tr=http://t.t789.co:2710/announce&tr=http://t.t789.vip:2710/announce</a><br>"
      ],
      "text/plain": [
       "<IPython.core.display.HTML object>"
      ]
     },
     "metadata": {},
     "output_type": "display_data"
    },
    {
     "data": {
      "text/html": [
       "<a href=\"magnet:?xt=urn:btih:A72IPSXE3DDHAV7LDZIV3F655JH3FTQL&dn=[电影天堂www.dy2018.com]博人传-火影忍者新时代第117集.mp4\r&tr=http://t.t789.me:2710/announce&tr=http://t.t789.co:2710/announce&tr=http://t.t789.vip:2710/announce\">magnet:?xt=urn:btih:A72IPSXE3DDHAV7LDZIV3F655JH3FTQL&dn=[电影天堂www.dy2018.com]博人传-火影忍者新时代第117集.mp4\r&tr=http://t.t789.me:2710/announce&tr=http://t.t789.co:2710/announce&tr=http://t.t789.vip:2710/announce</a><br>"
      ],
      "text/plain": [
       "<IPython.core.display.HTML object>"
      ]
     },
     "metadata": {},
     "output_type": "display_data"
    },
    {
     "data": {
      "text/html": [
       "<a href=\"magnet:?xt=urn:btih:65FMWRJ5DOU7XQZFQ3TEQQYD5WOJJDX2&dn=[电影天堂www.dy2018.com]博人传-火影忍者新时代第116集.mp4\r&tr=http://t.t789.me:2710/announce&tr=http://t.t789.co:2710/announce&tr=http://t.t789.vip:2710/announce\">magnet:?xt=urn:btih:65FMWRJ5DOU7XQZFQ3TEQQYD5WOJJDX2&dn=[电影天堂www.dy2018.com]博人传-火影忍者新时代第116集.mp4\r&tr=http://t.t789.me:2710/announce&tr=http://t.t789.co:2710/announce&tr=http://t.t789.vip:2710/announce</a><br>"
      ],
      "text/plain": [
       "<IPython.core.display.HTML object>"
      ]
     },
     "metadata": {},
     "output_type": "display_data"
    },
    {
     "data": {
      "text/html": [
       "<a href=\"magnet:?xt=urn:btih:ILMWYQFANF6A5SR45GGW5IY7XSJOYOZQ&dn=[电影天堂www.dy2018.com]博人传-火影忍者新时代第115集.mp4\r&tr=http://t.t789.me:2710/announce&tr=http://t.t789.co:2710/announce&tr=http://t.t789.vip:2710/announce\">magnet:?xt=urn:btih:ILMWYQFANF6A5SR45GGW5IY7XSJOYOZQ&dn=[电影天堂www.dy2018.com]博人传-火影忍者新时代第115集.mp4\r&tr=http://t.t789.me:2710/announce&tr=http://t.t789.co:2710/announce&tr=http://t.t789.vip:2710/announce</a><br>"
      ],
      "text/plain": [
       "<IPython.core.display.HTML object>"
      ]
     },
     "metadata": {},
     "output_type": "display_data"
    },
    {
     "data": {
      "text/html": [
       "<a href=\"magnet:?xt=urn:btih:GGSZFXBGXSZXMXKHTFVDWQ4KTWQOYGIR&dn=[电影天堂www.dy2018.com]博人传-火影忍者新时代第114集.mp4\r&tr=http://t.t789.me:2710/announce&tr=http://t.t789.co:2710/announce&tr=http://t.t789.vip:2710/announce\">magnet:?xt=urn:btih:GGSZFXBGXSZXMXKHTFVDWQ4KTWQOYGIR&dn=[电影天堂www.dy2018.com]博人传-火影忍者新时代第114集.mp4\r&tr=http://t.t789.me:2710/announce&tr=http://t.t789.co:2710/announce&tr=http://t.t789.vip:2710/announce</a><br>"
      ],
      "text/plain": [
       "<IPython.core.display.HTML object>"
      ]
     },
     "metadata": {},
     "output_type": "display_data"
    },
    {
     "data": {
      "text/html": [
       "<a href=\"magnet:?xt=urn:btih:XCKPKCP3FWKW5SETYYDZJ5Q7DLOY6BCD&dn=[电影天堂www.dy2018.com]博人传-火影忍者新时代第113集.mp4\r&tr=http://t.t789.me:2710/announce&tr=http://t.t789.co:2710/announce&tr=http://t.t789.vip:2710/announce\">magnet:?xt=urn:btih:XCKPKCP3FWKW5SETYYDZJ5Q7DLOY6BCD&dn=[电影天堂www.dy2018.com]博人传-火影忍者新时代第113集.mp4\r&tr=http://t.t789.me:2710/announce&tr=http://t.t789.co:2710/announce&tr=http://t.t789.vip:2710/announce</a><br>"
      ],
      "text/plain": [
       "<IPython.core.display.HTML object>"
      ]
     },
     "metadata": {},
     "output_type": "display_data"
    },
    {
     "data": {
      "text/html": [
       "<a href=\"magnet:?xt=urn:btih:PMPNUJDQ6ZFADNFXUNGFOOWP5SH34ZH5&dn=[电影天堂www.dy2018.com]博人传-火影忍者新时代第112集.mp4\r&tr=http://t.t789.me:2710/announce&tr=http://t.t789.co:2710/announce&tr=http://t.t789.vip:2710/announce\">magnet:?xt=urn:btih:PMPNUJDQ6ZFADNFXUNGFOOWP5SH34ZH5&dn=[电影天堂www.dy2018.com]博人传-火影忍者新时代第112集.mp4\r&tr=http://t.t789.me:2710/announce&tr=http://t.t789.co:2710/announce&tr=http://t.t789.vip:2710/announce</a><br>"
      ],
      "text/plain": [
       "<IPython.core.display.HTML object>"
      ]
     },
     "metadata": {},
     "output_type": "display_data"
    },
    {
     "data": {
      "text/html": [
       "<a href=\"magnet:?xt=urn:btih:RILIRIJWAHF7RIZLV6TFMLNNN3XEHPA2&dn=[电影天堂www.dy2018.com]博人传-火影忍者新时代第111集.mp4\r&tr=http://t.t789.me:2710/announce&tr=http://t.t789.co:2710/announce&tr=http://t.t789.vip:2710/announce\">magnet:?xt=urn:btih:RILIRIJWAHF7RIZLV6TFMLNNN3XEHPA2&dn=[电影天堂www.dy2018.com]博人传-火影忍者新时代第111集.mp4\r&tr=http://t.t789.me:2710/announce&tr=http://t.t789.co:2710/announce&tr=http://t.t789.vip:2710/announce</a><br>"
      ],
      "text/plain": [
       "<IPython.core.display.HTML object>"
      ]
     },
     "metadata": {},
     "output_type": "display_data"
    },
    {
     "data": {
      "text/html": [
       "<a href=\"magnet:?xt=urn:btih:EL5ER5HIDGMWSAORBKHPVAT6SDRUHXJM&dn=[电影天堂www.dy2018.com]博人传-火影忍者新时代第110集.mp4\r&tr=http://t.t789.me:2710/announce&tr=http://t.t789.co:2710/announce&tr=http://t.t789.vip:2710/announce\">magnet:?xt=urn:btih:EL5ER5HIDGMWSAORBKHPVAT6SDRUHXJM&dn=[电影天堂www.dy2018.com]博人传-火影忍者新时代第110集.mp4\r&tr=http://t.t789.me:2710/announce&tr=http://t.t789.co:2710/announce&tr=http://t.t789.vip:2710/announce</a><br>"
      ],
      "text/plain": [
       "<IPython.core.display.HTML object>"
      ]
     },
     "metadata": {},
     "output_type": "display_data"
    },
    {
     "data": {
      "text/html": [
       "<a href=\"magnet:?xt=urn:btih:IWH7OKC23PLBQOG7AFZ7OJDM4IC43LJJ&dn=[电影天堂www.dy2018.com]博人传-火影忍者新时代第109集.mp4\r&tr=http://t.t789.me:2710/announce&tr=http://t.t789.co:2710/announce&tr=http://t.t789.vip:2710/announce\">magnet:?xt=urn:btih:IWH7OKC23PLBQOG7AFZ7OJDM4IC43LJJ&dn=[电影天堂www.dy2018.com]博人传-火影忍者新时代第109集.mp4\r&tr=http://t.t789.me:2710/announce&tr=http://t.t789.co:2710/announce&tr=http://t.t789.vip:2710/announce</a><br>"
      ],
      "text/plain": [
       "<IPython.core.display.HTML object>"
      ]
     },
     "metadata": {},
     "output_type": "display_data"
    },
    {
     "data": {
      "text/html": [
       "<a href=\"magnet:?xt=urn:btih:YWBPWAWXMCXMI3ZJEKUT3NXAKBT5SLTT&dn=[电影天堂www.dy2018.com]博人传-火影忍者新时代第108集.mp4\r&tr=http://t.t789.me:2710/announce&tr=http://t.t789.co:2710/announce&tr=http://t.t789.vip:2710/announce\">magnet:?xt=urn:btih:YWBPWAWXMCXMI3ZJEKUT3NXAKBT5SLTT&dn=[电影天堂www.dy2018.com]博人传-火影忍者新时代第108集.mp4\r&tr=http://t.t789.me:2710/announce&tr=http://t.t789.co:2710/announce&tr=http://t.t789.vip:2710/announce</a><br>"
      ],
      "text/plain": [
       "<IPython.core.display.HTML object>"
      ]
     },
     "metadata": {},
     "output_type": "display_data"
    },
    {
     "data": {
      "text/html": [
       "<a href=\"magnet:?xt=urn:btih:4FXAWFQGDONRFVWTX6T6KPKRSM4XUZMV&dn=[电影天堂www.dy2018.com]博人传-火影忍者新时代第107集.mp4\r&tr=http://t.t789.me:2710/announce&tr=http://t.t789.co:2710/announce&tr=http://t.t789.vip:2710/announce\">magnet:?xt=urn:btih:4FXAWFQGDONRFVWTX6T6KPKRSM4XUZMV&dn=[电影天堂www.dy2018.com]博人传-火影忍者新时代第107集.mp4\r&tr=http://t.t789.me:2710/announce&tr=http://t.t789.co:2710/announce&tr=http://t.t789.vip:2710/announce</a><br>"
      ],
      "text/plain": [
       "<IPython.core.display.HTML object>"
      ]
     },
     "metadata": {},
     "output_type": "display_data"
    },
    {
     "data": {
      "text/html": [
       "<a href=\"magnet:?xt=urn:btih:AR53DDSQAOPI7YMNVWRDSU2WRZSZW22L&dn=[电影天堂www.dy2018.com]博人传-火影忍者新时代第106集.mp4\r&tr=http://t.t789.me:2710/announce&tr=http://t.t789.co:2710/announce&tr=http://t.t789.vip:2710/announce\">magnet:?xt=urn:btih:AR53DDSQAOPI7YMNVWRDSU2WRZSZW22L&dn=[电影天堂www.dy2018.com]博人传-火影忍者新时代第106集.mp4\r&tr=http://t.t789.me:2710/announce&tr=http://t.t789.co:2710/announce&tr=http://t.t789.vip:2710/announce</a><br>"
      ],
      "text/plain": [
       "<IPython.core.display.HTML object>"
      ]
     },
     "metadata": {},
     "output_type": "display_data"
    },
    {
     "data": {
      "text/html": [
       "<a href=\"magnet:?xt=urn:btih:UIPE7LAOMEIB3O3ZJERGPQ3KTYXNBTZY&dn=[电影天堂www.dy2018.com]博人传-火影忍者新时代第105集.mp4\r&tr=http://t.t789.me:2710/announce&tr=http://t.t789.co:2710/announce&tr=http://t.t789.vip:2710/announce\">magnet:?xt=urn:btih:UIPE7LAOMEIB3O3ZJERGPQ3KTYXNBTZY&dn=[电影天堂www.dy2018.com]博人传-火影忍者新时代第105集.mp4\r&tr=http://t.t789.me:2710/announce&tr=http://t.t789.co:2710/announce&tr=http://t.t789.vip:2710/announce</a><br>"
      ],
      "text/plain": [
       "<IPython.core.display.HTML object>"
      ]
     },
     "metadata": {},
     "output_type": "display_data"
    },
    {
     "data": {
      "text/html": [
       "<a href=\"magnet:?xt=urn:btih:XPVX42HFG423JUJGE7CKCOCTCNKUG73V&dn=[电影天堂www.dy2018.com]博人传-火影忍者新时代第104集.mp4\r&tr=http://t.t789.me:2710/announce&tr=http://t.t789.co:2710/announce&tr=http://t.t789.vip:2710/announce\">magnet:?xt=urn:btih:XPVX42HFG423JUJGE7CKCOCTCNKUG73V&dn=[电影天堂www.dy2018.com]博人传-火影忍者新时代第104集.mp4\r&tr=http://t.t789.me:2710/announce&tr=http://t.t789.co:2710/announce&tr=http://t.t789.vip:2710/announce</a><br>"
      ],
      "text/plain": [
       "<IPython.core.display.HTML object>"
      ]
     },
     "metadata": {},
     "output_type": "display_data"
    },
    {
     "data": {
      "text/html": [
       "<a href=\"magnet:?xt=urn:btih:I2D72UQJYX3X2QFDTVUZKKJIMCPMTXJR&dn=[电影天堂www.dy2018.com]博人传-火影忍者新时代第103集.mp4\r&tr=http://t.t789.me:2710/announce&tr=http://t.t789.co:2710/announce&tr=http://t.t789.vip:2710/announce\">magnet:?xt=urn:btih:I2D72UQJYX3X2QFDTVUZKKJIMCPMTXJR&dn=[电影天堂www.dy2018.com]博人传-火影忍者新时代第103集.mp4\r&tr=http://t.t789.me:2710/announce&tr=http://t.t789.co:2710/announce&tr=http://t.t789.vip:2710/announce</a><br>"
      ],
      "text/plain": [
       "<IPython.core.display.HTML object>"
      ]
     },
     "metadata": {},
     "output_type": "display_data"
    },
    {
     "data": {
      "text/html": [
       "<a href=\"magnet:?xt=urn:btih:E4MSOU2LGWS4KNW6L37JRTZ3TYG2HSUZ&dn=[电影天堂www.dy2018.com]博人传-火影忍者新时代第102集.mp4\r&tr=http://t.t789.me:2710/announce&tr=http://t.t789.co:2710/announce&tr=http://t.t789.vip:2710/announce\">magnet:?xt=urn:btih:E4MSOU2LGWS4KNW6L37JRTZ3TYG2HSUZ&dn=[电影天堂www.dy2018.com]博人传-火影忍者新时代第102集.mp4\r&tr=http://t.t789.me:2710/announce&tr=http://t.t789.co:2710/announce&tr=http://t.t789.vip:2710/announce</a><br>"
      ],
      "text/plain": [
       "<IPython.core.display.HTML object>"
      ]
     },
     "metadata": {},
     "output_type": "display_data"
    },
    {
     "data": {
      "text/html": [
       "<a href=\"magnet:?xt=urn:btih:YJTCS5M24PMKWB3QTLPVHECPPNHGX2W2&dn=[电影天堂www.dy2018.com]博人传-火影忍者新时代第101集.mp4\r&tr=http://t.t789.me:2710/announce&tr=http://t.t789.co:2710/announce&tr=http://t.t789.vip:2710/announce\">magnet:?xt=urn:btih:YJTCS5M24PMKWB3QTLPVHECPPNHGX2W2&dn=[电影天堂www.dy2018.com]博人传-火影忍者新时代第101集.mp4\r&tr=http://t.t789.me:2710/announce&tr=http://t.t789.co:2710/announce&tr=http://t.t789.vip:2710/announce</a><br>"
      ],
      "text/plain": [
       "<IPython.core.display.HTML object>"
      ]
     },
     "metadata": {},
     "output_type": "display_data"
    },
    {
     "ename": "FileNotFoundError",
     "evalue": "[Errno 2] No such file or directory: 'output/links.txt'",
     "output_type": "error",
     "traceback": [
      "\u001b[0;31m---------------------------------------------------------------------------\u001b[0m",
      "\u001b[0;31mFileNotFoundError\u001b[0m                         Traceback (most recent call last)",
      "Cell \u001b[0;32mIn[10], line 19\u001b[0m\n\u001b[1;32m     17\u001b[0m             \u001b[39mif\u001b[39;00m i \u001b[39m%\u001b[39m group_size \u001b[39m==\u001b[39m \u001b[39m0\u001b[39m:\n\u001b[1;32m     18\u001b[0m                 f\u001b[39m.\u001b[39mwrite(\u001b[39m'\u001b[39m\u001b[39m---- Next Group ----\u001b[39m\u001b[39m\\n\u001b[39;00m\u001b[39m'\u001b[39m)\n\u001b[0;32m---> 19\u001b[0m write_links_to_file(magnet_links, \u001b[39m'\u001b[39;49m\u001b[39moutput/links.txt\u001b[39;49m\u001b[39m'\u001b[39;49m)\n",
      "Cell \u001b[0;32mIn[10], line 14\u001b[0m, in \u001b[0;36mwrite_links_to_file\u001b[0;34m(links, filename, group_size)\u001b[0m\n\u001b[1;32m     13\u001b[0m \u001b[39mdef\u001b[39;00m \u001b[39mwrite_links_to_file\u001b[39m(links, filename, group_size\u001b[39m=\u001b[39m\u001b[39m50\u001b[39m):\n\u001b[0;32m---> 14\u001b[0m     \u001b[39mwith\u001b[39;00m \u001b[39mopen\u001b[39;49m(filename, \u001b[39m'\u001b[39;49m\u001b[39mw\u001b[39;49m\u001b[39m'\u001b[39;49m) \u001b[39mas\u001b[39;00m f:\n\u001b[1;32m     15\u001b[0m         \u001b[39mfor\u001b[39;00m i, link \u001b[39min\u001b[39;00m \u001b[39menumerate\u001b[39m(links, start\u001b[39m=\u001b[39m\u001b[39m1\u001b[39m):\n\u001b[1;32m     16\u001b[0m             f\u001b[39m.\u001b[39mwrite(\u001b[39mf\u001b[39m\u001b[39m'\u001b[39m\u001b[39m{\u001b[39;00mlink\u001b[39m}\u001b[39;00m\u001b[39m\\n\u001b[39;00m\u001b[39m'\u001b[39m)\n",
      "File \u001b[0;32m~/opt/anaconda3/envs/vscode/lib/python3.10/site-packages/IPython/core/interactiveshell.py:282\u001b[0m, in \u001b[0;36m_modified_open\u001b[0;34m(file, *args, **kwargs)\u001b[0m\n\u001b[1;32m    275\u001b[0m \u001b[39mif\u001b[39;00m file \u001b[39min\u001b[39;00m {\u001b[39m0\u001b[39m, \u001b[39m1\u001b[39m, \u001b[39m2\u001b[39m}:\n\u001b[1;32m    276\u001b[0m     \u001b[39mraise\u001b[39;00m \u001b[39mValueError\u001b[39;00m(\n\u001b[1;32m    277\u001b[0m         \u001b[39mf\u001b[39m\u001b[39m\"\u001b[39m\u001b[39mIPython won\u001b[39m\u001b[39m'\u001b[39m\u001b[39mt let you open fd=\u001b[39m\u001b[39m{\u001b[39;00mfile\u001b[39m}\u001b[39;00m\u001b[39m by default \u001b[39m\u001b[39m\"\u001b[39m\n\u001b[1;32m    278\u001b[0m         \u001b[39m\"\u001b[39m\u001b[39mas it is likely to crash IPython. If you know what you are doing, \u001b[39m\u001b[39m\"\u001b[39m\n\u001b[1;32m    279\u001b[0m         \u001b[39m\"\u001b[39m\u001b[39myou can use builtins\u001b[39m\u001b[39m'\u001b[39m\u001b[39m open.\u001b[39m\u001b[39m\"\u001b[39m\n\u001b[1;32m    280\u001b[0m     )\n\u001b[0;32m--> 282\u001b[0m \u001b[39mreturn\u001b[39;00m io_open(file, \u001b[39m*\u001b[39;49margs, \u001b[39m*\u001b[39;49m\u001b[39m*\u001b[39;49mkwargs)\n",
      "\u001b[0;31mFileNotFoundError\u001b[0m: [Errno 2] No such file or directory: 'output/links.txt'"
     ]
    }
   ],
   "source": [
    "from IPython.display import display, HTML\n",
    "\n",
    "def print_links_in_groups(links, group_size=50):\n",
    "    for i, link in enumerate(links, start=1):\n",
    "        display(HTML(f'<a href=\"{link}\">{link}</a><br>'))\n",
    "        if i % group_size == 0:\n",
    "            display(HTML(\"<hr><p style='color:red;'>---- Next Group ----</p><hr>\"))\n",
    "print_links_in_groups(magnet_links)\n",
    "\n",
    "\n",
    "\n",
    "# 写入到文件\n",
    "def write_links_to_file(links, filename, group_size=50):\n",
    "    with open(filename, 'w') as f:\n",
    "        for i, link in enumerate(links, start=1):\n",
    "            f.write(f'{link}\\n')\n",
    "            if i % group_size == 0:\n",
    "                f.write('---- Next Group ----\\n')\n",
    "write_links_to_file(magnet_links, 'output/links.txt')\n",
    "\n"
   ]
  }
 ],
 "metadata": {
  "kernelspec": {
   "display_name": "vscode",
   "language": "python",
   "name": "python3"
  },
  "language_info": {
   "codemirror_mode": {
    "name": "ipython",
    "version": 3
   },
   "file_extension": ".py",
   "mimetype": "text/x-python",
   "name": "python",
   "nbconvert_exporter": "python",
   "pygments_lexer": "ipython3",
   "version": "3.11.5"
  },
  "orig_nbformat": 4
 },
 "nbformat": 4,
 "nbformat_minor": 2
}
