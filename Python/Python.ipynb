{
 "cells": [
  {
   "cell_type": "code",
   "execution_count": null,
   "metadata": {},
   "outputs": [],
   "source": []
  },
  {
   "cell_type": "code",
   "execution_count": 2,
   "metadata": {
    "tags": []
   },
   "outputs": [
    {
     "output_type": "stream",
     "name": "stdout",
     "text": "C:\\Users\\lizhi\\AppData\\Local\\Programs\\Microsoft VS Code\nc:\\Users\\lizhi\\.vscode\\extensions\\ms-python.python-2020.6.91350\\pythonFiles\nc:\\Users\\lizhi\\.vscode\\extensions\\ms-python.python-2020.6.91350\\pythonFiles\\lib\\python\nC:\\Program Files (x86)\\Microsoft Visual Studio\\Shared\\Python37_64\\python37.zip\nC:\\Program Files (x86)\\Microsoft Visual Studio\\Shared\\Python37_64\\DLLs\nC:\\Program Files (x86)\\Microsoft Visual Studio\\Shared\\Python37_64\\lib\nC:\\Program Files (x86)\\Microsoft Visual Studio\\Shared\\Python37_64\n\nC:\\Users\\lizhi\\AppData\\Roaming\\Python\\Python37\\site-packages\nC:\\Users\\lizhi\\AppData\\Roaming\\Python\\Python37\\site-packages\\win32\nC:\\Users\\lizhi\\AppData\\Roaming\\Python\\Python37\\site-packages\\win32\\lib\nC:\\Users\\lizhi\\AppData\\Roaming\\Python\\Python37\\site-packages\\Pythonwin\nC:\\Program Files (x86)\\Microsoft Visual Studio\\Shared\\Python37_64\\lib\\site-packages\nC:\\Users\\lizhi\\AppData\\Roaming\\Python\\Python37\\site-packages\\IPython\\extensions\nC:\\Users\\lizhi\\.ipython\n"
    }
   ],
   "source": [
    "import sys\n",
    "for p in sys.path:\n",
    "    print(p)"
   ]
  },
  {
   "cell_type": "code",
   "execution_count": null,
   "metadata": {},
   "outputs": [],
   "source": []
  }
 ],
 "metadata": {
  "language_info": {
   "codemirror_mode": {
    "name": "ipython",
    "version": 3
   },
   "file_extension": ".py",
   "mimetype": "text/x-python",
   "name": "python",
   "nbconvert_exporter": "python",
   "pygments_lexer": "ipython3",
   "version": 3
  },
  "orig_nbformat": 2,
  "kernelspec": {
   "name": "python_defaultSpec_1594068055673",
   "display_name": "Python 3.7.3 64-bit"
  }
 },
 "nbformat": 4,
 "nbformat_minor": 2
}