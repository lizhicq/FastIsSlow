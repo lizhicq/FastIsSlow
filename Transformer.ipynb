{
 "cells": [
  {
   "cell_type": "code",
   "execution_count": 3,
   "metadata": {},
   "outputs": [],
   "source": [
    "import torch\n",
    "import torch.nn as nn "
   ]
  },
  {
   "cell_type": "code",
   "execution_count": 4,
   "metadata": {},
   "outputs": [],
   "source": [
    "class RNNEncoder(nn.Module):\n",
    "    def __init__(self, input_size, hidden_size):\n",
    "        super(RNNEncoder, self).__init__()\n",
    "        self.rnn = nn.RNN(input_size, hidden_size, batch_first=True)\n",
    "\n",
    "    def forward(self, x):\n",
    "        _, hidden = self.rnn(x)\n",
    "        return hidden\n"
   ]
  },
  {
   "cell_type": "code",
   "execution_count": 5,
   "metadata": {},
   "outputs": [],
   "source": [
    "# Example usage\n",
    "input_size = 10\n",
    "seq_len = 5\n",
    "hidden_size = 8\n",
    "num_heads = 2\n",
    "\n",
    "# Generate random input sequence\n",
    "input_seq = torch.randn((1, seq_len, input_size))"
   ]
  },
  {
   "cell_type": "code",
   "execution_count": 7,
   "metadata": {},
   "outputs": [],
   "source": [
    "rnn_encoder = RNNEncoder(input_size, hidden_size)\n",
    "rnn_hidden = rnn_encoder(input_seq)"
   ]
  },
  {
   "cell_type": "code",
   "execution_count": 24,
   "metadata": {},
   "outputs": [],
   "source": [
    "# Transformer Encoder\n",
    "class TransformerEncoder(nn.Module):\n",
    "    def __init__(self, input_size, hidden_size, num_heads):\n",
    "        super(TransformerEncoder, self).__init__()\n",
    "        self.self_attention = nn.MultiheadAttention(embed_dim=input_size, num_heads=num_heads)\n",
    "        self.norm = nn.LayerNorm([seq_len, input_size])  # Fix: Use the correct normalized_shape\n",
    "\n",
    "    def forward(self, x):\n",
    "        attn_output, _ = self.self_attention(x, x, x)\n",
    "        x = self.norm(attn_output.permute(1, 0, 2) + x)\n",
    "        return x.mean(dim=1)"
   ]
  },
  {
   "cell_type": "code",
   "execution_count": 23,
   "metadata": {},
   "outputs": [],
   "source": [
    "transformer_encoder = TransformerEncoder(input_size, hidden_size, num_heads)\n",
    "transformer_hidden = transformer_encoder(input_seq)"
   ]
  },
  {
   "cell_type": "code",
   "execution_count": 25,
   "metadata": {},
   "outputs": [
    {
     "name": "stdout",
     "output_type": "stream",
     "text": [
      "RNN Hidden State: tensor([[[ 0.3613,  0.6381,  0.3856, -0.0666,  0.7605, -0.6685, -0.7132,\n",
      "           0.1103]]], grad_fn=<StackBackward0>)\n",
      "Transformer Hidden State: tensor([[-0.1773, -0.1662, -0.9960,  0.4090,  0.3220,  0.2566,  0.0077,  0.7282,\n",
      "         -0.4104,  0.0263],\n",
      "        [-0.3855,  0.3177, -1.1411, -0.1710,  0.5668,  0.8834,  0.0655, -0.1863,\n",
      "         -0.3487,  0.3992],\n",
      "        [ 0.1850, -0.1229, -1.0941,  0.2407,  0.3054,  0.7534,  0.3784,  0.2076,\n",
      "         -0.5514, -0.3022],\n",
      "        [-0.1949, -0.2398, -0.9249,  0.4045,  0.6320,  0.1181, -0.0458,  0.5508,\n",
      "         -0.1808, -0.1193],\n",
      "        [ 0.3325, -0.9344, -0.3485,  0.2562,  0.9666, -0.1814, -0.3914,  0.8050,\n",
      "         -0.1246, -0.3801]], grad_fn=<MeanBackward1>)\n"
     ]
    }
   ],
   "source": [
    "print(\"RNN Hidden State:\", rnn_hidden)\n",
    "print(\"Transformer Hidden State:\", transformer_hidden)"
   ]
  },
  {
   "cell_type": "markdown",
   "metadata": {},
   "source": [
    "   X0 -> RNN -> H0 -> RNN -> H1 -> RNN -> H2 -> ... -> Ht\n",
    "   Input         Hidden State at t=0      Hidden State at t=1\n"
   ]
  },
  {
   "cell_type": "code",
   "execution_count": null,
   "metadata": {},
   "outputs": [],
   "source": []
  }
 ],
 "metadata": {
  "kernelspec": {
   "display_name": "vscode",
   "language": "python",
   "name": "python3"
  },
  "language_info": {
   "codemirror_mode": {
    "name": "ipython",
    "version": 3
   },
   "file_extension": ".py",
   "mimetype": "text/x-python",
   "name": "python",
   "nbconvert_exporter": "python",
   "pygments_lexer": "ipython3",
   "version": "3.11.5"
  }
 },
 "nbformat": 4,
 "nbformat_minor": 2
}
