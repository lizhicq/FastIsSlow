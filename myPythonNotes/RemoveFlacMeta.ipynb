{
 "cells": [
  {
   "cell_type": "code",
   "execution_count": 8,
   "metadata": {},
   "outputs": [
    {
     "output_type": "stream",
     "name": "stdout",
     "text": [
      "[1, 1, 1, 0]\n[1, 1, 1, 1]\n"
     ]
    },
    {
     "output_type": "execute_result",
     "data": {
      "text/plain": [
       "2"
      ]
     },
     "metadata": {},
     "execution_count": 8
    }
   ],
   "source": [
    "x = {1: 2, 3: 4, 4: 3, 2: 1, 0: 0}\n",
    "\n",
    "\n",
    "\n",
    "\n"
   ]
  },
  {
   "cell_type": "code",
   "execution_count": null,
   "metadata": {},
   "outputs": [],
   "source": [
    "related =['1100', '1110', '0110', '0001']\n",
    "def countGroups(related):\n",
    "    n = len(related)\n",
    "    visited = [0 for i in range(n)]\n",
    "    def dfs(i):\n",
    "        for j in range(n):\n",
    "            if related[i][j] == '1' and visited[j] == 0:\n",
    "                visited[j] = 1\n",
    "                dfs(j)\n",
    "    count = 0 \n",
    "    for i in range(n):\n",
    "        if visited[i] == 0:\n",
    "            dfs(i)\n",
    "            print(visited)\n",
    "            count += 1\n",
    "            \n",
    "    return count \n",
    "countGroups(related)\n"
   ]
  },
  {
   "cell_type": "code",
   "execution_count": 2,
   "metadata": {},
   "outputs": [],
   "source": [
    "from mutagen.flac import FLAC\n",
    "from mutagen.easyid3 import EasyID3\n",
    "import os "
   ]
  },
  {
   "cell_type": "code",
   "execution_count": 3,
   "metadata": {},
   "outputs": [],
   "source": [
    "path = r\"/Users/lizhicq/Drive/Music/流行乐\"\n",
    "for root, dirs, files in os.walk(path):\n",
    "    for file in files:\n",
    "        try:\n",
    "            filepath = os.path.join(root, file)\n",
    "            \n",
    "            if file.endswith('.flac'):\n",
    "                audio = FLAC(filepath)\n",
    "                file = file[:-5]\n",
    "            \n",
    "            elif file.endswith('.mp3'):\n",
    "                audio = EasyID3(filepath)\n",
    "                file = file[:-4]\n",
    "            \n",
    "            if audio['title'] != '':\n",
    "                audio['title'] = \"\" # clear title\n",
    "                audio['comment'] = \"\" # clear comment\n",
    "                audio.save()\n",
    "                print(audio)\n",
    "        except:\n",
    "            pass "
   ]
  }
 ],
 "metadata": {
  "kernelspec": {
   "display_name": "Python 3",
   "language": "python",
   "name": "python3"
  },
  "language_info": {
   "codemirror_mode": {
    "name": "ipython",
    "version": 3
   },
   "file_extension": ".py",
   "mimetype": "text/x-python",
   "name": "python",
   "nbconvert_exporter": "python",
   "pygments_lexer": "ipython3",
   "version": "3.7.6-final"
  },
  "toc": {
   "base_numbering": 1,
   "nav_menu": {},
   "number_sections": true,
   "sideBar": true,
   "skip_h1_title": false,
   "title_cell": "Table of Contents",
   "title_sidebar": "Contents",
   "toc_cell": false,
   "toc_position": {},
   "toc_section_display": true,
   "toc_window_display": false
  }
 },
 "nbformat": 4,
 "nbformat_minor": 4
}